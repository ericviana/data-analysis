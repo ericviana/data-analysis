{
  "cells": [
    {
      "cell_type": "markdown",
      "metadata": {
        "id": "QT0a7DDMm10t"
      },
      "source": [
        "# Aula02 - Python Básico\n",
        "\n",
        "**Conteúdo:**\n",
        "- comparações, condicionais\n",
        "- laços for e while\n",
        "- funções e lambdas\n",
        "- algoritmos básicos, map e filter\n",
        "- orientação a objetos e tratamento de exceções\n",
        "- arquivos"
      ]
    },
    {
      "cell_type": "markdown",
      "metadata": {
        "id": "nRocUt_Jm10u"
      },
      "source": [
        "## Comparações e Condicionais"
      ]
    },
    {
      "cell_type": "markdown",
      "metadata": {
        "id": "qdLbRfDjm10u"
      },
      "source": [
        "### Booleans\n",
        "- São valores True ou False."
      ]
    },
    {
      "cell_type": "code",
      "execution_count": null,
      "metadata": {
        "id": "haNKtnlwm10v"
      },
      "outputs": [],
      "source": [
        "a = True\n",
        "a"
      ]
    },
    {
      "cell_type": "code",
      "execution_count": null,
      "metadata": {
        "id": "s25KWQeum10w"
      },
      "outputs": [],
      "source": [
        "b = 1 > 2\n",
        "b"
      ]
    },
    {
      "cell_type": "code",
      "execution_count": null,
      "metadata": {
        "id": "wZncTiUYm10x"
      },
      "outputs": [],
      "source": [
        "type(b)"
      ]
    },
    {
      "cell_type": "code",
      "execution_count": null,
      "metadata": {
        "id": "eAxOAirkm10y"
      },
      "outputs": [],
      "source": [
        "c = None\n",
        "c"
      ]
    },
    {
      "cell_type": "code",
      "execution_count": null,
      "metadata": {
        "id": "x6JUJYkkm10y"
      },
      "outputs": [],
      "source": [
        "print(c)"
      ]
    },
    {
      "cell_type": "code",
      "execution_count": null,
      "metadata": {
        "id": "T9ITlZIkm10z"
      },
      "outputs": [],
      "source": [
        "type(c)"
      ]
    },
    {
      "cell_type": "markdown",
      "metadata": {
        "id": "How1vdRum10z"
      },
      "source": [
        "### Operadores relacionais e lógicos\n",
        "\n",
        "<br>Relacionam dois operandos para criar uma expressão lógica ou expressão booleana. São:\n",
        "- `==` igual\n",
        "- `>` maior\n",
        "- `>=` maior ou igal\n",
        "- `<` menor\n",
        "- `<=` menor ou igual\n",
        "- `!=` diferente. \n",
        "\n",
        "<br>Os operadores lógicos relacionam duas expressões lógicas. São: \n",
        "- `and` e\n",
        "- `or` ou\n",
        "- `not` negação"
      ]
    },
    {
      "cell_type": "code",
      "execution_count": null,
      "metadata": {
        "id": "dJqtWASTm10z"
      },
      "outputs": [],
      "source": [
        "1 < 2"
      ]
    },
    {
      "cell_type": "code",
      "execution_count": null,
      "metadata": {
        "id": "P4ZGkcF-m100"
      },
      "outputs": [],
      "source": [
        "1 < 2 < 3"
      ]
    },
    {
      "cell_type": "code",
      "execution_count": null,
      "metadata": {
        "id": "cRWnF35Mm100"
      },
      "outputs": [],
      "source": [
        "'ABC' != 'abc' and 1 < 5"
      ]
    },
    {
      "cell_type": "code",
      "execution_count": null,
      "metadata": {
        "id": "Aqt0g4EFm100"
      },
      "outputs": [],
      "source": [
        "1==1 or 1>100"
      ]
    },
    {
      "cell_type": "code",
      "execution_count": null,
      "metadata": {
        "id": "3jWXUMt5m101"
      },
      "outputs": [],
      "source": [
        "not True"
      ]
    },
    {
      "cell_type": "markdown",
      "metadata": {
        "id": "0vG6Nc0Om101"
      },
      "source": [
        "#### Tabelas Verdade"
      ]
    },
    {
      "cell_type": "markdown",
      "metadata": {
        "id": "at3z4wazm102"
      },
      "source": [
        "##### Operador `and`\n",
        "\n",
        "<table>\n",
        "    <thead><th>and</th><th>True</th><th>False</th></thead>\n",
        "    <tbody>\n",
        "        <tr><td><strong>True</strong></td><td>True</td><td>False</td></tr>\n",
        "        <tr><td><strong>False</strong></td><td>False</td><td>False</td></tr>\n",
        "    </tbody>\n",
        "</table>  "
      ]
    },
    {
      "cell_type": "code",
      "execution_count": null,
      "metadata": {
        "id": "3ODQec3Qm102"
      },
      "outputs": [],
      "source": [
        "1 < 2 and 1 < 3"
      ]
    },
    {
      "cell_type": "code",
      "execution_count": null,
      "metadata": {
        "id": "fMLIDwfem102"
      },
      "outputs": [],
      "source": [
        "1 < 2 and 1 > 3"
      ]
    },
    {
      "cell_type": "markdown",
      "metadata": {
        "id": "Wbx7b6nHm102"
      },
      "source": [
        "##### Operador `or`\n",
        "<table>\n",
        "    <thead><th>or</th><th>True</th><th>False</th></thead>\n",
        "    <tbody>\n",
        "        <tr><td><strong>True</strong></td><td>True</td><td>True</td></tr>\n",
        "        <tr><td><strong>False</strong></td><td>True</td><td>False</td></tr>\n",
        "    </tbody>\n",
        "</table>  "
      ]
    },
    {
      "cell_type": "code",
      "execution_count": null,
      "metadata": {
        "id": "0paFC8KAm103"
      },
      "outputs": [],
      "source": [
        "1 < 2 or 1 < 3"
      ]
    },
    {
      "cell_type": "code",
      "execution_count": null,
      "metadata": {
        "id": "M9evVlNLm103"
      },
      "outputs": [],
      "source": [
        "1 < 2 or 1 > 3"
      ]
    },
    {
      "cell_type": "markdown",
      "metadata": {
        "id": "d9ZoYDndm103"
      },
      "source": [
        "##### Operador `not`\n",
        "<table>\n",
        "    <thead><th>not</th><th>True</th><th>False</th></thead>\n",
        "    <tbody>\n",
        "        <tr><td><strong>&nbsp;</strong></td><td>False</td><td>True</td></tr>\n",
        "    </tbody>\n",
        "</table>  "
      ]
    },
    {
      "cell_type": "code",
      "execution_count": null,
      "metadata": {
        "id": "ya52dGOnm103"
      },
      "outputs": [],
      "source": [
        "not 1 < 2 and 1 < 3"
      ]
    },
    {
      "cell_type": "code",
      "execution_count": null,
      "metadata": {
        "id": "nlxQEHHNm103"
      },
      "outputs": [],
      "source": [
        "not 1 < 2 or 1 < 3"
      ]
    },
    {
      "cell_type": "code",
      "execution_count": null,
      "metadata": {
        "id": "SG9y0P8Cm104"
      },
      "outputs": [],
      "source": [
        "not 1 < 2 or not 1 < 3"
      ]
    },
    {
      "cell_type": "code",
      "execution_count": null,
      "metadata": {
        "id": "lx7s0aSJm104"
      },
      "outputs": [],
      "source": [
        "not (1 < 2 or 1 < 3)"
      ]
    },
    {
      "cell_type": "markdown",
      "metadata": {
        "id": "7xkK7x-Vm104"
      },
      "source": [
        "### Desvio Condicional"
      ]
    },
    {
      "cell_type": "markdown",
      "metadata": {
        "id": "ZctF5grJm104"
      },
      "source": [
        "Se a expressão lógica for verdadeira executa o que está no `if`; caso contrário executa o que está no `elif` (se existir e for verdadeiro) ou no `else` (se existir).  São válidas as combinações somente o `if`, `if else`, `if elif`, `if elif else`. Os `elif`s podem se repetir indefinitamente."
      ]
    },
    {
      "cell_type": "code",
      "execution_count": null,
      "metadata": {
        "id": "hAbkHN-Dm104"
      },
      "outputs": [],
      "source": [
        "if True:\n",
        "    print('É verdadeiro')"
      ]
    },
    {
      "cell_type": "code",
      "execution_count": null,
      "metadata": {
        "id": "6nvzsy-4m105"
      },
      "outputs": [],
      "source": [
        "x = 1\n",
        "if x > 0:\n",
        "    print('x é positivo')\n",
        "else:\n",
        "    print('x é negativo ou nulo')"
      ]
    },
    {
      "cell_type": "code",
      "execution_count": null,
      "metadata": {
        "id": "xk-JD4lDm105"
      },
      "outputs": [],
      "source": [
        "x = -1\n",
        "if x > 0:\n",
        "    print('x é positivo')\n",
        "elif x == 0:\n",
        "    print('x é nulo')\n",
        "elif x < 0:\n",
        "    print('x é negativo')\n",
        "else:\n",
        "    pass"
      ]
    },
    {
      "cell_type": "markdown",
      "metadata": {
        "id": "F15zRR7Pm105"
      },
      "source": [
        "Python não tem ponto e vírgula separando comandos nem chaves para separar blocos. A separação de comandos é feita pulando linha. A identificação dos blocos é feita pela indentação."
      ]
    },
    {
      "cell_type": "code",
      "execution_count": null,
      "metadata": {
        "id": "GxX2CItlm105"
      },
      "outputs": [],
      "source": [
        "#indentação\n",
        "if False:\n",
        "    print('É verdadeiro')\n",
        "    print('Dentro do if')\n",
        "print('fora do if')"
      ]
    },
    {
      "cell_type": "markdown",
      "metadata": {
        "id": "nQlbbSYzm106"
      },
      "source": [
        "Os `if`s também podem ser aninhados."
      ]
    },
    {
      "cell_type": "code",
      "execution_count": null,
      "metadata": {
        "id": "iZ3oVUHUm106"
      },
      "outputs": [],
      "source": [
        "from random import randint\n",
        "# gera aleatoriamente um inteiro entre -1 e 1.\n",
        "x = randint(-1,1)\n",
        "y = 2\n",
        "if x > 0:\n",
        "    print('x = {} é positivo'.format(x))\n",
        "else:\n",
        "    if x == 0:\n",
        "        print(f'x = {x} é nulo e y = {y}')\n",
        "    else:\n",
        "        print('x = %d é negativo e y = %d' %(x,y))"
      ]
    },
    {
      "cell_type": "markdown",
      "metadata": {
        "id": "D6cOzAP0m106"
      },
      "source": [
        "## Laços (loops ou repetições)"
      ]
    },
    {
      "cell_type": "markdown",
      "metadata": {
        "id": "nC5N5b68m106"
      },
      "source": [
        "### Loop for\n",
        "\n",
        "O loop `for` do Python itera sobre `iterables`, ou iteráveis, como strings, listas, tuplas e dicionários. Ele sempre percorre o iterável do início ao fim, a não ser que a se saia usando um `break`(exemplos mais abaixo). \n",
        "\n",
        "A forma geral é:\n",
        "\n",
        "`for item in object:\n",
        "    comandos para fazer coisas`\n",
        "\n",
        "Pode ter um  `else no final`. Neste caso o `else` é executado quando não houver mais itens no iterável.\n",
        "\n",
        "`for item in object:\n",
        "    comandos para fazer coisas\n",
        "else:\n",
        "    final code statements`"
      ]
    },
    {
      "cell_type": "code",
      "execution_count": null,
      "metadata": {
        "id": "jtEh3fNwm106"
      },
      "outputs": [],
      "source": [
        "lista1 = [1,2,3,4,5,6,7,8,9,10]\n",
        "#iterando em uma lista\n",
        "for num in lista1:\n",
        "    print(num)"
      ]
    },
    {
      "cell_type": "code",
      "execution_count": null,
      "metadata": {
        "id": "_pHdSzMMm107"
      },
      "outputs": [],
      "source": [
        "#o nome da variável não faz diferença\n",
        "for juquinha in lista1:\n",
        "    print(juquinha)"
      ]
    },
    {
      "cell_type": "code",
      "execution_count": null,
      "metadata": {
        "id": "_VJzcUKYm107"
      },
      "outputs": [],
      "source": [
        "#somente os pares\n",
        "for num in lista1:\n",
        "    if num%2 == 0:\n",
        "        print(num)"
      ]
    },
    {
      "cell_type": "code",
      "execution_count": null,
      "metadata": {
        "id": "5oNI5uUPm107"
      },
      "outputs": [],
      "source": [
        "#somar os numero da lista\n",
        "list_sum = 0\n",
        "for num in lista1:\n",
        "    list_sum += num\n",
        "print(f'A soma é {list_sum}')\n"
      ]
    },
    {
      "cell_type": "code",
      "execution_count": null,
      "metadata": {
        "id": "h1GATikmm107"
      },
      "outputs": [],
      "source": [
        "#iterando em uma string\n",
        "for letra in 'Esta é uma string.':\n",
        "    print(letra)"
      ]
    },
    {
      "cell_type": "code",
      "execution_count": null,
      "metadata": {
        "id": "6z4TLMoYm108"
      },
      "outputs": [],
      "source": [
        "#iterando em uma tupla\n",
        "tup = (1,2,3,4,5)\n",
        "for t in tup:\n",
        "    print(t)"
      ]
    },
    {
      "cell_type": "code",
      "execution_count": null,
      "metadata": {
        "id": "EjKrcCtDm108"
      },
      "outputs": [],
      "source": [
        "lista2 = [(2,4),(6,8),(10,12)]"
      ]
    },
    {
      "cell_type": "code",
      "execution_count": null,
      "metadata": {
        "id": "kaOzD7xLm108"
      },
      "outputs": [],
      "source": [
        "for tup in lista2:\n",
        "    print(tup)"
      ]
    },
    {
      "cell_type": "markdown",
      "metadata": {
        "id": "1I0F5Smhm108"
      },
      "source": [
        "#### O desempacotamento de tuplas é uma prática bastente usada"
      ]
    },
    {
      "cell_type": "code",
      "execution_count": null,
      "metadata": {
        "id": "wl-fubYzm108"
      },
      "outputs": [],
      "source": [
        "#tuple unpacking - desempacotando\n",
        "for t1,t2 in lista2:\n",
        "    print(t1, t2)"
      ]
    },
    {
      "cell_type": "code",
      "execution_count": null,
      "metadata": {
        "id": "DS7OUQpsm108"
      },
      "outputs": [],
      "source": [
        "d = {'k1':1, 'k2':2, 'k3':3}\n",
        "d"
      ]
    },
    {
      "cell_type": "code",
      "execution_count": null,
      "metadata": {
        "id": "ylV0lsTrm109"
      },
      "outputs": [],
      "source": [
        "#iterando em um dicionário\n",
        "#neste formato traz somente as chaves\n",
        "for item in d:\n",
        "    print(item)"
      ]
    },
    {
      "cell_type": "code",
      "execution_count": null,
      "metadata": {
        "id": "_LFqFmUVm109"
      },
      "outputs": [],
      "source": [
        "#usando unpacking dá para retornar a chave e o valor\n",
        "for k,v in d.items():\n",
        "    print(f'O valor da chave {k} é {v}')"
      ]
    },
    {
      "cell_type": "markdown",
      "metadata": {
        "id": "ekp-XEK_m109"
      },
      "source": [
        "### Loop While\n",
        "\n",
        "O loop while executa enquanto a expressão condicional for verdadeira. Quando ela se torna falsa e o programa sai do loop ele pode executar uma clásula `else` se esta existir.\n",
        "\n",
        "A forma geral do while é:\n",
        "\n",
        "`while test:\n",
        "    code statements`\n",
        "\n",
        "Com `else`:\n",
        "\n",
        "`while test:\n",
        "    code statements\n",
        "else:\n",
        "    final code statements`"
      ]
    },
    {
      "cell_type": "code",
      "execution_count": null,
      "metadata": {
        "id": "983QBYq3m109"
      },
      "outputs": [],
      "source": [
        "x = 0\n",
        "y = 5\n",
        "\n",
        "while x < y:\n",
        "    print(f'O valor de x é {x} que é menor que {y}')\n",
        "    x+=1"
      ]
    },
    {
      "cell_type": "code",
      "execution_count": null,
      "metadata": {
        "id": "pGadm7X8m109"
      },
      "outputs": [],
      "source": [
        "x = 0\n",
        "y = 5\n",
        "\n",
        "while x < y:\n",
        "    print(f'O valor de x é {x} que é menor que {y}')\n",
        "    x+=1\n",
        "else:\n",
        "    print(f'Terminou com x igual {x} que não é menor que {y}')"
      ]
    },
    {
      "cell_type": "markdown",
      "metadata": {
        "id": "0ZaWP8sLm109"
      },
      "source": [
        "### Break, continue, pass\n",
        "\n",
        "- `break`: sai do loop, inclusive pulando os comandos que estão depois dele, mudando o fluxo de execução para a primeira linha do programa depois do loop.\n",
        "- `continue`: volta para o começo do loop, deixando de executar todos os comandos do loop que estão depois do continue naquela iteração.\n",
        "- `pass`: não faz nada, mas o Python não aceita statements sem comando; por exemplo, um if sem nada para fazer; neste caso, use o pass."
      ]
    },
    {
      "cell_type": "code",
      "execution_count": null,
      "metadata": {
        "id": "hjkme2nBm10-"
      },
      "outputs": [],
      "source": [
        "x = -1\n",
        "while True:\n",
        "    x+=1\n",
        "    if x > 10:\n",
        "        print('Saindo...')\n",
        "        break\n",
        "    else:\n",
        "        continue\n",
        "        print('Continuando...')\n",
        "else:\n",
        "    print('Passou no else')\n",
        "if x < 0:\n",
        "    pass\n",
        "else:\n",
        "    print(f'x = {x}')"
      ]
    },
    {
      "cell_type": "markdown",
      "metadata": {
        "id": "vF56xPJJm10-"
      },
      "source": [
        "### Alguma funções úteis em loops"
      ]
    },
    {
      "cell_type": "markdown",
      "metadata": {
        "id": "N-e5pzJnm10-"
      },
      "source": [
        "## range\n",
        "`range`: gera um iterável de inteiros; para transformar em uma lista, é necessário usar a função list(). Ex: `list(range(1,5))`."
      ]
    },
    {
      "cell_type": "code",
      "execution_count": null,
      "metadata": {
        "id": "5grFCpWom10-"
      },
      "outputs": [],
      "source": [
        "range(0,11)"
      ]
    },
    {
      "cell_type": "code",
      "execution_count": null,
      "metadata": {
        "id": "OmAioaTGm10-"
      },
      "outputs": [],
      "source": [
        "list(range(0,11))"
      ]
    },
    {
      "cell_type": "code",
      "execution_count": null,
      "metadata": {
        "id": "lpF7LGqQm10_"
      },
      "outputs": [],
      "source": [
        "list(range(11))"
      ]
    },
    {
      "cell_type": "code",
      "execution_count": null,
      "metadata": {
        "id": "uyLmEk-3m10_"
      },
      "outputs": [],
      "source": [
        "list(range(5,11))"
      ]
    },
    {
      "cell_type": "code",
      "execution_count": null,
      "metadata": {
        "id": "EJ5IEbKGm10_"
      },
      "outputs": [],
      "source": [
        "list(range(0,11,2))"
      ]
    },
    {
      "cell_type": "code",
      "execution_count": null,
      "metadata": {
        "id": "MOZHjPdgm10_"
      },
      "outputs": [],
      "source": [
        "list(range(0,101,10))"
      ]
    },
    {
      "cell_type": "markdown",
      "metadata": {
        "id": "C5Mg3D7Bm10_"
      },
      "source": [
        "## enumerate\n",
        "\n",
        "`enumerate`:  útil para criar uma variável contadora em um loop."
      ]
    },
    {
      "cell_type": "code",
      "execution_count": null,
      "metadata": {
        "id": "uFenZGBKm10_"
      },
      "outputs": [],
      "source": [
        "contador = 0\n",
        "\n",
        "for letra in 'abcde':\n",
        "    print(f'No índice {contador} está a letra {letra}.')\n",
        "    contador += 1"
      ]
    },
    {
      "cell_type": "code",
      "execution_count": null,
      "metadata": {
        "id": "GOQRoE6Hm10_"
      },
      "outputs": [],
      "source": [
        "for i,letra in enumerate('abcde'):\n",
        "    print(f'No índice {i} está a letra {letra}.')"
      ]
    },
    {
      "cell_type": "markdown",
      "metadata": {
        "id": "cUn7fTJBm11A"
      },
      "source": [
        "## zip\n",
        "\n",
        "`zip`: cria uma lista de tuplas a partir de duas listas."
      ]
    },
    {
      "cell_type": "code",
      "execution_count": null,
      "metadata": {
        "id": "jI7-frVam11A"
      },
      "outputs": [],
      "source": [
        "#montar uma lista de tuplas combinando lista1 e lista2\n",
        "lista1 = [1,2,3,4,5]\n",
        "lista2 = ['a','b','c','d','e']\n",
        "lista3 = [True,False,True,False,True]\n",
        "list(zip(lista1,lista2,lista3))"
      ]
    },
    {
      "cell_type": "code",
      "execution_count": null,
      "metadata": {
        "id": "2_F-CUfCm11A"
      },
      "outputs": [],
      "source": [
        "#usando em um loop\n",
        "for item1,item2 in zip(lista1,lista2):\n",
        "    print('A tupla é formada de {} e {}'.format(item1,item2))"
      ]
    },
    {
      "cell_type": "markdown",
      "metadata": {
        "id": "kj9vFlY0m11A"
      },
      "source": [
        "## in\n",
        "\n",
        "`in`: retorna `True` se um elemento estiver em um objeto."
      ]
    },
    {
      "cell_type": "code",
      "execution_count": null,
      "metadata": {
        "id": "H2aixSYVm11A"
      },
      "outputs": [],
      "source": [
        "'x' in ['x', 'y', 'z']"
      ]
    },
    {
      "cell_type": "code",
      "execution_count": null,
      "metadata": {
        "id": "Un3uRc_-m11A"
      },
      "outputs": [],
      "source": [
        "'x' in ['y', 'z']"
      ]
    },
    {
      "cell_type": "markdown",
      "metadata": {
        "id": "HWtwbW5im11B"
      },
      "source": [
        "## min e max\n",
        "\n",
        "`min` e `max`: verifica o maior e o menor número de uma lista ou tupla"
      ]
    },
    {
      "cell_type": "code",
      "execution_count": null,
      "metadata": {
        "id": "JRH8gcWxm11B"
      },
      "outputs": [],
      "source": [
        "lista1=list(range(1,11))\n",
        "print(lista1)"
      ]
    },
    {
      "cell_type": "code",
      "execution_count": null,
      "metadata": {
        "id": "khmREG0am11B"
      },
      "outputs": [],
      "source": [
        "min(lista1)"
      ]
    },
    {
      "cell_type": "code",
      "execution_count": null,
      "metadata": {
        "id": "aeKpr-e3m11B"
      },
      "outputs": [],
      "source": [
        "max(lista1)"
      ]
    },
    {
      "cell_type": "markdown",
      "metadata": {
        "id": "sPR14GR7m11B"
      },
      "source": [
        "## random\n",
        "\n",
        "`random`: gera números aleatórios"
      ]
    },
    {
      "cell_type": "code",
      "execution_count": null,
      "metadata": {
        "id": "Nnd9Wlivm11B"
      },
      "outputs": [],
      "source": [
        "from random import shuffle"
      ]
    },
    {
      "cell_type": "code",
      "execution_count": null,
      "metadata": {
        "id": "6yoYQkbJm11B"
      },
      "outputs": [],
      "source": [
        "print(lista1)"
      ]
    },
    {
      "cell_type": "code",
      "execution_count": null,
      "metadata": {
        "id": "vWpy3EzPm11C"
      },
      "outputs": [],
      "source": [
        "shuffle(lista1)"
      ]
    },
    {
      "cell_type": "code",
      "execution_count": null,
      "metadata": {
        "id": "FTpj8t7Pm11C"
      },
      "outputs": [],
      "source": [
        "print(lista1)"
      ]
    },
    {
      "cell_type": "code",
      "execution_count": null,
      "metadata": {
        "id": "hshqLA-Em11C"
      },
      "outputs": [],
      "source": [
        "from random import randint"
      ]
    },
    {
      "cell_type": "code",
      "execution_count": null,
      "metadata": {
        "id": "5BYJ9ZkSm11C"
      },
      "outputs": [],
      "source": [
        "randint(0,100)"
      ]
    },
    {
      "cell_type": "code",
      "execution_count": null,
      "metadata": {
        "id": "djx0p-JYm11C"
      },
      "outputs": [],
      "source": [
        "randint(2,10)"
      ]
    },
    {
      "cell_type": "markdown",
      "metadata": {
        "id": "gAOjEipHm11C"
      },
      "source": [
        "### List Comprehension\n",
        "São formas mais rápidas de se construir listas."
      ]
    },
    {
      "cell_type": "code",
      "execution_count": null,
      "metadata": {
        "id": "uVVXyPGLm11D"
      },
      "outputs": [],
      "source": [
        "#pegar as letras em uma palavra\n",
        "lista1 = [x for x in 'palavra']\n",
        "lista1"
      ]
    },
    {
      "cell_type": "code",
      "execution_count": null,
      "metadata": {
        "id": "LVwdaGh7m11D"
      },
      "outputs": [],
      "source": [
        "#elevar os valore de um range ao quadrado e fazer uma lista\n",
        "lista2 = [x**2 for x in range(0,11)]\n",
        "lista2"
      ]
    },
    {
      "cell_type": "code",
      "execution_count": null,
      "metadata": {
        "id": "IV_LZqAkm11D"
      },
      "outputs": [],
      "source": [
        "#colocando um if\n",
        "lista3 = [x for x in range(11) if x%2==0]\n",
        "lista3"
      ]
    },
    {
      "cell_type": "code",
      "execution_count": null,
      "metadata": {
        "id": "9P2CvUBXm11D"
      },
      "outputs": [],
      "source": [
        "#contas mais complicadas\n",
        "celsius = [0,10,20.1,34.5]\n",
        "farenheit = [((9/5)*temp + 32) for temp in celsius]\n",
        "farenheit"
      ]
    },
    {
      "cell_type": "code",
      "execution_count": null,
      "metadata": {
        "id": "gzfUHioBm11D"
      },
      "outputs": [],
      "source": [
        "lista4 = [ x**2 for x in [x**2 for x in range(11)]]\n",
        "lista4"
      ]
    },
    {
      "cell_type": "markdown",
      "metadata": {
        "id": "rBm_vROtm11D"
      },
      "source": [
        "## Exercícios"
      ]
    },
    {
      "cell_type": "markdown",
      "metadata": {
        "id": "z4wZfeHMm11E"
      },
      "source": [
        "**1** Faça um Programa que leia três números e mostre-os em ordem decrescente."
      ]
    },
    {
      "cell_type": "code",
      "execution_count": null,
      "metadata": {
        "id": "MEg1N-1xm11E"
      },
      "outputs": [],
      "source": [
        "# solução"
      ]
    },
    {
      "cell_type": "markdown",
      "metadata": {
        "id": "RbKfQKNfm11E"
      },
      "source": [
        "**2** Faça um Programa para um caixa eletrônico. O programa deverá perguntar ao usuário a valor do saque e depois informar quantas notas de cada valor serão fornecidas. As notas disponíveis serão as de 1, 5, 10, 50 e 100 reais. O valor mínimo é de 10 reais e o máximo de 600 reais. O programa não deve se preocupar com a quantidade de notas existentes na máquina.\n",
        "- Exemplo 1: Para sacar a quantia de 256 reais, o programa fornece duas notas de 100, uma nota de 50, uma nota de 5 e uma nota de 1;\n",
        "- Exemplo 2: Para sacar a quantia de 399 reais, o programa fornece três notas de 100, uma nota de 50, quatro notas de 10, uma nota de 5 e quatro notas de 1."
      ]
    },
    {
      "cell_type": "code",
      "execution_count": null,
      "metadata": {
        "id": "ZI3GLf0Lm11E"
      },
      "outputs": [],
      "source": [
        "# solução"
      ]
    },
    {
      "cell_type": "markdown",
      "metadata": {
        "id": "5nopBPQIm11E"
      },
      "source": [
        "**3** Gere aleatoriamente uma lista de 5 números inteiros entre 0 e 100:\n",
        "- informe o maior número\n",
        "- informe a soma e a média dos números.\n"
      ]
    },
    {
      "cell_type": "code",
      "execution_count": null,
      "metadata": {
        "id": "cgN1Fyt0m11F"
      },
      "outputs": [],
      "source": [
        "# solução"
      ]
    },
    {
      "cell_type": "markdown",
      "metadata": {
        "id": "4mJIhdoEm11F"
      },
      "source": [
        "## Métodos\n",
        "Python, como linguagem orientada a objetos, usa métodos. Já vimos métodos nativos de listas, dicionários, etc. E veremos mais logo abaixo quando falarmos de Orientação a Objetos."
      ]
    },
    {
      "cell_type": "code",
      "execution_count": null,
      "metadata": {
        "id": "ocb-tGnFm11F"
      },
      "outputs": [],
      "source": [
        "lst = [1,2,3,4,5]\n",
        "lst"
      ]
    },
    {
      "cell_type": "code",
      "execution_count": null,
      "metadata": {
        "id": "Er--n_Kcm11F"
      },
      "outputs": [],
      "source": [
        "lst2 = lst.copy()\n",
        "lst2"
      ]
    },
    {
      "cell_type": "code",
      "execution_count": null,
      "metadata": {
        "id": "kk7k5Bftm11F"
      },
      "outputs": [],
      "source": [
        "lst.append(6)"
      ]
    },
    {
      "cell_type": "code",
      "execution_count": null,
      "metadata": {
        "id": "s7FnYDoRm11G"
      },
      "outputs": [],
      "source": [
        "lst"
      ]
    },
    {
      "cell_type": "code",
      "execution_count": null,
      "metadata": {
        "id": "FVVLhIjlm11G"
      },
      "outputs": [],
      "source": [
        "lst2"
      ]
    },
    {
      "cell_type": "markdown",
      "metadata": {
        "id": "SmEZOzuYm11G"
      },
      "source": [
        "Colocando o nome do objeto no Notebook seguido de um `.` (ponto) e pressionando `tab` você obtém a lista de métodos daquela classe. \n",
        "Clicando com o mouse sobre um determinado método e pressionando `shift + tab``\n",
        " você tem um help do método.\n",
        "A função help() do python faz a mesma coisa."
      ]
    },
    {
      "cell_type": "code",
      "execution_count": null,
      "metadata": {
        "id": "qFbcBZWtm11G"
      },
      "outputs": [],
      "source": [
        "help(lst.count)"
      ]
    },
    {
      "cell_type": "markdown",
      "metadata": {
        "id": "68lbTHnJm11G"
      },
      "source": [
        "## Funções\n",
        "\n",
        "Funções são como métodos que não pertencem a nenhuma classe. Para criar novas funções use o comando def.\n",
        "\n",
        "Forma geral de definição de funções"
      ]
    },
    {
      "cell_type": "code",
      "execution_count": null,
      "metadata": {
        "id": "2tUqSVcLm11G"
      },
      "outputs": [],
      "source": [
        "def nome_da_funcao(arg1,arg2):\n",
        "    #faça alguma coisa\n",
        "    #retorne o resultado desejado\n",
        "    pass"
      ]
    },
    {
      "cell_type": "code",
      "execution_count": null,
      "metadata": {
        "id": "-cWwg3bMm11H"
      },
      "outputs": [],
      "source": [
        "def say_hello():\n",
        "    print('hello')"
      ]
    },
    {
      "cell_type": "code",
      "execution_count": null,
      "metadata": {
        "id": "UmPXQyQ3m11H"
      },
      "outputs": [],
      "source": [
        "say_hello()"
      ]
    },
    {
      "cell_type": "code",
      "execution_count": null,
      "metadata": {
        "id": "x-Poq9pGm11H"
      },
      "outputs": [],
      "source": [
        "#algumas funcões são pré definidas em Python\n",
        "print(\"O print é uma delas\")"
      ]
    },
    {
      "cell_type": "code",
      "execution_count": null,
      "metadata": {
        "id": "vUmL8JVrm11H"
      },
      "outputs": [],
      "source": [
        "#passagem de parâmetros\n",
        "def greeting(nome):\n",
        "    print('Hello %s' %(nome));"
      ]
    },
    {
      "cell_type": "code",
      "execution_count": null,
      "metadata": {
        "id": "HjO8vKN-m11H"
      },
      "outputs": [],
      "source": [
        "greeting('José')"
      ]
    },
    {
      "cell_type": "markdown",
      "metadata": {
        "id": "MZhDd1-nm11H"
      },
      "source": [
        "### Usando return"
      ]
    },
    {
      "cell_type": "code",
      "execution_count": null,
      "metadata": {
        "id": "2jyxZO51m11H"
      },
      "outputs": [],
      "source": [
        "def add_num(num1,num2):\n",
        "    return num1 + num2"
      ]
    },
    {
      "cell_type": "code",
      "execution_count": null,
      "metadata": {
        "id": "ADLXZSbSm11I"
      },
      "outputs": [],
      "source": [
        "add_num(4,5)"
      ]
    },
    {
      "cell_type": "code",
      "execution_count": null,
      "metadata": {
        "id": "pv11peLTm11I"
      },
      "outputs": [],
      "source": [
        "add_num('4','5')"
      ]
    },
    {
      "cell_type": "code",
      "execution_count": null,
      "metadata": {
        "id": "TaTDwcDom11I"
      },
      "outputs": [],
      "source": [
        "def is_prime(num):\n",
        "    for n in range(2,num):\n",
        "        if num % n == 0:\n",
        "            print(num, 'não é primo')\n",
        "            break\n",
        "    else:\n",
        "        print(num, 'é primo')"
      ]
    },
    {
      "cell_type": "code",
      "execution_count": null,
      "metadata": {
        "id": "rPNyDA8hm11I"
      },
      "outputs": [],
      "source": [
        "is_prime(7)"
      ]
    },
    {
      "cell_type": "code",
      "execution_count": null,
      "metadata": {
        "id": "K5LDVM4Xm11I"
      },
      "outputs": [],
      "source": [
        "import math\n",
        "#crivo de Eratóstenes\n",
        "def is_prime2(num):\n",
        "    if num % 2 == 0 and num > 2:\n",
        "        return False\n",
        "    for i in range(3, int(math.sqrt(num)) + 1, 2):\n",
        "        if num % i == 0:\n",
        "            return False\n",
        "    return True"
      ]
    },
    {
      "cell_type": "code",
      "execution_count": null,
      "metadata": {
        "id": "EupuN0-lm11J"
      },
      "outputs": [],
      "source": [
        "is_prime2(37)"
      ]
    },
    {
      "cell_type": "code",
      "execution_count": null,
      "metadata": {
        "id": "JUisR-dXm11J"
      },
      "outputs": [],
      "source": [
        "is_prime2(300011113)"
      ]
    },
    {
      "cell_type": "markdown",
      "metadata": {
        "id": "71mtPO-qm11J"
      },
      "source": [
        "### Funções aninhadas e escopo de variáveis\n",
        "\n",
        "Uma função aninhada é uma função definida dentro de outra função. O escopo de uma variável é o lugar do programa onde uma variável \"vive\".\n",
        "\n",
        "A prioridade de escopo de uma variável em Python é dada pela regra LEGB, do mais prioritário para o menos prioritário:\n",
        "\n",
        "- L: Local – variáveis atribuídas dentro de uma função e não declaradas `global` naquela função.\n",
        "- E: Enclosing function locals (Locais dentro de funções aninhadas) – variáveis dentro do escopo local das funções aninhadas, de dentro para fora.\n",
        "- G: Global – variáveis atribuídas no topo do programa ou declarada global dentro de uma função.\n",
        "- B: Built-in – nomes atribuídos a funções, classes e métodos nativos do Python."
      ]
    },
    {
      "cell_type": "code",
      "execution_count": null,
      "metadata": {
        "id": "e7UKbXg0m11J"
      },
      "outputs": [],
      "source": [
        "x = 25\n",
        "\n",
        "def printer():\n",
        "    x = 50\n",
        "    return x\n",
        "\n",
        "print(x)\n",
        "print(printer())\n",
        "print(x)"
      ]
    },
    {
      "cell_type": "code",
      "execution_count": null,
      "metadata": {
        "scrolled": true,
        "id": "i8NApRaGm11J"
      },
      "outputs": [],
      "source": [
        "print(x)"
      ]
    },
    {
      "cell_type": "code",
      "execution_count": null,
      "metadata": {
        "id": "-Oa_yQ0-m11J"
      },
      "outputs": [],
      "source": [
        "name = 'Este é um nome global'\n",
        "\n",
        "def greet():\n",
        "    ##Enclosing function\n",
        "    name = 'José'\n",
        "    \n",
        "    def hello():\n",
        "        print('Hello ' + name)\n",
        "        \n",
        "    hello()\n",
        "    \n",
        "greet()\n",
        "#a variável name dentro da enclosing function tem precedência sobre a global"
      ]
    },
    {
      "cell_type": "code",
      "execution_count": null,
      "metadata": {
        "id": "juKmjHQmm11K"
      },
      "outputs": [],
      "source": [
        "print(name)"
      ]
    },
    {
      "cell_type": "markdown",
      "metadata": {
        "id": "neMrVjtpm11K"
      },
      "source": [
        "### Variáveis Locais"
      ]
    },
    {
      "cell_type": "code",
      "execution_count": null,
      "metadata": {
        "id": "QhxQByaSm11K"
      },
      "outputs": [],
      "source": [
        "x = 50\n",
        "\n",
        "def func(x):\n",
        "    print('x é', x)\n",
        "    x = 2\n",
        "    print('x alterado localmente para', x)\n",
        "    \n",
        "func(x)\n",
        "print('x ainda é', x)"
      ]
    },
    {
      "cell_type": "markdown",
      "metadata": {
        "id": "HA19n-rRm11K"
      },
      "source": [
        "### Global"
      ]
    },
    {
      "cell_type": "code",
      "execution_count": null,
      "metadata": {
        "scrolled": true,
        "id": "aNzuGWgNm11K"
      },
      "outputs": [],
      "source": [
        "x = 50\n",
        "\n",
        "def func():\n",
        "    global x\n",
        "    print('Esta função agora está usando um x global')\n",
        "    print('A global x é:', x)\n",
        "    x = 2\n",
        "    print('O valor de x mudou para:', x)\n",
        "    \n",
        "print('Antes de chamar func(), x é:', x)\n",
        "func()\n",
        "print('O valor de x fora de func() é:', x)"
      ]
    },
    {
      "cell_type": "markdown",
      "metadata": {
        "id": "RH4AbXHAm11K"
      },
      "source": [
        "### Funções com vários argumentos"
      ]
    },
    {
      "cell_type": "code",
      "execution_count": null,
      "metadata": {
        "id": "9r_0G7IZm11L"
      },
      "outputs": [],
      "source": [
        "def myfunc(a,b):\n",
        "    return sum((a,b))*.05\n",
        "\n",
        "myfunc(40,60)"
      ]
    },
    {
      "cell_type": "code",
      "execution_count": null,
      "metadata": {
        "id": "JDUf9LaSm11L"
      },
      "outputs": [],
      "source": [
        "def myfunc(a=0,b=0,c=0,d=0,e=0):\n",
        "    return sum((a,b,c,d,e))*0.05\n",
        "\n",
        "myfunc(40,60,20)"
      ]
    },
    {
      "cell_type": "markdown",
      "metadata": {
        "id": "MJWir1Tym11L"
      },
      "source": [
        "### *args & *kwargs\n",
        "\n",
        "O uso de `*args` permite que vários argumentos sejam passados em um mesmo parâmetro de uma função. Já o `*kwargs` é semelhante, mas se passam duplas chave/valor."
      ]
    },
    {
      "cell_type": "markdown",
      "metadata": {
        "id": "sO6gnDrUm11L"
      },
      "source": [
        "#### *args"
      ]
    },
    {
      "cell_type": "code",
      "execution_count": null,
      "metadata": {
        "id": "HzgisbHim11L"
      },
      "outputs": [],
      "source": [
        "def myfunc(*args):\n",
        "    return sum(args)*.05\n",
        "\n",
        "print(myfunc(40,60,20))\n",
        "print(myfunc(100))\n",
        "print(myfunc(1,2,3,4,5,6,7,8,9,10,11,12,13,14,15,16,17,18,19,20))"
      ]
    },
    {
      "cell_type": "code",
      "execution_count": null,
      "metadata": {
        "id": "rT9MOddjm11L"
      },
      "outputs": [],
      "source": [
        "def myfunc(*valores):\n",
        "    return sum(valores)*.05\n",
        "\n",
        "myfunc(40,60,20)"
      ]
    },
    {
      "cell_type": "markdown",
      "metadata": {
        "id": "S8FfaSSdm11M"
      },
      "source": [
        "#### *kwargs"
      ]
    },
    {
      "cell_type": "code",
      "execution_count": null,
      "metadata": {
        "id": "HDMC3I2em11M"
      },
      "outputs": [],
      "source": [
        "def myfunc(**kwargs):\n",
        "    if 'fruta' in kwargs:\n",
        "        print(f\"Minha fruta favorita é {kwargs['fruta']}\")\n",
        "    else:\n",
        "        print('Eu não gosto de fruta')\n",
        "        \n",
        "myfunc(fruit='abacate')\n",
        "myfunc(fruta='laranja')\n",
        "myfunc(fruta='maça',fruit='abacate')"
      ]
    },
    {
      "cell_type": "markdown",
      "metadata": {
        "id": "eGVLYLNgm11M"
      },
      "source": [
        "## Recursão\n",
        "\n",
        "Simplificando bastante, é um outro modo de fazer um loop."
      ]
    },
    {
      "cell_type": "markdown",
      "metadata": {
        "id": "XJXFhtLwm11M"
      },
      "source": [
        "### Fatorial - Abordagem Iterativa"
      ]
    },
    {
      "cell_type": "code",
      "execution_count": null,
      "metadata": {
        "collapsed": true,
        "id": "WzR26-Mtm11M"
      },
      "outputs": [],
      "source": [
        "def p_fatorial(n):\n",
        "    f = 1\n",
        "    for i in range(1, n+1):\n",
        "        f *= i\n",
        "    return f\n",
        "\n",
        "print(p_fatorial(0))\n",
        "print(p_fatorial(2))\n",
        "print(p_fatorial(4))\n",
        "print(p_fatorial(5000))"
      ]
    },
    {
      "cell_type": "markdown",
      "metadata": {
        "id": "Dhf5Xoeom11M"
      },
      "source": [
        "### Abordagem Recursiva"
      ]
    },
    {
      "cell_type": "code",
      "execution_count": null,
      "metadata": {
        "id": "-IFYnlIlm11M"
      },
      "outputs": [],
      "source": [
        "def f_fatorial(n):\n",
        "    \n",
        "    return 1 if n == 0 else n*f_fatorial(n-1)\n",
        "\n",
        "print(f_fatorial(0))\n",
        "print(f_fatorial(2))\n",
        "print(f_fatorial(4))\n",
        "# limite de profundidade\n",
        "#print(f_fatorial(5000))"
      ]
    },
    {
      "cell_type": "markdown",
      "metadata": {
        "id": "m5tv-pw2m11N"
      },
      "source": [
        "## Lambdas\n",
        "São pequenas funções, geralmente escritas em uma linha, que nem precisam ser nomeadas."
      ]
    },
    {
      "cell_type": "markdown",
      "metadata": {
        "id": "RplBXdcqm11N"
      },
      "source": [
        "### Uma função procedural simples"
      ]
    },
    {
      "cell_type": "code",
      "execution_count": null,
      "metadata": {
        "id": "5eUtHvHLm11N"
      },
      "outputs": [],
      "source": [
        "from math import sqrt\n",
        "\n",
        "def p_pythagoras(x,y):\n",
        "    return sqrt(x**2 + y**2)\n",
        "\n",
        "p_pythagoras(1, 1)"
      ]
    },
    {
      "cell_type": "markdown",
      "metadata": {
        "id": "FPWLgTkhm11N"
      },
      "source": [
        "### Uma função lambda simples"
      ]
    },
    {
      "cell_type": "code",
      "execution_count": null,
      "metadata": {
        "id": "Nv0TmdMFm11N"
      },
      "outputs": [],
      "source": [
        "l_pythagoras = lambda x, y: sqrt(x**2 + y**2)\n",
        "l_pythagoras(1,1)"
      ]
    },
    {
      "cell_type": "code",
      "execution_count": null,
      "metadata": {
        "id": "bPdXTpAjm11O"
      },
      "outputs": [],
      "source": [
        "## funções lambda não precisam ter nomes\n",
        "(lambda x, y: sqrt(x**2 + y**2))(1,1)"
      ]
    },
    {
      "cell_type": "markdown",
      "metadata": {
        "id": "jBYpWSEwm11O"
      },
      "source": [
        "### Recursão requer que a função lambda tenha um nome"
      ]
    },
    {
      "cell_type": "code",
      "execution_count": null,
      "metadata": {
        "id": "6uQBR6Glm11O"
      },
      "outputs": [],
      "source": [
        "l_fatorial = lambda n: 1 if n == 0 else n*l_fatorial(n-1)\n",
        "l_fatorial(3)"
      ]
    },
    {
      "cell_type": "markdown",
      "metadata": {
        "id": "lf_2WQFHm11O"
      },
      "source": [
        "### O uso de lambdas é conveniente"
      ]
    },
    {
      "cell_type": "code",
      "execution_count": null,
      "metadata": {
        "id": "hdm2usrrm11O"
      },
      "outputs": [],
      "source": [
        "lista = [0,1,2,3,4]\n",
        "list(map(lambda x: x*2, lista))"
      ]
    },
    {
      "cell_type": "markdown",
      "metadata": {
        "id": "BS27WSS9m11O"
      },
      "source": [
        "## Map, Reduce & Filter"
      ]
    },
    {
      "cell_type": "markdown",
      "metadata": {
        "id": "40OQzSD4m11O"
      },
      "source": [
        "### map(): aplica uma função para cada elemento de um iterador\n",
        "O primeiro argumento do map é a função e o segundo é um iterador"
      ]
    },
    {
      "cell_type": "code",
      "execution_count": null,
      "metadata": {
        "id": "BncCP4qXm11P"
      },
      "outputs": [],
      "source": [
        "from math import sqrt\n",
        "lista = [1,1,2,3,5,8]\n",
        "for i in map(sqrt, lista):\n",
        "    print(i)"
      ]
    },
    {
      "cell_type": "markdown",
      "metadata": {
        "id": "_fMrgoe6m11P"
      },
      "source": [
        "### reduce(): reduz um iterador a um único elemento aplicando uma função\n",
        "O primeiro argumento é a função e o segundo é um iterador, como uma lista"
      ]
    },
    {
      "cell_type": "code",
      "execution_count": null,
      "metadata": {
        "id": "kJaaEAlvm11P"
      },
      "outputs": [],
      "source": [
        "from functools import reduce\n",
        "\n",
        "# a soma dos números de 1 a 10 é 55\n",
        "lista = list(range(1,11))\n",
        "soma = reduce(lambda x,y: x+y, lista)\n",
        "print(soma)"
      ]
    },
    {
      "cell_type": "markdown",
      "metadata": {
        "id": "JIRKZUewm11P"
      },
      "source": [
        "### filter(): exclue elementos\n",
        "O primeiro argumento do filter é uma função booleana e o segundo é um iterador"
      ]
    },
    {
      "cell_type": "markdown",
      "metadata": {
        "id": "tv_s0EoYm11P"
      },
      "source": [
        "#### sem filtro()"
      ]
    },
    {
      "cell_type": "code",
      "execution_count": null,
      "metadata": {
        "id": "scnmHHhpm11P"
      },
      "outputs": [],
      "source": [
        "for i in lista:\n",
        "    if i%2:\n",
        "        continue\n",
        "    print(i)"
      ]
    },
    {
      "cell_type": "markdown",
      "metadata": {
        "id": "a2in6OJqm11Q"
      },
      "source": [
        "#### com filtro()"
      ]
    },
    {
      "cell_type": "code",
      "execution_count": null,
      "metadata": {
        "id": "3g9V1IaGm11Q"
      },
      "outputs": [],
      "source": [
        "for i in filter(lambda i: not i%2, lista):\n",
        "    print(i)"
      ]
    },
    {
      "cell_type": "markdown",
      "metadata": {
        "id": "6X8DSVnSm11Q"
      },
      "source": [
        "## Exercícios"
      ]
    },
    {
      "cell_type": "markdown",
      "metadata": {
        "id": "EJU3gRZUm11Q"
      },
      "source": [
        "**4** Mestre Yoda: Dada uma sentença, a função deve retornar a sentença com as palavras na ordem reversa. Exemplo:\n",
        "- mestre_yoda('Eu estou em casa') --> 'Casa em estou eu' \n",
        "- mestre_yoda('Estamos prontos') --> 'Prontos estamos'"
      ]
    },
    {
      "cell_type": "code",
      "execution_count": null,
      "metadata": {
        "id": "aZvofGUHm11Q"
      },
      "outputs": [],
      "source": [
        ""
      ]
    },
    {
      "cell_type": "markdown",
      "metadata": {
        "id": "ctmzwskEm11Q"
      },
      "source": [
        "**5** Defina a função `soma_nat` que recebe como argumento um número natural n e devolve a soma de todos os números naturais até n. Faça de maneira iterativa."
      ]
    },
    {
      "cell_type": "code",
      "execution_count": null,
      "metadata": {
        "id": "huDFFf7Rm11Q"
      },
      "outputs": [],
      "source": [
        ""
      ]
    },
    {
      "cell_type": "markdown",
      "metadata": {
        "id": "hDmIQwD_m11R"
      },
      "source": [
        "**6** Reescreva a função do exercício 5 fazendo a soma de maneira revursiva. Chame-a de `r_soma_nat`."
      ]
    },
    {
      "cell_type": "code",
      "execution_count": null,
      "metadata": {
        "id": "qOPC_Crqm11R"
      },
      "outputs": [],
      "source": [
        ""
      ]
    },
    {
      "cell_type": "markdown",
      "metadata": {
        "id": "5CTBLIKqm11R"
      },
      "source": [
        "**7** Reescreva a função do exercício 6 no formato lambda. Chame-a de `l_soma_nat`. "
      ]
    },
    {
      "cell_type": "code",
      "execution_count": null,
      "metadata": {
        "id": "xsTz1KLPm11R"
      },
      "outputs": [],
      "source": [
        ""
      ]
    },
    {
      "cell_type": "markdown",
      "metadata": {
        "id": "3Sh_wjkBm11R"
      },
      "source": [
        "## Orientação a Objetos"
      ]
    },
    {
      "cell_type": "markdown",
      "metadata": {
        "id": "an5dGOP0m11R"
      },
      "source": [
        "## Em Python, tudo é objeto"
      ]
    },
    {
      "cell_type": "code",
      "execution_count": null,
      "metadata": {
        "id": "GI--rrjum11R"
      },
      "outputs": [],
      "source": [
        "print(type(1))\n",
        "print(type([]))\n",
        "print(type(()))\n",
        "print(type({}))"
      ]
    },
    {
      "cell_type": "markdown",
      "metadata": {
        "id": "RLEQ9YbFm11R"
      },
      "source": [
        "### Classes"
      ]
    },
    {
      "cell_type": "code",
      "execution_count": null,
      "metadata": {
        "id": "KvxUCe3fm11R"
      },
      "outputs": [],
      "source": [
        "#Criando um objeto chamado Exemplo\n",
        "class Exemplo:\n",
        "    pass\n",
        "\n",
        "#Instanciando Exemplo\n",
        "x = Exemplo()\n",
        "\n",
        "print(type(x))"
      ]
    },
    {
      "cell_type": "markdown",
      "metadata": {
        "id": "0Ag5k31cm11S"
      },
      "source": [
        "Classes começam com letra maiúscula, por convenção. Atributos e métodos nomeamos conforme temos feito, letras minúsculas com palavras separadas por _"
      ]
    },
    {
      "cell_type": "markdown",
      "metadata": {
        "id": "VOgnC6Bgm11S"
      },
      "source": [
        "### Atributos\n",
        "\n",
        "A sintaxe para criar atributos é\n",
        "\n",
        "`self.atributo = algumacoisa`\n",
        "\n",
        "Existe um método especial chamado \n",
        "\n",
        "`__init__()`\n",
        "\n",
        "que serve para inicializar os atributos. Em orientação a objetos este método é conhecido por **construtor**."
      ]
    },
    {
      "cell_type": "code",
      "execution_count": null,
      "metadata": {
        "id": "fIF9-Rqwm11S"
      },
      "outputs": [],
      "source": [
        "class Dog:\n",
        "    def __init__(self,breed):\n",
        "        self.breed = breed\n",
        "        \n",
        "sam = Dog(breed='Labrador')\n",
        "frank = Dog(breed='Huskie')"
      ]
    },
    {
      "cell_type": "code",
      "execution_count": null,
      "metadata": {
        "id": "OdHs9T0bm11S"
      },
      "outputs": [],
      "source": [
        "sam.breed"
      ]
    },
    {
      "cell_type": "code",
      "execution_count": null,
      "metadata": {
        "id": "cgoeeybcm11S"
      },
      "outputs": [],
      "source": [
        "frank.breed"
      ]
    },
    {
      "cell_type": "markdown",
      "metadata": {
        "id": "QeJ00Ubtm11S"
      },
      "source": [
        "Caso o atributo seja inicializado fora do `__init__()` ele é um atributo de classe."
      ]
    },
    {
      "cell_type": "code",
      "execution_count": null,
      "metadata": {
        "id": "bOREmHChm11T"
      },
      "outputs": [],
      "source": [
        "class Dog:\n",
        "    #Atributo de classe\n",
        "    species = 'mamífero'\n",
        "    \n",
        "    def __init__(self,breed,name):\n",
        "        self.breed = breed\n",
        "        self.name = name"
      ]
    },
    {
      "cell_type": "code",
      "execution_count": null,
      "metadata": {
        "id": "yYCQjsSOm11T"
      },
      "outputs": [],
      "source": [
        "sam = Dog('Lab', 'Sam')"
      ]
    },
    {
      "cell_type": "code",
      "execution_count": null,
      "metadata": {
        "id": "zvjCAWitm11T"
      },
      "outputs": [],
      "source": [
        "sam.name"
      ]
    },
    {
      "cell_type": "code",
      "execution_count": null,
      "metadata": {
        "id": "meQadmW_m11T"
      },
      "outputs": [],
      "source": [
        "sam.species"
      ]
    },
    {
      "cell_type": "code",
      "execution_count": null,
      "metadata": {
        "id": "iPJqMYb7m11T"
      },
      "outputs": [],
      "source": [
        "frank = Dog('Huskie','Frank')"
      ]
    },
    {
      "cell_type": "code",
      "execution_count": null,
      "metadata": {
        "id": "y5Z6__mxm11T"
      },
      "outputs": [],
      "source": [
        "frank.name"
      ]
    },
    {
      "cell_type": "code",
      "execution_count": null,
      "metadata": {
        "id": "kMb1UHlum11U"
      },
      "outputs": [],
      "source": [
        "frank.species"
      ]
    },
    {
      "cell_type": "code",
      "execution_count": null,
      "metadata": {
        "id": "HUxVHwUam11U"
      },
      "outputs": [],
      "source": [
        "# se alterar o valor do atributo de classe ele é alterado para todos os objetos da classe\n",
        "Dog.species = 'canis lupus'\n",
        "print(sam.species)\n",
        "print(frank.species)"
      ]
    },
    {
      "cell_type": "markdown",
      "metadata": {
        "id": "rLpKGMQ1m11U"
      },
      "source": [
        "### Métodos\n",
        "São funções dentro das classes. Sempre devem receber self como parâmetro. "
      ]
    },
    {
      "cell_type": "code",
      "execution_count": null,
      "metadata": {
        "id": "B57o7T_9m11U"
      },
      "outputs": [],
      "source": [
        "class Circle:\n",
        "    pi = 3.14\n",
        "    \n",
        "    #O Círculo é instanciado com um raio (default é 1)\n",
        "    def __init__(self,radius=1):\n",
        "        self.radius = radius\n",
        "        self.area = radius * radius * Circle.pi\n",
        "        \n",
        "    #Método para mudar o raio\n",
        "    def set_radius(self,new_radius):\n",
        "        self.radius = new_radius\n",
        "        self.area = new_radius * new_radius * self.pi\n",
        "        \n",
        "    #Método para calcular a circunferência\n",
        "    def get_circumference(self):\n",
        "        return self.radius * self.pi * 2\n",
        "    \n",
        "c = Circle()\n",
        "\n",
        "print('Raio é', c.radius)\n",
        "print('Área é', c.area)\n",
        "print('Circunferência é', c.get_circumference())"
      ]
    },
    {
      "cell_type": "code",
      "execution_count": null,
      "metadata": {
        "id": "D9boMJiwm11U"
      },
      "outputs": [],
      "source": [
        "c.set_radius(2)\n",
        "\n",
        "print('Raio é', c.radius)\n",
        "print('Área é', c.area)\n",
        "print('Circunferência é', c.get_circumference())"
      ]
    },
    {
      "cell_type": "markdown",
      "source": [
        "### Encapsulamento\n",
        "\n",
        "Você deve ter notado que os atributos que utilizamos até agora são públicos. Na classe `Circle` acima você pode alterar diretamete o raio da circunferência sem chamar o método set_radius. E isso irá causar um problema, pois a área não será recalculada e isso irá causar uma inconsistência de dados.\n",
        "\n",
        "Para corrigir, você deve tornar o atributo *privado*. Mas em Python não temos modificadores de acesso *private* ou *public*, como em Java. Para tornar um atributo *privado* em Python você tem que colocar dois caracteres underline antes dele `__`.\n",
        "\n",
        "Ok, agora ninguém mais acessa o raio do círculo, nem você! Para isso precisa fazer os famosos *getters & setters*. Mas você faz isso em Java! Em Python fica feio, tem um jeito mais *pythonico* de fazer isso, usando um ***properties***. Você faz isso por meio do *decorator* `@property`. Veja no exemplo: "
      ],
      "metadata": {
        "id": "woBEEkXrEagD"
      }
    },
    {
      "cell_type": "code",
      "source": [
        "class Circle:\n",
        "    #para proteger atributos de classe use apenas 1 underscore\n",
        "    _pi = 3.14\n",
        "    \n",
        "    #O Círculo é instanciado com um raio (default é 1)\n",
        "    def __init__(self,radius=1):\n",
        "        self.__radius = radius\n",
        "        self.__area = radius * radius * Circle._pi\n",
        "        \n",
        "    @property\n",
        "    def radius(self):\n",
        "        return self.__radius\n",
        "    \n",
        "    @radius.setter\n",
        "    def radius(self, radius):\n",
        "        self.__radius = radius\n",
        "        self.__area = radius * radius * Circle._pi \n",
        "        \n",
        "    @property\n",
        "    def area(self):\n",
        "        return self.__area\n",
        "        \n",
        "    #Método para calcular a circunferência\n",
        "    def get_circumference(self):\n",
        "        return self.__radius * Circle._pi * 2\n",
        "    \n",
        "c = Circle()\n",
        "\n",
        "print('Raio é', c.radius)\n",
        "print('Área é', c.area)\n",
        "print('Circunferência é', c.get_circumference())"
      ],
      "metadata": {
        "id": "01GRbVeUEfGd"
      },
      "execution_count": null,
      "outputs": []
    },
    {
      "cell_type": "code",
      "source": [
        "c.pi = 1\n",
        "c.radius = 20\n",
        "print('Raio é', c.radius)\n",
        "print('Área é', c.area)\n",
        "print('Circunferência é', c.get_circumference())"
      ],
      "metadata": {
        "id": "LYeczwZ8EfSL"
      },
      "execution_count": null,
      "outputs": []
    },
    {
      "cell_type": "markdown",
      "metadata": {
        "id": "3bYUkSu2m11U"
      },
      "source": [
        "### Herança e Polimorfismo\n",
        "\n",
        "Herança é um poderoso mecanismo da orientação a objetos. Por meio dele uma classe (subclasse) recebe todos os métodos e atributos de outra classe (superclasse), podendo usá-los como recebeu ou especializá-los por meio de polimorfismo. \n",
        "\n",
        "Para implementar a herança usa-se a superclasse entre parênteses. Para chamar o construtor da superclasse usa-se o nome da superclasse antes."
      ]
    },
    {
      "cell_type": "code",
      "execution_count": null,
      "metadata": {
        "id": "r106bUv_m11V"
      },
      "outputs": [],
      "source": [
        "class Animal:\n",
        "    def __init__(self):\n",
        "        print('Animal criado')\n",
        "    \n",
        "    def quemSouEu(self):\n",
        "        print('Animal')\n",
        "        \n",
        "    def comer(self):\n",
        "        print('Comendo')\n",
        "        \n",
        "class Dog(Animal):\n",
        "    def __init__(self):\n",
        "        Animal.__init__(self)\n",
        "        print('Cachorro criado')\n",
        "        \n",
        "    def quemSouEu(self):\n",
        "        print('Cachorro')\n",
        "    \n",
        "    def latir(self):\n",
        "        print('Auau')"
      ]
    },
    {
      "cell_type": "code",
      "execution_count": null,
      "metadata": {
        "id": "So6FHbRym11V"
      },
      "outputs": [],
      "source": [
        "d = Dog()"
      ]
    },
    {
      "cell_type": "code",
      "execution_count": null,
      "metadata": {
        "id": "I56ohTajm11V"
      },
      "outputs": [],
      "source": [
        "d.quemSouEu()"
      ]
    },
    {
      "cell_type": "code",
      "execution_count": null,
      "metadata": {
        "id": "rEyCOW6am11V"
      },
      "outputs": [],
      "source": [
        "d.comer()"
      ]
    },
    {
      "cell_type": "code",
      "execution_count": null,
      "metadata": {
        "id": "8OmK3vZZm11V"
      },
      "outputs": [],
      "source": [
        "d.latir()"
      ]
    },
    {
      "cell_type": "code",
      "execution_count": null,
      "metadata": {
        "id": "mt6thwxWm11V"
      },
      "outputs": [],
      "source": [
        "type(d)"
      ]
    },
    {
      "cell_type": "markdown",
      "metadata": {
        "id": "LB7-GVxPm11W"
      },
      "source": [
        "No exemplo acima, o método quemSouEu da classe Dog é uma sobrescrita (ou sobreposição) do mesmo método da classe pai. O método comer é recebido pela classe Dog por herança. E o método latir é um método adicionado na classe Dog."
      ]
    },
    {
      "cell_type": "markdown",
      "metadata": {
        "id": "rjX9rOTjm11W"
      },
      "source": [
        "### Herança Múltipla\n",
        "\n",
        "Acontece quando a subclasse recebe herança de duas ou mais superclasses. Neste caso, se houver métodos recebidos com nomes e parâmetros iguais, valem os da superclasse que aparece primeiro nos parêntesis indicadores de herança."
      ]
    },
    {
      "cell_type": "code",
      "execution_count": null,
      "metadata": {
        "id": "ZD6PEzG6m11W"
      },
      "outputs": [],
      "source": [
        "class Animal:\n",
        "    def __init__(self):\n",
        "        print('Animal criado')\n",
        "    \n",
        "    def quemSouEu(self):\n",
        "        print('Animal')\n",
        "        \n",
        "    def comer(self):\n",
        "        print('Comendo')\n",
        "        \n",
        "class Mamifero:\n",
        "    def __init__(self):\n",
        "        print('Mamífero criado')\n",
        "        \n",
        "    def comer(self):\n",
        "        print('Bebendo')\n",
        "        \n",
        "class Dog(Mamifero,Animal):\n",
        "    def __init__(self):\n",
        "        Animal.__init__(self)\n",
        "        Mamifero.__init__(self)\n",
        "        print('Cachorro criado')\n",
        "        \n",
        "    def quemSouEu(self):\n",
        "        print('Cachorro')\n",
        "    \n",
        "    def latir(self):\n",
        "        print('Auau')"
      ]
    },
    {
      "cell_type": "code",
      "execution_count": null,
      "metadata": {
        "id": "a7fDFUtUm11W"
      },
      "outputs": [],
      "source": [
        "#como Mamifero vem primeiro na ordem da herança, o método comer é herdado desta classe\n",
        "d = Dog()\n",
        "d.comer()"
      ]
    },
    {
      "cell_type": "code",
      "execution_count": null,
      "metadata": {
        "id": "2W1I0fhim11W"
      },
      "outputs": [],
      "source": [
        "class Dog(Animal,Mamifero):\n",
        "    def __init__(self):\n",
        "        Animal.__init__(self)\n",
        "        Mamifero.__init__(self)\n",
        "        print('Cachorro criado')\n",
        "        \n",
        "    def quemSouEu(self):\n",
        "        print('Cachorro')\n",
        "    \n",
        "    def latir(self):\n",
        "        print('Auau')"
      ]
    },
    {
      "cell_type": "code",
      "execution_count": null,
      "metadata": {
        "id": "yxUvRQTMm11W"
      },
      "outputs": [],
      "source": [
        "#como agora Animal vem primeiro na ordem da herança, o método comer é herdado desta classe\n",
        "d = Dog()\n",
        "d.comer()"
      ]
    },
    {
      "cell_type": "markdown",
      "metadata": {
        "id": "UZicdgHTm11X"
      },
      "source": [
        "### Métodos especiais\n",
        "\n",
        "Além do `__init__(self)`, que é um construtor, temos o `__str__(self)`, chamado quando é necessário converter o objeto em string, o `__len__(self)`, que retorna o tamanho do objeto e o `__del__(self)`, que é um método destrutor."
      ]
    },
    {
      "cell_type": "code",
      "execution_count": null,
      "metadata": {
        "id": "Zm7LDwAhm11X"
      },
      "outputs": [],
      "source": [
        "class Book:\n",
        "    def __init__(self, title, author, pages):\n",
        "        print(\"Um livro foi criado\")\n",
        "        self.title = title\n",
        "        self.author = author\n",
        "        self.pages = pages\n",
        "        \n",
        "    def __str__(self):\n",
        "        return \"Title: %s, author: %s, pages:%s\" %(self.title, self.author, self.pages)\n",
        "    \n",
        "    def __len__(self):\n",
        "        return self.pages\n",
        "    \n",
        "    def __del__(self):\n",
        "        print(\"Um livro foi destruído\")"
      ]
    },
    {
      "cell_type": "code",
      "execution_count": null,
      "metadata": {
        "scrolled": true,
        "id": "xLWhYKB0m11X"
      },
      "outputs": [],
      "source": [
        "book = Book(\"Python Rocks!\", \"Jose Portilla\", 159)\n",
        "\n",
        "print(book)\n",
        "print(len(book))\n",
        "del book"
      ]
    },
    {
      "cell_type": "markdown",
      "metadata": {
        "id": "cxJMXZpTm11X"
      },
      "source": [
        "## Tratamento de erros\n",
        "\n",
        "Usa-se o bloco `try-except`. Se houver algum erro nos comandos do `try`, a exceção é pega pelo `except`. Pode haver vários except. O `else`, opcional, é executado somente se não houver exceção. O `finally`, também opcional, é executado sempre."
      ]
    },
    {
      "cell_type": "code",
      "execution_count": null,
      "metadata": {
        "id": "EXtAILD4m11X"
      },
      "outputs": [],
      "source": [
        "try:\n",
        "    f = open('testfile','w')\n",
        "    f.write('Test escreve isso')\n",
        "except IOError:\n",
        "    print(\"Erro: não achei o arquivo ou não deu para escrever\")\n",
        "else:\n",
        "    print(\"Conteúdo escrito com sucesso\")\n",
        "    f.close()"
      ]
    },
    {
      "cell_type": "code",
      "execution_count": null,
      "metadata": {
        "id": "hK8vJmMSm11X"
      },
      "outputs": [],
      "source": [
        "try:\n",
        "    f = open('testfile','r')\n",
        "    f.write('Test escreve isso')\n",
        "except IOError:\n",
        "    print(\"Erro: não achei o arquivo ou não deu para escrever\")\n",
        "else:\n",
        "    print(\"Conteúdo escrito com sucesso\")\n",
        "    f.close()"
      ]
    },
    {
      "cell_type": "code",
      "execution_count": null,
      "metadata": {
        "id": "XlwcuhFEm11Y"
      },
      "outputs": [],
      "source": [
        "try:\n",
        "    f = open('testfile','w')\n",
        "    f.write('Test escreve isso')\n",
        "    f.close()\n",
        "except IOError:\n",
        "    print(\"Erro: não achei o arquivo ou não deu para escrever\")\n",
        "finally:\n",
        "    print(\"O bloco finally sempre executa\")"
      ]
    },
    {
      "cell_type": "code",
      "execution_count": null,
      "metadata": {
        "id": "GI0SheLTm11Y"
      },
      "outputs": [],
      "source": [
        "try:\n",
        "    f = open('testfile','r')\n",
        "    f.write('Test escreve isso')\n",
        "    f.close()\n",
        "except IOError:\n",
        "    print(\"Erro: não achei o arquivo ou não deu para escrever\")\n",
        "finally:\n",
        "    print(\"O bloco finally sempre executa\")"
      ]
    },
    {
      "cell_type": "markdown",
      "metadata": {
        "id": "r5fiM3eLm11Y"
      },
      "source": [
        "## Manipulando arquivos em Python\n",
        "\n",
        "Para abrir arquivos, use `open(nome_do_arquivo, modo)`. O modo pode ser:\n",
        "- `w` para abrir somente para escrita, zerando o conteúdo do arquivo, ou \n",
        "- `w+` para abrir para leitura e escrita, também apagando tudo; \n",
        "- `a`, para abrir para escrita mas desta vez fazendo append, isto é, acrescentando conteúdo no final, mantendo o conteúdo anterior; \n",
        "- `a+` abre para escrita e leitura; \n",
        "- caso não seja passado nada em modo, o arquivo é aberto somente para leitura.\n",
        "\n",
        "Para ler o arquivo use a função `read()`, que lê o arquivo todo. Para ler linha a linha, use `readlines()`. Após a leitura usando `read()` é necessário usar a função `seek(0)` para reposicionar no início do arquivo. Para escrever, use a função `write()`. Adicione um `\\n` no final da string escrita para pular linha."
      ]
    },
    {
      "cell_type": "markdown",
      "metadata": {
        "id": "FTTBSCsfm11Y"
      },
      "source": [
        "### Escrevendo arquivos com IPython\n",
        "Função específica do jupyter notebook."
      ]
    },
    {
      "cell_type": "code",
      "execution_count": null,
      "metadata": {
        "id": "900Ra0EXm11Y"
      },
      "outputs": [],
      "source": [
        "%%writefile test.txt\n",
        "Olá, este é um arquivinho de testes."
      ]
    },
    {
      "cell_type": "markdown",
      "metadata": {
        "id": "zgwv0Dpsm11Y"
      },
      "source": [
        "## Abrindo arquivos em Python"
      ]
    },
    {
      "cell_type": "code",
      "execution_count": null,
      "metadata": {
        "id": "5v7H96xGm11Y"
      },
      "outputs": [],
      "source": [
        "#myfile=open('erro.txt') #dá erro"
      ]
    },
    {
      "cell_type": "code",
      "execution_count": null,
      "metadata": {
        "id": "Yg8a1Q0Om11Z"
      },
      "outputs": [],
      "source": [
        "my_file = open('test.txt')"
      ]
    },
    {
      "cell_type": "code",
      "execution_count": null,
      "metadata": {
        "id": "8fiMTfjGm11Z"
      },
      "outputs": [],
      "source": [
        "my_file.read()"
      ]
    },
    {
      "cell_type": "code",
      "execution_count": null,
      "metadata": {
        "id": "mNZTjVVDm11Z"
      },
      "outputs": [],
      "source": [
        "#não lê pois já está no final do arquivo\n",
        "my_file.read()"
      ]
    },
    {
      "cell_type": "code",
      "execution_count": null,
      "metadata": {
        "id": "Y5A9RMlum11Z"
      },
      "outputs": [],
      "source": [
        "#volta para o início do arquivo\n",
        "my_file.seek(0)"
      ]
    },
    {
      "cell_type": "code",
      "execution_count": null,
      "metadata": {
        "id": "PUTFBn3km11Z"
      },
      "outputs": [],
      "source": [
        "my_file.read()"
      ]
    },
    {
      "cell_type": "code",
      "execution_count": null,
      "metadata": {
        "id": "hY9H2RjYm11Z"
      },
      "outputs": [],
      "source": [
        "my_file.close()"
      ]
    },
    {
      "cell_type": "code",
      "execution_count": null,
      "metadata": {
        "id": "d3A4ItHPm11Z"
      },
      "outputs": [],
      "source": [
        "#w+ abre o arquivo para leitura e escrita - w abre só para escrita\n",
        "#este modo apaga todo o texto original do arquivo\n",
        "my_file = open('test.txt', 'w+')"
      ]
    },
    {
      "cell_type": "code",
      "execution_count": null,
      "metadata": {
        "id": "dYtYCsOMm11Z"
      },
      "outputs": [],
      "source": [
        "my_file.write('Esta e a linha 1.')"
      ]
    },
    {
      "cell_type": "code",
      "execution_count": null,
      "metadata": {
        "id": "j2weIf6Wm11a"
      },
      "outputs": [],
      "source": [
        "my_file.write('Esta e a linha 2.')"
      ]
    },
    {
      "cell_type": "code",
      "execution_count": null,
      "metadata": {
        "id": "107NADJ_m11a"
      },
      "outputs": [],
      "source": [
        "my_file.seek(0)"
      ]
    },
    {
      "cell_type": "code",
      "execution_count": null,
      "metadata": {
        "id": "lNE7kfMgm11a"
      },
      "outputs": [],
      "source": [
        "my_file.read()"
      ]
    },
    {
      "cell_type": "code",
      "execution_count": null,
      "metadata": {
        "id": "6mu_gG4tm11a"
      },
      "outputs": [],
      "source": [
        "my_file.close()"
      ]
    },
    {
      "cell_type": "code",
      "execution_count": null,
      "metadata": {
        "id": "Pi-h3vf5m11a"
      },
      "outputs": [],
      "source": [
        "#a+ abre para escrita e leitura, mas desta vez adiciona o conteúdo no\n",
        "#final do arquivo - append.\n",
        "my_file = open('test.txt', 'a+')"
      ]
    },
    {
      "cell_type": "code",
      "execution_count": null,
      "metadata": {
        "id": "nbJamhuxm11a"
      },
      "outputs": [],
      "source": [
        "my_file.write('\\nEste e um texto adicionado ao test.txt.')"
      ]
    },
    {
      "cell_type": "code",
      "execution_count": null,
      "metadata": {
        "id": "x6gL17xsm11a"
      },
      "outputs": [],
      "source": [
        "my_file.write('\\nEsta e uma nova linha.')"
      ]
    },
    {
      "cell_type": "code",
      "execution_count": null,
      "metadata": {
        "id": "ixxZ8rjrm11b"
      },
      "outputs": [],
      "source": [
        "my_file.seek(0)"
      ]
    },
    {
      "cell_type": "code",
      "execution_count": null,
      "metadata": {
        "id": "5XowCx-pm11b"
      },
      "outputs": [],
      "source": [
        "print(my_file.read())"
      ]
    },
    {
      "cell_type": "code",
      "execution_count": null,
      "metadata": {
        "id": "SdSCsjs_m11b"
      },
      "outputs": [],
      "source": [
        "my_file.close()"
      ]
    },
    {
      "cell_type": "markdown",
      "metadata": {
        "id": "_1cczMQWm11b"
      },
      "source": [
        "## Iterando um arquivo"
      ]
    },
    {
      "cell_type": "code",
      "execution_count": null,
      "metadata": {
        "scrolled": true,
        "id": "74Y-E2EKm11b"
      },
      "outputs": [],
      "source": [
        "for line in open('test.txt'):\n",
        "    print(line)"
      ]
    },
    {
      "cell_type": "markdown",
      "metadata": {
        "id": "T1Qb9Faqm11b"
      },
      "source": [
        "## Exercícios"
      ]
    },
    {
      "cell_type": "markdown",
      "metadata": {
        "id": "xVECbD7em11b"
      },
      "source": [
        "**8** Ponto e Linha: \n",
        "- Crie a classe Ponto. Ela possui um atributo, uma tupla de inteiros x e y, que denotam um ponto no plano cartesiano.\n",
        "- Crie  classe Linha que tem dois atributos, coordenada1 e coordenada2. Cada coordenada é um ponto do segmento de reta. Faça métodos que calculem o comprimento do segmento de reta e seu coeficiente angular."
      ]
    },
    {
      "cell_type": "markdown",
      "metadata": {
        "id": "uHFujc5Hm11b"
      },
      "source": [
        "**9** Escreva um programa que leia um inteiro via input e que continue solicitando a digitação caso o usuário digite um número errado."
      ]
    },
    {
      "cell_type": "code",
      "execution_count": null,
      "metadata": {
        "id": "jZTZdQiam11c"
      },
      "outputs": [],
      "source": [
        ""
      ]
    }
  ],
  "metadata": {
    "kernelspec": {
      "display_name": "Python 3",
      "language": "python",
      "name": "python3"
    },
    "language_info": {
      "codemirror_mode": {
        "name": "ipython",
        "version": 3
      },
      "file_extension": ".py",
      "mimetype": "text/x-python",
      "name": "python",
      "nbconvert_exporter": "python",
      "pygments_lexer": "ipython3",
      "version": "3.6.4"
    },
    "colab": {
      "name": "adp_aula2_conteudo.ipynb",
      "provenance": []
    }
  },
  "nbformat": 4,
  "nbformat_minor": 0
}