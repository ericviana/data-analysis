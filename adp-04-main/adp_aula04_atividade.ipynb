{
  "cells": [
    {
      "cell_type": "markdown",
      "metadata": {
        "id": "jx7VpamzjRpB"
      },
      "source": [
        "# Atividade04 - Pandas para Análise e Tratamento de Dados\n",
        "\n",
        "**Conteúdo**\n",
        "- Leitura de dados\n",
        "- Filtros\n",
        "- Agregações\n",
        "- Agrupamentos\n",
        "- Pivot Tables\n",
        "- Estatísticas\n",
        "- Séries Temporais"
      ]
    },
    {
      "cell_type": "code",
      "source": [
        "from google.colab import drive\n",
        "drive.mount('/content/drive')"
      ],
      "metadata": {
        "colab": {
          "base_uri": "https://localhost:8080/"
        },
        "id": "ibbWnAOo8aQt",
        "outputId": "e7ff035f-d8d0-4847-8219-37e069a25ca7"
      },
      "execution_count": null,
      "outputs": [
        {
          "output_type": "stream",
          "name": "stdout",
          "text": [
            "Drive already mounted at /content/drive; to attempt to forcibly remount, call drive.mount(\"/content/drive\", force_remount=True).\n"
          ]
        }
      ]
    },
    {
      "cell_type": "code",
      "execution_count": null,
      "metadata": {
        "id": "KVqjiEDB7TlX"
      },
      "outputs": [],
      "source": [
        "#configuração do notebook para acesso aos datasets no drive\n",
        "path = '/content/drive/MyDrive/2022_2_extensao_adp/datasets/'"
      ]
    },
    {
      "cell_type": "code",
      "execution_count": null,
      "metadata": {
        "id": "AMunmzgFItM4"
      },
      "outputs": [],
      "source": [
        "import pandas as pd\n",
        "# definicao dos dados em listas\n",
        "referencias = ['jan', 'fev', 'mar', 'abr', 'mai', 'jun', 'jul', 'ago', 'set']\n",
        "cdi = [0.54, 0.49, 0.47, 0.52, 0.54, 0.47, 0.57, 0.50, 0.46]\n",
        "ipca = [0.32, 0.43, 0.75, 0.57, 0.13, 0.01, 0.19, 0.11, -0.04]\n",
        "igpm = [0.01, 0.88, 1.26, 0.92, 0.45, 0.80, 0.40, -0.67, -0.01]"
      ]
    },
    {
      "cell_type": "code",
      "execution_count": null,
      "metadata": {
        "colab": {
          "base_uri": "https://localhost:8080/",
          "height": 332
        },
        "id": "Wf81jA5eJZNM",
        "outputId": "a115917a-c041-4f48-9206-f89422da5290"
      },
      "outputs": [
        {
          "output_type": "execute_result",
          "data": {
            "text/plain": [
              "     IPCA   CDI  IGPM\n",
              "jan  0.32  0.54  0.01\n",
              "fev  0.43  0.49  0.88\n",
              "mar  0.75  0.47  1.26\n",
              "abr  0.57  0.52  0.92\n",
              "mai  0.13  0.54  0.45\n",
              "jun  0.01  0.47  0.80\n",
              "jul  0.19  0.57  0.40\n",
              "ago  0.11  0.50 -0.67\n",
              "set -0.04  0.46 -0.01"
            ],
            "text/html": [
              "\n",
              "  <div id=\"df-773b5541-823c-45f4-a29b-af932e86e07e\">\n",
              "    <div class=\"colab-df-container\">\n",
              "      <div>\n",
              "<style scoped>\n",
              "    .dataframe tbody tr th:only-of-type {\n",
              "        vertical-align: middle;\n",
              "    }\n",
              "\n",
              "    .dataframe tbody tr th {\n",
              "        vertical-align: top;\n",
              "    }\n",
              "\n",
              "    .dataframe thead th {\n",
              "        text-align: right;\n",
              "    }\n",
              "</style>\n",
              "<table border=\"1\" class=\"dataframe\">\n",
              "  <thead>\n",
              "    <tr style=\"text-align: right;\">\n",
              "      <th></th>\n",
              "      <th>IPCA</th>\n",
              "      <th>CDI</th>\n",
              "      <th>IGPM</th>\n",
              "    </tr>\n",
              "  </thead>\n",
              "  <tbody>\n",
              "    <tr>\n",
              "      <th>jan</th>\n",
              "      <td>0.32</td>\n",
              "      <td>0.54</td>\n",
              "      <td>0.01</td>\n",
              "    </tr>\n",
              "    <tr>\n",
              "      <th>fev</th>\n",
              "      <td>0.43</td>\n",
              "      <td>0.49</td>\n",
              "      <td>0.88</td>\n",
              "    </tr>\n",
              "    <tr>\n",
              "      <th>mar</th>\n",
              "      <td>0.75</td>\n",
              "      <td>0.47</td>\n",
              "      <td>1.26</td>\n",
              "    </tr>\n",
              "    <tr>\n",
              "      <th>abr</th>\n",
              "      <td>0.57</td>\n",
              "      <td>0.52</td>\n",
              "      <td>0.92</td>\n",
              "    </tr>\n",
              "    <tr>\n",
              "      <th>mai</th>\n",
              "      <td>0.13</td>\n",
              "      <td>0.54</td>\n",
              "      <td>0.45</td>\n",
              "    </tr>\n",
              "    <tr>\n",
              "      <th>jun</th>\n",
              "      <td>0.01</td>\n",
              "      <td>0.47</td>\n",
              "      <td>0.80</td>\n",
              "    </tr>\n",
              "    <tr>\n",
              "      <th>jul</th>\n",
              "      <td>0.19</td>\n",
              "      <td>0.57</td>\n",
              "      <td>0.40</td>\n",
              "    </tr>\n",
              "    <tr>\n",
              "      <th>ago</th>\n",
              "      <td>0.11</td>\n",
              "      <td>0.50</td>\n",
              "      <td>-0.67</td>\n",
              "    </tr>\n",
              "    <tr>\n",
              "      <th>set</th>\n",
              "      <td>-0.04</td>\n",
              "      <td>0.46</td>\n",
              "      <td>-0.01</td>\n",
              "    </tr>\n",
              "  </tbody>\n",
              "</table>\n",
              "</div>\n",
              "      <button class=\"colab-df-convert\" onclick=\"convertToInteractive('df-773b5541-823c-45f4-a29b-af932e86e07e')\"\n",
              "              title=\"Convert this dataframe to an interactive table.\"\n",
              "              style=\"display:none;\">\n",
              "        \n",
              "  <svg xmlns=\"http://www.w3.org/2000/svg\" height=\"24px\"viewBox=\"0 0 24 24\"\n",
              "       width=\"24px\">\n",
              "    <path d=\"M0 0h24v24H0V0z\" fill=\"none\"/>\n",
              "    <path d=\"M18.56 5.44l.94 2.06.94-2.06 2.06-.94-2.06-.94-.94-2.06-.94 2.06-2.06.94zm-11 1L8.5 8.5l.94-2.06 2.06-.94-2.06-.94L8.5 2.5l-.94 2.06-2.06.94zm10 10l.94 2.06.94-2.06 2.06-.94-2.06-.94-.94-2.06-.94 2.06-2.06.94z\"/><path d=\"M17.41 7.96l-1.37-1.37c-.4-.4-.92-.59-1.43-.59-.52 0-1.04.2-1.43.59L10.3 9.45l-7.72 7.72c-.78.78-.78 2.05 0 2.83L4 21.41c.39.39.9.59 1.41.59.51 0 1.02-.2 1.41-.59l7.78-7.78 2.81-2.81c.8-.78.8-2.07 0-2.86zM5.41 20L4 18.59l7.72-7.72 1.47 1.35L5.41 20z\"/>\n",
              "  </svg>\n",
              "      </button>\n",
              "      \n",
              "  <style>\n",
              "    .colab-df-container {\n",
              "      display:flex;\n",
              "      flex-wrap:wrap;\n",
              "      gap: 12px;\n",
              "    }\n",
              "\n",
              "    .colab-df-convert {\n",
              "      background-color: #E8F0FE;\n",
              "      border: none;\n",
              "      border-radius: 50%;\n",
              "      cursor: pointer;\n",
              "      display: none;\n",
              "      fill: #1967D2;\n",
              "      height: 32px;\n",
              "      padding: 0 0 0 0;\n",
              "      width: 32px;\n",
              "    }\n",
              "\n",
              "    .colab-df-convert:hover {\n",
              "      background-color: #E2EBFA;\n",
              "      box-shadow: 0px 1px 2px rgba(60, 64, 67, 0.3), 0px 1px 3px 1px rgba(60, 64, 67, 0.15);\n",
              "      fill: #174EA6;\n",
              "    }\n",
              "\n",
              "    [theme=dark] .colab-df-convert {\n",
              "      background-color: #3B4455;\n",
              "      fill: #D2E3FC;\n",
              "    }\n",
              "\n",
              "    [theme=dark] .colab-df-convert:hover {\n",
              "      background-color: #434B5C;\n",
              "      box-shadow: 0px 1px 3px 1px rgba(0, 0, 0, 0.15);\n",
              "      filter: drop-shadow(0px 1px 2px rgba(0, 0, 0, 0.3));\n",
              "      fill: #FFFFFF;\n",
              "    }\n",
              "  </style>\n",
              "\n",
              "      <script>\n",
              "        const buttonEl =\n",
              "          document.querySelector('#df-773b5541-823c-45f4-a29b-af932e86e07e button.colab-df-convert');\n",
              "        buttonEl.style.display =\n",
              "          google.colab.kernel.accessAllowed ? 'block' : 'none';\n",
              "\n",
              "        async function convertToInteractive(key) {\n",
              "          const element = document.querySelector('#df-773b5541-823c-45f4-a29b-af932e86e07e');\n",
              "          const dataTable =\n",
              "            await google.colab.kernel.invokeFunction('convertToInteractive',\n",
              "                                                     [key], {});\n",
              "          if (!dataTable) return;\n",
              "\n",
              "          const docLinkHtml = 'Like what you see? Visit the ' +\n",
              "            '<a target=\"_blank\" href=https://colab.research.google.com/notebooks/data_table.ipynb>data table notebook</a>'\n",
              "            + ' to learn more about interactive tables.';\n",
              "          element.innerHTML = '';\n",
              "          dataTable['output_type'] = 'display_data';\n",
              "          await google.colab.output.renderOutput(dataTable, element);\n",
              "          const docLink = document.createElement('div');\n",
              "          docLink.innerHTML = docLinkHtml;\n",
              "          element.appendChild(docLink);\n",
              "        }\n",
              "      </script>\n",
              "    </div>\n",
              "  </div>\n",
              "  "
            ]
          },
          "metadata": {},
          "execution_count": 4
        }
      ],
      "source": [
        "# criação do dataframe e definição do índice\n",
        "indicadores = pd.DataFrame(data={'IPCA': ipca, 'CDI': cdi, 'IGPM': igpm}, index=referencias)\n",
        "indicadores"
      ]
    },
    {
      "cell_type": "markdown",
      "metadata": {
        "id": "BbyF0Fl_OE-0"
      },
      "source": [
        "**1** Selecionar o CDI de todos os meses jan, mar, abr, jun, set"
      ]
    },
    {
      "cell_type": "code",
      "execution_count": null,
      "metadata": {
        "id": "czm6Y6cZOVG0"
      },
      "outputs": [],
      "source": [
        "# Solução"
      ]
    },
    {
      "cell_type": "markdown",
      "metadata": {
        "id": "ioV5hswG9ufB"
      },
      "source": [
        "**2** Filtrar todos os registros nos quais o IGP-M é maior que o IPCA"
      ]
    },
    {
      "cell_type": "code",
      "execution_count": null,
      "metadata": {
        "id": "bQByEBjkdK2k"
      },
      "outputs": [],
      "source": [
        "# Solução"
      ]
    },
    {
      "cell_type": "markdown",
      "metadata": {
        "id": "g63CT2VbSXcw"
      },
      "source": [
        "**3** Apresentar todas os registros nos quais o \n",
        "IGPM é menor ou igual ao IPCA e o CDI, ou menor ou igual ao IPCA e maior ou igual ao CDI, ou maior ou igual ao IPCA e menor ou igual ao CDI"
      ]
    },
    {
      "cell_type": "code",
      "execution_count": null,
      "metadata": {
        "id": "u6N-FKVwdeXZ"
      },
      "outputs": [],
      "source": [
        "# Solução"
      ]
    },
    {
      "cell_type": "markdown",
      "metadata": {
        "id": "EzdD84KvViBI"
      },
      "source": [
        "**4** Apresentar o IPCA nos meses nos quais o IGPM foi negativo"
      ]
    },
    {
      "cell_type": "code",
      "execution_count": null,
      "metadata": {
        "id": "E6FCxAOMVtPF"
      },
      "outputs": [],
      "source": [
        "# Solução"
      ]
    },
    {
      "cell_type": "markdown",
      "metadata": {
        "id": "HyD7jL1LPW4W"
      },
      "source": [
        "#### Carregue os dados da aba 2 do arquivo *bec_exel_abas.xlsx*\n"
      ]
    },
    {
      "cell_type": "code",
      "execution_count": null,
      "metadata": {
        "colab": {
          "base_uri": "https://localhost:8080/",
          "height": 354
        },
        "id": "jMsygfc7fi_h",
        "outputId": "347ed8b9-0efc-4af8-d08a-abdaf5e33e63"
      },
      "outputs": [
        {
          "output_type": "execute_result",
          "data": {
            "text/plain": [
              "                   Cód Desc Órgão Mês Ano Encerramento  \\\n",
              "0  01000 - ASSEMBLEIA LEGISLATIVA           2019-09-01   \n",
              "1  01000 - ASSEMBLEIA LEGISLATIVA           2019-09-01   \n",
              "2  01000 - ASSEMBLEIA LEGISLATIVA           2019-09-01   \n",
              "3  01000 - ASSEMBLEIA LEGISLATIVA           2019-09-01   \n",
              "4  01000 - ASSEMBLEIA LEGISLATIVA           2019-09-01   \n",
              "\n",
              "   Valor Total Negociado em R$ Descrição Procedimento Compra  \\\n",
              "0                        673.2         DISPENSA DE LICITAÇÃO   \n",
              "1                       1880.0         DISPENSA DE LICITAÇÃO   \n",
              "2                        340.0         DISPENSA DE LICITAÇÃO   \n",
              "3                       1104.0         DISPENSA DE LICITAÇÃO   \n",
              "4                       1090.0         DISPENSA DE LICITAÇÃO   \n",
              "\n",
              "                 Código e Descrição Técnica do Grupo  \n",
              "0  36 - MAQUINAS E EQUIPAMENTOS PARA INDUSTRIAS E...  \n",
              "1                          71 - MOBILIARIOS EM GERAL  \n",
              "2  83 - TECIDOS, COUROS, PELES, AVIAMENTOS, BARRA...  \n",
              "3                                   86 - INFORMATICA  \n",
              "4                          89 - GENEROS ALIMENTICIOS  "
            ],
            "text/html": [
              "\n",
              "  <div id=\"df-7bb52dad-2438-415c-aab4-83789558ef13\">\n",
              "    <div class=\"colab-df-container\">\n",
              "      <div>\n",
              "<style scoped>\n",
              "    .dataframe tbody tr th:only-of-type {\n",
              "        vertical-align: middle;\n",
              "    }\n",
              "\n",
              "    .dataframe tbody tr th {\n",
              "        vertical-align: top;\n",
              "    }\n",
              "\n",
              "    .dataframe thead th {\n",
              "        text-align: right;\n",
              "    }\n",
              "</style>\n",
              "<table border=\"1\" class=\"dataframe\">\n",
              "  <thead>\n",
              "    <tr style=\"text-align: right;\">\n",
              "      <th></th>\n",
              "      <th>Cód Desc Órgão</th>\n",
              "      <th>Mês Ano Encerramento</th>\n",
              "      <th>Valor Total Negociado em R$</th>\n",
              "      <th>Descrição Procedimento Compra</th>\n",
              "      <th>Código e Descrição Técnica do Grupo</th>\n",
              "    </tr>\n",
              "  </thead>\n",
              "  <tbody>\n",
              "    <tr>\n",
              "      <th>0</th>\n",
              "      <td>01000 - ASSEMBLEIA LEGISLATIVA</td>\n",
              "      <td>2019-09-01</td>\n",
              "      <td>673.2</td>\n",
              "      <td>DISPENSA DE LICITAÇÃO</td>\n",
              "      <td>36 - MAQUINAS E EQUIPAMENTOS PARA INDUSTRIAS E...</td>\n",
              "    </tr>\n",
              "    <tr>\n",
              "      <th>1</th>\n",
              "      <td>01000 - ASSEMBLEIA LEGISLATIVA</td>\n",
              "      <td>2019-09-01</td>\n",
              "      <td>1880.0</td>\n",
              "      <td>DISPENSA DE LICITAÇÃO</td>\n",
              "      <td>71 - MOBILIARIOS EM GERAL</td>\n",
              "    </tr>\n",
              "    <tr>\n",
              "      <th>2</th>\n",
              "      <td>01000 - ASSEMBLEIA LEGISLATIVA</td>\n",
              "      <td>2019-09-01</td>\n",
              "      <td>340.0</td>\n",
              "      <td>DISPENSA DE LICITAÇÃO</td>\n",
              "      <td>83 - TECIDOS, COUROS, PELES, AVIAMENTOS, BARRA...</td>\n",
              "    </tr>\n",
              "    <tr>\n",
              "      <th>3</th>\n",
              "      <td>01000 - ASSEMBLEIA LEGISLATIVA</td>\n",
              "      <td>2019-09-01</td>\n",
              "      <td>1104.0</td>\n",
              "      <td>DISPENSA DE LICITAÇÃO</td>\n",
              "      <td>86 - INFORMATICA</td>\n",
              "    </tr>\n",
              "    <tr>\n",
              "      <th>4</th>\n",
              "      <td>01000 - ASSEMBLEIA LEGISLATIVA</td>\n",
              "      <td>2019-09-01</td>\n",
              "      <td>1090.0</td>\n",
              "      <td>DISPENSA DE LICITAÇÃO</td>\n",
              "      <td>89 - GENEROS ALIMENTICIOS</td>\n",
              "    </tr>\n",
              "  </tbody>\n",
              "</table>\n",
              "</div>\n",
              "      <button class=\"colab-df-convert\" onclick=\"convertToInteractive('df-7bb52dad-2438-415c-aab4-83789558ef13')\"\n",
              "              title=\"Convert this dataframe to an interactive table.\"\n",
              "              style=\"display:none;\">\n",
              "        \n",
              "  <svg xmlns=\"http://www.w3.org/2000/svg\" height=\"24px\"viewBox=\"0 0 24 24\"\n",
              "       width=\"24px\">\n",
              "    <path d=\"M0 0h24v24H0V0z\" fill=\"none\"/>\n",
              "    <path d=\"M18.56 5.44l.94 2.06.94-2.06 2.06-.94-2.06-.94-.94-2.06-.94 2.06-2.06.94zm-11 1L8.5 8.5l.94-2.06 2.06-.94-2.06-.94L8.5 2.5l-.94 2.06-2.06.94zm10 10l.94 2.06.94-2.06 2.06-.94-2.06-.94-.94-2.06-.94 2.06-2.06.94z\"/><path d=\"M17.41 7.96l-1.37-1.37c-.4-.4-.92-.59-1.43-.59-.52 0-1.04.2-1.43.59L10.3 9.45l-7.72 7.72c-.78.78-.78 2.05 0 2.83L4 21.41c.39.39.9.59 1.41.59.51 0 1.02-.2 1.41-.59l7.78-7.78 2.81-2.81c.8-.78.8-2.07 0-2.86zM5.41 20L4 18.59l7.72-7.72 1.47 1.35L5.41 20z\"/>\n",
              "  </svg>\n",
              "      </button>\n",
              "      \n",
              "  <style>\n",
              "    .colab-df-container {\n",
              "      display:flex;\n",
              "      flex-wrap:wrap;\n",
              "      gap: 12px;\n",
              "    }\n",
              "\n",
              "    .colab-df-convert {\n",
              "      background-color: #E8F0FE;\n",
              "      border: none;\n",
              "      border-radius: 50%;\n",
              "      cursor: pointer;\n",
              "      display: none;\n",
              "      fill: #1967D2;\n",
              "      height: 32px;\n",
              "      padding: 0 0 0 0;\n",
              "      width: 32px;\n",
              "    }\n",
              "\n",
              "    .colab-df-convert:hover {\n",
              "      background-color: #E2EBFA;\n",
              "      box-shadow: 0px 1px 2px rgba(60, 64, 67, 0.3), 0px 1px 3px 1px rgba(60, 64, 67, 0.15);\n",
              "      fill: #174EA6;\n",
              "    }\n",
              "\n",
              "    [theme=dark] .colab-df-convert {\n",
              "      background-color: #3B4455;\n",
              "      fill: #D2E3FC;\n",
              "    }\n",
              "\n",
              "    [theme=dark] .colab-df-convert:hover {\n",
              "      background-color: #434B5C;\n",
              "      box-shadow: 0px 1px 3px 1px rgba(0, 0, 0, 0.15);\n",
              "      filter: drop-shadow(0px 1px 2px rgba(0, 0, 0, 0.3));\n",
              "      fill: #FFFFFF;\n",
              "    }\n",
              "  </style>\n",
              "\n",
              "      <script>\n",
              "        const buttonEl =\n",
              "          document.querySelector('#df-7bb52dad-2438-415c-aab4-83789558ef13 button.colab-df-convert');\n",
              "        buttonEl.style.display =\n",
              "          google.colab.kernel.accessAllowed ? 'block' : 'none';\n",
              "\n",
              "        async function convertToInteractive(key) {\n",
              "          const element = document.querySelector('#df-7bb52dad-2438-415c-aab4-83789558ef13');\n",
              "          const dataTable =\n",
              "            await google.colab.kernel.invokeFunction('convertToInteractive',\n",
              "                                                     [key], {});\n",
              "          if (!dataTable) return;\n",
              "\n",
              "          const docLinkHtml = 'Like what you see? Visit the ' +\n",
              "            '<a target=\"_blank\" href=https://colab.research.google.com/notebooks/data_table.ipynb>data table notebook</a>'\n",
              "            + ' to learn more about interactive tables.';\n",
              "          element.innerHTML = '';\n",
              "          dataTable['output_type'] = 'display_data';\n",
              "          await google.colab.output.renderOutput(dataTable, element);\n",
              "          const docLink = document.createElement('div');\n",
              "          docLink.innerHTML = docLinkHtml;\n",
              "          element.appendChild(docLink);\n",
              "        }\n",
              "      </script>\n",
              "    </div>\n",
              "  </div>\n",
              "  "
            ]
          },
          "metadata": {},
          "execution_count": 9
        }
      ],
      "source": [
        "bec_abas = pd.read_excel(path+'/02-DS_BEC_abas.xlsx',\n",
        "                         sheet_name=1)\n",
        "bec_abas.head(5)"
      ]
    },
    {
      "cell_type": "markdown",
      "metadata": {
        "id": "HQg8_06OPlMU"
      },
      "source": [
        "**5** Listar os 5 maiores valores negociados em uma licitação a partir do arquivo carregado *bec_excel_abas.xlsx*"
      ]
    },
    {
      "cell_type": "code",
      "execution_count": null,
      "metadata": {
        "id": "GCaxCNhvb6c6"
      },
      "outputs": [],
      "source": [
        "# Solução"
      ]
    },
    {
      "cell_type": "code",
      "execution_count": null,
      "metadata": {
        "colab": {
          "base_uri": "https://localhost:8080/",
          "height": 444
        },
        "id": "3x9qDmadfz83",
        "outputId": "2a6176f0-0a29-4464-c14b-a691687a9753"
      },
      "outputs": [
        {
          "output_type": "execute_result",
          "data": {
            "text/plain": [
              "                   Cód Desc Órgão Mês Ano Encerramento  \\\n",
              "0  01000 - ASSEMBLEIA LEGISLATIVA           2019-09-01   \n",
              "1  01000 - ASSEMBLEIA LEGISLATIVA           2019-09-01   \n",
              "2  01000 - ASSEMBLEIA LEGISLATIVA           2019-09-01   \n",
              "3  01000 - ASSEMBLEIA LEGISLATIVA           2019-09-01   \n",
              "\n",
              "                                 Cod Desc Fornecedor  \\\n",
              "0   28363983000140 - OFICIAL WEB COMERCIAL LTDA - ME   \n",
              "1        12517378000146 - A. C. DOS SANTOS MÓVEIS ME   \n",
              "2  17365274000187 - CBF COMÉRCIO DE CONFECÇÕES BA...   \n",
              "3  23183671000130 - GALEQ COMÉRCIO INTERNACIONAL ...   \n",
              "\n",
              "  Descrição Procedimento Compra  \\\n",
              "0         DISPENSA DE LICITAÇÃO   \n",
              "1         DISPENSA DE LICITAÇÃO   \n",
              "2         DISPENSA DE LICITAÇÃO   \n",
              "3         DISPENSA DE LICITAÇÃO   \n",
              "\n",
              "                                       Cod Desc Item  Quantidade de Item  \\\n",
              "0  4843274 - FILME PROTETIVO, DE POLIESTER, 1,00X...                   1   \n",
              "1  4863801 - ESTANTE DESMONTAVEL DE ACO,ABERTA,06...                   1   \n",
              "2  4628020 - BANDEIRA,MUNICIPIO DE SAO PAULO, MED...                   1   \n",
              "3                         5133017 - NO-BREAK, 600 VA                   1   \n",
              "\n",
              "   Valor Unitário Negociado  Valor Total Negociado em R$  Valor Negociado Mi  \n",
              "0                     168.3                        673.2            0.000673  \n",
              "1                     235.0                       1880.0            0.001880  \n",
              "2                     170.0                        340.0            0.000340  \n",
              "3                      27.6                       1104.0            0.001104  "
            ],
            "text/html": [
              "\n",
              "  <div id=\"df-19755252-3677-45b1-8a22-fe4ab71552a8\">\n",
              "    <div class=\"colab-df-container\">\n",
              "      <div>\n",
              "<style scoped>\n",
              "    .dataframe tbody tr th:only-of-type {\n",
              "        vertical-align: middle;\n",
              "    }\n",
              "\n",
              "    .dataframe tbody tr th {\n",
              "        vertical-align: top;\n",
              "    }\n",
              "\n",
              "    .dataframe thead th {\n",
              "        text-align: right;\n",
              "    }\n",
              "</style>\n",
              "<table border=\"1\" class=\"dataframe\">\n",
              "  <thead>\n",
              "    <tr style=\"text-align: right;\">\n",
              "      <th></th>\n",
              "      <th>Cód Desc Órgão</th>\n",
              "      <th>Mês Ano Encerramento</th>\n",
              "      <th>Cod Desc Fornecedor</th>\n",
              "      <th>Descrição Procedimento Compra</th>\n",
              "      <th>Cod Desc Item</th>\n",
              "      <th>Quantidade de Item</th>\n",
              "      <th>Valor Unitário Negociado</th>\n",
              "      <th>Valor Total Negociado em R$</th>\n",
              "      <th>Valor Negociado Mi</th>\n",
              "    </tr>\n",
              "  </thead>\n",
              "  <tbody>\n",
              "    <tr>\n",
              "      <th>0</th>\n",
              "      <td>01000 - ASSEMBLEIA LEGISLATIVA</td>\n",
              "      <td>2019-09-01</td>\n",
              "      <td>28363983000140 - OFICIAL WEB COMERCIAL LTDA - ME</td>\n",
              "      <td>DISPENSA DE LICITAÇÃO</td>\n",
              "      <td>4843274 - FILME PROTETIVO, DE POLIESTER, 1,00X...</td>\n",
              "      <td>1</td>\n",
              "      <td>168.3</td>\n",
              "      <td>673.2</td>\n",
              "      <td>0.000673</td>\n",
              "    </tr>\n",
              "    <tr>\n",
              "      <th>1</th>\n",
              "      <td>01000 - ASSEMBLEIA LEGISLATIVA</td>\n",
              "      <td>2019-09-01</td>\n",
              "      <td>12517378000146 - A. C. DOS SANTOS MÓVEIS ME</td>\n",
              "      <td>DISPENSA DE LICITAÇÃO</td>\n",
              "      <td>4863801 - ESTANTE DESMONTAVEL DE ACO,ABERTA,06...</td>\n",
              "      <td>1</td>\n",
              "      <td>235.0</td>\n",
              "      <td>1880.0</td>\n",
              "      <td>0.001880</td>\n",
              "    </tr>\n",
              "    <tr>\n",
              "      <th>2</th>\n",
              "      <td>01000 - ASSEMBLEIA LEGISLATIVA</td>\n",
              "      <td>2019-09-01</td>\n",
              "      <td>17365274000187 - CBF COMÉRCIO DE CONFECÇÕES BA...</td>\n",
              "      <td>DISPENSA DE LICITAÇÃO</td>\n",
              "      <td>4628020 - BANDEIRA,MUNICIPIO DE SAO PAULO, MED...</td>\n",
              "      <td>1</td>\n",
              "      <td>170.0</td>\n",
              "      <td>340.0</td>\n",
              "      <td>0.000340</td>\n",
              "    </tr>\n",
              "    <tr>\n",
              "      <th>3</th>\n",
              "      <td>01000 - ASSEMBLEIA LEGISLATIVA</td>\n",
              "      <td>2019-09-01</td>\n",
              "      <td>23183671000130 - GALEQ COMÉRCIO INTERNACIONAL ...</td>\n",
              "      <td>DISPENSA DE LICITAÇÃO</td>\n",
              "      <td>5133017 - NO-BREAK, 600 VA</td>\n",
              "      <td>1</td>\n",
              "      <td>27.6</td>\n",
              "      <td>1104.0</td>\n",
              "      <td>0.001104</td>\n",
              "    </tr>\n",
              "  </tbody>\n",
              "</table>\n",
              "</div>\n",
              "      <button class=\"colab-df-convert\" onclick=\"convertToInteractive('df-19755252-3677-45b1-8a22-fe4ab71552a8')\"\n",
              "              title=\"Convert this dataframe to an interactive table.\"\n",
              "              style=\"display:none;\">\n",
              "        \n",
              "  <svg xmlns=\"http://www.w3.org/2000/svg\" height=\"24px\"viewBox=\"0 0 24 24\"\n",
              "       width=\"24px\">\n",
              "    <path d=\"M0 0h24v24H0V0z\" fill=\"none\"/>\n",
              "    <path d=\"M18.56 5.44l.94 2.06.94-2.06 2.06-.94-2.06-.94-.94-2.06-.94 2.06-2.06.94zm-11 1L8.5 8.5l.94-2.06 2.06-.94-2.06-.94L8.5 2.5l-.94 2.06-2.06.94zm10 10l.94 2.06.94-2.06 2.06-.94-2.06-.94-.94-2.06-.94 2.06-2.06.94z\"/><path d=\"M17.41 7.96l-1.37-1.37c-.4-.4-.92-.59-1.43-.59-.52 0-1.04.2-1.43.59L10.3 9.45l-7.72 7.72c-.78.78-.78 2.05 0 2.83L4 21.41c.39.39.9.59 1.41.59.51 0 1.02-.2 1.41-.59l7.78-7.78 2.81-2.81c.8-.78.8-2.07 0-2.86zM5.41 20L4 18.59l7.72-7.72 1.47 1.35L5.41 20z\"/>\n",
              "  </svg>\n",
              "      </button>\n",
              "      \n",
              "  <style>\n",
              "    .colab-df-container {\n",
              "      display:flex;\n",
              "      flex-wrap:wrap;\n",
              "      gap: 12px;\n",
              "    }\n",
              "\n",
              "    .colab-df-convert {\n",
              "      background-color: #E8F0FE;\n",
              "      border: none;\n",
              "      border-radius: 50%;\n",
              "      cursor: pointer;\n",
              "      display: none;\n",
              "      fill: #1967D2;\n",
              "      height: 32px;\n",
              "      padding: 0 0 0 0;\n",
              "      width: 32px;\n",
              "    }\n",
              "\n",
              "    .colab-df-convert:hover {\n",
              "      background-color: #E2EBFA;\n",
              "      box-shadow: 0px 1px 2px rgba(60, 64, 67, 0.3), 0px 1px 3px 1px rgba(60, 64, 67, 0.15);\n",
              "      fill: #174EA6;\n",
              "    }\n",
              "\n",
              "    [theme=dark] .colab-df-convert {\n",
              "      background-color: #3B4455;\n",
              "      fill: #D2E3FC;\n",
              "    }\n",
              "\n",
              "    [theme=dark] .colab-df-convert:hover {\n",
              "      background-color: #434B5C;\n",
              "      box-shadow: 0px 1px 3px 1px rgba(0, 0, 0, 0.15);\n",
              "      filter: drop-shadow(0px 1px 2px rgba(0, 0, 0, 0.3));\n",
              "      fill: #FFFFFF;\n",
              "    }\n",
              "  </style>\n",
              "\n",
              "      <script>\n",
              "        const buttonEl =\n",
              "          document.querySelector('#df-19755252-3677-45b1-8a22-fe4ab71552a8 button.colab-df-convert');\n",
              "        buttonEl.style.display =\n",
              "          google.colab.kernel.accessAllowed ? 'block' : 'none';\n",
              "\n",
              "        async function convertToInteractive(key) {\n",
              "          const element = document.querySelector('#df-19755252-3677-45b1-8a22-fe4ab71552a8');\n",
              "          const dataTable =\n",
              "            await google.colab.kernel.invokeFunction('convertToInteractive',\n",
              "                                                     [key], {});\n",
              "          if (!dataTable) return;\n",
              "\n",
              "          const docLinkHtml = 'Like what you see? Visit the ' +\n",
              "            '<a target=\"_blank\" href=https://colab.research.google.com/notebooks/data_table.ipynb>data table notebook</a>'\n",
              "            + ' to learn more about interactive tables.';\n",
              "          element.innerHTML = '';\n",
              "          dataTable['output_type'] = 'display_data';\n",
              "          await google.colab.output.renderOutput(dataTable, element);\n",
              "          const docLink = document.createElement('div');\n",
              "          docLink.innerHTML = docLinkHtml;\n",
              "          element.appendChild(docLink);\n",
              "        }\n",
              "      </script>\n",
              "    </div>\n",
              "  </div>\n",
              "  "
            ]
          },
          "metadata": {},
          "execution_count": 11
        }
      ],
      "source": [
        "# dados públicos da BEC para análise \n",
        "df_bec = pd.read_excel(path+'/03-DS_BEC.xlsx')\n",
        "df_bec = df_bec[['Cód Desc Órgão', 'Mês Ano Encerramento', 'Cod Desc Fornecedor', 'Descrição Procedimento Compra', 'Cod Desc Item', 'Quantidade de Item','Valor Unitário Negociado', 'Valor Total Negociado em R$']]\n",
        "# criando uma nova coluna\n",
        "df_bec['Valor Negociado Mi'] = df_bec['Valor Total Negociado em R$'] / 1000000\n",
        "df_bec.head(4)"
      ]
    },
    {
      "cell_type": "markdown",
      "metadata": {
        "id": "-A4cuCqJRKnL"
      },
      "source": [
        "**6** Contar quantos orgãos distintos efetuaram licitações pela BEC"
      ]
    },
    {
      "cell_type": "code",
      "execution_count": null,
      "metadata": {
        "id": "nEsRuPMV7t_x"
      },
      "outputs": [],
      "source": [
        "# Solução"
      ]
    },
    {
      "cell_type": "markdown",
      "metadata": {
        "id": "TWSUCUCmROk1"
      },
      "source": [
        "**7** Calcular o total valor total negociado em licitações pelo órgão '20000 - SECRETARIA DA FAZENDA E PLANEJAMENTO'"
      ]
    },
    {
      "cell_type": "code",
      "execution_count": null,
      "metadata": {
        "id": "GjuBOAkbj7oV"
      },
      "outputs": [],
      "source": [
        "# Solução"
      ]
    },
    {
      "cell_type": "markdown",
      "metadata": {
        "id": "JN5l3d7rR52V"
      },
      "source": [
        "**8** Calcular a quantidade de fornecedores de cada órgão distribuídos nos tipos distintos de procedimentos de compra. Listar apenas 6 registros"
      ]
    },
    {
      "cell_type": "code",
      "execution_count": null,
      "metadata": {
        "id": "wpd_x1j9_XJv"
      },
      "outputs": [],
      "source": [
        "# Solução"
      ]
    },
    {
      "cell_type": "markdown",
      "metadata": {
        "id": "kd5SvLeIR9BV"
      },
      "source": [
        "**9** Calcular o valor mínimo, máximo, média e desvio padrão dos valores unitarios agrupados por fornecedor e código de descrição do item."
      ]
    },
    {
      "cell_type": "code",
      "execution_count": null,
      "metadata": {
        "id": "jYZfyGahFILe"
      },
      "outputs": [],
      "source": [
        "# Solução\n",
        " "
      ]
    },
    {
      "cell_type": "markdown",
      "metadata": {
        "id": "eU3R3dlBSCW4"
      },
      "source": [
        "**10** Calcular o valor total negociado por tipo de licitação em cada encerramento de mês. O encerramento do mês deve ser apresentado como coluna e o tipo de licitação como linha. Utilizar o total negociado em milhões (Valor Negociado Mi).\n",
        "\n"
      ]
    },
    {
      "cell_type": "code",
      "execution_count": null,
      "metadata": {
        "id": "rCZJDovFBlxQ"
      },
      "outputs": [],
      "source": [
        "# Solução\n",
        " "
      ]
    },
    {
      "cell_type": "markdown",
      "metadata": {
        "id": "9ZRR1AM2SFzF"
      },
      "source": [
        "**11** Calcular o valor total negociado e quantidade de itens adquiridas em cada encerramento de mês apresentando o mês como coluna."
      ]
    },
    {
      "cell_type": "code",
      "execution_count": null,
      "metadata": {
        "id": "B31TSbGSJUXa"
      },
      "outputs": [],
      "source": [
        "# Solução\n",
        " "
      ]
    },
    {
      "cell_type": "code",
      "source": [
        "# atualizar o pacote data reader\n",
        "!pip install --upgrade pandas-datareader"
      ],
      "metadata": {
        "colab": {
          "base_uri": "https://localhost:8080/"
        },
        "id": "YIYVjfmmDdwH",
        "outputId": "5acda018-17fa-47bf-b316-6072690e815a"
      },
      "execution_count": null,
      "outputs": [
        {
          "output_type": "stream",
          "name": "stdout",
          "text": [
            "Looking in indexes: https://pypi.org/simple, https://us-python.pkg.dev/colab-wheels/public/simple/\n",
            "Requirement already satisfied: pandas-datareader in /usr/local/lib/python3.7/dist-packages (0.10.0)\n",
            "Requirement already satisfied: requests>=2.19.0 in /usr/local/lib/python3.7/dist-packages (from pandas-datareader) (2.23.0)\n",
            "Requirement already satisfied: lxml in /usr/local/lib/python3.7/dist-packages (from pandas-datareader) (4.9.1)\n",
            "Requirement already satisfied: pandas>=0.23 in /usr/local/lib/python3.7/dist-packages (from pandas-datareader) (1.3.5)\n",
            "Requirement already satisfied: python-dateutil>=2.7.3 in /usr/local/lib/python3.7/dist-packages (from pandas>=0.23->pandas-datareader) (2.8.2)\n",
            "Requirement already satisfied: pytz>=2017.3 in /usr/local/lib/python3.7/dist-packages (from pandas>=0.23->pandas-datareader) (2022.2.1)\n",
            "Requirement already satisfied: numpy>=1.17.3 in /usr/local/lib/python3.7/dist-packages (from pandas>=0.23->pandas-datareader) (1.21.6)\n",
            "Requirement already satisfied: six>=1.5 in /usr/local/lib/python3.7/dist-packages (from python-dateutil>=2.7.3->pandas>=0.23->pandas-datareader) (1.15.0)\n",
            "Requirement already satisfied: idna<3,>=2.5 in /usr/local/lib/python3.7/dist-packages (from requests>=2.19.0->pandas-datareader) (2.10)\n",
            "Requirement already satisfied: certifi>=2017.4.17 in /usr/local/lib/python3.7/dist-packages (from requests>=2.19.0->pandas-datareader) (2022.6.15)\n",
            "Requirement already satisfied: urllib3!=1.25.0,!=1.25.1,<1.26,>=1.21.1 in /usr/local/lib/python3.7/dist-packages (from requests>=2.19.0->pandas-datareader) (1.24.3)\n",
            "Requirement already satisfied: chardet<4,>=3.0.2 in /usr/local/lib/python3.7/dist-packages (from requests>=2.19.0->pandas-datareader) (3.0.4)\n"
          ]
        }
      ]
    },
    {
      "cell_type": "code",
      "execution_count": null,
      "metadata": {
        "colab": {
          "base_uri": "https://localhost:8080/",
          "height": 237
        },
        "id": "58Co7Q8ZSrNA",
        "outputId": "cd95b2c3-51ac-4714-803b-a62b0a162e3b"
      },
      "outputs": [
        {
          "output_type": "execute_result",
          "data": {
            "text/plain": [
              "                 High        Low       Open      Close      Volume  Adj Close\n",
              "Date                                                                         \n",
              "2019-12-20  54.990002  54.150002  54.770000  54.790001  42124200.0  39.872864\n",
              "2019-12-23  54.980000  54.400002  54.900002  54.580002  10225700.0  39.720043\n",
              "2019-12-26  55.000000  54.509998  54.810001  54.790001  20410000.0  39.872864\n",
              "2019-12-27  54.000000  53.419998  53.990002  53.599998  13920400.0  40.040470\n",
              "2019-12-30  53.860001  53.200001  53.650002  53.299999  11928100.0  39.816364"
            ],
            "text/html": [
              "\n",
              "  <div id=\"df-9e391ec8-6960-427d-b1b0-062a0b63b8ff\">\n",
              "    <div class=\"colab-df-container\">\n",
              "      <div>\n",
              "<style scoped>\n",
              "    .dataframe tbody tr th:only-of-type {\n",
              "        vertical-align: middle;\n",
              "    }\n",
              "\n",
              "    .dataframe tbody tr th {\n",
              "        vertical-align: top;\n",
              "    }\n",
              "\n",
              "    .dataframe thead th {\n",
              "        text-align: right;\n",
              "    }\n",
              "</style>\n",
              "<table border=\"1\" class=\"dataframe\">\n",
              "  <thead>\n",
              "    <tr style=\"text-align: right;\">\n",
              "      <th></th>\n",
              "      <th>High</th>\n",
              "      <th>Low</th>\n",
              "      <th>Open</th>\n",
              "      <th>Close</th>\n",
              "      <th>Volume</th>\n",
              "      <th>Adj Close</th>\n",
              "    </tr>\n",
              "    <tr>\n",
              "      <th>Date</th>\n",
              "      <th></th>\n",
              "      <th></th>\n",
              "      <th></th>\n",
              "      <th></th>\n",
              "      <th></th>\n",
              "      <th></th>\n",
              "    </tr>\n",
              "  </thead>\n",
              "  <tbody>\n",
              "    <tr>\n",
              "      <th>2019-12-20</th>\n",
              "      <td>54.990002</td>\n",
              "      <td>54.150002</td>\n",
              "      <td>54.770000</td>\n",
              "      <td>54.790001</td>\n",
              "      <td>42124200.0</td>\n",
              "      <td>39.872864</td>\n",
              "    </tr>\n",
              "    <tr>\n",
              "      <th>2019-12-23</th>\n",
              "      <td>54.980000</td>\n",
              "      <td>54.400002</td>\n",
              "      <td>54.900002</td>\n",
              "      <td>54.580002</td>\n",
              "      <td>10225700.0</td>\n",
              "      <td>39.720043</td>\n",
              "    </tr>\n",
              "    <tr>\n",
              "      <th>2019-12-26</th>\n",
              "      <td>55.000000</td>\n",
              "      <td>54.509998</td>\n",
              "      <td>54.810001</td>\n",
              "      <td>54.790001</td>\n",
              "      <td>20410000.0</td>\n",
              "      <td>39.872864</td>\n",
              "    </tr>\n",
              "    <tr>\n",
              "      <th>2019-12-27</th>\n",
              "      <td>54.000000</td>\n",
              "      <td>53.419998</td>\n",
              "      <td>53.990002</td>\n",
              "      <td>53.599998</td>\n",
              "      <td>13920400.0</td>\n",
              "      <td>40.040470</td>\n",
              "    </tr>\n",
              "    <tr>\n",
              "      <th>2019-12-30</th>\n",
              "      <td>53.860001</td>\n",
              "      <td>53.200001</td>\n",
              "      <td>53.650002</td>\n",
              "      <td>53.299999</td>\n",
              "      <td>11928100.0</td>\n",
              "      <td>39.816364</td>\n",
              "    </tr>\n",
              "  </tbody>\n",
              "</table>\n",
              "</div>\n",
              "      <button class=\"colab-df-convert\" onclick=\"convertToInteractive('df-9e391ec8-6960-427d-b1b0-062a0b63b8ff')\"\n",
              "              title=\"Convert this dataframe to an interactive table.\"\n",
              "              style=\"display:none;\">\n",
              "        \n",
              "  <svg xmlns=\"http://www.w3.org/2000/svg\" height=\"24px\"viewBox=\"0 0 24 24\"\n",
              "       width=\"24px\">\n",
              "    <path d=\"M0 0h24v24H0V0z\" fill=\"none\"/>\n",
              "    <path d=\"M18.56 5.44l.94 2.06.94-2.06 2.06-.94-2.06-.94-.94-2.06-.94 2.06-2.06.94zm-11 1L8.5 8.5l.94-2.06 2.06-.94-2.06-.94L8.5 2.5l-.94 2.06-2.06.94zm10 10l.94 2.06.94-2.06 2.06-.94-2.06-.94-.94-2.06-.94 2.06-2.06.94z\"/><path d=\"M17.41 7.96l-1.37-1.37c-.4-.4-.92-.59-1.43-.59-.52 0-1.04.2-1.43.59L10.3 9.45l-7.72 7.72c-.78.78-.78 2.05 0 2.83L4 21.41c.39.39.9.59 1.41.59.51 0 1.02-.2 1.41-.59l7.78-7.78 2.81-2.81c.8-.78.8-2.07 0-2.86zM5.41 20L4 18.59l7.72-7.72 1.47 1.35L5.41 20z\"/>\n",
              "  </svg>\n",
              "      </button>\n",
              "      \n",
              "  <style>\n",
              "    .colab-df-container {\n",
              "      display:flex;\n",
              "      flex-wrap:wrap;\n",
              "      gap: 12px;\n",
              "    }\n",
              "\n",
              "    .colab-df-convert {\n",
              "      background-color: #E8F0FE;\n",
              "      border: none;\n",
              "      border-radius: 50%;\n",
              "      cursor: pointer;\n",
              "      display: none;\n",
              "      fill: #1967D2;\n",
              "      height: 32px;\n",
              "      padding: 0 0 0 0;\n",
              "      width: 32px;\n",
              "    }\n",
              "\n",
              "    .colab-df-convert:hover {\n",
              "      background-color: #E2EBFA;\n",
              "      box-shadow: 0px 1px 2px rgba(60, 64, 67, 0.3), 0px 1px 3px 1px rgba(60, 64, 67, 0.15);\n",
              "      fill: #174EA6;\n",
              "    }\n",
              "\n",
              "    [theme=dark] .colab-df-convert {\n",
              "      background-color: #3B4455;\n",
              "      fill: #D2E3FC;\n",
              "    }\n",
              "\n",
              "    [theme=dark] .colab-df-convert:hover {\n",
              "      background-color: #434B5C;\n",
              "      box-shadow: 0px 1px 3px 1px rgba(0, 0, 0, 0.15);\n",
              "      filter: drop-shadow(0px 1px 2px rgba(0, 0, 0, 0.3));\n",
              "      fill: #FFFFFF;\n",
              "    }\n",
              "  </style>\n",
              "\n",
              "      <script>\n",
              "        const buttonEl =\n",
              "          document.querySelector('#df-9e391ec8-6960-427d-b1b0-062a0b63b8ff button.colab-df-convert');\n",
              "        buttonEl.style.display =\n",
              "          google.colab.kernel.accessAllowed ? 'block' : 'none';\n",
              "\n",
              "        async function convertToInteractive(key) {\n",
              "          const element = document.querySelector('#df-9e391ec8-6960-427d-b1b0-062a0b63b8ff');\n",
              "          const dataTable =\n",
              "            await google.colab.kernel.invokeFunction('convertToInteractive',\n",
              "                                                     [key], {});\n",
              "          if (!dataTable) return;\n",
              "\n",
              "          const docLinkHtml = 'Like what you see? Visit the ' +\n",
              "            '<a target=\"_blank\" href=https://colab.research.google.com/notebooks/data_table.ipynb>data table notebook</a>'\n",
              "            + ' to learn more about interactive tables.';\n",
              "          element.innerHTML = '';\n",
              "          dataTable['output_type'] = 'display_data';\n",
              "          await google.colab.output.renderOutput(dataTable, element);\n",
              "          const docLink = document.createElement('div');\n",
              "          docLink.innerHTML = docLinkHtml;\n",
              "          element.appendChild(docLink);\n",
              "        }\n",
              "      </script>\n",
              "    </div>\n",
              "  </div>\n",
              "  "
            ]
          },
          "metadata": {},
          "execution_count": 19
        }
      ],
      "source": [
        "# recuperação da cotação da VALE3\n",
        "from pandas_datareader import data\n",
        "df_vale3 = data.DataReader('VALE3.SA', start='2010', end='2020', data_source='yahoo')\n",
        "df_vale3.tail() "
      ]
    },
    {
      "cell_type": "markdown",
      "metadata": {
        "id": "jaPnqX_HSTF2"
      },
      "source": [
        "**12** Criar uma coluna com o valor do retorno diário da VALE3 baseado no valor de fechamento (Close) \n",
        "\n",
        "*Retorno diário(t) = Close(t) - Close(t-1)*\n",
        "\n",
        "\n",
        "\n",
        "\n"
      ]
    },
    {
      "cell_type": "code",
      "execution_count": null,
      "metadata": {
        "id": "SLWLQ8PRPbh_"
      },
      "outputs": [],
      "source": [
        "# Solução"
      ]
    },
    {
      "cell_type": "code",
      "execution_count": null,
      "metadata": {
        "id": "8CLy9MD67Tlk"
      },
      "outputs": [],
      "source": []
    },
    {
      "cell_type": "code",
      "execution_count": null,
      "metadata": {
        "id": "uTMAXQxi7Tlk"
      },
      "outputs": [],
      "source": []
    }
  ],
  "metadata": {
    "colab": {
      "collapsed_sections": [],
      "provenance": []
    },
    "kernelspec": {
      "display_name": "Python 3",
      "language": "python",
      "name": "python3"
    },
    "language_info": {
      "codemirror_mode": {
        "name": "ipython",
        "version": 3
      },
      "file_extension": ".py",
      "mimetype": "text/x-python",
      "name": "python",
      "nbconvert_exporter": "python",
      "pygments_lexer": "ipython3",
      "version": "3.6.4"
    }
  },
  "nbformat": 4,
  "nbformat_minor": 0
}