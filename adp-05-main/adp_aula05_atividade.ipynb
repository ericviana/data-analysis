{
  "cells": [
    {
      "cell_type": "markdown",
      "metadata": {
        "id": "jx7VpamzjRpB"
      },
      "source": [
        "# Atividade05 - Visualização de Dados em Python\n",
        "\n",
        "**Conteúdo**\n",
        "- Gráficos - Tipos de Visualizações\n",
        "- Pandas - Visualização de dados\n",
        "- Seaborn - Dados Estatísticos\n",
        "- Bokeh - Mapas"
      ]
    },
    {
      "cell_type": "code",
      "source": [
        "from google.colab import drive\n",
        "drive.mount('/content/drive')"
      ],
      "metadata": {
        "colab": {
          "base_uri": "https://localhost:8080/"
        },
        "id": "mEJr08J7DNOp",
        "outputId": "e01f1702-f5cb-41f2-e7e1-bdabeb07b792"
      },
      "execution_count": null,
      "outputs": [
        {
          "output_type": "stream",
          "name": "stdout",
          "text": [
            "Mounted at /content/drive\n"
          ]
        }
      ]
    },
    {
      "cell_type": "code",
      "execution_count": null,
      "metadata": {
        "id": "jByhVX_bDCZ-"
      },
      "outputs": [],
      "source": [
        "import warnings\n",
        "warnings.filterwarnings('ignore')\n",
        "warnings.simplefilter('ignore')"
      ]
    },
    {
      "cell_type": "code",
      "execution_count": null,
      "metadata": {
        "id": "11ubBv3NDCZ_"
      },
      "outputs": [],
      "source": [
        "#configuração para mostrar gráficos sem chamar a função show()\n",
        "%matplotlib inline\n",
        "#configuração do notebook para acesso local aos datasets\n",
        "path = '/content/drive/MyDrive/2022_2_extensao_adp/datasets/'"
      ]
    },
    {
      "cell_type": "code",
      "execution_count": null,
      "metadata": {
        "id": "9zraffTenGuX"
      },
      "outputs": [],
      "source": [
        "# Importacao das bibliotecas e configuracoes gerais\n",
        "import pandas as pd\n",
        "import seaborn as sns\n",
        "import matplotlib.pyplot as plt\n",
        "\n",
        "# Set seaborn aesthetic parameters to defaults\n",
        "sns.set()\n",
        "sns.set_context(\"notebook\")\n",
        "sns.set(rc={'figure.figsize':(10, 7)})"
      ]
    },
    {
      "cell_type": "markdown",
      "metadata": {
        "id": "S3Zz2SQqJJ_P"
      },
      "source": [
        "### Dataset de indicadores\n"
      ]
    },
    {
      "cell_type": "code",
      "execution_count": null,
      "metadata": {
        "colab": {
          "base_uri": "https://localhost:8080/",
          "height": 426
        },
        "id": "zqNugHT6PuEA",
        "outputId": "7bf7ed79-e600-42e5-d3ff-9ac19939f5b5"
      },
      "outputs": [
        {
          "output_type": "execute_result",
          "data": {
            "text/plain": [
              "     IPCA   CDI  IGPM   IBOV\n",
              "ago  0.87  0.43  0.66  -2.48\n",
              "set  1.16  0.44 -0.64  -6.57\n",
              "out  1.25  0.49  0.64  -6.74\n",
              "nov  0.95  0.59  0.02  -1.50\n",
              "dez  0.73  0.77  0.87   2.85\n",
              "jan  0.54  0.73  1.82   6.98\n",
              "fev  1.01  0.76  1.83   0.89\n",
              "mar  1.62  0.93  1.74   6.06\n",
              "abr  1.06  0.83  1.41 -10.10\n",
              "mai  0.47  1.03  0.52   3.22\n",
              "jun  0.67  1.02  0.59 -11.50\n",
              "jul -0.68  1.03  0.21   4.69"
            ],
            "text/html": [
              "\n",
              "  <div id=\"df-4dc32ea8-1bb2-40ee-8fca-4c531ad4c06a\">\n",
              "    <div class=\"colab-df-container\">\n",
              "      <div>\n",
              "<style scoped>\n",
              "    .dataframe tbody tr th:only-of-type {\n",
              "        vertical-align: middle;\n",
              "    }\n",
              "\n",
              "    .dataframe tbody tr th {\n",
              "        vertical-align: top;\n",
              "    }\n",
              "\n",
              "    .dataframe thead th {\n",
              "        text-align: right;\n",
              "    }\n",
              "</style>\n",
              "<table border=\"1\" class=\"dataframe\">\n",
              "  <thead>\n",
              "    <tr style=\"text-align: right;\">\n",
              "      <th></th>\n",
              "      <th>IPCA</th>\n",
              "      <th>CDI</th>\n",
              "      <th>IGPM</th>\n",
              "      <th>IBOV</th>\n",
              "    </tr>\n",
              "  </thead>\n",
              "  <tbody>\n",
              "    <tr>\n",
              "      <th>ago</th>\n",
              "      <td>0.87</td>\n",
              "      <td>0.43</td>\n",
              "      <td>0.66</td>\n",
              "      <td>-2.48</td>\n",
              "    </tr>\n",
              "    <tr>\n",
              "      <th>set</th>\n",
              "      <td>1.16</td>\n",
              "      <td>0.44</td>\n",
              "      <td>-0.64</td>\n",
              "      <td>-6.57</td>\n",
              "    </tr>\n",
              "    <tr>\n",
              "      <th>out</th>\n",
              "      <td>1.25</td>\n",
              "      <td>0.49</td>\n",
              "      <td>0.64</td>\n",
              "      <td>-6.74</td>\n",
              "    </tr>\n",
              "    <tr>\n",
              "      <th>nov</th>\n",
              "      <td>0.95</td>\n",
              "      <td>0.59</td>\n",
              "      <td>0.02</td>\n",
              "      <td>-1.50</td>\n",
              "    </tr>\n",
              "    <tr>\n",
              "      <th>dez</th>\n",
              "      <td>0.73</td>\n",
              "      <td>0.77</td>\n",
              "      <td>0.87</td>\n",
              "      <td>2.85</td>\n",
              "    </tr>\n",
              "    <tr>\n",
              "      <th>jan</th>\n",
              "      <td>0.54</td>\n",
              "      <td>0.73</td>\n",
              "      <td>1.82</td>\n",
              "      <td>6.98</td>\n",
              "    </tr>\n",
              "    <tr>\n",
              "      <th>fev</th>\n",
              "      <td>1.01</td>\n",
              "      <td>0.76</td>\n",
              "      <td>1.83</td>\n",
              "      <td>0.89</td>\n",
              "    </tr>\n",
              "    <tr>\n",
              "      <th>mar</th>\n",
              "      <td>1.62</td>\n",
              "      <td>0.93</td>\n",
              "      <td>1.74</td>\n",
              "      <td>6.06</td>\n",
              "    </tr>\n",
              "    <tr>\n",
              "      <th>abr</th>\n",
              "      <td>1.06</td>\n",
              "      <td>0.83</td>\n",
              "      <td>1.41</td>\n",
              "      <td>-10.10</td>\n",
              "    </tr>\n",
              "    <tr>\n",
              "      <th>mai</th>\n",
              "      <td>0.47</td>\n",
              "      <td>1.03</td>\n",
              "      <td>0.52</td>\n",
              "      <td>3.22</td>\n",
              "    </tr>\n",
              "    <tr>\n",
              "      <th>jun</th>\n",
              "      <td>0.67</td>\n",
              "      <td>1.02</td>\n",
              "      <td>0.59</td>\n",
              "      <td>-11.50</td>\n",
              "    </tr>\n",
              "    <tr>\n",
              "      <th>jul</th>\n",
              "      <td>-0.68</td>\n",
              "      <td>1.03</td>\n",
              "      <td>0.21</td>\n",
              "      <td>4.69</td>\n",
              "    </tr>\n",
              "  </tbody>\n",
              "</table>\n",
              "</div>\n",
              "      <button class=\"colab-df-convert\" onclick=\"convertToInteractive('df-4dc32ea8-1bb2-40ee-8fca-4c531ad4c06a')\"\n",
              "              title=\"Convert this dataframe to an interactive table.\"\n",
              "              style=\"display:none;\">\n",
              "        \n",
              "  <svg xmlns=\"http://www.w3.org/2000/svg\" height=\"24px\"viewBox=\"0 0 24 24\"\n",
              "       width=\"24px\">\n",
              "    <path d=\"M0 0h24v24H0V0z\" fill=\"none\"/>\n",
              "    <path d=\"M18.56 5.44l.94 2.06.94-2.06 2.06-.94-2.06-.94-.94-2.06-.94 2.06-2.06.94zm-11 1L8.5 8.5l.94-2.06 2.06-.94-2.06-.94L8.5 2.5l-.94 2.06-2.06.94zm10 10l.94 2.06.94-2.06 2.06-.94-2.06-.94-.94-2.06-.94 2.06-2.06.94z\"/><path d=\"M17.41 7.96l-1.37-1.37c-.4-.4-.92-.59-1.43-.59-.52 0-1.04.2-1.43.59L10.3 9.45l-7.72 7.72c-.78.78-.78 2.05 0 2.83L4 21.41c.39.39.9.59 1.41.59.51 0 1.02-.2 1.41-.59l7.78-7.78 2.81-2.81c.8-.78.8-2.07 0-2.86zM5.41 20L4 18.59l7.72-7.72 1.47 1.35L5.41 20z\"/>\n",
              "  </svg>\n",
              "      </button>\n",
              "      \n",
              "  <style>\n",
              "    .colab-df-container {\n",
              "      display:flex;\n",
              "      flex-wrap:wrap;\n",
              "      gap: 12px;\n",
              "    }\n",
              "\n",
              "    .colab-df-convert {\n",
              "      background-color: #E8F0FE;\n",
              "      border: none;\n",
              "      border-radius: 50%;\n",
              "      cursor: pointer;\n",
              "      display: none;\n",
              "      fill: #1967D2;\n",
              "      height: 32px;\n",
              "      padding: 0 0 0 0;\n",
              "      width: 32px;\n",
              "    }\n",
              "\n",
              "    .colab-df-convert:hover {\n",
              "      background-color: #E2EBFA;\n",
              "      box-shadow: 0px 1px 2px rgba(60, 64, 67, 0.3), 0px 1px 3px 1px rgba(60, 64, 67, 0.15);\n",
              "      fill: #174EA6;\n",
              "    }\n",
              "\n",
              "    [theme=dark] .colab-df-convert {\n",
              "      background-color: #3B4455;\n",
              "      fill: #D2E3FC;\n",
              "    }\n",
              "\n",
              "    [theme=dark] .colab-df-convert:hover {\n",
              "      background-color: #434B5C;\n",
              "      box-shadow: 0px 1px 3px 1px rgba(0, 0, 0, 0.15);\n",
              "      filter: drop-shadow(0px 1px 2px rgba(0, 0, 0, 0.3));\n",
              "      fill: #FFFFFF;\n",
              "    }\n",
              "  </style>\n",
              "\n",
              "      <script>\n",
              "        const buttonEl =\n",
              "          document.querySelector('#df-4dc32ea8-1bb2-40ee-8fca-4c531ad4c06a button.colab-df-convert');\n",
              "        buttonEl.style.display =\n",
              "          google.colab.kernel.accessAllowed ? 'block' : 'none';\n",
              "\n",
              "        async function convertToInteractive(key) {\n",
              "          const element = document.querySelector('#df-4dc32ea8-1bb2-40ee-8fca-4c531ad4c06a');\n",
              "          const dataTable =\n",
              "            await google.colab.kernel.invokeFunction('convertToInteractive',\n",
              "                                                     [key], {});\n",
              "          if (!dataTable) return;\n",
              "\n",
              "          const docLinkHtml = 'Like what you see? Visit the ' +\n",
              "            '<a target=\"_blank\" href=https://colab.research.google.com/notebooks/data_table.ipynb>data table notebook</a>'\n",
              "            + ' to learn more about interactive tables.';\n",
              "          element.innerHTML = '';\n",
              "          dataTable['output_type'] = 'display_data';\n",
              "          await google.colab.output.renderOutput(dataTable, element);\n",
              "          const docLink = document.createElement('div');\n",
              "          docLink.innerHTML = docLinkHtml;\n",
              "          element.appendChild(docLink);\n",
              "        }\n",
              "      </script>\n",
              "    </div>\n",
              "  </div>\n",
              "  "
            ]
          },
          "metadata": {},
          "execution_count": 10
        }
      ],
      "source": [
        "referencias = ['ago', 'set', 'out', 'nov', 'dez', 'jan', 'fev', 'mar', 'abr', 'mai', 'jun', 'jul']\n",
        "cdi = [0.43, 0.44, 0.49, 0.59, 0.77, 0.73, 0.76, 0.93, 0.83, 1.03, 1.02, 1.03]\n",
        "ipca = [0.87, 1.16, 1.25, 0.95, 0.73, 0.54, 1.01, 1.62, 1.06, 0.47, 0.67, -0.68]\n",
        "igpm = [0.66, -0.64, 0.64, 0.02, 0.87, 1.82, 1.83, 1.74, 1.41, 0.52, 0.59, 0.21]\n",
        "ibov = [ -2.48, -6.57, -6.74, -1.5, 2.85, 6.98, 0.89, 6.06, -10.10, 3.22, -11.50, 4.69]\n",
        "\n",
        "df_indicadores = pd.DataFrame(data={'IPCA': ipca, 'CDI': cdi, 'IGPM': igpm, \n",
        "                                    'IBOV' : ibov}, index=referencias)\n",
        "df_indicadores"
      ]
    },
    {
      "cell_type": "markdown",
      "metadata": {
        "id": "O-EZZetDLJVJ"
      },
      "source": [
        "#### **Exercício 1**\n",
        "\n",
        "Mostrar 3 gráficos, em uma apresentação de 1 linha e 3 colunas, considerando os últimos seis meses da série, dos seguintes indicadores:\n",
        "- gráfico 1: IBOV e CDI\n",
        "- gráfico 2: IBOV e IPCA\n",
        "- gráfico 3: IBOV e IGPM\n",
        "\n",
        "Use a mesma cor e pontos para IBOV, mas varie a cor dos demais."
      ]
    },
    {
      "cell_type": "code",
      "execution_count": null,
      "metadata": {
        "id": "J7V44ACnLa8Z"
      },
      "outputs": [],
      "source": [
        "# solução\n",
        "#"
      ]
    },
    {
      "cell_type": "markdown",
      "metadata": {
        "id": "AfO7qR-dMf8n"
      },
      "source": [
        "### Dataset da Bolsa Eletrônica de Compras"
      ]
    },
    {
      "cell_type": "code",
      "execution_count": null,
      "metadata": {
        "colab": {
          "base_uri": "https://localhost:8080/",
          "height": 427
        },
        "id": "Wag5G35WOKVm",
        "outputId": "213a3aff-e2d8-4d6a-b9d0-fc8e7c54cd88"
      },
      "outputs": [
        {
          "output_type": "execute_result",
          "data": {
            "text/plain": [
              "                   Cód Desc Órgão Mês Ano Encerramento  \\\n",
              "0  01000 - ASSEMBLEIA LEGISLATIVA           2019-09-01   \n",
              "1  01000 - ASSEMBLEIA LEGISLATIVA           2019-09-01   \n",
              "2  01000 - ASSEMBLEIA LEGISLATIVA           2019-09-01   \n",
              "3  01000 - ASSEMBLEIA LEGISLATIVA           2019-09-01   \n",
              "\n",
              "                                 Cod Desc Fornecedor  \\\n",
              "0   28363983000140 - OFICIAL WEB COMERCIAL LTDA - ME   \n",
              "1        12517378000146 - A. C. DOS SANTOS MÓVEIS ME   \n",
              "2  17365274000187 - CBF COMÉRCIO DE CONFECÇÕES BA...   \n",
              "3  23183671000130 - GALEQ COMÉRCIO INTERNACIONAL ...   \n",
              "\n",
              "  Descrição Procedimento Compra  \\\n",
              "0         DISPENSA DE LICITAÇÃO   \n",
              "1         DISPENSA DE LICITAÇÃO   \n",
              "2         DISPENSA DE LICITAÇÃO   \n",
              "3         DISPENSA DE LICITAÇÃO   \n",
              "\n",
              "                                       Cod Desc Item  Quantidade de Item  \\\n",
              "0  4843274 - FILME PROTETIVO, DE POLIESTER, 1,00X...                   1   \n",
              "1  4863801 - ESTANTE DESMONTAVEL DE ACO,ABERTA,06...                   1   \n",
              "2  4628020 - BANDEIRA,MUNICIPIO DE SAO PAULO, MED...                   1   \n",
              "3                         5133017 - NO-BREAK, 600 VA                   1   \n",
              "\n",
              "   Valor Unitário Negociado  Valor Total Negociado em R$  Quantidade Negociada  \n",
              "0                     168.3                        673.2                   4.0  \n",
              "1                     235.0                       1880.0                   8.0  \n",
              "2                     170.0                        340.0                   2.0  \n",
              "3                      27.6                       1104.0                  40.0  "
            ],
            "text/html": [
              "\n",
              "  <div id=\"df-f6dfa5db-e31d-4289-be5a-64daf6c853d7\">\n",
              "    <div class=\"colab-df-container\">\n",
              "      <div>\n",
              "<style scoped>\n",
              "    .dataframe tbody tr th:only-of-type {\n",
              "        vertical-align: middle;\n",
              "    }\n",
              "\n",
              "    .dataframe tbody tr th {\n",
              "        vertical-align: top;\n",
              "    }\n",
              "\n",
              "    .dataframe thead th {\n",
              "        text-align: right;\n",
              "    }\n",
              "</style>\n",
              "<table border=\"1\" class=\"dataframe\">\n",
              "  <thead>\n",
              "    <tr style=\"text-align: right;\">\n",
              "      <th></th>\n",
              "      <th>Cód Desc Órgão</th>\n",
              "      <th>Mês Ano Encerramento</th>\n",
              "      <th>Cod Desc Fornecedor</th>\n",
              "      <th>Descrição Procedimento Compra</th>\n",
              "      <th>Cod Desc Item</th>\n",
              "      <th>Quantidade de Item</th>\n",
              "      <th>Valor Unitário Negociado</th>\n",
              "      <th>Valor Total Negociado em R$</th>\n",
              "      <th>Quantidade Negociada</th>\n",
              "    </tr>\n",
              "  </thead>\n",
              "  <tbody>\n",
              "    <tr>\n",
              "      <th>0</th>\n",
              "      <td>01000 - ASSEMBLEIA LEGISLATIVA</td>\n",
              "      <td>2019-09-01</td>\n",
              "      <td>28363983000140 - OFICIAL WEB COMERCIAL LTDA - ME</td>\n",
              "      <td>DISPENSA DE LICITAÇÃO</td>\n",
              "      <td>4843274 - FILME PROTETIVO, DE POLIESTER, 1,00X...</td>\n",
              "      <td>1</td>\n",
              "      <td>168.3</td>\n",
              "      <td>673.2</td>\n",
              "      <td>4.0</td>\n",
              "    </tr>\n",
              "    <tr>\n",
              "      <th>1</th>\n",
              "      <td>01000 - ASSEMBLEIA LEGISLATIVA</td>\n",
              "      <td>2019-09-01</td>\n",
              "      <td>12517378000146 - A. C. DOS SANTOS MÓVEIS ME</td>\n",
              "      <td>DISPENSA DE LICITAÇÃO</td>\n",
              "      <td>4863801 - ESTANTE DESMONTAVEL DE ACO,ABERTA,06...</td>\n",
              "      <td>1</td>\n",
              "      <td>235.0</td>\n",
              "      <td>1880.0</td>\n",
              "      <td>8.0</td>\n",
              "    </tr>\n",
              "    <tr>\n",
              "      <th>2</th>\n",
              "      <td>01000 - ASSEMBLEIA LEGISLATIVA</td>\n",
              "      <td>2019-09-01</td>\n",
              "      <td>17365274000187 - CBF COMÉRCIO DE CONFECÇÕES BA...</td>\n",
              "      <td>DISPENSA DE LICITAÇÃO</td>\n",
              "      <td>4628020 - BANDEIRA,MUNICIPIO DE SAO PAULO, MED...</td>\n",
              "      <td>1</td>\n",
              "      <td>170.0</td>\n",
              "      <td>340.0</td>\n",
              "      <td>2.0</td>\n",
              "    </tr>\n",
              "    <tr>\n",
              "      <th>3</th>\n",
              "      <td>01000 - ASSEMBLEIA LEGISLATIVA</td>\n",
              "      <td>2019-09-01</td>\n",
              "      <td>23183671000130 - GALEQ COMÉRCIO INTERNACIONAL ...</td>\n",
              "      <td>DISPENSA DE LICITAÇÃO</td>\n",
              "      <td>5133017 - NO-BREAK, 600 VA</td>\n",
              "      <td>1</td>\n",
              "      <td>27.6</td>\n",
              "      <td>1104.0</td>\n",
              "      <td>40.0</td>\n",
              "    </tr>\n",
              "  </tbody>\n",
              "</table>\n",
              "</div>\n",
              "      <button class=\"colab-df-convert\" onclick=\"convertToInteractive('df-f6dfa5db-e31d-4289-be5a-64daf6c853d7')\"\n",
              "              title=\"Convert this dataframe to an interactive table.\"\n",
              "              style=\"display:none;\">\n",
              "        \n",
              "  <svg xmlns=\"http://www.w3.org/2000/svg\" height=\"24px\"viewBox=\"0 0 24 24\"\n",
              "       width=\"24px\">\n",
              "    <path d=\"M0 0h24v24H0V0z\" fill=\"none\"/>\n",
              "    <path d=\"M18.56 5.44l.94 2.06.94-2.06 2.06-.94-2.06-.94-.94-2.06-.94 2.06-2.06.94zm-11 1L8.5 8.5l.94-2.06 2.06-.94-2.06-.94L8.5 2.5l-.94 2.06-2.06.94zm10 10l.94 2.06.94-2.06 2.06-.94-2.06-.94-.94-2.06-.94 2.06-2.06.94z\"/><path d=\"M17.41 7.96l-1.37-1.37c-.4-.4-.92-.59-1.43-.59-.52 0-1.04.2-1.43.59L10.3 9.45l-7.72 7.72c-.78.78-.78 2.05 0 2.83L4 21.41c.39.39.9.59 1.41.59.51 0 1.02-.2 1.41-.59l7.78-7.78 2.81-2.81c.8-.78.8-2.07 0-2.86zM5.41 20L4 18.59l7.72-7.72 1.47 1.35L5.41 20z\"/>\n",
              "  </svg>\n",
              "      </button>\n",
              "      \n",
              "  <style>\n",
              "    .colab-df-container {\n",
              "      display:flex;\n",
              "      flex-wrap:wrap;\n",
              "      gap: 12px;\n",
              "    }\n",
              "\n",
              "    .colab-df-convert {\n",
              "      background-color: #E8F0FE;\n",
              "      border: none;\n",
              "      border-radius: 50%;\n",
              "      cursor: pointer;\n",
              "      display: none;\n",
              "      fill: #1967D2;\n",
              "      height: 32px;\n",
              "      padding: 0 0 0 0;\n",
              "      width: 32px;\n",
              "    }\n",
              "\n",
              "    .colab-df-convert:hover {\n",
              "      background-color: #E2EBFA;\n",
              "      box-shadow: 0px 1px 2px rgba(60, 64, 67, 0.3), 0px 1px 3px 1px rgba(60, 64, 67, 0.15);\n",
              "      fill: #174EA6;\n",
              "    }\n",
              "\n",
              "    [theme=dark] .colab-df-convert {\n",
              "      background-color: #3B4455;\n",
              "      fill: #D2E3FC;\n",
              "    }\n",
              "\n",
              "    [theme=dark] .colab-df-convert:hover {\n",
              "      background-color: #434B5C;\n",
              "      box-shadow: 0px 1px 3px 1px rgba(0, 0, 0, 0.15);\n",
              "      filter: drop-shadow(0px 1px 2px rgba(0, 0, 0, 0.3));\n",
              "      fill: #FFFFFF;\n",
              "    }\n",
              "  </style>\n",
              "\n",
              "      <script>\n",
              "        const buttonEl =\n",
              "          document.querySelector('#df-f6dfa5db-e31d-4289-be5a-64daf6c853d7 button.colab-df-convert');\n",
              "        buttonEl.style.display =\n",
              "          google.colab.kernel.accessAllowed ? 'block' : 'none';\n",
              "\n",
              "        async function convertToInteractive(key) {\n",
              "          const element = document.querySelector('#df-f6dfa5db-e31d-4289-be5a-64daf6c853d7');\n",
              "          const dataTable =\n",
              "            await google.colab.kernel.invokeFunction('convertToInteractive',\n",
              "                                                     [key], {});\n",
              "          if (!dataTable) return;\n",
              "\n",
              "          const docLinkHtml = 'Like what you see? Visit the ' +\n",
              "            '<a target=\"_blank\" href=https://colab.research.google.com/notebooks/data_table.ipynb>data table notebook</a>'\n",
              "            + ' to learn more about interactive tables.';\n",
              "          element.innerHTML = '';\n",
              "          dataTable['output_type'] = 'display_data';\n",
              "          await google.colab.output.renderOutput(dataTable, element);\n",
              "          const docLink = document.createElement('div');\n",
              "          docLink.innerHTML = docLinkHtml;\n",
              "          element.appendChild(docLink);\n",
              "        }\n",
              "      </script>\n",
              "    </div>\n",
              "  </div>\n",
              "  "
            ]
          },
          "metadata": {},
          "execution_count": 12
        }
      ],
      "source": [
        "# carregamento do dataset da BEC e geração de informações de quantidade negociada\n",
        "df_bec = pd.read_excel(path+'03-DS_BEC.xlsx')\n",
        "df_bec = df_bec[['Cód Desc Órgão', 'Mês Ano Encerramento', 'Cod Desc Fornecedor', \n",
        "                 'Descrição Procedimento Compra', 'Cod Desc Item', \n",
        "                 'Quantidade de Item','Valor Unitário Negociado', \n",
        "                 'Valor Total Negociado em R$']]\n",
        "df_bec['Quantidade Negociada'] = df_bec['Valor Total Negociado em R$'] / df_bec[\n",
        "    'Valor Unitário Negociado']  \n",
        "df_bec.head(4)"
      ]
    },
    {
      "cell_type": "markdown",
      "metadata": {
        "id": "MVoDdvxsSvis"
      },
      "source": [
        "#### Exercício 2\n",
        "\n",
        "Apresentar o boxplot do Valor Unitário Negociado referente ao item '2903881 - PAPEL SULFITE DE PAPELARIA,FORMATO A4,(210X297)MM,75G,BRANCO'\n"
      ]
    },
    {
      "cell_type": "code",
      "execution_count": null,
      "metadata": {
        "id": "yj-lH6WsxCPR"
      },
      "outputs": [],
      "source": [
        "# solução\n",
        "#"
      ]
    },
    {
      "cell_type": "markdown",
      "metadata": {
        "id": "YCH06QcTS2bQ"
      },
      "source": [
        "#### Exercício 3\n",
        "\n",
        "Apresentar o histograma do Valor Unitário Negociado referente ao item '2903881 - PAPEL SULFITE DE PAPELARIA,FORMATO A4,(210X297)MM,75G,BRANCO'"
      ]
    },
    {
      "cell_type": "code",
      "execution_count": null,
      "metadata": {
        "id": "ArdOFw5Dyu31"
      },
      "outputs": [],
      "source": [
        "# solução\n",
        "#"
      ]
    },
    {
      "cell_type": "markdown",
      "metadata": {
        "id": "H_FPrCWDUF5s"
      },
      "source": [
        "### Uma visão da compra de papel sulfite\n"
      ]
    },
    {
      "cell_type": "markdown",
      "metadata": {
        "id": "Ewsom2vrDCaH"
      },
      "source": [
        "A dataset sulfite é uma visão do dataset da BEC que inclui apenas compras de PAPEL SULFITE A4 BRANCO. Veja que a função lambda abaixo se encarrega desta seleção. Como resultado temos 6 tipos diferentes de itens. "
      ]
    },
    {
      "cell_type": "code",
      "execution_count": null,
      "metadata": {
        "scrolled": true,
        "colab": {
          "base_uri": "https://localhost:8080/"
        },
        "id": "lvRWU4akDCaH",
        "outputId": "f6ef598b-c9da-4fc8-e312-39cbc93f0736"
      },
      "outputs": [
        {
          "output_type": "execute_result",
          "data": {
            "text/plain": [
              "Cod Desc Item\n",
              "2421798 - PAPEL SULFITE DE PAPELARIA,120G/M2,A4,BRANCO,EMBALAGEM BOPP                17\n",
              "2903881 - PAPEL SULFITE DE PAPELARIA,FORMATO A4,(210X297)MM,75G,BRANCO              946\n",
              "3013618 - PAPEL SULFITE DE PAPELARIA,75G/M2,A4,BRANCO,CANA DE ACUCAR,EMB.BOPP        65\n",
              "4381076 - PAPEL SULFITE DE PAPELARIA 180G/M2,A4,BRANCO,C/CERTIF.FSC OU CERFLOR       10\n",
              "4646444 - PAPEL SULFITE DE PAPELARIA,75G/M2,A4,BRANCO,CORTE ROTATIVO,FSC/CERFLOR      6\n",
              "Name: Cod Desc Item, dtype: int64"
            ]
          },
          "metadata": {},
          "execution_count": 15
        }
      ],
      "source": [
        "sulfite = df_bec[list(map(lambda x: x.find('PAPEL SULFITE') >=0 \n",
        "                          and x.find('A4') >=0 \n",
        "                          and x.find('BRANCO') >=0\n",
        "                          and x.find('MILIMETRADO') == -1\n",
        "                          , df_bec['Cod Desc Item']))]\n",
        "sulfite.groupby('Cod Desc Item')['Cod Desc Item'].count()"
      ]
    },
    {
      "cell_type": "markdown",
      "metadata": {
        "id": "Mq9X9sFaDCaI"
      },
      "source": [
        "#### Exercício 4\n",
        "\n",
        "Usando o sns.barplot crie um gráfico de barras que mostre o valor total negociado por cada um dos 5 tipos de papel sulfite branco a4 não milimetrado. Use a melhor disposição para mostrar os dados (horizontal ou vertical)."
      ]
    },
    {
      "cell_type": "code",
      "execution_count": null,
      "metadata": {
        "id": "d-DajVmVDCaI"
      },
      "outputs": [],
      "source": [
        "# solução\n",
        "#"
      ]
    },
    {
      "cell_type": "markdown",
      "metadata": {
        "id": "HqIZMfbVDCaI"
      },
      "source": [
        "#### Exercício 5\n",
        "\n",
        "Crie 5 histogramas/kde (use sns.distplot), um para cada item, dos valores unitários negociados. Use para isso subplots e apresente o resultado em uma figura com 3 linhas e duas colunas. Coloque os títulos apropriados nos gráficos e use 5 cores diferentes, uma para cada um. "
      ]
    },
    {
      "cell_type": "code",
      "execution_count": null,
      "metadata": {
        "id": "n2MwtnovDCaI"
      },
      "outputs": [],
      "source": [
        "# solução\n",
        "#"
      ]
    },
    {
      "cell_type": "markdown",
      "metadata": {
        "id": "bCjo2eqlmrsj"
      },
      "source": [
        "### Dataset de diferentes ações da bolsa"
      ]
    },
    {
      "cell_type": "code",
      "execution_count": null,
      "metadata": {
        "colab": {
          "base_uri": "https://localhost:8080/",
          "height": 237
        },
        "id": "mQUuzxAwKR3A",
        "outputId": "eccacb59-4550-4865-8d9a-3180e5c473b4"
      },
      "outputs": [
        {
          "output_type": "execute_result",
          "data": {
            "text/plain": [
              "             VALE3.SA  LREN3.SA  CMIG3.SA  OIBR4.SA   BBDC3.SA  ITSA4.SA  \\\n",
              "Date                                                                       \n",
              "2018-01-02  41.720001       NaN      6.60      3.42  24.454500   10.0273   \n",
              "2018-01-03  41.470001       NaN      6.61      3.42  24.545500   10.1454   \n",
              "2018-01-04  41.639999       NaN      6.55      3.42  24.992399   10.3364   \n",
              "2018-01-05  42.290001       NaN      6.55      3.44  25.000000   10.3546   \n",
              "2018-01-08  43.230000       NaN      6.50      3.43  25.000000   10.3455   \n",
              "\n",
              "            USIM5.SA  BRML3.SA   PETR3.SA   VIVT4.SA  ENBR3.SA   RADL3.SA  \n",
              "Date                                                                       \n",
              "2018-01-02      9.60     12.40  17.330000  49.009998     14.20  90.449997  \n",
              "2018-01-03      9.92     12.36  17.549999  48.419998     13.56  88.209999  \n",
              "2018-01-04     10.48     12.51  17.700001  49.400002     13.58  88.889999  \n",
              "2018-01-05     10.03     12.55  17.840000  49.630001     13.46  90.449997  \n",
              "2018-01-08     10.14     12.50  18.120001  50.009998     13.68  89.300003  "
            ],
            "text/html": [
              "\n",
              "  <div id=\"df-2bc6358f-7c71-4990-8c90-7d131941bbbd\">\n",
              "    <div class=\"colab-df-container\">\n",
              "      <div>\n",
              "<style scoped>\n",
              "    .dataframe tbody tr th:only-of-type {\n",
              "        vertical-align: middle;\n",
              "    }\n",
              "\n",
              "    .dataframe tbody tr th {\n",
              "        vertical-align: top;\n",
              "    }\n",
              "\n",
              "    .dataframe thead th {\n",
              "        text-align: right;\n",
              "    }\n",
              "</style>\n",
              "<table border=\"1\" class=\"dataframe\">\n",
              "  <thead>\n",
              "    <tr style=\"text-align: right;\">\n",
              "      <th></th>\n",
              "      <th>VALE3.SA</th>\n",
              "      <th>LREN3.SA</th>\n",
              "      <th>CMIG3.SA</th>\n",
              "      <th>OIBR4.SA</th>\n",
              "      <th>BBDC3.SA</th>\n",
              "      <th>ITSA4.SA</th>\n",
              "      <th>USIM5.SA</th>\n",
              "      <th>BRML3.SA</th>\n",
              "      <th>PETR3.SA</th>\n",
              "      <th>VIVT4.SA</th>\n",
              "      <th>ENBR3.SA</th>\n",
              "      <th>RADL3.SA</th>\n",
              "    </tr>\n",
              "    <tr>\n",
              "      <th>Date</th>\n",
              "      <th></th>\n",
              "      <th></th>\n",
              "      <th></th>\n",
              "      <th></th>\n",
              "      <th></th>\n",
              "      <th></th>\n",
              "      <th></th>\n",
              "      <th></th>\n",
              "      <th></th>\n",
              "      <th></th>\n",
              "      <th></th>\n",
              "      <th></th>\n",
              "    </tr>\n",
              "  </thead>\n",
              "  <tbody>\n",
              "    <tr>\n",
              "      <th>2018-01-02</th>\n",
              "      <td>41.720001</td>\n",
              "      <td>NaN</td>\n",
              "      <td>6.60</td>\n",
              "      <td>3.42</td>\n",
              "      <td>24.454500</td>\n",
              "      <td>10.0273</td>\n",
              "      <td>9.60</td>\n",
              "      <td>12.40</td>\n",
              "      <td>17.330000</td>\n",
              "      <td>49.009998</td>\n",
              "      <td>14.20</td>\n",
              "      <td>90.449997</td>\n",
              "    </tr>\n",
              "    <tr>\n",
              "      <th>2018-01-03</th>\n",
              "      <td>41.470001</td>\n",
              "      <td>NaN</td>\n",
              "      <td>6.61</td>\n",
              "      <td>3.42</td>\n",
              "      <td>24.545500</td>\n",
              "      <td>10.1454</td>\n",
              "      <td>9.92</td>\n",
              "      <td>12.36</td>\n",
              "      <td>17.549999</td>\n",
              "      <td>48.419998</td>\n",
              "      <td>13.56</td>\n",
              "      <td>88.209999</td>\n",
              "    </tr>\n",
              "    <tr>\n",
              "      <th>2018-01-04</th>\n",
              "      <td>41.639999</td>\n",
              "      <td>NaN</td>\n",
              "      <td>6.55</td>\n",
              "      <td>3.42</td>\n",
              "      <td>24.992399</td>\n",
              "      <td>10.3364</td>\n",
              "      <td>10.48</td>\n",
              "      <td>12.51</td>\n",
              "      <td>17.700001</td>\n",
              "      <td>49.400002</td>\n",
              "      <td>13.58</td>\n",
              "      <td>88.889999</td>\n",
              "    </tr>\n",
              "    <tr>\n",
              "      <th>2018-01-05</th>\n",
              "      <td>42.290001</td>\n",
              "      <td>NaN</td>\n",
              "      <td>6.55</td>\n",
              "      <td>3.44</td>\n",
              "      <td>25.000000</td>\n",
              "      <td>10.3546</td>\n",
              "      <td>10.03</td>\n",
              "      <td>12.55</td>\n",
              "      <td>17.840000</td>\n",
              "      <td>49.630001</td>\n",
              "      <td>13.46</td>\n",
              "      <td>90.449997</td>\n",
              "    </tr>\n",
              "    <tr>\n",
              "      <th>2018-01-08</th>\n",
              "      <td>43.230000</td>\n",
              "      <td>NaN</td>\n",
              "      <td>6.50</td>\n",
              "      <td>3.43</td>\n",
              "      <td>25.000000</td>\n",
              "      <td>10.3455</td>\n",
              "      <td>10.14</td>\n",
              "      <td>12.50</td>\n",
              "      <td>18.120001</td>\n",
              "      <td>50.009998</td>\n",
              "      <td>13.68</td>\n",
              "      <td>89.300003</td>\n",
              "    </tr>\n",
              "  </tbody>\n",
              "</table>\n",
              "</div>\n",
              "      <button class=\"colab-df-convert\" onclick=\"convertToInteractive('df-2bc6358f-7c71-4990-8c90-7d131941bbbd')\"\n",
              "              title=\"Convert this dataframe to an interactive table.\"\n",
              "              style=\"display:none;\">\n",
              "        \n",
              "  <svg xmlns=\"http://www.w3.org/2000/svg\" height=\"24px\"viewBox=\"0 0 24 24\"\n",
              "       width=\"24px\">\n",
              "    <path d=\"M0 0h24v24H0V0z\" fill=\"none\"/>\n",
              "    <path d=\"M18.56 5.44l.94 2.06.94-2.06 2.06-.94-2.06-.94-.94-2.06-.94 2.06-2.06.94zm-11 1L8.5 8.5l.94-2.06 2.06-.94-2.06-.94L8.5 2.5l-.94 2.06-2.06.94zm10 10l.94 2.06.94-2.06 2.06-.94-2.06-.94-.94-2.06-.94 2.06-2.06.94z\"/><path d=\"M17.41 7.96l-1.37-1.37c-.4-.4-.92-.59-1.43-.59-.52 0-1.04.2-1.43.59L10.3 9.45l-7.72 7.72c-.78.78-.78 2.05 0 2.83L4 21.41c.39.39.9.59 1.41.59.51 0 1.02-.2 1.41-.59l7.78-7.78 2.81-2.81c.8-.78.8-2.07 0-2.86zM5.41 20L4 18.59l7.72-7.72 1.47 1.35L5.41 20z\"/>\n",
              "  </svg>\n",
              "      </button>\n",
              "      \n",
              "  <style>\n",
              "    .colab-df-container {\n",
              "      display:flex;\n",
              "      flex-wrap:wrap;\n",
              "      gap: 12px;\n",
              "    }\n",
              "\n",
              "    .colab-df-convert {\n",
              "      background-color: #E8F0FE;\n",
              "      border: none;\n",
              "      border-radius: 50%;\n",
              "      cursor: pointer;\n",
              "      display: none;\n",
              "      fill: #1967D2;\n",
              "      height: 32px;\n",
              "      padding: 0 0 0 0;\n",
              "      width: 32px;\n",
              "    }\n",
              "\n",
              "    .colab-df-convert:hover {\n",
              "      background-color: #E2EBFA;\n",
              "      box-shadow: 0px 1px 2px rgba(60, 64, 67, 0.3), 0px 1px 3px 1px rgba(60, 64, 67, 0.15);\n",
              "      fill: #174EA6;\n",
              "    }\n",
              "\n",
              "    [theme=dark] .colab-df-convert {\n",
              "      background-color: #3B4455;\n",
              "      fill: #D2E3FC;\n",
              "    }\n",
              "\n",
              "    [theme=dark] .colab-df-convert:hover {\n",
              "      background-color: #434B5C;\n",
              "      box-shadow: 0px 1px 3px 1px rgba(0, 0, 0, 0.15);\n",
              "      filter: drop-shadow(0px 1px 2px rgba(0, 0, 0, 0.3));\n",
              "      fill: #FFFFFF;\n",
              "    }\n",
              "  </style>\n",
              "\n",
              "      <script>\n",
              "        const buttonEl =\n",
              "          document.querySelector('#df-2bc6358f-7c71-4990-8c90-7d131941bbbd button.colab-df-convert');\n",
              "        buttonEl.style.display =\n",
              "          google.colab.kernel.accessAllowed ? 'block' : 'none';\n",
              "\n",
              "        async function convertToInteractive(key) {\n",
              "          const element = document.querySelector('#df-2bc6358f-7c71-4990-8c90-7d131941bbbd');\n",
              "          const dataTable =\n",
              "            await google.colab.kernel.invokeFunction('convertToInteractive',\n",
              "                                                     [key], {});\n",
              "          if (!dataTable) return;\n",
              "\n",
              "          const docLinkHtml = 'Like what you see? Visit the ' +\n",
              "            '<a target=\"_blank\" href=https://colab.research.google.com/notebooks/data_table.ipynb>data table notebook</a>'\n",
              "            + ' to learn more about interactive tables.';\n",
              "          element.innerHTML = '';\n",
              "          dataTable['output_type'] = 'display_data';\n",
              "          await google.colab.output.renderOutput(dataTable, element);\n",
              "          const docLink = document.createElement('div');\n",
              "          docLink.innerHTML = docLinkHtml;\n",
              "          element.appendChild(docLink);\n",
              "        }\n",
              "      </script>\n",
              "    </div>\n",
              "  </div>\n",
              "  "
            ]
          },
          "metadata": {},
          "execution_count": 18
        }
      ],
      "source": [
        "df_acoes = pd.read_csv(path+'04-DS_ACOES.csv', sep=';', \n",
        "                       parse_dates=['Date'])\n",
        "df_acoes.set_index('Date', inplace=True)\n",
        "df_acoes.head(5)"
      ]
    },
    {
      "cell_type": "markdown",
      "metadata": {
        "id": "G9ITq-E9DfGn"
      },
      "source": [
        "#### Exercício 6\n",
        "\n",
        "Apresentar a distribuição de Valores unitários negociados para o item '4428692 - ACUCAR REFINADO'"
      ]
    },
    {
      "cell_type": "code",
      "execution_count": null,
      "metadata": {
        "id": "3Yhzgd0bFrQj"
      },
      "outputs": [],
      "source": [
        "# solução\n",
        "#"
      ]
    },
    {
      "cell_type": "markdown",
      "metadata": {
        "id": "bFuVk6GLDmQL"
      },
      "source": [
        "#### Exercício 7\n",
        "\n",
        "Apresentação do Valor Unitário Negociado em Função da Quantidade Negociada incluído a reta de regrassão para item '4428692 - ACUCAR REFINADO'. Opcional - Remover outliers dos valores unitários negociados"
      ]
    },
    {
      "cell_type": "code",
      "execution_count": null,
      "metadata": {
        "id": "_lxb9OCVHq9f"
      },
      "outputs": [],
      "source": [
        "# solução\n",
        "#"
      ]
    },
    {
      "cell_type": "markdown",
      "metadata": {
        "id": "vprrWxzaviH8"
      },
      "source": [
        "### Dataset de ocorrências criminais em SP"
      ]
    },
    {
      "cell_type": "code",
      "execution_count": null,
      "metadata": {
        "colab": {
          "base_uri": "https://localhost:8080/",
          "height": 360
        },
        "id": "OoZqvDTpv574",
        "outputId": "ad647698-90ae-42be-e05b-cb6757b6e2bd"
      },
      "outputs": [
        {
          "output_type": "execute_result",
          "data": {
            "text/plain": [
              "            RUBRICA                  NOME_DELEGACIA DATA_OCORRENCIA_BO  \\\n",
              "0  Roubo (art. 157)  40º D.P.  VILA STA MARIA               2015-05-21   \n",
              "1  Roubo (art. 157)  75º D.P. JARDIM ARPOADOR               2015-06-24   \n",
              "2  Roubo (art. 157)  91º D.P. CEASA                         2015-10-28   \n",
              "3  Roubo (art. 157)  DEIC - 3ª DELEGACIA DA DIVECAR         2015-06-11   \n",
              "\n",
              "  HORA_OCORRENCIA_BO                           DESCR_TIPOLOCAL  \\\n",
              "0           21:00:00  Via pública                                \n",
              "1           06:40:00  Via pública                                \n",
              "2           20:15:00  Via pública                                \n",
              "3           09:00:00  Via pública                                \n",
              "\n",
              "                                 LOGRADOURO  NUMERO_LOGRADOURO SEXO_PESSOA  \\\n",
              "0  RUA DOMICIANO RIBEIRO                                 968.0           M   \n",
              "1  RUA FREI VITAL DE FRESCAROLO                           30.0           M   \n",
              "2  RUA ALIANCA LIBERAL                                   286.0           M   \n",
              "3  RUA ANTONIO CRESPO                                     33.0           M   \n",
              "\n",
              "   IDADE_PESSOA             x             y  \n",
              "0            54 -5.195591e+05 -2.690467e+06  \n",
              "1            16 -5.208704e+06 -2.704744e+06  \n",
              "2            56 -5.201337e+06 -2.695291e+06  \n",
              "3            31 -5.169712e+06 -2.622279e+05  "
            ],
            "text/html": [
              "\n",
              "  <div id=\"df-b0d4b33e-74e3-420a-af4b-90b0b2dfeb55\">\n",
              "    <div class=\"colab-df-container\">\n",
              "      <div>\n",
              "<style scoped>\n",
              "    .dataframe tbody tr th:only-of-type {\n",
              "        vertical-align: middle;\n",
              "    }\n",
              "\n",
              "    .dataframe tbody tr th {\n",
              "        vertical-align: top;\n",
              "    }\n",
              "\n",
              "    .dataframe thead th {\n",
              "        text-align: right;\n",
              "    }\n",
              "</style>\n",
              "<table border=\"1\" class=\"dataframe\">\n",
              "  <thead>\n",
              "    <tr style=\"text-align: right;\">\n",
              "      <th></th>\n",
              "      <th>RUBRICA</th>\n",
              "      <th>NOME_DELEGACIA</th>\n",
              "      <th>DATA_OCORRENCIA_BO</th>\n",
              "      <th>HORA_OCORRENCIA_BO</th>\n",
              "      <th>DESCR_TIPOLOCAL</th>\n",
              "      <th>LOGRADOURO</th>\n",
              "      <th>NUMERO_LOGRADOURO</th>\n",
              "      <th>SEXO_PESSOA</th>\n",
              "      <th>IDADE_PESSOA</th>\n",
              "      <th>x</th>\n",
              "      <th>y</th>\n",
              "    </tr>\n",
              "  </thead>\n",
              "  <tbody>\n",
              "    <tr>\n",
              "      <th>0</th>\n",
              "      <td>Roubo (art. 157)</td>\n",
              "      <td>40º D.P.  VILA STA MARIA</td>\n",
              "      <td>2015-05-21</td>\n",
              "      <td>21:00:00</td>\n",
              "      <td>Via pública</td>\n",
              "      <td>RUA DOMICIANO RIBEIRO</td>\n",
              "      <td>968.0</td>\n",
              "      <td>M</td>\n",
              "      <td>54</td>\n",
              "      <td>-5.195591e+05</td>\n",
              "      <td>-2.690467e+06</td>\n",
              "    </tr>\n",
              "    <tr>\n",
              "      <th>1</th>\n",
              "      <td>Roubo (art. 157)</td>\n",
              "      <td>75º D.P. JARDIM ARPOADOR</td>\n",
              "      <td>2015-06-24</td>\n",
              "      <td>06:40:00</td>\n",
              "      <td>Via pública</td>\n",
              "      <td>RUA FREI VITAL DE FRESCAROLO</td>\n",
              "      <td>30.0</td>\n",
              "      <td>M</td>\n",
              "      <td>16</td>\n",
              "      <td>-5.208704e+06</td>\n",
              "      <td>-2.704744e+06</td>\n",
              "    </tr>\n",
              "    <tr>\n",
              "      <th>2</th>\n",
              "      <td>Roubo (art. 157)</td>\n",
              "      <td>91º D.P. CEASA</td>\n",
              "      <td>2015-10-28</td>\n",
              "      <td>20:15:00</td>\n",
              "      <td>Via pública</td>\n",
              "      <td>RUA ALIANCA LIBERAL</td>\n",
              "      <td>286.0</td>\n",
              "      <td>M</td>\n",
              "      <td>56</td>\n",
              "      <td>-5.201337e+06</td>\n",
              "      <td>-2.695291e+06</td>\n",
              "    </tr>\n",
              "    <tr>\n",
              "      <th>3</th>\n",
              "      <td>Roubo (art. 157)</td>\n",
              "      <td>DEIC - 3ª DELEGACIA DA DIVECAR</td>\n",
              "      <td>2015-06-11</td>\n",
              "      <td>09:00:00</td>\n",
              "      <td>Via pública</td>\n",
              "      <td>RUA ANTONIO CRESPO</td>\n",
              "      <td>33.0</td>\n",
              "      <td>M</td>\n",
              "      <td>31</td>\n",
              "      <td>-5.169712e+06</td>\n",
              "      <td>-2.622279e+05</td>\n",
              "    </tr>\n",
              "  </tbody>\n",
              "</table>\n",
              "</div>\n",
              "      <button class=\"colab-df-convert\" onclick=\"convertToInteractive('df-b0d4b33e-74e3-420a-af4b-90b0b2dfeb55')\"\n",
              "              title=\"Convert this dataframe to an interactive table.\"\n",
              "              style=\"display:none;\">\n",
              "        \n",
              "  <svg xmlns=\"http://www.w3.org/2000/svg\" height=\"24px\"viewBox=\"0 0 24 24\"\n",
              "       width=\"24px\">\n",
              "    <path d=\"M0 0h24v24H0V0z\" fill=\"none\"/>\n",
              "    <path d=\"M18.56 5.44l.94 2.06.94-2.06 2.06-.94-2.06-.94-.94-2.06-.94 2.06-2.06.94zm-11 1L8.5 8.5l.94-2.06 2.06-.94-2.06-.94L8.5 2.5l-.94 2.06-2.06.94zm10 10l.94 2.06.94-2.06 2.06-.94-2.06-.94-.94-2.06-.94 2.06-2.06.94z\"/><path d=\"M17.41 7.96l-1.37-1.37c-.4-.4-.92-.59-1.43-.59-.52 0-1.04.2-1.43.59L10.3 9.45l-7.72 7.72c-.78.78-.78 2.05 0 2.83L4 21.41c.39.39.9.59 1.41.59.51 0 1.02-.2 1.41-.59l7.78-7.78 2.81-2.81c.8-.78.8-2.07 0-2.86zM5.41 20L4 18.59l7.72-7.72 1.47 1.35L5.41 20z\"/>\n",
              "  </svg>\n",
              "      </button>\n",
              "      \n",
              "  <style>\n",
              "    .colab-df-container {\n",
              "      display:flex;\n",
              "      flex-wrap:wrap;\n",
              "      gap: 12px;\n",
              "    }\n",
              "\n",
              "    .colab-df-convert {\n",
              "      background-color: #E8F0FE;\n",
              "      border: none;\n",
              "      border-radius: 50%;\n",
              "      cursor: pointer;\n",
              "      display: none;\n",
              "      fill: #1967D2;\n",
              "      height: 32px;\n",
              "      padding: 0 0 0 0;\n",
              "      width: 32px;\n",
              "    }\n",
              "\n",
              "    .colab-df-convert:hover {\n",
              "      background-color: #E2EBFA;\n",
              "      box-shadow: 0px 1px 2px rgba(60, 64, 67, 0.3), 0px 1px 3px 1px rgba(60, 64, 67, 0.15);\n",
              "      fill: #174EA6;\n",
              "    }\n",
              "\n",
              "    [theme=dark] .colab-df-convert {\n",
              "      background-color: #3B4455;\n",
              "      fill: #D2E3FC;\n",
              "    }\n",
              "\n",
              "    [theme=dark] .colab-df-convert:hover {\n",
              "      background-color: #434B5C;\n",
              "      box-shadow: 0px 1px 3px 1px rgba(0, 0, 0, 0.15);\n",
              "      filter: drop-shadow(0px 1px 2px rgba(0, 0, 0, 0.3));\n",
              "      fill: #FFFFFF;\n",
              "    }\n",
              "  </style>\n",
              "\n",
              "      <script>\n",
              "        const buttonEl =\n",
              "          document.querySelector('#df-b0d4b33e-74e3-420a-af4b-90b0b2dfeb55 button.colab-df-convert');\n",
              "        buttonEl.style.display =\n",
              "          google.colab.kernel.accessAllowed ? 'block' : 'none';\n",
              "\n",
              "        async function convertToInteractive(key) {\n",
              "          const element = document.querySelector('#df-b0d4b33e-74e3-420a-af4b-90b0b2dfeb55');\n",
              "          const dataTable =\n",
              "            await google.colab.kernel.invokeFunction('convertToInteractive',\n",
              "                                                     [key], {});\n",
              "          if (!dataTable) return;\n",
              "\n",
              "          const docLinkHtml = 'Like what you see? Visit the ' +\n",
              "            '<a target=\"_blank\" href=https://colab.research.google.com/notebooks/data_table.ipynb>data table notebook</a>'\n",
              "            + ' to learn more about interactive tables.';\n",
              "          element.innerHTML = '';\n",
              "          dataTable['output_type'] = 'display_data';\n",
              "          await google.colab.output.renderOutput(dataTable, element);\n",
              "          const docLink = document.createElement('div');\n",
              "          docLink.innerHTML = docLinkHtml;\n",
              "          element.appendChild(docLink);\n",
              "        }\n",
              "      </script>\n",
              "    </div>\n",
              "  </div>\n",
              "  "
            ]
          },
          "metadata": {},
          "execution_count": 21
        }
      ],
      "source": [
        "df_crime = pd.read_excel(path+'05-DS_CRIME_SP.xlsx', parse_dates=['DATA_OCORRENCIA_BO'])\n",
        "df_crime = df_crime[['RUBRICA', 'NOME_DELEGACIA', 'DATA_OCORRENCIA_BO', \n",
        "                     'HORA_OCORRENCIA_BO','DESCR_TIPOLOCAL', 'LOGRADOURO', \n",
        "                     'NUMERO_LOGRADOURO','SEXO_PESSOA', \n",
        "                     'IDADE_PESSOA','x', 'y']]\n",
        "df_crime.head(4)"
      ]
    },
    {
      "cell_type": "code",
      "execution_count": null,
      "metadata": {
        "colab": {
          "base_uri": "https://localhost:8080/"
        },
        "id": "DuFDGhTivp3f",
        "outputId": "8cc78b6e-9ce3-465e-d401-584f6a5434ed"
      },
      "outputs": [
        {
          "output_type": "execute_result",
          "data": {
            "text/plain": [
              "Roubo (art. 157)                                                          81766\n",
              "Furto (art. 155)                                                          56104\n",
              "Lesão corporal (art. 129)                                                 12865\n",
              "Furto qualificado (art. 155, §4o.)                                        11989\n",
              "Lesão corporal culposa na direção de veículo automotor (Art. 303)         11374\n",
              "Lesão corporal (art 129 § 9º)                                              2757\n",
              "A.I.-Roubo (art. 157)                                                      2083\n",
              "Homicídio simples (art. 121)                                               1365\n",
              "A.I.-Lesão corporal (art. 129)                                             1055\n",
              "Lesão corporal culposa (art. 129. §6o.)                                     480\n",
              "A.I.-Furto (art. 155)                                                       336\n",
              "Homicídio culposo na direção de veículo automotor (Art. 302)                286\n",
              "Homicídio qualificado (art. 121, §2o.)                                      238\n",
              "A.I.-Furto qualificado (art. 155, §4o.)                                     189\n",
              "A.I.-Lesão corporal culposa na direção de veículo automotor (Art. 303)      103\n",
              "Lesão corporal de natureza GRAVE (art. 129, §1o.)                            66\n",
              "A.I.-Homicídio simples (art. 121)                                            36\n",
              "A.I.-Lesão corporal (art 129 § 9º)                                           35\n",
              "Homicídio culposo (art. 121, §3o.)                                           14\n",
              "Furto de coisa comum (art. 156)                                              14\n",
              "Lesão corporal seguida de morte (art. 129, §3o.)                             12\n",
              "A.I.-Homicídio qualificado (art. 121, §2o.)                                   9\n",
              "A.I.-Lesão corporal culposa (art. 129. §6o.)                                  6\n",
              "A.I.-Homicídio culposo na direção de veículo automotor (Art. 302)             5\n",
              "Lesão corporal  de natureza 'GRAVÍSSIMA' (art. 129, §2o.)                     4\n",
              "A.I.-Lesão corporal de natureza GRAVE (art. 129, §1o.)                        1\n",
              "Name: RUBRICA, dtype: int64"
            ]
          },
          "metadata": {},
          "execution_count": 22
        }
      ],
      "source": [
        "df_crime['RUBRICA'].value_counts()"
      ]
    },
    {
      "cell_type": "markdown",
      "source": [
        "### Exercício 8\n",
        "Plote no mapa todas as ocorrências de roubo e furto, incluindo os Autos Infracionais (A.I.)"
      ],
      "metadata": {
        "id": "q1JHfEFNvuRS"
      }
    },
    {
      "cell_type": "code",
      "execution_count": null,
      "metadata": {
        "id": "bFVJ0IHKDCaL"
      },
      "outputs": [],
      "source": [
        "# solução\n",
        "# filtro de dados da rubrica\n",
        "#"
      ]
    },
    {
      "cell_type": "code",
      "execution_count": null,
      "metadata": {
        "id": "RqQFyLTnDCaL"
      },
      "outputs": [],
      "source": [
        "# solução gráfica\n",
        "#"
      ]
    },
    {
      "cell_type": "code",
      "execution_count": null,
      "metadata": {
        "id": "erJYTunVDCaM"
      },
      "outputs": [],
      "source": []
    }
  ],
  "metadata": {
    "colab": {
      "collapsed_sections": [],
      "provenance": []
    },
    "kernelspec": {
      "display_name": "Python 3",
      "language": "python",
      "name": "python3"
    },
    "language_info": {
      "codemirror_mode": {
        "name": "ipython",
        "version": 3
      },
      "file_extension": ".py",
      "mimetype": "text/x-python",
      "name": "python",
      "nbconvert_exporter": "python",
      "pygments_lexer": "ipython3",
      "version": "3.6.4"
    }
  },
  "nbformat": 4,
  "nbformat_minor": 0
}