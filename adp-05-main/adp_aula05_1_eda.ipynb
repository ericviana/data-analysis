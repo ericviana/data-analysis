{
  "cells": [
    {
      "cell_type": "markdown",
      "metadata": {
        "id": "-sHnTlv5TeK_"
      },
      "source": [
        "# Aula 5.1 - Análise Exploratória de Dados em Python\n",
        "\n",
        "**Conteúdo**\n",
        "\n",
        "- Obtenção de dados\n",
        "- Limpeza de Dados\n",
        "- Análise univariada\n",
        "- Análise bivariada\n",
        "- Análise multivariada\n",
        "\n",
        "Material baseado no tutorial [Exploratory Data Analysis(EDA): Python, de Kaushik Katari](https://towardsdatascience.com/exploratory-data-analysis-eda-python-87178e35b14), consultado em 25/11/2020."
      ]
    },
    {
      "cell_type": "markdown",
      "metadata": {
        "id": "zEA0tnLSTeK_"
      },
      "source": [
        "## O que é Análise Exploratória de Dados (EDA)?\n",
        "*EDA é a abreviação de Exploratory Data Analysis*\n",
        "\n",
        "Se quisermos explicar o EDA em termos simples, isso significa tentar entender os dados fornecidos.\n",
        "Podemos encontrar uma definição mais formal na Wikipedia.\n",
        "\n",
        "> Em estatística, a análise exploratória de dados é uma abordagem para analisar conjuntos de dados para resumir suas características principais, geralmente com métodos visuais. Um modelo estatístico pode ser usado ou não, mas principalmente a EDA serve para ver o que os dados podem nos dizer além da modelagem formal e do teste de hipótese.\n",
        "\n",
        "EDA em Python usa visualização de dados para desenhar padrões e percepções significativas. Também envolve a preparação de conjuntos de dados para análise, removendo irregularidades nos dados.\n",
        "\n",
        "Com base nos resultados da EDA, as empresas também tomam decisões de negócios, que podem repercutir posteriormente.\n",
        "Se o EDA não for feito corretamente, ele pode dificultar as etapas seguintes no processo de construção do modelo de aprendizado de máquina.\n",
        "Se bem feito, pode melhorar a eficácia de tudo o que fizermos a seguir."
      ]
    },
    {
      "cell_type": "markdown",
      "metadata": {
        "id": "6Jf0Vv89TeLA"
      },
      "source": [
        "## 1. Obtenção de dados\n",
        "Data Sourcing é o processo de localização e carregamento dos dados no sistema. Em termos gerais, existem duas maneiras de localizar dados.\n",
        "- Dados Privados\n",
        "- Dados Públicos\n",
        "\n",
        "### Dados Privados\n",
        "Como o nome sugere, os dados privados são fornecidos por organizações privadas. Existem algumas questões de segurança e privacidade associadas a ele. Este tipo de dados é usado principalmente para análises internas de organizações.\n",
        "### Dados Públicos\n",
        "Este tipo de dados está disponível para todos. Podemos encontrar isso em sites do governo e organizações públicas, etc. Qualquer pessoa pode acessar esses dados, não precisamos de nenhuma permissão especial ou aprovação.\n",
        "Podemos obter dados públicos nos seguintes sites.\n",
        "#### Brasil\n",
        "- [Conjuntos de Dados do Governo Federal](https://dados.gov.br/dataset)\n",
        "- [Conjuntos de Dados do Governo do Estado de SP](http://www.governoaberto.sp.gov.br)\n",
        "- [Conjuntos de Dados do Governo da Prefeitura de SP](http://dados.prefeitura.sp.gov.br/pt_PT/)\n",
        "- [Repositório de Dados Eleitorais](https://www.tse.jus.br/eleicoes/estatisticas/repositorio-de-dados-eleitorais-1/repositorio-de-dados-eleitorais)\n",
        "- [Data Viva - Dados Sociais e Econômicos](http://dataviva.info/pt/data/)\n",
        "\n",
        "#### Exterior\n",
        "- [Conjunto de Dados do Governo dos EUA](https://catalog.data.gov/dataset)\n",
        "- [Conjunto de Dados do Governo Britânico](https://data.gov.uk)\n",
        "- [Conjunto de Dados do Governo da Índia](https://data.gov.in)\n",
        "- [Kaggle: site de competição de Machine Learning](https://www.kaggle.com/datasets)\n",
        "- [Conjuntos de Dados da Universidade da Califórnia - Irvine](https://archive.ics.uci.edu/ml/index.php)\n",
        "- [Coletânea de Datasets Públicos](https://github.com/awesomedata/awesome-public-datasets)\n",
        "\n",
        "A primeira etapa do EDA é o Data Sourcing, vimos como podemos acessar os dados e carregá-los em nosso sistema. Agora, a próxima etapa é como limpar os dados."
      ]
    },
    {
      "cell_type": "markdown",
      "metadata": {
        "id": "fu5SU0PETeLA"
      },
      "source": [
        "## 2. Limpeza de dados\n",
        "\n",
        "Após concluir o Data Sourcing, a próxima etapa no processo de EDA é a limpeza de dados. É muito importante eliminar as irregularidades e limpar os dados depois de colocá-los em nosso sistema.\n",
        "As irregularidades são de diferentes tipos de dados.\n",
        "- Valores Ausentes\n",
        "- Formato Incorreto\n",
        "- Cabeçalhos Incorretos\n",
        "- Anomalias / Outliers\n",
        "\n",
        "Para realizar a limpeza de dados, estamos usando um conjunto de dados de amostra, que você fez download junto com este notebook."
      ]
    },
    {
      "cell_type": "markdown",
      "metadata": {
        "id": "rWQ8rGKkTeLA"
      },
      "source": [
        "Primeiro, vamos importar as bibliotecas necessárias e armazenar os dados em nosso sistema para análise."
      ]
    },
    {
      "cell_type": "code",
      "execution_count": null,
      "metadata": {
        "id": "xO_0tkhgTeLB"
      },
      "outputs": [],
      "source": [
        "#importar as bibliotecas de análise e visualização de dados\n",
        "import numpy as np\n",
        "import pandas as pd\n",
        "import matplotlib.pyplot as plt\n",
        "import seaborn as sns\n",
        "#imprimir os gráficos sem show\n",
        "%matplotlib inline"
      ]
    },
    {
      "cell_type": "markdown",
      "metadata": {
        "id": "IR2TX-XgTeLB"
      },
      "source": [
        "Importe os dados do arquivo `marketing_analysis.csv` para a variável `data` e examine os dados."
      ]
    },
    {
      "cell_type": "code",
      "source": [
        "from google.colab import drive\n",
        "drive.mount('/content/drive')"
      ],
      "metadata": {
        "colab": {
          "base_uri": "https://localhost:8080/"
        },
        "id": "gGAqZFGxmKow",
        "outputId": "d5c1e14d-2ebb-4a7e-a878-b3f806f936d9"
      },
      "execution_count": null,
      "outputs": [
        {
          "output_type": "stream",
          "name": "stdout",
          "text": [
            "Mounted at /content/drive\n"
          ]
        }
      ]
    },
    {
      "cell_type": "code",
      "execution_count": null,
      "metadata": {
        "id": "pY8-MXlBTeLC",
        "colab": {
          "base_uri": "https://localhost:8080/",
          "height": 678
        },
        "outputId": "2d7b75a2-d07d-4c95-a4a1-9fd17c5fc7e3"
      },
      "outputs": [
        {
          "output_type": "stream",
          "name": "stderr",
          "text": [
            "/usr/local/lib/python3.7/dist-packages/IPython/core/interactiveshell.py:3326: DtypeWarning: Columns (0,1,2,3,11,14,15,16) have mixed types.Specify dtype option on import or set low_memory=False.\n",
            "  exec(code_obj, self.user_global_ns, self.user_ns)\n"
          ]
        },
        {
          "output_type": "execute_result",
          "data": {
            "text/plain": [
              "          banking marketing Unnamed: 1                    Unnamed: 2  \\\n",
              "0      customer id and age.        NaN  Customer salary and balance.   \n",
              "1                customerid        age                        salary   \n",
              "2                         1         58                        100000   \n",
              "3                         2         44                         60000   \n",
              "4                         3         33                        120000   \n",
              "...                     ...        ...                           ...   \n",
              "45208                 45207       51.0                         60000   \n",
              "45209                 45208       71.0                         55000   \n",
              "45210                 45209       72.0                         55000   \n",
              "45211                 45210       57.0                         20000   \n",
              "45212                 45211       37.0                        120000   \n",
              "\n",
              "      Unnamed: 3                                         Unnamed: 4  \\\n",
              "0            NaN  Customer marital status and job with education...   \n",
              "1        balance                                            marital   \n",
              "2           2143                                            married   \n",
              "3             29                                             single   \n",
              "4              2                                            married   \n",
              "...          ...                                                ...   \n",
              "45208        825                                            married   \n",
              "45209       1729                                           divorced   \n",
              "45210       5715                                            married   \n",
              "45211        668                                            married   \n",
              "45212       2971                                            married   \n",
              "\n",
              "                   Unnamed: 5                                  Unnamed: 6  \\\n",
              "0                         NaN  particular customer before targeted or not   \n",
              "1                      jobedu                                    targeted   \n",
              "2         management,tertiary                                         yes   \n",
              "3        technician,secondary                                         yes   \n",
              "4      entrepreneur,secondary                                         yes   \n",
              "...                       ...                                         ...   \n",
              "45208     technician,tertiary                                         yes   \n",
              "45209         retired,primary                                         yes   \n",
              "45210       retired,secondary                                         yes   \n",
              "45211   blue-collar,secondary                                         yes   \n",
              "45212  entrepreneur,secondary                                         yes   \n",
              "\n",
              "      Unnamed: 7                          Unnamed: 8 Unnamed: 9   Unnamed: 10  \\\n",
              "0            NaN  Loan types: loans or housing loans        NaN  Contact type   \n",
              "1        default                             housing       loan       contact   \n",
              "2             no                                 yes         no       unknown   \n",
              "3             no                                 yes         no       unknown   \n",
              "4             no                                 yes        yes       unknown   \n",
              "...          ...                                 ...        ...           ...   \n",
              "45208         no                                  no         no      cellular   \n",
              "45209         no                                  no         no      cellular   \n",
              "45210         no                                  no         no      cellular   \n",
              "45211         no                                  no         no     telephone   \n",
              "45212         no                                  no         no      cellular   \n",
              "\n",
              "      Unnamed: 11       Unnamed: 12           Unnamed: 13 Unnamed: 14  \\\n",
              "0             NaN  month of contact      duration of call         NaN   \n",
              "1             day             month              duration    campaign   \n",
              "2               5         may, 2017               261 sec           1   \n",
              "3               5         may, 2017               151 sec           1   \n",
              "4               5         may, 2017                76 sec           1   \n",
              "...           ...               ...                   ...         ...   \n",
              "45208          17         nov, 2017  16.2833333333333 min           3   \n",
              "45209          17         nov, 2017               7.6 min           2   \n",
              "45210          17         nov, 2017  18.7833333333333 min           5   \n",
              "45211          17         nov, 2017  8.46666666666667 min           4   \n",
              "45212          17         nov, 2017  6.01666666666667 min           2   \n",
              "\n",
              "      Unnamed: 15 Unnamed: 16                  Unnamed: 17  \\\n",
              "0             NaN         NaN  outcome of previous contact   \n",
              "1           pdays    previous                     poutcome   \n",
              "2              -1           0                      unknown   \n",
              "3              -1           0                      unknown   \n",
              "4              -1           0                      unknown   \n",
              "...           ...         ...                          ...   \n",
              "45208          -1           0                      unknown   \n",
              "45209          -1           0                      unknown   \n",
              "45210         184           3                      success   \n",
              "45211          -1           0                      unknown   \n",
              "45212         188          11                        other   \n",
              "\n",
              "                                   Unnamed: 18  \n",
              "0      response of customer after call happned  \n",
              "1                                     response  \n",
              "2                                           no  \n",
              "3                                           no  \n",
              "4                                           no  \n",
              "...                                        ...  \n",
              "45208                                      yes  \n",
              "45209                                      yes  \n",
              "45210                                      yes  \n",
              "45211                                       no  \n",
              "45212                                       no  \n",
              "\n",
              "[45213 rows x 19 columns]"
            ],
            "text/html": [
              "\n",
              "  <div id=\"df-da49b064-8b39-489f-8d63-df9ccd1b3ace\">\n",
              "    <div class=\"colab-df-container\">\n",
              "      <div>\n",
              "<style scoped>\n",
              "    .dataframe tbody tr th:only-of-type {\n",
              "        vertical-align: middle;\n",
              "    }\n",
              "\n",
              "    .dataframe tbody tr th {\n",
              "        vertical-align: top;\n",
              "    }\n",
              "\n",
              "    .dataframe thead th {\n",
              "        text-align: right;\n",
              "    }\n",
              "</style>\n",
              "<table border=\"1\" class=\"dataframe\">\n",
              "  <thead>\n",
              "    <tr style=\"text-align: right;\">\n",
              "      <th></th>\n",
              "      <th>banking marketing</th>\n",
              "      <th>Unnamed: 1</th>\n",
              "      <th>Unnamed: 2</th>\n",
              "      <th>Unnamed: 3</th>\n",
              "      <th>Unnamed: 4</th>\n",
              "      <th>Unnamed: 5</th>\n",
              "      <th>Unnamed: 6</th>\n",
              "      <th>Unnamed: 7</th>\n",
              "      <th>Unnamed: 8</th>\n",
              "      <th>Unnamed: 9</th>\n",
              "      <th>Unnamed: 10</th>\n",
              "      <th>Unnamed: 11</th>\n",
              "      <th>Unnamed: 12</th>\n",
              "      <th>Unnamed: 13</th>\n",
              "      <th>Unnamed: 14</th>\n",
              "      <th>Unnamed: 15</th>\n",
              "      <th>Unnamed: 16</th>\n",
              "      <th>Unnamed: 17</th>\n",
              "      <th>Unnamed: 18</th>\n",
              "    </tr>\n",
              "  </thead>\n",
              "  <tbody>\n",
              "    <tr>\n",
              "      <th>0</th>\n",
              "      <td>customer id and age.</td>\n",
              "      <td>NaN</td>\n",
              "      <td>Customer salary and balance.</td>\n",
              "      <td>NaN</td>\n",
              "      <td>Customer marital status and job with education...</td>\n",
              "      <td>NaN</td>\n",
              "      <td>particular customer before targeted or not</td>\n",
              "      <td>NaN</td>\n",
              "      <td>Loan types: loans or housing loans</td>\n",
              "      <td>NaN</td>\n",
              "      <td>Contact type</td>\n",
              "      <td>NaN</td>\n",
              "      <td>month of contact</td>\n",
              "      <td>duration of call</td>\n",
              "      <td>NaN</td>\n",
              "      <td>NaN</td>\n",
              "      <td>NaN</td>\n",
              "      <td>outcome of previous contact</td>\n",
              "      <td>response of customer after call happned</td>\n",
              "    </tr>\n",
              "    <tr>\n",
              "      <th>1</th>\n",
              "      <td>customerid</td>\n",
              "      <td>age</td>\n",
              "      <td>salary</td>\n",
              "      <td>balance</td>\n",
              "      <td>marital</td>\n",
              "      <td>jobedu</td>\n",
              "      <td>targeted</td>\n",
              "      <td>default</td>\n",
              "      <td>housing</td>\n",
              "      <td>loan</td>\n",
              "      <td>contact</td>\n",
              "      <td>day</td>\n",
              "      <td>month</td>\n",
              "      <td>duration</td>\n",
              "      <td>campaign</td>\n",
              "      <td>pdays</td>\n",
              "      <td>previous</td>\n",
              "      <td>poutcome</td>\n",
              "      <td>response</td>\n",
              "    </tr>\n",
              "    <tr>\n",
              "      <th>2</th>\n",
              "      <td>1</td>\n",
              "      <td>58</td>\n",
              "      <td>100000</td>\n",
              "      <td>2143</td>\n",
              "      <td>married</td>\n",
              "      <td>management,tertiary</td>\n",
              "      <td>yes</td>\n",
              "      <td>no</td>\n",
              "      <td>yes</td>\n",
              "      <td>no</td>\n",
              "      <td>unknown</td>\n",
              "      <td>5</td>\n",
              "      <td>may, 2017</td>\n",
              "      <td>261 sec</td>\n",
              "      <td>1</td>\n",
              "      <td>-1</td>\n",
              "      <td>0</td>\n",
              "      <td>unknown</td>\n",
              "      <td>no</td>\n",
              "    </tr>\n",
              "    <tr>\n",
              "      <th>3</th>\n",
              "      <td>2</td>\n",
              "      <td>44</td>\n",
              "      <td>60000</td>\n",
              "      <td>29</td>\n",
              "      <td>single</td>\n",
              "      <td>technician,secondary</td>\n",
              "      <td>yes</td>\n",
              "      <td>no</td>\n",
              "      <td>yes</td>\n",
              "      <td>no</td>\n",
              "      <td>unknown</td>\n",
              "      <td>5</td>\n",
              "      <td>may, 2017</td>\n",
              "      <td>151 sec</td>\n",
              "      <td>1</td>\n",
              "      <td>-1</td>\n",
              "      <td>0</td>\n",
              "      <td>unknown</td>\n",
              "      <td>no</td>\n",
              "    </tr>\n",
              "    <tr>\n",
              "      <th>4</th>\n",
              "      <td>3</td>\n",
              "      <td>33</td>\n",
              "      <td>120000</td>\n",
              "      <td>2</td>\n",
              "      <td>married</td>\n",
              "      <td>entrepreneur,secondary</td>\n",
              "      <td>yes</td>\n",
              "      <td>no</td>\n",
              "      <td>yes</td>\n",
              "      <td>yes</td>\n",
              "      <td>unknown</td>\n",
              "      <td>5</td>\n",
              "      <td>may, 2017</td>\n",
              "      <td>76 sec</td>\n",
              "      <td>1</td>\n",
              "      <td>-1</td>\n",
              "      <td>0</td>\n",
              "      <td>unknown</td>\n",
              "      <td>no</td>\n",
              "    </tr>\n",
              "    <tr>\n",
              "      <th>...</th>\n",
              "      <td>...</td>\n",
              "      <td>...</td>\n",
              "      <td>...</td>\n",
              "      <td>...</td>\n",
              "      <td>...</td>\n",
              "      <td>...</td>\n",
              "      <td>...</td>\n",
              "      <td>...</td>\n",
              "      <td>...</td>\n",
              "      <td>...</td>\n",
              "      <td>...</td>\n",
              "      <td>...</td>\n",
              "      <td>...</td>\n",
              "      <td>...</td>\n",
              "      <td>...</td>\n",
              "      <td>...</td>\n",
              "      <td>...</td>\n",
              "      <td>...</td>\n",
              "      <td>...</td>\n",
              "    </tr>\n",
              "    <tr>\n",
              "      <th>45208</th>\n",
              "      <td>45207</td>\n",
              "      <td>51.0</td>\n",
              "      <td>60000</td>\n",
              "      <td>825</td>\n",
              "      <td>married</td>\n",
              "      <td>technician,tertiary</td>\n",
              "      <td>yes</td>\n",
              "      <td>no</td>\n",
              "      <td>no</td>\n",
              "      <td>no</td>\n",
              "      <td>cellular</td>\n",
              "      <td>17</td>\n",
              "      <td>nov, 2017</td>\n",
              "      <td>16.2833333333333 min</td>\n",
              "      <td>3</td>\n",
              "      <td>-1</td>\n",
              "      <td>0</td>\n",
              "      <td>unknown</td>\n",
              "      <td>yes</td>\n",
              "    </tr>\n",
              "    <tr>\n",
              "      <th>45209</th>\n",
              "      <td>45208</td>\n",
              "      <td>71.0</td>\n",
              "      <td>55000</td>\n",
              "      <td>1729</td>\n",
              "      <td>divorced</td>\n",
              "      <td>retired,primary</td>\n",
              "      <td>yes</td>\n",
              "      <td>no</td>\n",
              "      <td>no</td>\n",
              "      <td>no</td>\n",
              "      <td>cellular</td>\n",
              "      <td>17</td>\n",
              "      <td>nov, 2017</td>\n",
              "      <td>7.6 min</td>\n",
              "      <td>2</td>\n",
              "      <td>-1</td>\n",
              "      <td>0</td>\n",
              "      <td>unknown</td>\n",
              "      <td>yes</td>\n",
              "    </tr>\n",
              "    <tr>\n",
              "      <th>45210</th>\n",
              "      <td>45209</td>\n",
              "      <td>72.0</td>\n",
              "      <td>55000</td>\n",
              "      <td>5715</td>\n",
              "      <td>married</td>\n",
              "      <td>retired,secondary</td>\n",
              "      <td>yes</td>\n",
              "      <td>no</td>\n",
              "      <td>no</td>\n",
              "      <td>no</td>\n",
              "      <td>cellular</td>\n",
              "      <td>17</td>\n",
              "      <td>nov, 2017</td>\n",
              "      <td>18.7833333333333 min</td>\n",
              "      <td>5</td>\n",
              "      <td>184</td>\n",
              "      <td>3</td>\n",
              "      <td>success</td>\n",
              "      <td>yes</td>\n",
              "    </tr>\n",
              "    <tr>\n",
              "      <th>45211</th>\n",
              "      <td>45210</td>\n",
              "      <td>57.0</td>\n",
              "      <td>20000</td>\n",
              "      <td>668</td>\n",
              "      <td>married</td>\n",
              "      <td>blue-collar,secondary</td>\n",
              "      <td>yes</td>\n",
              "      <td>no</td>\n",
              "      <td>no</td>\n",
              "      <td>no</td>\n",
              "      <td>telephone</td>\n",
              "      <td>17</td>\n",
              "      <td>nov, 2017</td>\n",
              "      <td>8.46666666666667 min</td>\n",
              "      <td>4</td>\n",
              "      <td>-1</td>\n",
              "      <td>0</td>\n",
              "      <td>unknown</td>\n",
              "      <td>no</td>\n",
              "    </tr>\n",
              "    <tr>\n",
              "      <th>45212</th>\n",
              "      <td>45211</td>\n",
              "      <td>37.0</td>\n",
              "      <td>120000</td>\n",
              "      <td>2971</td>\n",
              "      <td>married</td>\n",
              "      <td>entrepreneur,secondary</td>\n",
              "      <td>yes</td>\n",
              "      <td>no</td>\n",
              "      <td>no</td>\n",
              "      <td>no</td>\n",
              "      <td>cellular</td>\n",
              "      <td>17</td>\n",
              "      <td>nov, 2017</td>\n",
              "      <td>6.01666666666667 min</td>\n",
              "      <td>2</td>\n",
              "      <td>188</td>\n",
              "      <td>11</td>\n",
              "      <td>other</td>\n",
              "      <td>no</td>\n",
              "    </tr>\n",
              "  </tbody>\n",
              "</table>\n",
              "<p>45213 rows × 19 columns</p>\n",
              "</div>\n",
              "      <button class=\"colab-df-convert\" onclick=\"convertToInteractive('df-da49b064-8b39-489f-8d63-df9ccd1b3ace')\"\n",
              "              title=\"Convert this dataframe to an interactive table.\"\n",
              "              style=\"display:none;\">\n",
              "        \n",
              "  <svg xmlns=\"http://www.w3.org/2000/svg\" height=\"24px\"viewBox=\"0 0 24 24\"\n",
              "       width=\"24px\">\n",
              "    <path d=\"M0 0h24v24H0V0z\" fill=\"none\"/>\n",
              "    <path d=\"M18.56 5.44l.94 2.06.94-2.06 2.06-.94-2.06-.94-.94-2.06-.94 2.06-2.06.94zm-11 1L8.5 8.5l.94-2.06 2.06-.94-2.06-.94L8.5 2.5l-.94 2.06-2.06.94zm10 10l.94 2.06.94-2.06 2.06-.94-2.06-.94-.94-2.06-.94 2.06-2.06.94z\"/><path d=\"M17.41 7.96l-1.37-1.37c-.4-.4-.92-.59-1.43-.59-.52 0-1.04.2-1.43.59L10.3 9.45l-7.72 7.72c-.78.78-.78 2.05 0 2.83L4 21.41c.39.39.9.59 1.41.59.51 0 1.02-.2 1.41-.59l7.78-7.78 2.81-2.81c.8-.78.8-2.07 0-2.86zM5.41 20L4 18.59l7.72-7.72 1.47 1.35L5.41 20z\"/>\n",
              "  </svg>\n",
              "      </button>\n",
              "      \n",
              "  <style>\n",
              "    .colab-df-container {\n",
              "      display:flex;\n",
              "      flex-wrap:wrap;\n",
              "      gap: 12px;\n",
              "    }\n",
              "\n",
              "    .colab-df-convert {\n",
              "      background-color: #E8F0FE;\n",
              "      border: none;\n",
              "      border-radius: 50%;\n",
              "      cursor: pointer;\n",
              "      display: none;\n",
              "      fill: #1967D2;\n",
              "      height: 32px;\n",
              "      padding: 0 0 0 0;\n",
              "      width: 32px;\n",
              "    }\n",
              "\n",
              "    .colab-df-convert:hover {\n",
              "      background-color: #E2EBFA;\n",
              "      box-shadow: 0px 1px 2px rgba(60, 64, 67, 0.3), 0px 1px 3px 1px rgba(60, 64, 67, 0.15);\n",
              "      fill: #174EA6;\n",
              "    }\n",
              "\n",
              "    [theme=dark] .colab-df-convert {\n",
              "      background-color: #3B4455;\n",
              "      fill: #D2E3FC;\n",
              "    }\n",
              "\n",
              "    [theme=dark] .colab-df-convert:hover {\n",
              "      background-color: #434B5C;\n",
              "      box-shadow: 0px 1px 3px 1px rgba(0, 0, 0, 0.15);\n",
              "      filter: drop-shadow(0px 1px 2px rgba(0, 0, 0, 0.3));\n",
              "      fill: #FFFFFF;\n",
              "    }\n",
              "  </style>\n",
              "\n",
              "      <script>\n",
              "        const buttonEl =\n",
              "          document.querySelector('#df-da49b064-8b39-489f-8d63-df9ccd1b3ace button.colab-df-convert');\n",
              "        buttonEl.style.display =\n",
              "          google.colab.kernel.accessAllowed ? 'block' : 'none';\n",
              "\n",
              "        async function convertToInteractive(key) {\n",
              "          const element = document.querySelector('#df-da49b064-8b39-489f-8d63-df9ccd1b3ace');\n",
              "          const dataTable =\n",
              "            await google.colab.kernel.invokeFunction('convertToInteractive',\n",
              "                                                     [key], {});\n",
              "          if (!dataTable) return;\n",
              "\n",
              "          const docLinkHtml = 'Like what you see? Visit the ' +\n",
              "            '<a target=\"_blank\" href=https://colab.research.google.com/notebooks/data_table.ipynb>data table notebook</a>'\n",
              "            + ' to learn more about interactive tables.';\n",
              "          element.innerHTML = '';\n",
              "          dataTable['output_type'] = 'display_data';\n",
              "          await google.colab.output.renderOutput(dataTable, element);\n",
              "          const docLink = document.createElement('div');\n",
              "          docLink.innerHTML = docLinkHtml;\n",
              "          element.appendChild(docLink);\n",
              "        }\n",
              "      </script>\n",
              "    </div>\n",
              "  </div>\n",
              "  "
            ]
          },
          "metadata": {},
          "execution_count": 3
        }
      ],
      "source": [
        "# ler o conjunto de dados \"Marketing Analysis\" para a variável data\n",
        "data = pd.read_csv('/content/drive/MyDrive/2022_2_extensao_adp/datasets/Marketing_Analysis.csv')\n",
        "# mostrar os dados\n",
        "data"
      ]
    },
    {
      "cell_type": "markdown",
      "metadata": {
        "id": "AuQBbcHGTeLC"
      },
      "source": [
        "Se observarmos o conjunto de dados acima, existem algumas discrepâncias no cabeçalho da coluna para as 2 primeiras linhas. Os dados corretos são do número de índice 1. Portanto, temos que corrigir as duas primeiras linhas.\n",
        "Vamos ignorar as duas primeiras linhas e carregar os dados novamente."
      ]
    },
    {
      "cell_type": "code",
      "execution_count": null,
      "metadata": {
        "id": "tDUl4LvSTeLC",
        "colab": {
          "base_uri": "https://localhost:8080/",
          "height": 357
        },
        "outputId": "9ae31da1-6638-4933-fc95-765dafb8b2ca"
      },
      "outputs": [
        {
          "output_type": "execute_result",
          "data": {
            "text/plain": [
              "   customerid   age  salary  balance  marital                  jobedu  \\\n",
              "0           1  58.0  100000     2143  married     management,tertiary   \n",
              "1           2  44.0   60000       29   single    technician,secondary   \n",
              "2           3  33.0  120000        2  married  entrepreneur,secondary   \n",
              "3           4  47.0   20000     1506  married     blue-collar,unknown   \n",
              "4           5  33.0       0        1   single         unknown,unknown   \n",
              "\n",
              "  targeted default housing loan  contact  day      month duration  campaign  \\\n",
              "0      yes      no     yes   no  unknown    5  may, 2017  261 sec         1   \n",
              "1      yes      no     yes   no  unknown    5  may, 2017  151 sec         1   \n",
              "2      yes      no     yes  yes  unknown    5  may, 2017   76 sec         1   \n",
              "3       no      no     yes   no  unknown    5  may, 2017   92 sec         1   \n",
              "4       no      no      no   no  unknown    5  may, 2017  198 sec         1   \n",
              "\n",
              "   pdays  previous poutcome response  \n",
              "0     -1         0  unknown       no  \n",
              "1     -1         0  unknown       no  \n",
              "2     -1         0  unknown       no  \n",
              "3     -1         0  unknown       no  \n",
              "4     -1         0  unknown       no  "
            ],
            "text/html": [
              "\n",
              "  <div id=\"df-0a479bcb-56aa-42ec-85f6-8d2ef25e847c\">\n",
              "    <div class=\"colab-df-container\">\n",
              "      <div>\n",
              "<style scoped>\n",
              "    .dataframe tbody tr th:only-of-type {\n",
              "        vertical-align: middle;\n",
              "    }\n",
              "\n",
              "    .dataframe tbody tr th {\n",
              "        vertical-align: top;\n",
              "    }\n",
              "\n",
              "    .dataframe thead th {\n",
              "        text-align: right;\n",
              "    }\n",
              "</style>\n",
              "<table border=\"1\" class=\"dataframe\">\n",
              "  <thead>\n",
              "    <tr style=\"text-align: right;\">\n",
              "      <th></th>\n",
              "      <th>customerid</th>\n",
              "      <th>age</th>\n",
              "      <th>salary</th>\n",
              "      <th>balance</th>\n",
              "      <th>marital</th>\n",
              "      <th>jobedu</th>\n",
              "      <th>targeted</th>\n",
              "      <th>default</th>\n",
              "      <th>housing</th>\n",
              "      <th>loan</th>\n",
              "      <th>contact</th>\n",
              "      <th>day</th>\n",
              "      <th>month</th>\n",
              "      <th>duration</th>\n",
              "      <th>campaign</th>\n",
              "      <th>pdays</th>\n",
              "      <th>previous</th>\n",
              "      <th>poutcome</th>\n",
              "      <th>response</th>\n",
              "    </tr>\n",
              "  </thead>\n",
              "  <tbody>\n",
              "    <tr>\n",
              "      <th>0</th>\n",
              "      <td>1</td>\n",
              "      <td>58.0</td>\n",
              "      <td>100000</td>\n",
              "      <td>2143</td>\n",
              "      <td>married</td>\n",
              "      <td>management,tertiary</td>\n",
              "      <td>yes</td>\n",
              "      <td>no</td>\n",
              "      <td>yes</td>\n",
              "      <td>no</td>\n",
              "      <td>unknown</td>\n",
              "      <td>5</td>\n",
              "      <td>may, 2017</td>\n",
              "      <td>261 sec</td>\n",
              "      <td>1</td>\n",
              "      <td>-1</td>\n",
              "      <td>0</td>\n",
              "      <td>unknown</td>\n",
              "      <td>no</td>\n",
              "    </tr>\n",
              "    <tr>\n",
              "      <th>1</th>\n",
              "      <td>2</td>\n",
              "      <td>44.0</td>\n",
              "      <td>60000</td>\n",
              "      <td>29</td>\n",
              "      <td>single</td>\n",
              "      <td>technician,secondary</td>\n",
              "      <td>yes</td>\n",
              "      <td>no</td>\n",
              "      <td>yes</td>\n",
              "      <td>no</td>\n",
              "      <td>unknown</td>\n",
              "      <td>5</td>\n",
              "      <td>may, 2017</td>\n",
              "      <td>151 sec</td>\n",
              "      <td>1</td>\n",
              "      <td>-1</td>\n",
              "      <td>0</td>\n",
              "      <td>unknown</td>\n",
              "      <td>no</td>\n",
              "    </tr>\n",
              "    <tr>\n",
              "      <th>2</th>\n",
              "      <td>3</td>\n",
              "      <td>33.0</td>\n",
              "      <td>120000</td>\n",
              "      <td>2</td>\n",
              "      <td>married</td>\n",
              "      <td>entrepreneur,secondary</td>\n",
              "      <td>yes</td>\n",
              "      <td>no</td>\n",
              "      <td>yes</td>\n",
              "      <td>yes</td>\n",
              "      <td>unknown</td>\n",
              "      <td>5</td>\n",
              "      <td>may, 2017</td>\n",
              "      <td>76 sec</td>\n",
              "      <td>1</td>\n",
              "      <td>-1</td>\n",
              "      <td>0</td>\n",
              "      <td>unknown</td>\n",
              "      <td>no</td>\n",
              "    </tr>\n",
              "    <tr>\n",
              "      <th>3</th>\n",
              "      <td>4</td>\n",
              "      <td>47.0</td>\n",
              "      <td>20000</td>\n",
              "      <td>1506</td>\n",
              "      <td>married</td>\n",
              "      <td>blue-collar,unknown</td>\n",
              "      <td>no</td>\n",
              "      <td>no</td>\n",
              "      <td>yes</td>\n",
              "      <td>no</td>\n",
              "      <td>unknown</td>\n",
              "      <td>5</td>\n",
              "      <td>may, 2017</td>\n",
              "      <td>92 sec</td>\n",
              "      <td>1</td>\n",
              "      <td>-1</td>\n",
              "      <td>0</td>\n",
              "      <td>unknown</td>\n",
              "      <td>no</td>\n",
              "    </tr>\n",
              "    <tr>\n",
              "      <th>4</th>\n",
              "      <td>5</td>\n",
              "      <td>33.0</td>\n",
              "      <td>0</td>\n",
              "      <td>1</td>\n",
              "      <td>single</td>\n",
              "      <td>unknown,unknown</td>\n",
              "      <td>no</td>\n",
              "      <td>no</td>\n",
              "      <td>no</td>\n",
              "      <td>no</td>\n",
              "      <td>unknown</td>\n",
              "      <td>5</td>\n",
              "      <td>may, 2017</td>\n",
              "      <td>198 sec</td>\n",
              "      <td>1</td>\n",
              "      <td>-1</td>\n",
              "      <td>0</td>\n",
              "      <td>unknown</td>\n",
              "      <td>no</td>\n",
              "    </tr>\n",
              "  </tbody>\n",
              "</table>\n",
              "</div>\n",
              "      <button class=\"colab-df-convert\" onclick=\"convertToInteractive('df-0a479bcb-56aa-42ec-85f6-8d2ef25e847c')\"\n",
              "              title=\"Convert this dataframe to an interactive table.\"\n",
              "              style=\"display:none;\">\n",
              "        \n",
              "  <svg xmlns=\"http://www.w3.org/2000/svg\" height=\"24px\"viewBox=\"0 0 24 24\"\n",
              "       width=\"24px\">\n",
              "    <path d=\"M0 0h24v24H0V0z\" fill=\"none\"/>\n",
              "    <path d=\"M18.56 5.44l.94 2.06.94-2.06 2.06-.94-2.06-.94-.94-2.06-.94 2.06-2.06.94zm-11 1L8.5 8.5l.94-2.06 2.06-.94-2.06-.94L8.5 2.5l-.94 2.06-2.06.94zm10 10l.94 2.06.94-2.06 2.06-.94-2.06-.94-.94-2.06-.94 2.06-2.06.94z\"/><path d=\"M17.41 7.96l-1.37-1.37c-.4-.4-.92-.59-1.43-.59-.52 0-1.04.2-1.43.59L10.3 9.45l-7.72 7.72c-.78.78-.78 2.05 0 2.83L4 21.41c.39.39.9.59 1.41.59.51 0 1.02-.2 1.41-.59l7.78-7.78 2.81-2.81c.8-.78.8-2.07 0-2.86zM5.41 20L4 18.59l7.72-7.72 1.47 1.35L5.41 20z\"/>\n",
              "  </svg>\n",
              "      </button>\n",
              "      \n",
              "  <style>\n",
              "    .colab-df-container {\n",
              "      display:flex;\n",
              "      flex-wrap:wrap;\n",
              "      gap: 12px;\n",
              "    }\n",
              "\n",
              "    .colab-df-convert {\n",
              "      background-color: #E8F0FE;\n",
              "      border: none;\n",
              "      border-radius: 50%;\n",
              "      cursor: pointer;\n",
              "      display: none;\n",
              "      fill: #1967D2;\n",
              "      height: 32px;\n",
              "      padding: 0 0 0 0;\n",
              "      width: 32px;\n",
              "    }\n",
              "\n",
              "    .colab-df-convert:hover {\n",
              "      background-color: #E2EBFA;\n",
              "      box-shadow: 0px 1px 2px rgba(60, 64, 67, 0.3), 0px 1px 3px 1px rgba(60, 64, 67, 0.15);\n",
              "      fill: #174EA6;\n",
              "    }\n",
              "\n",
              "    [theme=dark] .colab-df-convert {\n",
              "      background-color: #3B4455;\n",
              "      fill: #D2E3FC;\n",
              "    }\n",
              "\n",
              "    [theme=dark] .colab-df-convert:hover {\n",
              "      background-color: #434B5C;\n",
              "      box-shadow: 0px 1px 3px 1px rgba(0, 0, 0, 0.15);\n",
              "      filter: drop-shadow(0px 1px 2px rgba(0, 0, 0, 0.3));\n",
              "      fill: #FFFFFF;\n",
              "    }\n",
              "  </style>\n",
              "\n",
              "      <script>\n",
              "        const buttonEl =\n",
              "          document.querySelector('#df-0a479bcb-56aa-42ec-85f6-8d2ef25e847c button.colab-df-convert');\n",
              "        buttonEl.style.display =\n",
              "          google.colab.kernel.accessAllowed ? 'block' : 'none';\n",
              "\n",
              "        async function convertToInteractive(key) {\n",
              "          const element = document.querySelector('#df-0a479bcb-56aa-42ec-85f6-8d2ef25e847c');\n",
              "          const dataTable =\n",
              "            await google.colab.kernel.invokeFunction('convertToInteractive',\n",
              "                                                     [key], {});\n",
              "          if (!dataTable) return;\n",
              "\n",
              "          const docLinkHtml = 'Like what you see? Visit the ' +\n",
              "            '<a target=\"_blank\" href=https://colab.research.google.com/notebooks/data_table.ipynb>data table notebook</a>'\n",
              "            + ' to learn more about interactive tables.';\n",
              "          element.innerHTML = '';\n",
              "          dataTable['output_type'] = 'display_data';\n",
              "          await google.colab.output.renderOutput(dataTable, element);\n",
              "          const docLink = document.createElement('div');\n",
              "          docLink.innerHTML = docLinkHtml;\n",
              "          element.appendChild(docLink);\n",
              "        }\n",
              "      </script>\n",
              "    </div>\n",
              "  </div>\n",
              "  "
            ]
          },
          "metadata": {},
          "execution_count": 4
        }
      ],
      "source": [
        "# ler novamente o arquivo pulando as duas primeiras linhas\n",
        "data = pd.read_csv('/content/drive/MyDrive/2022_2_extensao_adp/datasets/Marketing_Analysis.csv', skiprows=2)\n",
        "# imprimir o head do arquivo\n",
        "data.head()"
      ]
    },
    {
      "cell_type": "markdown",
      "metadata": {
        "id": "h1aZLB4xTeLD"
      },
      "source": [
        "A seguir estão as etapas a serem seguidas ao *consertar linhas e colunas*:\n",
        "\n",
        "1. Exclua linhas e colunas de resumo no conjunto de dados.\n",
        "2. Exclua as linhas de cabeçalho e rodapé em todas as páginas.\n",
        "3. Exclua linhas extras como linhas em branco, números de página, etc.\n",
        "4. Podemos mesclar colunas diferentes se isso permitir uma melhor compreensão dos dados\n",
        "5. Da mesma forma, também podemos dividir uma coluna em várias colunas com base em nossos requisitos ou compreensão.\n",
        "6. Adicione nomes de coluna, é muito importante ter nomes de coluna no conjunto de dados.\n",
        "\n",
        "Agora, se observarmos o conjunto de dados acima, a coluna `customerid` não tem nenhuma importância para nossa análise, e também a coluna `jobedu` contém as informações de emprego e educação.\n",
        "Então, o que vamos fazer é eliminar a coluna `customerid` e dividir a coluna `jobedu` em duas outras colunas trabalho e educação e, depois disso, eliminaremos a coluna `jobedu` também."
      ]
    },
    {
      "cell_type": "code",
      "execution_count": null,
      "metadata": {
        "scrolled": false,
        "id": "DEUGipNNTeLD",
        "colab": {
          "base_uri": "https://localhost:8080/",
          "height": 661
        },
        "outputId": "fb870a4b-8b0e-4efb-fae4-2611adc9f7d5"
      },
      "outputs": [
        {
          "output_type": "execute_result",
          "data": {
            "text/plain": [
              "        age  salary  balance   marital targeted default housing loan  \\\n",
              "0      58.0  100000     2143   married      yes      no     yes   no   \n",
              "1      44.0   60000       29    single      yes      no     yes   no   \n",
              "2      33.0  120000        2   married      yes      no     yes  yes   \n",
              "3      47.0   20000     1506   married       no      no     yes   no   \n",
              "4      33.0       0        1    single       no      no      no   no   \n",
              "...     ...     ...      ...       ...      ...     ...     ...  ...   \n",
              "45206  51.0   60000      825   married      yes      no      no   no   \n",
              "45207  71.0   55000     1729  divorced      yes      no      no   no   \n",
              "45208  72.0   55000     5715   married      yes      no      no   no   \n",
              "45209  57.0   20000      668   married      yes      no      no   no   \n",
              "45210  37.0  120000     2971   married      yes      no      no   no   \n",
              "\n",
              "         contact  day      month              duration  campaign  pdays  \\\n",
              "0        unknown    5  may, 2017               261 sec         1     -1   \n",
              "1        unknown    5  may, 2017               151 sec         1     -1   \n",
              "2        unknown    5  may, 2017                76 sec         1     -1   \n",
              "3        unknown    5  may, 2017                92 sec         1     -1   \n",
              "4        unknown    5  may, 2017               198 sec         1     -1   \n",
              "...          ...  ...        ...                   ...       ...    ...   \n",
              "45206   cellular   17  nov, 2017  16.2833333333333 min         3     -1   \n",
              "45207   cellular   17  nov, 2017               7.6 min         2     -1   \n",
              "45208   cellular   17  nov, 2017  18.7833333333333 min         5    184   \n",
              "45209  telephone   17  nov, 2017  8.46666666666667 min         4     -1   \n",
              "45210   cellular   17  nov, 2017  6.01666666666667 min         2    188   \n",
              "\n",
              "       previous poutcome response           job  education  \n",
              "0             0  unknown       no    management   tertiary  \n",
              "1             0  unknown       no    technician  secondary  \n",
              "2             0  unknown       no  entrepreneur  secondary  \n",
              "3             0  unknown       no   blue-collar    unknown  \n",
              "4             0  unknown       no       unknown    unknown  \n",
              "...         ...      ...      ...           ...        ...  \n",
              "45206         0  unknown      yes    technician   tertiary  \n",
              "45207         0  unknown      yes       retired    primary  \n",
              "45208         3  success      yes       retired  secondary  \n",
              "45209         0  unknown       no   blue-collar  secondary  \n",
              "45210        11    other       no  entrepreneur  secondary  \n",
              "\n",
              "[45211 rows x 19 columns]"
            ],
            "text/html": [
              "\n",
              "  <div id=\"df-a3902a7b-f74d-4c21-8748-8f98c0c05336\">\n",
              "    <div class=\"colab-df-container\">\n",
              "      <div>\n",
              "<style scoped>\n",
              "    .dataframe tbody tr th:only-of-type {\n",
              "        vertical-align: middle;\n",
              "    }\n",
              "\n",
              "    .dataframe tbody tr th {\n",
              "        vertical-align: top;\n",
              "    }\n",
              "\n",
              "    .dataframe thead th {\n",
              "        text-align: right;\n",
              "    }\n",
              "</style>\n",
              "<table border=\"1\" class=\"dataframe\">\n",
              "  <thead>\n",
              "    <tr style=\"text-align: right;\">\n",
              "      <th></th>\n",
              "      <th>age</th>\n",
              "      <th>salary</th>\n",
              "      <th>balance</th>\n",
              "      <th>marital</th>\n",
              "      <th>targeted</th>\n",
              "      <th>default</th>\n",
              "      <th>housing</th>\n",
              "      <th>loan</th>\n",
              "      <th>contact</th>\n",
              "      <th>day</th>\n",
              "      <th>month</th>\n",
              "      <th>duration</th>\n",
              "      <th>campaign</th>\n",
              "      <th>pdays</th>\n",
              "      <th>previous</th>\n",
              "      <th>poutcome</th>\n",
              "      <th>response</th>\n",
              "      <th>job</th>\n",
              "      <th>education</th>\n",
              "    </tr>\n",
              "  </thead>\n",
              "  <tbody>\n",
              "    <tr>\n",
              "      <th>0</th>\n",
              "      <td>58.0</td>\n",
              "      <td>100000</td>\n",
              "      <td>2143</td>\n",
              "      <td>married</td>\n",
              "      <td>yes</td>\n",
              "      <td>no</td>\n",
              "      <td>yes</td>\n",
              "      <td>no</td>\n",
              "      <td>unknown</td>\n",
              "      <td>5</td>\n",
              "      <td>may, 2017</td>\n",
              "      <td>261 sec</td>\n",
              "      <td>1</td>\n",
              "      <td>-1</td>\n",
              "      <td>0</td>\n",
              "      <td>unknown</td>\n",
              "      <td>no</td>\n",
              "      <td>management</td>\n",
              "      <td>tertiary</td>\n",
              "    </tr>\n",
              "    <tr>\n",
              "      <th>1</th>\n",
              "      <td>44.0</td>\n",
              "      <td>60000</td>\n",
              "      <td>29</td>\n",
              "      <td>single</td>\n",
              "      <td>yes</td>\n",
              "      <td>no</td>\n",
              "      <td>yes</td>\n",
              "      <td>no</td>\n",
              "      <td>unknown</td>\n",
              "      <td>5</td>\n",
              "      <td>may, 2017</td>\n",
              "      <td>151 sec</td>\n",
              "      <td>1</td>\n",
              "      <td>-1</td>\n",
              "      <td>0</td>\n",
              "      <td>unknown</td>\n",
              "      <td>no</td>\n",
              "      <td>technician</td>\n",
              "      <td>secondary</td>\n",
              "    </tr>\n",
              "    <tr>\n",
              "      <th>2</th>\n",
              "      <td>33.0</td>\n",
              "      <td>120000</td>\n",
              "      <td>2</td>\n",
              "      <td>married</td>\n",
              "      <td>yes</td>\n",
              "      <td>no</td>\n",
              "      <td>yes</td>\n",
              "      <td>yes</td>\n",
              "      <td>unknown</td>\n",
              "      <td>5</td>\n",
              "      <td>may, 2017</td>\n",
              "      <td>76 sec</td>\n",
              "      <td>1</td>\n",
              "      <td>-1</td>\n",
              "      <td>0</td>\n",
              "      <td>unknown</td>\n",
              "      <td>no</td>\n",
              "      <td>entrepreneur</td>\n",
              "      <td>secondary</td>\n",
              "    </tr>\n",
              "    <tr>\n",
              "      <th>3</th>\n",
              "      <td>47.0</td>\n",
              "      <td>20000</td>\n",
              "      <td>1506</td>\n",
              "      <td>married</td>\n",
              "      <td>no</td>\n",
              "      <td>no</td>\n",
              "      <td>yes</td>\n",
              "      <td>no</td>\n",
              "      <td>unknown</td>\n",
              "      <td>5</td>\n",
              "      <td>may, 2017</td>\n",
              "      <td>92 sec</td>\n",
              "      <td>1</td>\n",
              "      <td>-1</td>\n",
              "      <td>0</td>\n",
              "      <td>unknown</td>\n",
              "      <td>no</td>\n",
              "      <td>blue-collar</td>\n",
              "      <td>unknown</td>\n",
              "    </tr>\n",
              "    <tr>\n",
              "      <th>4</th>\n",
              "      <td>33.0</td>\n",
              "      <td>0</td>\n",
              "      <td>1</td>\n",
              "      <td>single</td>\n",
              "      <td>no</td>\n",
              "      <td>no</td>\n",
              "      <td>no</td>\n",
              "      <td>no</td>\n",
              "      <td>unknown</td>\n",
              "      <td>5</td>\n",
              "      <td>may, 2017</td>\n",
              "      <td>198 sec</td>\n",
              "      <td>1</td>\n",
              "      <td>-1</td>\n",
              "      <td>0</td>\n",
              "      <td>unknown</td>\n",
              "      <td>no</td>\n",
              "      <td>unknown</td>\n",
              "      <td>unknown</td>\n",
              "    </tr>\n",
              "    <tr>\n",
              "      <th>...</th>\n",
              "      <td>...</td>\n",
              "      <td>...</td>\n",
              "      <td>...</td>\n",
              "      <td>...</td>\n",
              "      <td>...</td>\n",
              "      <td>...</td>\n",
              "      <td>...</td>\n",
              "      <td>...</td>\n",
              "      <td>...</td>\n",
              "      <td>...</td>\n",
              "      <td>...</td>\n",
              "      <td>...</td>\n",
              "      <td>...</td>\n",
              "      <td>...</td>\n",
              "      <td>...</td>\n",
              "      <td>...</td>\n",
              "      <td>...</td>\n",
              "      <td>...</td>\n",
              "      <td>...</td>\n",
              "    </tr>\n",
              "    <tr>\n",
              "      <th>45206</th>\n",
              "      <td>51.0</td>\n",
              "      <td>60000</td>\n",
              "      <td>825</td>\n",
              "      <td>married</td>\n",
              "      <td>yes</td>\n",
              "      <td>no</td>\n",
              "      <td>no</td>\n",
              "      <td>no</td>\n",
              "      <td>cellular</td>\n",
              "      <td>17</td>\n",
              "      <td>nov, 2017</td>\n",
              "      <td>16.2833333333333 min</td>\n",
              "      <td>3</td>\n",
              "      <td>-1</td>\n",
              "      <td>0</td>\n",
              "      <td>unknown</td>\n",
              "      <td>yes</td>\n",
              "      <td>technician</td>\n",
              "      <td>tertiary</td>\n",
              "    </tr>\n",
              "    <tr>\n",
              "      <th>45207</th>\n",
              "      <td>71.0</td>\n",
              "      <td>55000</td>\n",
              "      <td>1729</td>\n",
              "      <td>divorced</td>\n",
              "      <td>yes</td>\n",
              "      <td>no</td>\n",
              "      <td>no</td>\n",
              "      <td>no</td>\n",
              "      <td>cellular</td>\n",
              "      <td>17</td>\n",
              "      <td>nov, 2017</td>\n",
              "      <td>7.6 min</td>\n",
              "      <td>2</td>\n",
              "      <td>-1</td>\n",
              "      <td>0</td>\n",
              "      <td>unknown</td>\n",
              "      <td>yes</td>\n",
              "      <td>retired</td>\n",
              "      <td>primary</td>\n",
              "    </tr>\n",
              "    <tr>\n",
              "      <th>45208</th>\n",
              "      <td>72.0</td>\n",
              "      <td>55000</td>\n",
              "      <td>5715</td>\n",
              "      <td>married</td>\n",
              "      <td>yes</td>\n",
              "      <td>no</td>\n",
              "      <td>no</td>\n",
              "      <td>no</td>\n",
              "      <td>cellular</td>\n",
              "      <td>17</td>\n",
              "      <td>nov, 2017</td>\n",
              "      <td>18.7833333333333 min</td>\n",
              "      <td>5</td>\n",
              "      <td>184</td>\n",
              "      <td>3</td>\n",
              "      <td>success</td>\n",
              "      <td>yes</td>\n",
              "      <td>retired</td>\n",
              "      <td>secondary</td>\n",
              "    </tr>\n",
              "    <tr>\n",
              "      <th>45209</th>\n",
              "      <td>57.0</td>\n",
              "      <td>20000</td>\n",
              "      <td>668</td>\n",
              "      <td>married</td>\n",
              "      <td>yes</td>\n",
              "      <td>no</td>\n",
              "      <td>no</td>\n",
              "      <td>no</td>\n",
              "      <td>telephone</td>\n",
              "      <td>17</td>\n",
              "      <td>nov, 2017</td>\n",
              "      <td>8.46666666666667 min</td>\n",
              "      <td>4</td>\n",
              "      <td>-1</td>\n",
              "      <td>0</td>\n",
              "      <td>unknown</td>\n",
              "      <td>no</td>\n",
              "      <td>blue-collar</td>\n",
              "      <td>secondary</td>\n",
              "    </tr>\n",
              "    <tr>\n",
              "      <th>45210</th>\n",
              "      <td>37.0</td>\n",
              "      <td>120000</td>\n",
              "      <td>2971</td>\n",
              "      <td>married</td>\n",
              "      <td>yes</td>\n",
              "      <td>no</td>\n",
              "      <td>no</td>\n",
              "      <td>no</td>\n",
              "      <td>cellular</td>\n",
              "      <td>17</td>\n",
              "      <td>nov, 2017</td>\n",
              "      <td>6.01666666666667 min</td>\n",
              "      <td>2</td>\n",
              "      <td>188</td>\n",
              "      <td>11</td>\n",
              "      <td>other</td>\n",
              "      <td>no</td>\n",
              "      <td>entrepreneur</td>\n",
              "      <td>secondary</td>\n",
              "    </tr>\n",
              "  </tbody>\n",
              "</table>\n",
              "<p>45211 rows × 19 columns</p>\n",
              "</div>\n",
              "      <button class=\"colab-df-convert\" onclick=\"convertToInteractive('df-a3902a7b-f74d-4c21-8748-8f98c0c05336')\"\n",
              "              title=\"Convert this dataframe to an interactive table.\"\n",
              "              style=\"display:none;\">\n",
              "        \n",
              "  <svg xmlns=\"http://www.w3.org/2000/svg\" height=\"24px\"viewBox=\"0 0 24 24\"\n",
              "       width=\"24px\">\n",
              "    <path d=\"M0 0h24v24H0V0z\" fill=\"none\"/>\n",
              "    <path d=\"M18.56 5.44l.94 2.06.94-2.06 2.06-.94-2.06-.94-.94-2.06-.94 2.06-2.06.94zm-11 1L8.5 8.5l.94-2.06 2.06-.94-2.06-.94L8.5 2.5l-.94 2.06-2.06.94zm10 10l.94 2.06.94-2.06 2.06-.94-2.06-.94-.94-2.06-.94 2.06-2.06.94z\"/><path d=\"M17.41 7.96l-1.37-1.37c-.4-.4-.92-.59-1.43-.59-.52 0-1.04.2-1.43.59L10.3 9.45l-7.72 7.72c-.78.78-.78 2.05 0 2.83L4 21.41c.39.39.9.59 1.41.59.51 0 1.02-.2 1.41-.59l7.78-7.78 2.81-2.81c.8-.78.8-2.07 0-2.86zM5.41 20L4 18.59l7.72-7.72 1.47 1.35L5.41 20z\"/>\n",
              "  </svg>\n",
              "      </button>\n",
              "      \n",
              "  <style>\n",
              "    .colab-df-container {\n",
              "      display:flex;\n",
              "      flex-wrap:wrap;\n",
              "      gap: 12px;\n",
              "    }\n",
              "\n",
              "    .colab-df-convert {\n",
              "      background-color: #E8F0FE;\n",
              "      border: none;\n",
              "      border-radius: 50%;\n",
              "      cursor: pointer;\n",
              "      display: none;\n",
              "      fill: #1967D2;\n",
              "      height: 32px;\n",
              "      padding: 0 0 0 0;\n",
              "      width: 32px;\n",
              "    }\n",
              "\n",
              "    .colab-df-convert:hover {\n",
              "      background-color: #E2EBFA;\n",
              "      box-shadow: 0px 1px 2px rgba(60, 64, 67, 0.3), 0px 1px 3px 1px rgba(60, 64, 67, 0.15);\n",
              "      fill: #174EA6;\n",
              "    }\n",
              "\n",
              "    [theme=dark] .colab-df-convert {\n",
              "      background-color: #3B4455;\n",
              "      fill: #D2E3FC;\n",
              "    }\n",
              "\n",
              "    [theme=dark] .colab-df-convert:hover {\n",
              "      background-color: #434B5C;\n",
              "      box-shadow: 0px 1px 3px 1px rgba(0, 0, 0, 0.15);\n",
              "      filter: drop-shadow(0px 1px 2px rgba(0, 0, 0, 0.3));\n",
              "      fill: #FFFFFF;\n",
              "    }\n",
              "  </style>\n",
              "\n",
              "      <script>\n",
              "        const buttonEl =\n",
              "          document.querySelector('#df-a3902a7b-f74d-4c21-8748-8f98c0c05336 button.colab-df-convert');\n",
              "        buttonEl.style.display =\n",
              "          google.colab.kernel.accessAllowed ? 'block' : 'none';\n",
              "\n",
              "        async function convertToInteractive(key) {\n",
              "          const element = document.querySelector('#df-a3902a7b-f74d-4c21-8748-8f98c0c05336');\n",
              "          const dataTable =\n",
              "            await google.colab.kernel.invokeFunction('convertToInteractive',\n",
              "                                                     [key], {});\n",
              "          if (!dataTable) return;\n",
              "\n",
              "          const docLinkHtml = 'Like what you see? Visit the ' +\n",
              "            '<a target=\"_blank\" href=https://colab.research.google.com/notebooks/data_table.ipynb>data table notebook</a>'\n",
              "            + ' to learn more about interactive tables.';\n",
              "          element.innerHTML = '';\n",
              "          dataTable['output_type'] = 'display_data';\n",
              "          await google.colab.output.renderOutput(dataTable, element);\n",
              "          const docLink = document.createElement('div');\n",
              "          docLink.innerHTML = docLinkHtml;\n",
              "          element.appendChild(docLink);\n",
              "        }\n",
              "      </script>\n",
              "    </div>\n",
              "  </div>\n",
              "  "
            ]
          },
          "metadata": {},
          "execution_count": 5
        }
      ],
      "source": [
        "# dropar a coluna costumerid\n",
        "data.drop('customerid', axis=1, inplace=True)\n",
        "# extrair job e education de jobedu, criando estas duas colunas\n",
        "data['job'] = data['jobedu'].apply(lambda x:x.split(',')[0])\n",
        "data['education'] = data['jobedu'].apply(lambda x:x.split(',')[1])\n",
        "# dropar jobedu\n",
        "data.drop('jobedu', axis=1, inplace=True)\n",
        "# imprimir o data set\n",
        "data"
      ]
    },
    {
      "cell_type": "markdown",
      "metadata": {
        "id": "EYECt7sVTeLD"
      },
      "source": [
        "### Valores ausentes\n",
        "Se houver valores ausentes no conjunto de dados, antes de fazer qualquer análise estatística, precisamos lidar com esses valores ausentes.\n",
        "Existem basicamente três tipos de valores ausentes.\n",
        "- *MCAR* (*Missing completely at random*, ou ausente completamente ao acaso): esses valores não dependem de nenhum outra feature do dataset.\n",
        "- *MAR* (*Missing at random*, ou ausente aleatoriamente): esses valores podem depender de algumas outras features do dataset.\n",
        "- *MNAR* (*Missing not at random*, ou ausente, não aleatório): esses valores ausentes têm algum motivo para estarem ausentes.\n",
        "\n",
        "Veja mais no artigo [Safe handling intructions for missing data, de D. Niederhut](http://conference.scipy.org/proceedings/scipy2018/pdfs/dillon_niederhut.pdf)\n",
        "\n",
        "Vamos ver quais colunas têm valores ausentes no conjunto de dados."
      ]
    },
    {
      "cell_type": "code",
      "execution_count": null,
      "metadata": {
        "id": "VXn4O--jTeLD",
        "colab": {
          "base_uri": "https://localhost:8080/"
        },
        "outputId": "34f8dcbb-0b7d-4626-d383-9e12c35de14f"
      },
      "outputs": [
        {
          "output_type": "execute_result",
          "data": {
            "text/plain": [
              "age          20\n",
              "salary        0\n",
              "balance       0\n",
              "marital       0\n",
              "targeted      0\n",
              "default       0\n",
              "housing       0\n",
              "loan          0\n",
              "contact       0\n",
              "day           0\n",
              "month        50\n",
              "duration      0\n",
              "campaign      0\n",
              "pdays         0\n",
              "previous      0\n",
              "poutcome      0\n",
              "response     30\n",
              "job           0\n",
              "education     0\n",
              "dtype: int64"
            ]
          },
          "metadata": {},
          "execution_count": 7
        }
      ],
      "source": [
        "# verificar os valores faltantes\n",
        "data.isnull().sum()"
      ]
    },
    {
      "cell_type": "markdown",
      "metadata": {
        "id": "qfIioeLdTeLD"
      },
      "source": [
        "Como podemos ver, três colunas contêm valores ausentes. Vamos ver como lidar com eles. Podemos lidar com valores ausentes eliminando os registros ausentes ou imputando os valores.\n",
        "\n",
        "### Eliminando os valores ausentes\n",
        "\n",
        "Vamos lidar com os valores ausentes na coluna idade."
      ]
    },
    {
      "cell_type": "code",
      "execution_count": null,
      "metadata": {
        "id": "AVDe0LOzTeLE",
        "colab": {
          "base_uri": "https://localhost:8080/"
        },
        "outputId": "6f47c700-056f-48c7-f0aa-e05f1f3a8438"
      },
      "outputs": [
        {
          "output_type": "execute_result",
          "data": {
            "text/plain": [
              "age           0\n",
              "salary        0\n",
              "balance       0\n",
              "marital       0\n",
              "targeted      0\n",
              "default       0\n",
              "housing       0\n",
              "loan          0\n",
              "contact       0\n",
              "day           0\n",
              "month        50\n",
              "duration      0\n",
              "campaign      0\n",
              "pdays         0\n",
              "previous      0\n",
              "poutcome      0\n",
              "response     30\n",
              "job           0\n",
              "education     0\n",
              "dtype: int64"
            ]
          },
          "metadata": {},
          "execution_count": 12
        }
      ],
      "source": [
        "# dropar os registros com a idade faltando\n",
        "data = data[~data.age.isnull()].copy()\n",
        "# verificar de novo os valores faltantes\n",
        "data.isnull().sum()"
      ]
    },
    {
      "cell_type": "markdown",
      "metadata": {
        "id": "EXVzF-dQTeLE"
      },
      "source": [
        "Vamos atribuir valores aos valores ausentes para a coluna do mês.\n",
        "Como a coluna do mês é de um tipo de objeto, vamos calcular a moda dessa coluna e imputar esses valores aos valores ausentes."
      ]
    },
    {
      "cell_type": "code",
      "execution_count": null,
      "metadata": {
        "id": "U1DZSOrYTeLE",
        "colab": {
          "base_uri": "https://localhost:8080/",
          "height": 36
        },
        "outputId": "7512b669-332f-48b9-eca8-c17476dbc63f"
      },
      "outputs": [
        {
          "output_type": "execute_result",
          "data": {
            "text/plain": [
              "'may, 2017'"
            ],
            "application/vnd.google.colaboratory.intrinsic+json": {
              "type": "string"
            }
          },
          "metadata": {},
          "execution_count": 17
        }
      ],
      "source": [
        "# Encontrar a moda (valor mais frequente) da coluna month\n",
        "month_mode = data.month.mode()[0]\n",
        "month_mode"
      ]
    },
    {
      "cell_type": "code",
      "execution_count": null,
      "metadata": {
        "id": "O0zwKKScTeLE"
      },
      "outputs": [],
      "source": [
        "# Preencher os valores faltantes com o valor da moda do mês em data.\n",
        "data.month.fillna(month_mode, inplace = True)"
      ]
    },
    {
      "cell_type": "code",
      "execution_count": null,
      "metadata": {
        "id": "rt1MbcGWTeLE",
        "colab": {
          "base_uri": "https://localhost:8080/"
        },
        "outputId": "34ba927e-ca64-48b1-f77e-fdce5aaf75c7"
      },
      "outputs": [
        {
          "output_type": "execute_result",
          "data": {
            "text/plain": [
              "0"
            ]
          },
          "metadata": {},
          "execution_count": 20
        }
      ],
      "source": [
        "# Vamos ver os valores nulos da coluna month\n",
        "data.month.isnull().sum()"
      ]
    },
    {
      "cell_type": "markdown",
      "metadata": {
        "id": "AGEFVA35TeLF"
      },
      "source": [
        "Tratamento dos valores ausentes na coluna `response`. Este conjunto de dados é referente a uma campanha de marketing, e a tarefa seguinte a esta EDA será a criação de um modelo preditivo de classificação de dados, e a coluna alvo desta classificação é justamente a coluna `response`, que diz se o cliente aceitou ou não a oferta.\n",
        "\n",
        "Portanto, se imputarmos valores a esta coluna, isso afetará nossa análise. Portanto, é melhor eliminar os valores ausentes da coluna `response`."
      ]
    },
    {
      "cell_type": "code",
      "execution_count": null,
      "metadata": {
        "id": "KhMsxBRITeLF",
        "colab": {
          "base_uri": "https://localhost:8080/"
        },
        "outputId": "c7b0b054-e84e-4ec6-94b3-cdad0b1059bf"
      },
      "outputs": [
        {
          "output_type": "execute_result",
          "data": {
            "text/plain": [
              "age          0\n",
              "salary       0\n",
              "balance      0\n",
              "marital      0\n",
              "targeted     0\n",
              "default      0\n",
              "housing      0\n",
              "loan         0\n",
              "contact      0\n",
              "day          0\n",
              "month        0\n",
              "duration     0\n",
              "campaign     0\n",
              "pdays        0\n",
              "previous     0\n",
              "poutcome     0\n",
              "response     0\n",
              "job          0\n",
              "education    0\n",
              "dtype: int64"
            ]
          },
          "metadata": {},
          "execution_count": 21
        }
      ],
      "source": [
        "# dropar as linhas sem o valor de response\n",
        "data = data[~data.response.isnull()].copy()\n",
        "# verificar de novo os valores faltantes\n",
        "data.isnull().sum()"
      ]
    },
    {
      "cell_type": "markdown",
      "metadata": {
        "id": "BUiKaUwNTeLF"
      },
      "source": [
        "Também podemos preencher os valores ausentes como `NaN` para que, ao fazer qualquer análise estatística, isso não afete o resultado."
      ]
    },
    {
      "cell_type": "markdown",
      "metadata": {
        "id": "rdsIsO_oTeLF"
      },
      "source": [
        "### Tratamento de outliers\n",
        "\n",
        "Vimos como corrigir os valores ausentes, agora vamos ver como lidar com outliers no conjunto de dados.\n",
        "\n",
        "> Outliers são os valores que estão muito além dos pontos de dados mais próximos.\n",
        "\n",
        "Existem dois tipos de outliers:\n",
        "\n",
        "- **Outliers univariados**: outliers univariados são os pontos de dados cujos valores estão além da faixa de valores esperados com base em uma variável.\n",
        "\n",
        "- **Outliers multivariados**: durante a plotagem de dados, alguns valores de uma variável podem não estar além do intervalo esperado, mas quando você plota os dados com alguma outra variável, esses valores podem estar longe do valor esperado.\n",
        "\n",
        "![outliers.png](data:image/png;base64,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)\n",
        "\n",
        "Portanto, depois de entender as causas desses outliers, podemos lidar com eles descartando esses registros ou imputando os valores ou deixando-os como estão, se fizer mais sentido.\n",
        "\n",
        "### Padronizando Valores\n",
        "\n",
        "Para realizar a análise de dados em um conjunto de valores, temos que nos certificar de que os valores na mesma coluna devem estar na mesma escala. Por exemplo, se os dados contiverem os valores da velocidade máxima dos carros de diferentes empresas, toda a coluna deve estar na escala de km/h ou milhas/h.\n",
        "\n",
        "A coluna `duration` do nosso conjunto de dados tem valores em segundos e valores em minutos. Vamos padronizar a duração em segundos."
      ]
    },
    {
      "cell_type": "code",
      "execution_count": null,
      "metadata": {
        "scrolled": false,
        "id": "4ZSbs7IjTeLG",
        "colab": {
          "base_uri": "https://localhost:8080/",
          "height": 600
        },
        "outputId": "b0d9c790-b510-4c19-acf9-6adb68410e00"
      },
      "outputs": [
        {
          "output_type": "execute_result",
          "data": {
            "text/plain": [
              "        age  salary  balance  marital targeted default housing loan   contact  \\\n",
              "5405   30.0   20000     2080  married      yes      no     yes   no   unknown   \n",
              "21530  39.0   60000     3494  married      yes      no     yes   no  cellular   \n",
              "11056  36.0   70000     1981  married      yes      no      no   no   unknown   \n",
              "2664   40.0   20000      598  married      yes      no     yes   no   unknown   \n",
              "44488  32.0   70000      859  married      yes      no     yes   no   unknown   \n",
              "2143   54.0   55000      208  married      yes      no      no   no   unknown   \n",
              "16623  45.0  100000        0  married      yes      no      no   no  cellular   \n",
              "12707  39.0  100000     1007  married      yes      no     yes   no  cellular   \n",
              "814    57.0   70000        1  married      yes      no      no   no   unknown   \n",
              "19205  61.0   55000       77  married      yes      no      no   no  cellular   \n",
              "\n",
              "       day      month              duration  campaign  pdays  previous  \\\n",
              "5405    23  may, 2017               466 sec         2     -1         0   \n",
              "21530   19  aug, 2017  5.73333333333333 min         4     -1         0   \n",
              "11056   17  jun, 2017                48 sec         2     -1         0   \n",
              "2664    13  may, 2017                69 sec        11     -1         0   \n",
              "44488    9  aug, 2017              0.65 min         1     -1         0   \n",
              "2143    12  may, 2017               255 sec         1     -1         0   \n",
              "16623   24  jul, 2017  8.71666666666667 min         2     -1         0   \n",
              "12707    7  jul, 2017                86 sec         2     -1         0   \n",
              "814      7  may, 2017               852 sec         1     -1         0   \n",
              "19205    6  aug, 2017  7.58333333333333 min         4     -1         0   \n",
              "\n",
              "      poutcome response          job  education  dur_sec  \n",
              "5405   unknown       no  blue-collar  secondary    466.0  \n",
              "21530  unknown       no   technician  secondary    344.0  \n",
              "11056  unknown       no     services  secondary     48.0  \n",
              "2664   unknown       no  blue-collar  secondary     69.0  \n",
              "44488  unknown       no     services  secondary     39.0  \n",
              "2143   unknown       no      retired    primary    255.0  \n",
              "16623  unknown       no   management   tertiary    523.0  \n",
              "12707  unknown       no   management   tertiary     86.0  \n",
              "814    unknown       no     services  secondary    852.0  \n",
              "19205  unknown      yes      retired  secondary    455.0  "
            ],
            "text/html": [
              "\n",
              "  <div id=\"df-4aa0f1df-b5c2-4b20-bb3c-2f2f588da2d9\">\n",
              "    <div class=\"colab-df-container\">\n",
              "      <div>\n",
              "<style scoped>\n",
              "    .dataframe tbody tr th:only-of-type {\n",
              "        vertical-align: middle;\n",
              "    }\n",
              "\n",
              "    .dataframe tbody tr th {\n",
              "        vertical-align: top;\n",
              "    }\n",
              "\n",
              "    .dataframe thead th {\n",
              "        text-align: right;\n",
              "    }\n",
              "</style>\n",
              "<table border=\"1\" class=\"dataframe\">\n",
              "  <thead>\n",
              "    <tr style=\"text-align: right;\">\n",
              "      <th></th>\n",
              "      <th>age</th>\n",
              "      <th>salary</th>\n",
              "      <th>balance</th>\n",
              "      <th>marital</th>\n",
              "      <th>targeted</th>\n",
              "      <th>default</th>\n",
              "      <th>housing</th>\n",
              "      <th>loan</th>\n",
              "      <th>contact</th>\n",
              "      <th>day</th>\n",
              "      <th>month</th>\n",
              "      <th>duration</th>\n",
              "      <th>campaign</th>\n",
              "      <th>pdays</th>\n",
              "      <th>previous</th>\n",
              "      <th>poutcome</th>\n",
              "      <th>response</th>\n",
              "      <th>job</th>\n",
              "      <th>education</th>\n",
              "      <th>dur_sec</th>\n",
              "    </tr>\n",
              "  </thead>\n",
              "  <tbody>\n",
              "    <tr>\n",
              "      <th>5405</th>\n",
              "      <td>30.0</td>\n",
              "      <td>20000</td>\n",
              "      <td>2080</td>\n",
              "      <td>married</td>\n",
              "      <td>yes</td>\n",
              "      <td>no</td>\n",
              "      <td>yes</td>\n",
              "      <td>no</td>\n",
              "      <td>unknown</td>\n",
              "      <td>23</td>\n",
              "      <td>may, 2017</td>\n",
              "      <td>466 sec</td>\n",
              "      <td>2</td>\n",
              "      <td>-1</td>\n",
              "      <td>0</td>\n",
              "      <td>unknown</td>\n",
              "      <td>no</td>\n",
              "      <td>blue-collar</td>\n",
              "      <td>secondary</td>\n",
              "      <td>466.0</td>\n",
              "    </tr>\n",
              "    <tr>\n",
              "      <th>21530</th>\n",
              "      <td>39.0</td>\n",
              "      <td>60000</td>\n",
              "      <td>3494</td>\n",
              "      <td>married</td>\n",
              "      <td>yes</td>\n",
              "      <td>no</td>\n",
              "      <td>yes</td>\n",
              "      <td>no</td>\n",
              "      <td>cellular</td>\n",
              "      <td>19</td>\n",
              "      <td>aug, 2017</td>\n",
              "      <td>5.73333333333333 min</td>\n",
              "      <td>4</td>\n",
              "      <td>-1</td>\n",
              "      <td>0</td>\n",
              "      <td>unknown</td>\n",
              "      <td>no</td>\n",
              "      <td>technician</td>\n",
              "      <td>secondary</td>\n",
              "      <td>344.0</td>\n",
              "    </tr>\n",
              "    <tr>\n",
              "      <th>11056</th>\n",
              "      <td>36.0</td>\n",
              "      <td>70000</td>\n",
              "      <td>1981</td>\n",
              "      <td>married</td>\n",
              "      <td>yes</td>\n",
              "      <td>no</td>\n",
              "      <td>no</td>\n",
              "      <td>no</td>\n",
              "      <td>unknown</td>\n",
              "      <td>17</td>\n",
              "      <td>jun, 2017</td>\n",
              "      <td>48 sec</td>\n",
              "      <td>2</td>\n",
              "      <td>-1</td>\n",
              "      <td>0</td>\n",
              "      <td>unknown</td>\n",
              "      <td>no</td>\n",
              "      <td>services</td>\n",
              "      <td>secondary</td>\n",
              "      <td>48.0</td>\n",
              "    </tr>\n",
              "    <tr>\n",
              "      <th>2664</th>\n",
              "      <td>40.0</td>\n",
              "      <td>20000</td>\n",
              "      <td>598</td>\n",
              "      <td>married</td>\n",
              "      <td>yes</td>\n",
              "      <td>no</td>\n",
              "      <td>yes</td>\n",
              "      <td>no</td>\n",
              "      <td>unknown</td>\n",
              "      <td>13</td>\n",
              "      <td>may, 2017</td>\n",
              "      <td>69 sec</td>\n",
              "      <td>11</td>\n",
              "      <td>-1</td>\n",
              "      <td>0</td>\n",
              "      <td>unknown</td>\n",
              "      <td>no</td>\n",
              "      <td>blue-collar</td>\n",
              "      <td>secondary</td>\n",
              "      <td>69.0</td>\n",
              "    </tr>\n",
              "    <tr>\n",
              "      <th>44488</th>\n",
              "      <td>32.0</td>\n",
              "      <td>70000</td>\n",
              "      <td>859</td>\n",
              "      <td>married</td>\n",
              "      <td>yes</td>\n",
              "      <td>no</td>\n",
              "      <td>yes</td>\n",
              "      <td>no</td>\n",
              "      <td>unknown</td>\n",
              "      <td>9</td>\n",
              "      <td>aug, 2017</td>\n",
              "      <td>0.65 min</td>\n",
              "      <td>1</td>\n",
              "      <td>-1</td>\n",
              "      <td>0</td>\n",
              "      <td>unknown</td>\n",
              "      <td>no</td>\n",
              "      <td>services</td>\n",
              "      <td>secondary</td>\n",
              "      <td>39.0</td>\n",
              "    </tr>\n",
              "    <tr>\n",
              "      <th>2143</th>\n",
              "      <td>54.0</td>\n",
              "      <td>55000</td>\n",
              "      <td>208</td>\n",
              "      <td>married</td>\n",
              "      <td>yes</td>\n",
              "      <td>no</td>\n",
              "      <td>no</td>\n",
              "      <td>no</td>\n",
              "      <td>unknown</td>\n",
              "      <td>12</td>\n",
              "      <td>may, 2017</td>\n",
              "      <td>255 sec</td>\n",
              "      <td>1</td>\n",
              "      <td>-1</td>\n",
              "      <td>0</td>\n",
              "      <td>unknown</td>\n",
              "      <td>no</td>\n",
              "      <td>retired</td>\n",
              "      <td>primary</td>\n",
              "      <td>255.0</td>\n",
              "    </tr>\n",
              "    <tr>\n",
              "      <th>16623</th>\n",
              "      <td>45.0</td>\n",
              "      <td>100000</td>\n",
              "      <td>0</td>\n",
              "      <td>married</td>\n",
              "      <td>yes</td>\n",
              "      <td>no</td>\n",
              "      <td>no</td>\n",
              "      <td>no</td>\n",
              "      <td>cellular</td>\n",
              "      <td>24</td>\n",
              "      <td>jul, 2017</td>\n",
              "      <td>8.71666666666667 min</td>\n",
              "      <td>2</td>\n",
              "      <td>-1</td>\n",
              "      <td>0</td>\n",
              "      <td>unknown</td>\n",
              "      <td>no</td>\n",
              "      <td>management</td>\n",
              "      <td>tertiary</td>\n",
              "      <td>523.0</td>\n",
              "    </tr>\n",
              "    <tr>\n",
              "      <th>12707</th>\n",
              "      <td>39.0</td>\n",
              "      <td>100000</td>\n",
              "      <td>1007</td>\n",
              "      <td>married</td>\n",
              "      <td>yes</td>\n",
              "      <td>no</td>\n",
              "      <td>yes</td>\n",
              "      <td>no</td>\n",
              "      <td>cellular</td>\n",
              "      <td>7</td>\n",
              "      <td>jul, 2017</td>\n",
              "      <td>86 sec</td>\n",
              "      <td>2</td>\n",
              "      <td>-1</td>\n",
              "      <td>0</td>\n",
              "      <td>unknown</td>\n",
              "      <td>no</td>\n",
              "      <td>management</td>\n",
              "      <td>tertiary</td>\n",
              "      <td>86.0</td>\n",
              "    </tr>\n",
              "    <tr>\n",
              "      <th>814</th>\n",
              "      <td>57.0</td>\n",
              "      <td>70000</td>\n",
              "      <td>1</td>\n",
              "      <td>married</td>\n",
              "      <td>yes</td>\n",
              "      <td>no</td>\n",
              "      <td>no</td>\n",
              "      <td>no</td>\n",
              "      <td>unknown</td>\n",
              "      <td>7</td>\n",
              "      <td>may, 2017</td>\n",
              "      <td>852 sec</td>\n",
              "      <td>1</td>\n",
              "      <td>-1</td>\n",
              "      <td>0</td>\n",
              "      <td>unknown</td>\n",
              "      <td>no</td>\n",
              "      <td>services</td>\n",
              "      <td>secondary</td>\n",
              "      <td>852.0</td>\n",
              "    </tr>\n",
              "    <tr>\n",
              "      <th>19205</th>\n",
              "      <td>61.0</td>\n",
              "      <td>55000</td>\n",
              "      <td>77</td>\n",
              "      <td>married</td>\n",
              "      <td>yes</td>\n",
              "      <td>no</td>\n",
              "      <td>no</td>\n",
              "      <td>no</td>\n",
              "      <td>cellular</td>\n",
              "      <td>6</td>\n",
              "      <td>aug, 2017</td>\n",
              "      <td>7.58333333333333 min</td>\n",
              "      <td>4</td>\n",
              "      <td>-1</td>\n",
              "      <td>0</td>\n",
              "      <td>unknown</td>\n",
              "      <td>yes</td>\n",
              "      <td>retired</td>\n",
              "      <td>secondary</td>\n",
              "      <td>455.0</td>\n",
              "    </tr>\n",
              "  </tbody>\n",
              "</table>\n",
              "</div>\n",
              "      <button class=\"colab-df-convert\" onclick=\"convertToInteractive('df-4aa0f1df-b5c2-4b20-bb3c-2f2f588da2d9')\"\n",
              "              title=\"Convert this dataframe to an interactive table.\"\n",
              "              style=\"display:none;\">\n",
              "        \n",
              "  <svg xmlns=\"http://www.w3.org/2000/svg\" height=\"24px\"viewBox=\"0 0 24 24\"\n",
              "       width=\"24px\">\n",
              "    <path d=\"M0 0h24v24H0V0z\" fill=\"none\"/>\n",
              "    <path d=\"M18.56 5.44l.94 2.06.94-2.06 2.06-.94-2.06-.94-.94-2.06-.94 2.06-2.06.94zm-11 1L8.5 8.5l.94-2.06 2.06-.94-2.06-.94L8.5 2.5l-.94 2.06-2.06.94zm10 10l.94 2.06.94-2.06 2.06-.94-2.06-.94-.94-2.06-.94 2.06-2.06.94z\"/><path d=\"M17.41 7.96l-1.37-1.37c-.4-.4-.92-.59-1.43-.59-.52 0-1.04.2-1.43.59L10.3 9.45l-7.72 7.72c-.78.78-.78 2.05 0 2.83L4 21.41c.39.39.9.59 1.41.59.51 0 1.02-.2 1.41-.59l7.78-7.78 2.81-2.81c.8-.78.8-2.07 0-2.86zM5.41 20L4 18.59l7.72-7.72 1.47 1.35L5.41 20z\"/>\n",
              "  </svg>\n",
              "      </button>\n",
              "      \n",
              "  <style>\n",
              "    .colab-df-container {\n",
              "      display:flex;\n",
              "      flex-wrap:wrap;\n",
              "      gap: 12px;\n",
              "    }\n",
              "\n",
              "    .colab-df-convert {\n",
              "      background-color: #E8F0FE;\n",
              "      border: none;\n",
              "      border-radius: 50%;\n",
              "      cursor: pointer;\n",
              "      display: none;\n",
              "      fill: #1967D2;\n",
              "      height: 32px;\n",
              "      padding: 0 0 0 0;\n",
              "      width: 32px;\n",
              "    }\n",
              "\n",
              "    .colab-df-convert:hover {\n",
              "      background-color: #E2EBFA;\n",
              "      box-shadow: 0px 1px 2px rgba(60, 64, 67, 0.3), 0px 1px 3px 1px rgba(60, 64, 67, 0.15);\n",
              "      fill: #174EA6;\n",
              "    }\n",
              "\n",
              "    [theme=dark] .colab-df-convert {\n",
              "      background-color: #3B4455;\n",
              "      fill: #D2E3FC;\n",
              "    }\n",
              "\n",
              "    [theme=dark] .colab-df-convert:hover {\n",
              "      background-color: #434B5C;\n",
              "      box-shadow: 0px 1px 3px 1px rgba(0, 0, 0, 0.15);\n",
              "      filter: drop-shadow(0px 1px 2px rgba(0, 0, 0, 0.3));\n",
              "      fill: #FFFFFF;\n",
              "    }\n",
              "  </style>\n",
              "\n",
              "      <script>\n",
              "        const buttonEl =\n",
              "          document.querySelector('#df-4aa0f1df-b5c2-4b20-bb3c-2f2f588da2d9 button.colab-df-convert');\n",
              "        buttonEl.style.display =\n",
              "          google.colab.kernel.accessAllowed ? 'block' : 'none';\n",
              "\n",
              "        async function convertToInteractive(key) {\n",
              "          const element = document.querySelector('#df-4aa0f1df-b5c2-4b20-bb3c-2f2f588da2d9');\n",
              "          const dataTable =\n",
              "            await google.colab.kernel.invokeFunction('convertToInteractive',\n",
              "                                                     [key], {});\n",
              "          if (!dataTable) return;\n",
              "\n",
              "          const docLinkHtml = 'Like what you see? Visit the ' +\n",
              "            '<a target=\"_blank\" href=https://colab.research.google.com/notebooks/data_table.ipynb>data table notebook</a>'\n",
              "            + ' to learn more about interactive tables.';\n",
              "          element.innerHTML = '';\n",
              "          dataTable['output_type'] = 'display_data';\n",
              "          await google.colab.output.renderOutput(dataTable, element);\n",
              "          const docLink = document.createElement('div');\n",
              "          docLink.innerHTML = docLinkHtml;\n",
              "          element.appendChild(docLink);\n",
              "        }\n",
              "      </script>\n",
              "    </div>\n",
              "  </div>\n",
              "  "
            ]
          },
          "metadata": {},
          "execution_count": 29
        }
      ],
      "source": [
        "# criar uma coluna com o tempo de ligação em segundos\n",
        "data['dur_sec'] = data['duration'].apply(lambda x: float(x.split()[0]) if x.split()[1] == 'sec' else float(x.split()[0])*60)\n",
        "# imprimir uma amostra de 10 linhas aleatórias do arquivo\n",
        "data.sample(10)"
      ]
    },
    {
      "cell_type": "markdown",
      "metadata": {
        "id": "k8xTxSwyTeLG"
      },
      "source": [
        "Verificando agora se há ligações zeradas ou com duração negativa."
      ]
    },
    {
      "cell_type": "code",
      "execution_count": null,
      "metadata": {
        "id": "vKgZWaKMTeLG",
        "colab": {
          "base_uri": "https://localhost:8080/"
        },
        "outputId": "baab1820-9f2a-47c9-f822-0a4061ae36bb"
      },
      "outputs": [
        {
          "output_type": "execute_result",
          "data": {
            "text/plain": [
              "3"
            ]
          },
          "metadata": {},
          "execution_count": 35
        }
      ],
      "source": [
        "# verificar ligações zeradas\n",
        "data[data['dur_sec'] <= 0]['dur_sec'].count()"
      ]
    },
    {
      "cell_type": "markdown",
      "metadata": {
        "id": "E-wveAgqTeLG"
      },
      "source": [
        "São apenas 3, então vamos olhar:"
      ]
    },
    {
      "cell_type": "code",
      "execution_count": null,
      "metadata": {
        "id": "Gcju6PmSTeLG",
        "colab": {
          "base_uri": "https://localhost:8080/",
          "height": 259
        },
        "outputId": "975fb6f9-b7fc-4b07-ddce-11fa01fc4433"
      },
      "outputs": [
        {
          "output_type": "execute_result",
          "data": {
            "text/plain": [
              "        age  salary  balance  marital targeted default housing loan   contact  \\\n",
              "6424   53.0  100000      351  married      yes      no     yes   no   unknown   \n",
              "22937  35.0   60000     5535  married      yes      no      no   no  cellular   \n",
              "36425  31.0  120000      162  married      yes      no     yes  yes  cellular   \n",
              "\n",
              "       day      month duration  campaign  pdays  previous poutcome response  \\\n",
              "6424    27  may, 2017    0 sec         4     -1         0  unknown       no   \n",
              "22937   26  aug, 2017    0 min        15     -1         0  unknown       no   \n",
              "36425   11  may, 2017    0 min         2     -1         0  unknown       no   \n",
              "\n",
              "                job  education  dur_sec  \n",
              "6424     management    primary      0.0  \n",
              "22937    technician  secondary      0.0  \n",
              "36425  entrepreneur  secondary      0.0  "
            ],
            "text/html": [
              "\n",
              "  <div id=\"df-4acc3ebc-520e-483d-9c75-21836f99d8a9\">\n",
              "    <div class=\"colab-df-container\">\n",
              "      <div>\n",
              "<style scoped>\n",
              "    .dataframe tbody tr th:only-of-type {\n",
              "        vertical-align: middle;\n",
              "    }\n",
              "\n",
              "    .dataframe tbody tr th {\n",
              "        vertical-align: top;\n",
              "    }\n",
              "\n",
              "    .dataframe thead th {\n",
              "        text-align: right;\n",
              "    }\n",
              "</style>\n",
              "<table border=\"1\" class=\"dataframe\">\n",
              "  <thead>\n",
              "    <tr style=\"text-align: right;\">\n",
              "      <th></th>\n",
              "      <th>age</th>\n",
              "      <th>salary</th>\n",
              "      <th>balance</th>\n",
              "      <th>marital</th>\n",
              "      <th>targeted</th>\n",
              "      <th>default</th>\n",
              "      <th>housing</th>\n",
              "      <th>loan</th>\n",
              "      <th>contact</th>\n",
              "      <th>day</th>\n",
              "      <th>month</th>\n",
              "      <th>duration</th>\n",
              "      <th>campaign</th>\n",
              "      <th>pdays</th>\n",
              "      <th>previous</th>\n",
              "      <th>poutcome</th>\n",
              "      <th>response</th>\n",
              "      <th>job</th>\n",
              "      <th>education</th>\n",
              "      <th>dur_sec</th>\n",
              "    </tr>\n",
              "  </thead>\n",
              "  <tbody>\n",
              "    <tr>\n",
              "      <th>6424</th>\n",
              "      <td>53.0</td>\n",
              "      <td>100000</td>\n",
              "      <td>351</td>\n",
              "      <td>married</td>\n",
              "      <td>yes</td>\n",
              "      <td>no</td>\n",
              "      <td>yes</td>\n",
              "      <td>no</td>\n",
              "      <td>unknown</td>\n",
              "      <td>27</td>\n",
              "      <td>may, 2017</td>\n",
              "      <td>0 sec</td>\n",
              "      <td>4</td>\n",
              "      <td>-1</td>\n",
              "      <td>0</td>\n",
              "      <td>unknown</td>\n",
              "      <td>no</td>\n",
              "      <td>management</td>\n",
              "      <td>primary</td>\n",
              "      <td>0.0</td>\n",
              "    </tr>\n",
              "    <tr>\n",
              "      <th>22937</th>\n",
              "      <td>35.0</td>\n",
              "      <td>60000</td>\n",
              "      <td>5535</td>\n",
              "      <td>married</td>\n",
              "      <td>yes</td>\n",
              "      <td>no</td>\n",
              "      <td>no</td>\n",
              "      <td>no</td>\n",
              "      <td>cellular</td>\n",
              "      <td>26</td>\n",
              "      <td>aug, 2017</td>\n",
              "      <td>0 min</td>\n",
              "      <td>15</td>\n",
              "      <td>-1</td>\n",
              "      <td>0</td>\n",
              "      <td>unknown</td>\n",
              "      <td>no</td>\n",
              "      <td>technician</td>\n",
              "      <td>secondary</td>\n",
              "      <td>0.0</td>\n",
              "    </tr>\n",
              "    <tr>\n",
              "      <th>36425</th>\n",
              "      <td>31.0</td>\n",
              "      <td>120000</td>\n",
              "      <td>162</td>\n",
              "      <td>married</td>\n",
              "      <td>yes</td>\n",
              "      <td>no</td>\n",
              "      <td>yes</td>\n",
              "      <td>yes</td>\n",
              "      <td>cellular</td>\n",
              "      <td>11</td>\n",
              "      <td>may, 2017</td>\n",
              "      <td>0 min</td>\n",
              "      <td>2</td>\n",
              "      <td>-1</td>\n",
              "      <td>0</td>\n",
              "      <td>unknown</td>\n",
              "      <td>no</td>\n",
              "      <td>entrepreneur</td>\n",
              "      <td>secondary</td>\n",
              "      <td>0.0</td>\n",
              "    </tr>\n",
              "  </tbody>\n",
              "</table>\n",
              "</div>\n",
              "      <button class=\"colab-df-convert\" onclick=\"convertToInteractive('df-4acc3ebc-520e-483d-9c75-21836f99d8a9')\"\n",
              "              title=\"Convert this dataframe to an interactive table.\"\n",
              "              style=\"display:none;\">\n",
              "        \n",
              "  <svg xmlns=\"http://www.w3.org/2000/svg\" height=\"24px\"viewBox=\"0 0 24 24\"\n",
              "       width=\"24px\">\n",
              "    <path d=\"M0 0h24v24H0V0z\" fill=\"none\"/>\n",
              "    <path d=\"M18.56 5.44l.94 2.06.94-2.06 2.06-.94-2.06-.94-.94-2.06-.94 2.06-2.06.94zm-11 1L8.5 8.5l.94-2.06 2.06-.94-2.06-.94L8.5 2.5l-.94 2.06-2.06.94zm10 10l.94 2.06.94-2.06 2.06-.94-2.06-.94-.94-2.06-.94 2.06-2.06.94z\"/><path d=\"M17.41 7.96l-1.37-1.37c-.4-.4-.92-.59-1.43-.59-.52 0-1.04.2-1.43.59L10.3 9.45l-7.72 7.72c-.78.78-.78 2.05 0 2.83L4 21.41c.39.39.9.59 1.41.59.51 0 1.02-.2 1.41-.59l7.78-7.78 2.81-2.81c.8-.78.8-2.07 0-2.86zM5.41 20L4 18.59l7.72-7.72 1.47 1.35L5.41 20z\"/>\n",
              "  </svg>\n",
              "      </button>\n",
              "      \n",
              "  <style>\n",
              "    .colab-df-container {\n",
              "      display:flex;\n",
              "      flex-wrap:wrap;\n",
              "      gap: 12px;\n",
              "    }\n",
              "\n",
              "    .colab-df-convert {\n",
              "      background-color: #E8F0FE;\n",
              "      border: none;\n",
              "      border-radius: 50%;\n",
              "      cursor: pointer;\n",
              "      display: none;\n",
              "      fill: #1967D2;\n",
              "      height: 32px;\n",
              "      padding: 0 0 0 0;\n",
              "      width: 32px;\n",
              "    }\n",
              "\n",
              "    .colab-df-convert:hover {\n",
              "      background-color: #E2EBFA;\n",
              "      box-shadow: 0px 1px 2px rgba(60, 64, 67, 0.3), 0px 1px 3px 1px rgba(60, 64, 67, 0.15);\n",
              "      fill: #174EA6;\n",
              "    }\n",
              "\n",
              "    [theme=dark] .colab-df-convert {\n",
              "      background-color: #3B4455;\n",
              "      fill: #D2E3FC;\n",
              "    }\n",
              "\n",
              "    [theme=dark] .colab-df-convert:hover {\n",
              "      background-color: #434B5C;\n",
              "      box-shadow: 0px 1px 3px 1px rgba(0, 0, 0, 0.15);\n",
              "      filter: drop-shadow(0px 1px 2px rgba(0, 0, 0, 0.3));\n",
              "      fill: #FFFFFF;\n",
              "    }\n",
              "  </style>\n",
              "\n",
              "      <script>\n",
              "        const buttonEl =\n",
              "          document.querySelector('#df-4acc3ebc-520e-483d-9c75-21836f99d8a9 button.colab-df-convert');\n",
              "        buttonEl.style.display =\n",
              "          google.colab.kernel.accessAllowed ? 'block' : 'none';\n",
              "\n",
              "        async function convertToInteractive(key) {\n",
              "          const element = document.querySelector('#df-4acc3ebc-520e-483d-9c75-21836f99d8a9');\n",
              "          const dataTable =\n",
              "            await google.colab.kernel.invokeFunction('convertToInteractive',\n",
              "                                                     [key], {});\n",
              "          if (!dataTable) return;\n",
              "\n",
              "          const docLinkHtml = 'Like what you see? Visit the ' +\n",
              "            '<a target=\"_blank\" href=https://colab.research.google.com/notebooks/data_table.ipynb>data table notebook</a>'\n",
              "            + ' to learn more about interactive tables.';\n",
              "          element.innerHTML = '';\n",
              "          dataTable['output_type'] = 'display_data';\n",
              "          await google.colab.output.renderOutput(dataTable, element);\n",
              "          const docLink = document.createElement('div');\n",
              "          docLink.innerHTML = docLinkHtml;\n",
              "          element.appendChild(docLink);\n",
              "        }\n",
              "      </script>\n",
              "    </div>\n",
              "  </div>\n",
              "  "
            ]
          },
          "metadata": {},
          "execution_count": 36
        }
      ],
      "source": [
        "# olhar o conteúdo das linhas\n",
        "data[data['dur_sec'] <= 0]"
      ]
    },
    {
      "cell_type": "markdown",
      "metadata": {
        "id": "ndMtu8pWTeLG"
      },
      "source": [
        "Todos os três responderam não. Vamos verificar o balanceamento do conjunto de dados para decidir se apagamos estas linhas."
      ]
    },
    {
      "cell_type": "code",
      "execution_count": null,
      "metadata": {
        "id": "XMWzuLnjTeLH",
        "colab": {
          "base_uri": "https://localhost:8080/"
        },
        "outputId": "d67c713a-5a77-4586-b65a-093a38a255e0"
      },
      "outputs": [
        {
          "output_type": "execute_result",
          "data": {
            "text/plain": [
              "no     39876\n",
              "yes     5285\n",
              "Name: response, dtype: int64"
            ]
          },
          "metadata": {},
          "execution_count": 38
        }
      ],
      "source": [
        "# verificar quantas linhas há para cada resposta\n",
        "data['response'].value_counts()"
      ]
    },
    {
      "cell_type": "markdown",
      "metadata": {
        "id": "RB84avnsTeLH"
      },
      "source": [
        "Como no é muito maior que yes, vamos apagar estas 3 linhas."
      ]
    },
    {
      "cell_type": "code",
      "execution_count": null,
      "metadata": {
        "id": "ua1XIIuoTeLH",
        "colab": {
          "base_uri": "https://localhost:8080/"
        },
        "outputId": "7f81e3bb-6ab4-4a31-bf89-436fc03079b5"
      },
      "outputs": [
        {
          "output_type": "execute_result",
          "data": {
            "text/plain": [
              "no     39873\n",
              "yes     5285\n",
              "Name: response, dtype: int64"
            ]
          },
          "metadata": {},
          "execution_count": 45
        }
      ],
      "source": [
        "# apagar as linhas com tempo zerado\n",
        "data = data[~(data.dur_sec <= 0)].copy()\n",
        "# calcular de novo as linhas para cada resposta\n",
        "data['response'].value_counts()"
      ]
    },
    {
      "cell_type": "markdown",
      "metadata": {
        "id": "HAJ9IZXTTeLH"
      },
      "source": [
        "Agora que sabemos como obter e limpar os dados, vamos ver como podemos analisar os dados."
      ]
    },
    {
      "cell_type": "markdown",
      "metadata": {
        "id": "EFUC-FeoTeLH"
      },
      "source": [
        "## 3. Análise Univariada\n",
        "\n",
        "Se analisarmos dados sobre uma única variável / coluna de um conjunto de dados, isso é conhecido como Análise Univariada.\n",
        "\n",
        "### Análise univariada não ordenada categórica\n",
        "\n",
        "Uma variável não ordenada é uma variável categórica que não possui uma ordem definida. Se tomarmos nossos dados como exemplo, a coluna de trabalho no conjunto de dados é dividida em muitas subcategorias, como técnico, operário, serviços, gerenciamento, etc. Não há peso ou medida dada a qualquer valor na coluna `job`.\n",
        "\n",
        "Agora, vamos analisar a categoria de trabalho usando gráficos. Como `job` é uma categoria, plotaremos o gráfico de barras."
      ]
    },
    {
      "cell_type": "code",
      "execution_count": null,
      "metadata": {
        "id": "fbREOudSTeLH",
        "colab": {
          "base_uri": "https://localhost:8080/"
        },
        "outputId": "da303210-b556-45dc-d422-070443e36dd4"
      },
      "outputs": [
        {
          "output_type": "execute_result",
          "data": {
            "text/plain": [
              "blue-collar      0.215289\n",
              "management       0.209265\n",
              "technician       0.168032\n",
              "admin.           0.114376\n",
              "services         0.091855\n",
              "retired          0.050091\n",
              "self-employed    0.034855\n",
              "entrepreneur     0.032840\n",
              "unemployed       0.028832\n",
              "housemaid        0.027415\n",
              "student          0.020772\n",
              "unknown          0.006378\n",
              "Name: job, dtype: float64"
            ]
          },
          "metadata": {},
          "execution_count": 47
        }
      ],
      "source": [
        "# calcular as porcentagens de cada tipo de trabalho\n",
        "data.job.value_counts(normalize=True)\n",
        "# normalize True calcula a frequência relativa em vez da absoluta"
      ]
    },
    {
      "cell_type": "code",
      "execution_count": null,
      "metadata": {
        "id": "mcOXHX5qTeLI",
        "colab": {
          "base_uri": "https://localhost:8080/",
          "height": 282
        },
        "outputId": "e3fb5f77-1d30-40a6-9f7d-e67cb17a3031"
      },
      "outputs": [
        {
          "output_type": "execute_result",
          "data": {
            "text/plain": [
              "<matplotlib.axes._subplots.AxesSubplot at 0x7fd0a2700b50>"
            ]
          },
          "metadata": {},
          "execution_count": 49
        },
        {
          "output_type": "display_data",
          "data": {
            "text/plain": [
              "<Figure size 432x288 with 1 Axes>"
            ],
            "image/png": "[encoded data removed]"
          },
          "metadata": {
            "needs_background": "light"
          }
        }
      ],
      "source": [
        "# fazer o bar plot\n",
        "data.job.value_counts(normalize=True).plot.barh()"
      ]
    },
    {
      "cell_type": "markdown",
      "metadata": {
        "id": "DxceNxTeTeLI"
      },
      "source": [
        "Pelo gráfico de barras acima, podemos inferir que o conjunto de dados contém um maior número de operários em comparação com outras categorias.\n",
        "\n",
        "### Análise univariada ordenada categórica\n",
        "\n",
        "Variáveis ordenadas são aquelas variáveis que possuem uma ordem natural. Alguns exemplos de variáveis ordenadas categóricas de nosso conjunto de dados são:\n",
        "- Mês: janeiro, fevereiro, março ……\n",
        "- Educação: Primária, Secundária, ……\n",
        "\n",
        "Agora, vamos analisar a Variável de Educação do conjunto de dados. Como já vimos um gráfico de barras, vamos ver como é um gráfico de pizza."
      ]
    },
    {
      "cell_type": "code",
      "execution_count": null,
      "metadata": {
        "id": "r8PDMQaQTeLI",
        "colab": {
          "base_uri": "https://localhost:8080/"
        },
        "outputId": "046e6709-2e3b-4ee5-c6f5-f51080fafa7a"
      },
      "outputs": [
        {
          "output_type": "execute_result",
          "data": {
            "text/plain": [
              "secondary    0.513265\n",
              "tertiary     0.294211\n",
              "primary      0.151424\n",
              "unknown      0.041100\n",
              "Name: education, dtype: float64"
            ]
          },
          "metadata": {},
          "execution_count": 50
        }
      ],
      "source": [
        "#calcular a porcentagem de cada nível de educação\n",
        "data.education.value_counts(normalize = True)"
      ]
    },
    {
      "cell_type": "code",
      "execution_count": null,
      "metadata": {
        "id": "ModcBEZ3TeLI",
        "colab": {
          "base_uri": "https://localhost:8080/",
          "height": 265
        },
        "outputId": "7f55cddc-6b9f-4746-e38f-598a96bf3da3"
      },
      "outputs": [
        {
          "output_type": "execute_result",
          "data": {
            "text/plain": [
              "<matplotlib.axes._subplots.AxesSubplot at 0x7fd0a21f6d50>"
            ]
          },
          "metadata": {},
          "execution_count": 51
        },
        {
          "output_type": "display_data",
          "data": {
            "text/plain": [
              "<Figure size 432x288 with 1 Axes>"
            ],
            "image/png": "[encoded data removed]"
          },
          "metadata": {}
        }
      ],
      "source": [
        "# fazer o gráfico de pizza\n",
        "data.education.value_counts(normalize = True).plot.pie()"
      ]
    },
    {
      "cell_type": "markdown",
      "metadata": {
        "id": "mfiPmByDTeLJ"
      },
      "source": [
        "Pela análise acima, podemos inferir que o conjunto de dados possui um grande número deles pertencentes ao ensino médio, depois ensino superior e, por último, fundamental. Além disso, uma porcentagem muito pequena deles é desconhecida.\n",
        "\n",
        "É assim que analisamos a análise categórica univariada. Se a coluna ou variável for numérica, então vamos analisar calculando sua média, mediana, desvio padrão, etc. Podemos obter esses valores usando a função de descrição."
      ]
    },
    {
      "cell_type": "code",
      "execution_count": null,
      "metadata": {
        "id": "dz2yNiX0TeLJ",
        "colab": {
          "base_uri": "https://localhost:8080/"
        },
        "outputId": "b8d6316f-6d1e-4f49-d125-583b28a5d21e"
      },
      "outputs": [
        {
          "output_type": "execute_result",
          "data": {
            "text/plain": [
              "count     45158.000000\n",
              "mean      57002.435892\n",
              "std       32086.754222\n",
              "min           0.000000\n",
              "25%       20000.000000\n",
              "50%       60000.000000\n",
              "75%       70000.000000\n",
              "max      120000.000000\n",
              "Name: salary, dtype: float64"
            ]
          },
          "metadata": {},
          "execution_count": 52
        }
      ],
      "source": [
        "# mostrar a descritiva de salário\n",
        "data.salary.describe()"
      ]
    },
    {
      "cell_type": "markdown",
      "metadata": {
        "id": "0ue9ShXyTeLJ"
      },
      "source": [
        "## 4. Análise bivariada\n",
        "\n",
        "Se analisarmos os dados levando em consideração duas variáveis / colunas de um conjunto de dados, isso é conhecido como Análise Bivariada.\n",
        "\n",
        "### a) Análise Numérica-Numérica:\n",
        "\n",
        "A análise das duas variáveis numéricas de um conjunto de dados é conhecida como análise numérica-numérica. Podemos analisá-las de três maneiras diferentes.\n",
        "\n",
        "- Gráfico de dispersão\n",
        "- Gráfico de pares\n",
        "- Matriz de correlação\n",
        "\n",
        "#### Gráfico de dispersão\n",
        "\n",
        "Vamos pegar três colunas `balance`, `age` e `salary` de nosso conjunto de dados e ver o que podemos inferir traçando um gráfico de dispersão entre o saldo vs. salário e saldo vs. idade."
      ]
    },
    {
      "cell_type": "code",
      "execution_count": null,
      "metadata": {
        "id": "GUNGG150TeLJ",
        "colab": {
          "base_uri": "https://localhost:8080/",
          "height": 282
        },
        "outputId": "16d7a21f-e120-440e-9ffa-fea3137aea66"
      },
      "outputs": [
        {
          "output_type": "execute_result",
          "data": {
            "text/plain": [
              "<matplotlib.collections.PathCollection at 0x7fd0a217f7d0>"
            ]
          },
          "metadata": {},
          "execution_count": 53
        },
        {
          "output_type": "display_data",
          "data": {
            "text/plain": [
              "<Figure size 432x288 with 1 Axes>"
            ],
            "image/png": "[encoded data removed]"
          },
          "metadata": {
            "needs_background": "light"
          }
        }
      ],
      "source": [
        "# fazer o gráfico de dispersão de saldo e salário\n",
        "plt.scatter(data.salary, data.balance)"
      ]
    },
    {
      "cell_type": "code",
      "execution_count": null,
      "metadata": {
        "id": "G--FoUC1TeLJ",
        "colab": {
          "base_uri": "https://localhost:8080/",
          "height": 282
        },
        "outputId": "ec2b1572-5eb3-4b3c-e932-56f9aad97b0a"
      },
      "outputs": [
        {
          "output_type": "execute_result",
          "data": {
            "text/plain": [
              "<matplotlib.collections.PathCollection at 0x7fd0a2097a90>"
            ]
          },
          "metadata": {},
          "execution_count": 55
        },
        {
          "output_type": "display_data",
          "data": {
            "text/plain": [
              "<Figure size 432x288 with 1 Axes>"
            ],
            "image/png": "[encoded data removed]"
          },
          "metadata": {
            "needs_background": "light"
          }
        }
      ],
      "source": [
        "# fazer o gráfico de dispersão de saldo e idade\n",
        "plt.scatter(data.age, data.balance)"
      ]
    },
    {
      "cell_type": "markdown",
      "metadata": {
        "id": "8LyHRu_CTeLJ"
      },
      "source": [
        "#### Pair Plot\n",
        "Agora, vamos traçar o Pair Plot para as três colunas que usamos para traçar gráficos de dispersão. Usaremos a biblioteca *Seaborn*."
      ]
    },
    {
      "cell_type": "code",
      "execution_count": null,
      "metadata": {
        "id": "sdV4aWmTTeLJ",
        "colab": {
          "base_uri": "https://localhost:8080/",
          "height": 567
        },
        "outputId": "94e97175-f476-4032-e09d-c5fdc5aee8c8"
      },
      "outputs": [
        {
          "output_type": "execute_result",
          "data": {
            "text/plain": [
              "<seaborn.axisgrid.PairGrid at 0x7fd0a2031290>"
            ]
          },
          "metadata": {},
          "execution_count": 56
        },
        {
          "output_type": "display_data",
          "data": {
            "text/plain": [
              "<Figure size 540x540 with 12 Axes>"
            ],
            "image/png": "[encoded data removed]"
          },
          "metadata": {
            "needs_background": "light"
          }
        }
      ],
      "source": [
        "#fazer o pair plot dos 3 agora, saldo, salário e idade\n",
        "sns.pairplot(data = data, vars = ['salary', 'balance', 'age'])"
      ]
    },
    {
      "cell_type": "markdown",
      "metadata": {
        "id": "7eZyWHdJTeLK"
      },
      "source": [
        "#### Matriz de correlação\n",
        "Como não podemos usar mais de duas variáveis como eixo x e y em gráficos de dispersão e pares, é difícil ver a relação entre três variáveis numéricas em um único gráfico. Nesses casos, usaremos a matriz de correlação."
      ]
    },
    {
      "cell_type": "code",
      "execution_count": null,
      "metadata": {
        "id": "mxqQ3YKZTeLK",
        "colab": {
          "base_uri": "https://localhost:8080/",
          "height": 143
        },
        "outputId": "49baa4bd-83cd-4851-9917-21d201d3176e"
      },
      "outputs": [
        {
          "output_type": "execute_result",
          "data": {
            "text/plain": [
              "           salary   balance       age\n",
              "salary   1.000000  0.055518  0.024524\n",
              "balance  0.055518  1.000000  0.097733\n",
              "age      0.024524  0.097733  1.000000"
            ],
            "text/html": [
              "\n",
              "  <div id=\"df-0d0fed9c-5adc-4d86-b9f6-1942f75e406f\">\n",
              "    <div class=\"colab-df-container\">\n",
              "      <div>\n",
              "<style scoped>\n",
              "    .dataframe tbody tr th:only-of-type {\n",
              "        vertical-align: middle;\n",
              "    }\n",
              "\n",
              "    .dataframe tbody tr th {\n",
              "        vertical-align: top;\n",
              "    }\n",
              "\n",
              "    .dataframe thead th {\n",
              "        text-align: right;\n",
              "    }\n",
              "</style>\n",
              "<table border=\"1\" class=\"dataframe\">\n",
              "  <thead>\n",
              "    <tr style=\"text-align: right;\">\n",
              "      <th></th>\n",
              "      <th>salary</th>\n",
              "      <th>balance</th>\n",
              "      <th>age</th>\n",
              "    </tr>\n",
              "  </thead>\n",
              "  <tbody>\n",
              "    <tr>\n",
              "      <th>salary</th>\n",
              "      <td>1.000000</td>\n",
              "      <td>0.055518</td>\n",
              "      <td>0.024524</td>\n",
              "    </tr>\n",
              "    <tr>\n",
              "      <th>balance</th>\n",
              "      <td>0.055518</td>\n",
              "      <td>1.000000</td>\n",
              "      <td>0.097733</td>\n",
              "    </tr>\n",
              "    <tr>\n",
              "      <th>age</th>\n",
              "      <td>0.024524</td>\n",
              "      <td>0.097733</td>\n",
              "      <td>1.000000</td>\n",
              "    </tr>\n",
              "  </tbody>\n",
              "</table>\n",
              "</div>\n",
              "      <button class=\"colab-df-convert\" onclick=\"convertToInteractive('df-0d0fed9c-5adc-4d86-b9f6-1942f75e406f')\"\n",
              "              title=\"Convert this dataframe to an interactive table.\"\n",
              "              style=\"display:none;\">\n",
              "        \n",
              "  <svg xmlns=\"http://www.w3.org/2000/svg\" height=\"24px\"viewBox=\"0 0 24 24\"\n",
              "       width=\"24px\">\n",
              "    <path d=\"M0 0h24v24H0V0z\" fill=\"none\"/>\n",
              "    <path d=\"M18.56 5.44l.94 2.06.94-2.06 2.06-.94-2.06-.94-.94-2.06-.94 2.06-2.06.94zm-11 1L8.5 8.5l.94-2.06 2.06-.94-2.06-.94L8.5 2.5l-.94 2.06-2.06.94zm10 10l.94 2.06.94-2.06 2.06-.94-2.06-.94-.94-2.06-.94 2.06-2.06.94z\"/><path d=\"M17.41 7.96l-1.37-1.37c-.4-.4-.92-.59-1.43-.59-.52 0-1.04.2-1.43.59L10.3 9.45l-7.72 7.72c-.78.78-.78 2.05 0 2.83L4 21.41c.39.39.9.59 1.41.59.51 0 1.02-.2 1.41-.59l7.78-7.78 2.81-2.81c.8-.78.8-2.07 0-2.86zM5.41 20L4 18.59l7.72-7.72 1.47 1.35L5.41 20z\"/>\n",
              "  </svg>\n",
              "      </button>\n",
              "      \n",
              "  <style>\n",
              "    .colab-df-container {\n",
              "      display:flex;\n",
              "      flex-wrap:wrap;\n",
              "      gap: 12px;\n",
              "    }\n",
              "\n",
              "    .colab-df-convert {\n",
              "      background-color: #E8F0FE;\n",
              "      border: none;\n",
              "      border-radius: 50%;\n",
              "      cursor: pointer;\n",
              "      display: none;\n",
              "      fill: #1967D2;\n",
              "      height: 32px;\n",
              "      padding: 0 0 0 0;\n",
              "      width: 32px;\n",
              "    }\n",
              "\n",
              "    .colab-df-convert:hover {\n",
              "      background-color: #E2EBFA;\n",
              "      box-shadow: 0px 1px 2px rgba(60, 64, 67, 0.3), 0px 1px 3px 1px rgba(60, 64, 67, 0.15);\n",
              "      fill: #174EA6;\n",
              "    }\n",
              "\n",
              "    [theme=dark] .colab-df-convert {\n",
              "      background-color: #3B4455;\n",
              "      fill: #D2E3FC;\n",
              "    }\n",
              "\n",
              "    [theme=dark] .colab-df-convert:hover {\n",
              "      background-color: #434B5C;\n",
              "      box-shadow: 0px 1px 3px 1px rgba(0, 0, 0, 0.15);\n",
              "      filter: drop-shadow(0px 1px 2px rgba(0, 0, 0, 0.3));\n",
              "      fill: #FFFFFF;\n",
              "    }\n",
              "  </style>\n",
              "\n",
              "      <script>\n",
              "        const buttonEl =\n",
              "          document.querySelector('#df-0d0fed9c-5adc-4d86-b9f6-1942f75e406f button.colab-df-convert');\n",
              "        buttonEl.style.display =\n",
              "          google.colab.kernel.accessAllowed ? 'block' : 'none';\n",
              "\n",
              "        async function convertToInteractive(key) {\n",
              "          const element = document.querySelector('#df-0d0fed9c-5adc-4d86-b9f6-1942f75e406f');\n",
              "          const dataTable =\n",
              "            await google.colab.kernel.invokeFunction('convertToInteractive',\n",
              "                                                     [key], {});\n",
              "          if (!dataTable) return;\n",
              "\n",
              "          const docLinkHtml = 'Like what you see? Visit the ' +\n",
              "            '<a target=\"_blank\" href=https://colab.research.google.com/notebooks/data_table.ipynb>data table notebook</a>'\n",
              "            + ' to learn more about interactive tables.';\n",
              "          element.innerHTML = '';\n",
              "          dataTable['output_type'] = 'display_data';\n",
              "          await google.colab.output.renderOutput(dataTable, element);\n",
              "          const docLink = document.createElement('div');\n",
              "          docLink.innerHTML = docLinkHtml;\n",
              "          element.appendChild(docLink);\n",
              "        }\n",
              "      </script>\n",
              "    </div>\n",
              "  </div>\n",
              "  "
            ]
          },
          "metadata": {},
          "execution_count": 57
        }
      ],
      "source": [
        "# criar a matriz de correlação de saldo, salário e idade\n",
        "data[['salary', 'balance', 'age']].corr()"
      ]
    },
    {
      "cell_type": "code",
      "execution_count": null,
      "metadata": {
        "id": "SnsZVLMCTeLK",
        "colab": {
          "base_uri": "https://localhost:8080/",
          "height": 286
        },
        "outputId": "2356b64b-d2f3-49f5-b31f-366f491284c8"
      },
      "outputs": [
        {
          "output_type": "execute_result",
          "data": {
            "text/plain": [
              "<matplotlib.axes._subplots.AxesSubplot at 0x7fd09c6d4190>"
            ]
          },
          "metadata": {},
          "execution_count": 64
        },
        {
          "output_type": "display_data",
          "data": {
            "text/plain": [
              "<Figure size 432x288 with 2 Axes>"
            ],
            "image/png": "[encoded data removed]"
          },
          "metadata": {
            "needs_background": "light"
          }
        }
      ],
      "source": [
        "# plotar o heatmap da matriz\n",
        "sns.heatmap(data[['salary', 'balance', 'age']].corr(), annot=True, cmap='YlGnBu')"
      ]
    },
    {
      "cell_type": "markdown",
      "metadata": {
        "id": "ADwveK7wTeLK"
      },
      "source": [
        "Primeiro, criamos uma matriz usando idade, salário e saldo. Depois disso, plotamos o mapa de calor da matriz."
      ]
    },
    {
      "cell_type": "markdown",
      "metadata": {
        "id": "TZ6H1B79TeLK"
      },
      "source": [
        "### b) Análise Numérica-categórica\n",
        "\n",
        "A análise de uma variável numérica e uma variável categórica de um conjunto de dados é conhecida como análise numérico-categórica. Nós os analisamos principalmente usando média, mediana e boxplots.\n",
        "\n",
        "Vamos pegar as colunas de salário e resposta de nosso conjunto de dados.\n",
        "Primeiro verifique o valor médio usando `groupby`."
      ]
    },
    {
      "cell_type": "code",
      "execution_count": null,
      "metadata": {
        "id": "9PH6LZuDTeLK",
        "colab": {
          "base_uri": "https://localhost:8080/"
        },
        "outputId": "b368b0c8-3810-45fc-e51d-62eeb33f8831"
      },
      "outputs": [
        {
          "output_type": "execute_result",
          "data": {
            "text/plain": [
              "response\n",
              "no     56766.759461\n",
              "yes    58780.510880\n",
              "Name: salary, dtype: float64"
            ]
          },
          "metadata": {},
          "execution_count": 65
        }
      ],
      "source": [
        "# calcular a média salarial de cada resposta\n",
        "data.groupby('response')['salary'].mean()"
      ]
    },
    {
      "cell_type": "markdown",
      "metadata": {
        "id": "N66Vqf0ETeLL"
      },
      "source": [
        "Não há muita diferença entre a resposta sim e não com base no salário.\n",
        "Vamos calcular a mediana,"
      ]
    },
    {
      "cell_type": "code",
      "execution_count": null,
      "metadata": {
        "id": "E6lWi7phTeLL",
        "colab": {
          "base_uri": "https://localhost:8080/"
        },
        "outputId": "15f08be6-738d-491d-d85b-d0aadae12461"
      },
      "outputs": [
        {
          "output_type": "execute_result",
          "data": {
            "text/plain": [
              "response\n",
              "no     60000.0\n",
              "yes    60000.0\n",
              "Name: salary, dtype: float64"
            ]
          },
          "metadata": {},
          "execution_count": 66
        }
      ],
      "source": [
        "# calcular a mediana salarial de cada resposta\n",
        "data.groupby('response')['salary'].median()"
      ]
    },
    {
      "cell_type": "markdown",
      "metadata": {
        "id": "pnJRQu1FTeLL"
      },
      "source": [
        "Tanto por média quanto por mediana, podemos dizer que a resposta sim e não permanece a mesma, independentemente do salário da pessoa. Mas, para ver se são iguais mesmo, vamos traçar o boxplot e verificar o comportamento."
      ]
    },
    {
      "cell_type": "code",
      "execution_count": null,
      "metadata": {
        "id": "K62a9yfkTeLL",
        "colab": {
          "base_uri": "https://localhost:8080/",
          "height": 351
        },
        "outputId": "7909b627-249d-42e4-cda7-6b0d162d4e58"
      },
      "outputs": [
        {
          "output_type": "stream",
          "name": "stderr",
          "text": [
            "/usr/local/lib/python3.7/dist-packages/seaborn/_decorators.py:43: FutureWarning: Pass the following variables as keyword args: x, y. From version 0.12, the only valid positional argument will be `data`, and passing other arguments without an explicit keyword will result in an error or misinterpretation.\n",
            "  FutureWarning\n"
          ]
        },
        {
          "output_type": "execute_result",
          "data": {
            "text/plain": [
              "<matplotlib.axes._subplots.AxesSubplot at 0x7fd09e50c910>"
            ]
          },
          "metadata": {},
          "execution_count": 67
        },
        {
          "output_type": "display_data",
          "data": {
            "text/plain": [
              "<Figure size 432x288 with 1 Axes>"
            ],
            "image/png": "[encoded data removed]"
          },
          "metadata": {
            "needs_background": "light"
          }
        }
      ],
      "source": [
        "# fazer o box plot de salário quebrando por resposta\n",
        "sns.boxplot(data.response, data.salary)"
      ]
    },
    {
      "cell_type": "markdown",
      "metadata": {
        "id": "hLfP85QdTeLL"
      },
      "source": [
        "Como podemos ver, quando plotamos o Box Plot, ele apresenta um quadro muito diferente em comparação com a média e a mediana. O intervalo inter-quartil para clientes que deram uma resposta positiva está no lado dos salários mais altos.\n",
        "\n",
        "Como padronizamos o tempo, podemos ver agora como está a resposta com relação ao tempo de ligação."
      ]
    },
    {
      "cell_type": "code",
      "execution_count": null,
      "metadata": {
        "id": "yRuvbM_9TeLL",
        "colab": {
          "base_uri": "https://localhost:8080/",
          "height": 351
        },
        "outputId": "3f79cbef-cc24-4d15-eddb-13c8f382d9dd"
      },
      "outputs": [
        {
          "output_type": "stream",
          "name": "stderr",
          "text": [
            "/usr/local/lib/python3.7/dist-packages/seaborn/_decorators.py:43: FutureWarning: Pass the following variables as keyword args: x, y. From version 0.12, the only valid positional argument will be `data`, and passing other arguments without an explicit keyword will result in an error or misinterpretation.\n",
            "  FutureWarning\n"
          ]
        },
        {
          "output_type": "execute_result",
          "data": {
            "text/plain": [
              "<matplotlib.axes._subplots.AxesSubplot at 0x7fd09c642690>"
            ]
          },
          "metadata": {},
          "execution_count": 68
        },
        {
          "output_type": "display_data",
          "data": {
            "text/plain": [
              "<Figure size 432x288 with 1 Axes>"
            ],
            "image/png": "[encoded data removed]"
          },
          "metadata": {
            "needs_background": "light"
          }
        }
      ],
      "source": [
        "# fazer o box plot de tempo quebrando por resposta\n",
        "sns.boxplot(data.response, data.dur_sec)"
      ]
    },
    {
      "cell_type": "markdown",
      "metadata": {
        "id": "w7XsxiRhTeLM"
      },
      "source": [
        "Como a quantidade de outliers é muito grande, podemos usar log para reduzir a escala e melhorar a visualização."
      ]
    },
    {
      "cell_type": "code",
      "execution_count": null,
      "metadata": {
        "id": "B-ZAn0kPTeLM",
        "colab": {
          "base_uri": "https://localhost:8080/",
          "height": 351
        },
        "outputId": "0932f010-97f6-4d45-c703-f82455535de9"
      },
      "outputs": [
        {
          "output_type": "stream",
          "name": "stderr",
          "text": [
            "/usr/local/lib/python3.7/dist-packages/seaborn/_decorators.py:43: FutureWarning: Pass the following variables as keyword args: x, y. From version 0.12, the only valid positional argument will be `data`, and passing other arguments without an explicit keyword will result in an error or misinterpretation.\n",
            "  FutureWarning\n"
          ]
        },
        {
          "output_type": "execute_result",
          "data": {
            "text/plain": [
              "<matplotlib.axes._subplots.AxesSubplot at 0x7fd09c5dd0d0>"
            ]
          },
          "metadata": {},
          "execution_count": 69
        },
        {
          "output_type": "display_data",
          "data": {
            "text/plain": [
              "<Figure size 432x288 with 1 Axes>"
            ],
            "image/png": "[encoded data removed]"
          },
          "metadata": {
            "needs_background": "light"
          }
        }
      ],
      "source": [
        "# fazer o box plot de log de tempo quebrando por resposta\n",
        "sns.boxplot(data.response, np.log(data.dur_sec))"
      ]
    },
    {
      "cell_type": "markdown",
      "metadata": {
        "id": "7YGQEhg-TeLM"
      },
      "source": [
        "Ainda não ficou bom. Vamos cortar os outliers do yes para redimensionar o gráfico."
      ]
    },
    {
      "cell_type": "code",
      "execution_count": null,
      "metadata": {
        "id": "nHwC0CiPTeLM"
      },
      "outputs": [],
      "source": [
        "def bigodes(dataset):\n",
        "    q1 = dataset.quantile(0.25)\n",
        "    q3 = dataset.quantile(0.75)\n",
        "    _max = dataset.max()\n",
        "    _min = dataset.min()\n",
        "    print('min',_min)\n",
        "    iqr = q3-q1\n",
        "    q_max = q3 + iqr*1.5\n",
        "    q_min = q1 - iqr*1.5\n",
        "    print('q_min',q_min)\n",
        "    q_max = q_max if _max > q_max else _max\n",
        "    q_min = q_min if _min < q_min else _min\n",
        "    return(q_min, q_max)"
      ]
    },
    {
      "cell_type": "code",
      "execution_count": null,
      "metadata": {
        "id": "UtPN0uVtTeLM",
        "colab": {
          "base_uri": "https://localhost:8080/"
        },
        "outputId": "e9213214-bcf1-455b-fe56-1b514578a154"
      },
      "outputs": [
        {
          "output_type": "stream",
          "name": "stdout",
          "text": [
            "min 7.99999999999998\n",
            "q_min -477.49999999999636\n"
          ]
        },
        {
          "output_type": "execute_result",
          "data": {
            "text/plain": [
              "(7.99999999999998, 1446.4999999999945)"
            ]
          },
          "metadata": {},
          "execution_count": 71
        }
      ],
      "source": [
        "lims = bigodes(data.loc[data['response'] == 'yes', 'dur_sec'])\n",
        "lims"
      ]
    },
    {
      "cell_type": "code",
      "execution_count": null,
      "metadata": {
        "id": "AYJ7sP3WTeLM",
        "colab": {
          "base_uri": "https://localhost:8080/",
          "height": 351
        },
        "outputId": "46a6f0fe-524d-45e9-b654-da9a297ae6b3"
      },
      "outputs": [
        {
          "output_type": "stream",
          "name": "stderr",
          "text": [
            "/usr/local/lib/python3.7/dist-packages/seaborn/_decorators.py:43: FutureWarning: Pass the following variables as keyword args: x, y. From version 0.12, the only valid positional argument will be `data`, and passing other arguments without an explicit keyword will result in an error or misinterpretation.\n",
            "  FutureWarning\n"
          ]
        },
        {
          "output_type": "execute_result",
          "data": {
            "text/plain": [
              "<matplotlib.axes._subplots.AxesSubplot at 0x7fd09c4caa50>"
            ]
          },
          "metadata": {},
          "execution_count": 72
        },
        {
          "output_type": "display_data",
          "data": {
            "text/plain": [
              "<Figure size 432x288 with 1 Axes>"
            ],
            "image/png": "[encoded data removed]"
          },
          "metadata": {
            "needs_background": "light"
          }
        }
      ],
      "source": [
        "# cortar em tempo < 1400 e fazer o box plot de novo, sem log\n",
        "subdata = data.loc[data['dur_sec'] < lims[1]]\n",
        "sns.boxplot(subdata.response, subdata.dur_sec)"
      ]
    },
    {
      "cell_type": "markdown",
      "metadata": {
        "id": "0B0Yj054TeLM"
      },
      "source": [
        "Cortando na visualização, sem alterar os dados do gráfico."
      ]
    },
    {
      "cell_type": "code",
      "execution_count": null,
      "metadata": {
        "id": "-tIlITQWTeLM",
        "colab": {
          "base_uri": "https://localhost:8080/",
          "height": 351
        },
        "outputId": "387c6e9e-78a4-47e5-b683-078f9b1224da"
      },
      "outputs": [
        {
          "output_type": "stream",
          "name": "stderr",
          "text": [
            "/usr/local/lib/python3.7/dist-packages/seaborn/_decorators.py:43: FutureWarning: Pass the following variables as keyword args: x, y. From version 0.12, the only valid positional argument will be `data`, and passing other arguments without an explicit keyword will result in an error or misinterpretation.\n",
            "  FutureWarning\n"
          ]
        },
        {
          "output_type": "execute_result",
          "data": {
            "text/plain": [
              "[(-50.0, 1496.4999999999945)]"
            ]
          },
          "metadata": {},
          "execution_count": 73
        },
        {
          "output_type": "display_data",
          "data": {
            "text/plain": [
              "<Figure size 432x288 with 1 Axes>"
            ],
            "image/png": "[encoded data removed]"
          },
          "metadata": {
            "needs_background": "light"
          }
        }
      ],
      "source": [
        "ax = sns.boxplot(data.response, data.dur_sec)\n",
        "#ajustando o valor dos limites para os bigodes aparecerem no gráfico\n",
        "lims1 = (-50, lims[1]+50)\n",
        "#mudando os limites do eixo y no gráfico\n",
        "ax.set(ylim=lims1)"
      ]
    },
    {
      "cell_type": "markdown",
      "metadata": {
        "id": "FC2MUmhqTeLN"
      },
      "source": [
        "Já era possível ver que o tempo de conversação é um fator determinante para que a resposta seja sim, mas agora ficou bem claro que a mediana de yes é mais que o dobro da mediana de no."
      ]
    },
    {
      "cell_type": "markdown",
      "metadata": {
        "id": "Pjo4HzZwTeLN"
      },
      "source": [
        "É assim que analisamos as variáveis numéricas-categóricas, usando média, mediana e box plots para tirar algum tipo de conclusão.\n",
        "\n",
        "### c) Análise Categórica-Categórica\n",
        "\n",
        "Visto que nossa variável / coluna alvo é a taxa de resposta, veremos como as diferentes categorias, como educação, estado civil, etc., estão associadas à coluna `response`. Então, em vez de 'yes' e 'no', iremos convertê-los em '1' e '0', fazendo isso obteremos a \"Taxa de resposta\"."
      ]
    },
    {
      "cell_type": "code",
      "execution_count": null,
      "metadata": {
        "id": "To9s8YvSTeLN",
        "colab": {
          "base_uri": "https://localhost:8080/"
        },
        "outputId": "3ccda0f2-4c05-49f3-c8bf-0cc637d66db9"
      },
      "outputs": [
        {
          "output_type": "execute_result",
          "data": {
            "text/plain": [
              "0    39873\n",
              "1     5285\n",
              "Name: response_rate, dtype: int64"
            ]
          },
          "metadata": {},
          "execution_count": 75
        }
      ],
      "source": [
        "# criar a coluna numérica response_rate usando 0 para yes e 1 para no\n",
        "data['response_rate'] = np.where(data.response=='yes', 1, 0)\n",
        "data.response_rate.value_counts()"
      ]
    },
    {
      "cell_type": "code",
      "execution_count": null,
      "metadata": {
        "id": "GwS4_HpdTeLN",
        "colab": {
          "base_uri": "https://localhost:8080/",
          "height": 329
        },
        "outputId": "c9d55835-9921-4511-b017-a1749297141e"
      },
      "outputs": [
        {
          "output_type": "execute_result",
          "data": {
            "text/plain": [
              "<matplotlib.axes._subplots.AxesSubplot at 0x7fd09c35b290>"
            ]
          },
          "metadata": {},
          "execution_count": 76
        },
        {
          "output_type": "display_data",
          "data": {
            "text/plain": [
              "<Figure size 432x288 with 1 Axes>"
            ],
            "image/png": "[encoded data removed]"
          },
          "metadata": {
            "needs_background": "light"
          }
        }
      ],
      "source": [
        "# fazer um bar plot do Matplotlib da média de response_rate por estado civil\n",
        "data.groupby('marital')['response_rate'].mean().plot.bar()"
      ]
    },
    {
      "cell_type": "markdown",
      "metadata": {
        "id": "lAbjBIcUTeLN"
      },
      "source": [
        "Poderíamos ter feito isso também usando diretamente o Seaborn, mas precisaríamos ter a coluna numérica para ele calcular a média."
      ]
    },
    {
      "cell_type": "code",
      "execution_count": null,
      "metadata": {
        "id": "9jiG9Pe6TeLN",
        "colab": {
          "base_uri": "https://localhost:8080/",
          "height": 296
        },
        "outputId": "50533b22-baff-4ca2-c3e3-ca76b54739a9"
      },
      "outputs": [
        {
          "output_type": "execute_result",
          "data": {
            "text/plain": [
              "<matplotlib.axes._subplots.AxesSubplot at 0x7fd09c335ed0>"
            ]
          },
          "metadata": {},
          "execution_count": 77
        },
        {
          "output_type": "display_data",
          "data": {
            "text/plain": [
              "<Figure size 432x288 with 1 Axes>"
            ],
            "image/png": "[encoded data removed]"
          },
          "metadata": {
            "needs_background": "light"
          }
        }
      ],
      "source": [
        "# fazer de novo usando Seaborn\n",
        "sns.barplot(x='marital', y='response_rate', data=data)"
      ]
    },
    {
      "cell_type": "markdown",
      "metadata": {
        "id": "OsK8ceQ-TeLN"
      },
      "source": [
        "Fazendo a contagem dos tipos de reposta por nível educional"
      ]
    },
    {
      "cell_type": "code",
      "execution_count": null,
      "metadata": {
        "id": "djPv8_YGTeLO",
        "colab": {
          "base_uri": "https://localhost:8080/",
          "height": 296
        },
        "outputId": "6124e4fb-c70b-4ddb-e743-43e5cd60094a"
      },
      "outputs": [
        {
          "output_type": "execute_result",
          "data": {
            "text/plain": [
              "<matplotlib.axes._subplots.AxesSubplot at 0x7fd09c2bd090>"
            ]
          },
          "metadata": {},
          "execution_count": 78
        },
        {
          "output_type": "display_data",
          "data": {
            "text/plain": [
              "<Figure size 432x288 with 1 Axes>"
            ],
            "image/png": "[encoded data removed]"
          },
          "metadata": {
            "needs_background": "light"
          }
        }
      ],
      "source": [
        "# countplot dos tipos de reposta por nível educional\n",
        "sns.countplot(x='education', hue='response', data=data)"
      ]
    },
    {
      "cell_type": "code",
      "execution_count": null,
      "metadata": {
        "id": "Qm7ilk-JTeLO",
        "colab": {
          "base_uri": "https://localhost:8080/",
          "height": 297
        },
        "outputId": "c7e1ae22-4634-4b5c-ae4a-a550f62114f5"
      },
      "outputs": [
        {
          "output_type": "execute_result",
          "data": {
            "text/plain": [
              "<matplotlib.axes._subplots.AxesSubplot at 0x7fd09be51610>"
            ]
          },
          "metadata": {},
          "execution_count": 89
        },
        {
          "output_type": "display_data",
          "data": {
            "text/plain": [
              "<Figure size 432x288 with 1 Axes>"
            ],
            "image/png": "[encoded data removed]"
          },
          "metadata": {
            "needs_background": "light"
          }
        }
      ],
      "source": [
        "# contagem dos tipos de reposta por tipo de trabalho\n",
        "sns.barplot(y='job', x='response_rate', data=data)"
      ]
    },
    {
      "cell_type": "markdown",
      "metadata": {
        "id": "cI5dNFonTeLO"
      },
      "source": [
        "Com o catplot poderíamos ter a comparação de contagens olhando 3 variáveis categóricas."
      ]
    },
    {
      "cell_type": "markdown",
      "metadata": {
        "id": "DQrpB7fiTeLO"
      },
      "source": [
        "## 5. Análise multivariada\n",
        "\n",
        "Se analisarmos os dados levando em consideração mais de duas variáveis / colunas de um conjunto de dados, isso é conhecido como Análise Multivariada.\n",
        "Vamos ver como `education`, `marital` e `response_rate` variam entre si.\n",
        "Primeiro, vamos criar uma tabela dinâmica com as três colunas e depois disso, vamos criar um mapa de calor."
      ]
    },
    {
      "cell_type": "code",
      "execution_count": null,
      "metadata": {
        "id": "mrGtKZ98TeLO",
        "colab": {
          "base_uri": "https://localhost:8080/"
        },
        "outputId": "8efaa2fa-797d-42a4-99b0-a8e519f88b8e"
      },
      "outputs": [
        {
          "output_type": "stream",
          "name": "stdout",
          "text": [
            "marital    divorced   married    single\n",
            "education                              \n",
            "primary    0.138852  0.075616  0.106808\n",
            "secondary  0.103559  0.094663  0.129271\n",
            "tertiary   0.137415  0.129835  0.183737\n",
            "unknown    0.142012  0.122519  0.162879\n"
          ]
        }
      ],
      "source": [
        "# fazer um pivot table de educação, estado civil e taxa de resposta\n",
        "result = pd.pivot_table(data=data, index = 'education', columns='marital', values='response_rate')\n",
        "print(result)"
      ]
    },
    {
      "cell_type": "code",
      "execution_count": null,
      "metadata": {
        "id": "mAzgzNkJTeLO",
        "colab": {
          "base_uri": "https://localhost:8080/",
          "height": 296
        },
        "outputId": "3a236e24-2eab-4853-ce32-385787e973f1"
      },
      "outputs": [
        {
          "output_type": "execute_result",
          "data": {
            "text/plain": [
              "<matplotlib.axes._subplots.AxesSubplot at 0x7fd09bd31990>"
            ]
          },
          "metadata": {},
          "execution_count": 91
        },
        {
          "output_type": "display_data",
          "data": {
            "text/plain": [
              "<Figure size 432x288 with 2 Axes>"
            ],
            "image/png": "[encoded data removed]"
          },
          "metadata": {
            "needs_background": "light"
          }
        }
      ],
      "source": [
        "# criar o heatmap\n",
        "sns.heatmap(result, annot=True, cmap='RdYlGn', center=0.117)"
      ]
    },
    {
      "cell_type": "markdown",
      "metadata": {
        "id": "_iR7qY8yTeLO"
      },
      "source": [
        "Com base no Mapa de Calor, podemos inferir que as pessoas casadas com educação primária têm menos probabilidade de responder positivamente à pesquisa e as pessoas solteiras com educação superior têm maior probabilidade de responder positivamente à pesquisa.\n",
        "Da mesma forma, podemos traçar os gráficos para Trabalho vs casamento vs resposta, Educação vs renda vs resposta, etc.\n",
        "\n",
        "Podemos também olhar os valores absolutos com vários gráficos de barras usando catplot diretamente na variável alvo `response`."
      ]
    },
    {
      "cell_type": "code",
      "execution_count": null,
      "metadata": {
        "id": "LNN8rTD0TeLP",
        "colab": {
          "base_uri": "https://localhost:8080/",
          "height": 746
        },
        "outputId": "8404046d-38c8-48a7-92bd-c2ac3f29e66e"
      },
      "outputs": [
        {
          "output_type": "execute_result",
          "data": {
            "text/plain": [
              "<seaborn.axisgrid.FacetGrid at 0x7fd09bf4dad0>"
            ]
          },
          "metadata": {},
          "execution_count": 99
        },
        {
          "output_type": "display_data",
          "data": {
            "text/plain": [
              "<Figure size 1080x720 with 6 Axes>"
            ],
            "image/png": "[encoded data removed]"
          },
          "metadata": {
            "needs_background": "light"
          }
        }
      ],
      "source": [
        "# fazer um plot categórico de educação, estado civil e resposta\n",
        "sns.catplot(x='education', col='marital', row='response', data=data, kind='count')"
      ]
    },
    {
      "cell_type": "markdown",
      "metadata": {
        "id": "xYvi0yzjTeLP"
      },
      "source": [
        "## Conclusão\n",
        "\n",
        "Assim é feita a Análise Exploratória de Dados. A EDA nos ajuda a olhar além dos dados. Quanto mais exploramos os dados, mais percepções extraímos deles. Como analista de dados, quase 80% do nosso tempo será gasto no entendimento dos dados e na solução de vários problemas de negócios por meio de EDA."
      ]
    },
    {
      "cell_type": "code",
      "execution_count": null,
      "metadata": {
        "id": "msvAWEcATeLP"
      },
      "outputs": [],
      "source": []
    }
  ],
  "metadata": {
    "kernelspec": {
      "display_name": "Python 3",
      "language": "python",
      "name": "python3"
    },
    "language_info": {
      "codemirror_mode": {
        "name": "ipython",
        "version": 3
      },
      "file_extension": ".py",
      "mimetype": "text/x-python",
      "name": "python",
      "nbconvert_exporter": "python",
      "pygments_lexer": "ipython3",
      "version": "3.6.4"
    },
    "colab": {
      "provenance": [],
      "collapsed_sections": []
    }
  },
  "nbformat": 4,
  "nbformat_minor": 0
}