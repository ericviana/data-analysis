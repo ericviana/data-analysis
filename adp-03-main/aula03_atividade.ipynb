{
  "cells": [
    {
      "cell_type": "markdown",
      "metadata": {
        "id": "AC3YcC4NaryQ"
      },
      "source": [
        "# Análise de Dados em Python \n",
        "**Professor Responsável:** Antonio Sergio Ferreira Bonato <antonio.bonato@saojudas.br>"
      ]
    },
    {
      "cell_type": "markdown",
      "metadata": {
        "id": "6RalX96EaryS"
      },
      "source": [
        "# Atividade03 - NumPy Básico: Arrays e Processamento Vetorizado\n",
        "\n",
        "**Conteúdo:**\n",
        "- O que é NumPy; NumPy arrays; operações com arrays\n",
        "- NumPy: matrizes e operações com matrizes\n",
        "- NumPy: carregando dados com NumPy\n",
        "- NumPy: álgebra linear básica"
      ]
    },
    {
      "cell_type": "code",
      "execution_count": null,
      "metadata": {
        "id": "fA2c1-f3qUCq"
      },
      "outputs": [],
      "source": [
        "import numpy as np"
      ]
    },
    {
      "cell_type": "markdown",
      "metadata": {
        "id": "Jj1lxaHWaryX"
      },
      "source": [
        "## Exercícios"
      ]
    },
    {
      "cell_type": "markdown",
      "metadata": {
        "id": "n9f1UQNWaryY"
      },
      "source": [
        "**1** Utilize o código dado para importar o arquivo `dados.csv`, que contém dados de saúde sobre homens e mulheres de diversas idades. Veja na tabela a descrição dos campos."
      ]
    },
    {
      "cell_type": "markdown",
      "metadata": {
        "id": "J6KKffA6arya"
      },
      "source": [
        "|Ordem|Campo|Descrição|\n",
        "|:-|:-|:-|\n",
        "|0|sexo|Homem=0 Mulher=1|\n",
        "|1|idade|anos completos|\n",
        "|2|rendom|renda domiciliar|\n",
        "|3|anoest|anos de estudo|\n",
        "|4|altura||\n",
        "|5|peso||\n",
        "|6|probagud|0 não teve problemas nos últimos 30 dias, 1 = teve problema nos últimos 30 dias|\n",
        "|7|probcron|0 não tem problemas crônicos, 1 = tem problemas crônicos|\n",
        "|8|gastorem|gasto com medicamentos nos últimos 30 dias|"
      ]
    },
    {
      "cell_type": "markdown",
      "metadata": {
        "id": "SRnmMDY6aryb"
      },
      "source": [
        "Utilize o código pronto para importar os dados. Veja que o parâmetro `converters` da função `loadtxt` contém um dicionário que converte os dados faltantes para `nan` (not a number)."
      ]
    },
    {
      "cell_type": "code",
      "execution_count": null,
      "metadata": {
        "id": "LWiqAaVaqUCs"
      },
      "outputs": [],
      "source": [
        "zera = lambda x: np.nan if len(x)==0 else x"
      ]
    },
    {
      "cell_type": "code",
      "execution_count": null,
      "metadata": {
        "id": "ujLHvARrqUCs",
        "colab": {
          "base_uri": "https://localhost:8080/"
        },
        "outputId": "dbed5d82-8397-47bb-95e6-fca604cda1ef"
      },
      "outputs": [
        {
          "output_type": "execute_result",
          "data": {
            "text/plain": [
              "{0: <function __main__.<lambda>(x)>,\n",
              " 1: <function __main__.<lambda>(x)>,\n",
              " 2: <function __main__.<lambda>(x)>,\n",
              " 3: <function __main__.<lambda>(x)>,\n",
              " 4: <function __main__.<lambda>(x)>,\n",
              " 5: <function __main__.<lambda>(x)>,\n",
              " 6: <function __main__.<lambda>(x)>,\n",
              " 7: <function __main__.<lambda>(x)>,\n",
              " 8: <function __main__.<lambda>(x)>}"
            ]
          },
          "metadata": {},
          "execution_count": 3
        }
      ],
      "source": [
        "conversores = {i:zera for i in range(9)}\n",
        "conversores"
      ]
    },
    {
      "cell_type": "code",
      "execution_count": null,
      "metadata": {
        "id": "EiTFsi2mqUCt",
        "colab": {
          "base_uri": "https://localhost:8080/"
        },
        "outputId": "3d9c0b83-4667-4ac9-8b7b-bd0929329575"
      },
      "outputs": [
        {
          "output_type": "execute_result",
          "data": {
            "text/plain": [
              "nan"
            ]
          },
          "metadata": {},
          "execution_count": 4
        }
      ],
      "source": [
        "zera('')"
      ]
    },
    {
      "cell_type": "code",
      "source": [
        "from google.colab import drive\n",
        "drive.mount('/content/drive')"
      ],
      "metadata": {
        "id": "RopXwBraw0bv",
        "colab": {
          "base_uri": "https://localhost:8080/"
        },
        "outputId": "a07cbc22-663e-4454-e4e0-e711a75497d4"
      },
      "execution_count": null,
      "outputs": [
        {
          "output_type": "stream",
          "name": "stdout",
          "text": [
            "Mounted at /content/drive\n"
          ]
        }
      ]
    },
    {
      "cell_type": "code",
      "execution_count": null,
      "metadata": {
        "id": "kGOsgrKYqUCu"
      },
      "outputs": [],
      "source": [
        "path = '/content/drive/MyDrive/2022_2_extensao_adp/'\n",
        "arr = np.loadtxt(path+'aula03_dados.csv', delimiter=';',dtype=np.float64, converters=conversores)"
      ]
    },
    {
      "cell_type": "code",
      "execution_count": null,
      "metadata": {
        "id": "kRxkuFx4qUCu"
      },
      "outputs": [],
      "source": [
        "headers = np.array(['sexo', 'idade', 'rendom', 'anoest', 'altura', 'peso', 'probagud',\n",
        "                   'probcron', 'gastorem'])\n",
        "headers"
      ]
    },
    {
      "cell_type": "markdown",
      "metadata": {
        "id": "WFuQEIVGaryg"
      },
      "source": [
        "**a)** Imprima o formato do array arr."
      ]
    },
    {
      "cell_type": "code",
      "execution_count": null,
      "metadata": {
        "id": "veE3uXs5aryh",
        "scrolled": true
      },
      "outputs": [],
      "source": [
        "#solucao"
      ]
    },
    {
      "cell_type": "markdown",
      "metadata": {
        "id": "bs_ftkQ7aryk"
      },
      "source": [
        "**b)** Imprima as 10 primeiras linhas do vetor e examine-as."
      ]
    },
    {
      "cell_type": "code",
      "execution_count": null,
      "metadata": {
        "id": "Ml75cEtxaryl"
      },
      "outputs": [],
      "source": [
        "#solucao"
      ]
    },
    {
      "cell_type": "markdown",
      "metadata": {
        "id": "-NTloFHRaryn"
      },
      "source": [
        "**c)** Verifique se há colunas com dados nan. Quais são as colunas? Dicas: use o array headers definido no código dado, a ufunction `isnan()` e a função `any()`, um loop `for` e indexação booleana."
      ]
    },
    {
      "cell_type": "code",
      "execution_count": null,
      "metadata": {
        "id": "NnuAl0Woaryo"
      },
      "outputs": [],
      "source": [
        "#solucao"
      ]
    },
    {
      "cell_type": "markdown",
      "metadata": {
        "id": "WNn3FgT8aryr"
      },
      "source": [
        "**d)** Crie uma visão do array arr sem as linhas que contém anotações faltantes (dados nan)."
      ]
    },
    {
      "cell_type": "code",
      "execution_count": null,
      "metadata": {
        "id": "rTnZmG0Warys"
      },
      "outputs": [],
      "source": [
        "#solucao"
      ]
    },
    {
      "cell_type": "markdown",
      "metadata": {
        "id": "bnfePZb1aryu"
      },
      "source": [
        "**e)** Calcule a média de cada coluna da visão not_nan e atribua aos nan da coluna altura a média da altura e aos nan da coluna peso a média da coluna peso. Antes da trocar os nan, calcule a média das colunas de arr para ver o que acontece. \n",
        "\n",
        "Lembre-se de como funcionam os eixos! Abaixo um exemplo com a função `sum()`\n",
        "![eixos](https://saskeli.github.io/data-analysis-with-python-summer-2019/_images/aggregation.svg)"
      ]
    },
    {
      "cell_type": "code",
      "execution_count": null,
      "metadata": {
        "id": "hzbjMI9garyx"
      },
      "outputs": [],
      "source": [
        "#solução"
      ]
    },
    {
      "cell_type": "markdown",
      "metadata": {
        "id": "xL6ZiclZary0"
      },
      "source": [
        "**f)** calcule agora a média, o desvio padrão, o máximo e o mínimo de todas as colunas do array sem filtro"
      ]
    },
    {
      "cell_type": "code",
      "execution_count": null,
      "metadata": {
        "id": "OKmPhGwzary1"
      },
      "outputs": [],
      "source": [
        "#solução"
      ]
    },
    {
      "cell_type": "markdown",
      "metadata": {
        "id": "2j_myiFMary3"
      },
      "source": [
        "**2** Escreva duas funções, `get_rows` e `get_columns`, que recebem um array bidimensional como parâmetro. Elas devem retornar uma lista de linhas e colunas do array, respectivamente. As linhas e colunas devem ser matrizes unidimensionais. Você pode usar a operação de transposição, que inverte linhas para colunas, em sua solução. A transposição é feita pelo método `T`."
      ]
    },
    {
      "cell_type": "code",
      "execution_count": null,
      "metadata": {
        "id": "YRS35Vicary3"
      },
      "outputs": [],
      "source": [
        "#exemplo\n",
        "a=np.random.randint(0, 10, (4,4))\n",
        "print(a)\n",
        "print(a.T)"
      ]
    },
    {
      "cell_type": "code",
      "execution_count": null,
      "metadata": {
        "id": "RzTljYKuary5"
      },
      "outputs": [],
      "source": [
        "#solução"
      ]
    },
    {
      "cell_type": "code",
      "execution_count": null,
      "metadata": {
        "id": "P4uh_VJTary7"
      },
      "outputs": [],
      "source": [
        "#solução"
      ]
    },
    {
      "cell_type": "code",
      "execution_count": null,
      "metadata": {
        "id": "t902kUxFary9"
      },
      "outputs": [],
      "source": [
        "#teste - dados\n",
        "a = np.array([[5, 0, 3, 3],\n",
        "              [7, 9, 3, 5],\n",
        "              [2, 4, 7, 6],\n",
        "              [8, 8, 1, 6]])"
      ]
    },
    {
      "cell_type": "code",
      "execution_count": null,
      "metadata": {
        "id": "bm11hIsyary_"
      },
      "outputs": [],
      "source": [
        "#teste row\n",
        "print(get_rows(a))\n",
        "#[array([5, 0, 3, 3]), array([7, 9, 3, 5]), array([2, 4, 7, 6]), array([8, 8, 1, 6])]"
      ]
    },
    {
      "cell_type": "code",
      "execution_count": null,
      "metadata": {
        "id": "dCPLvQswarzB"
      },
      "outputs": [],
      "source": [
        "#teste column\n",
        "print(get_columns(a))\n",
        "#[array([5, 7, 2, 8]), array([0, 9, 4, 8]), array([3, 3, 7, 1]), array([3, 5, 6, 6])]"
      ]
    },
    {
      "cell_type": "markdown",
      "metadata": {
        "id": "Dbh0uz-sarzC"
      },
      "source": [
        "**3** Crie a função `get_row_vectors` que retorna uma lista de linhas do array de entrada da forma `(n, m)`, mas desta vez as linhas devem ter a forma `(1, m)`. Da mesma forma, crie a função get_columns_vectors que retorne uma lista de colunas (cada uma com forma `(n, 1)`) da matriz de entrada.\n",
        "\n",
        "Para a entrada:\n",
        "\n",
        "`[[5 0 3]\n",
        " [3 7 9]]`\n",
        " \n",
        "Deve ser gerada a saída:\n",
        "\n",
        "Vetor de Linhas:\n",
        "\n",
        "`[array([[5, 0, 3]]), array([[3, 7, 9]])]`\n",
        "\n",
        "Vetor de Colunas:\n",
        "\n",
        "`[array([[5],\n",
        "        [3]]),\n",
        " array([[0],\n",
        "        [7]]),\n",
        " array([[3],\n",
        "        [9]])]`"
      ]
    },
    {
      "cell_type": "code",
      "execution_count": null,
      "metadata": {
        "id": "edlCf3QgarzD"
      },
      "outputs": [],
      "source": [
        "#solucao row\n",
        "def get_row_vectors(m):\n",
        "    return []"
      ]
    },
    {
      "cell_type": "code",
      "execution_count": null,
      "metadata": {
        "id": "HZTzZhLXarzE"
      },
      "outputs": [],
      "source": [
        "#solucao column\n",
        "def get_column_vectors(m):\n",
        "    m = m.T\n",
        "    return []"
      ]
    },
    {
      "cell_type": "code",
      "execution_count": null,
      "metadata": {
        "id": "2yV6pRWYarzG"
      },
      "outputs": [],
      "source": [
        "#teste - dados\n",
        "a = np.array([[5, 0, 3],[3, 7, 9]])\n",
        "a.shape"
      ]
    },
    {
      "cell_type": "code",
      "execution_count": null,
      "metadata": {
        "id": "rPdmBx03arzI"
      },
      "outputs": [],
      "source": [
        "#teste row\n",
        "print(get_row_vectors(a))"
      ]
    },
    {
      "cell_type": "code",
      "execution_count": null,
      "metadata": {
        "id": "jA97Taq6arzJ",
        "scrolled": true
      },
      "outputs": [],
      "source": [
        "#test column\n",
        "print(get_column_vectors(a))"
      ]
    },
    {
      "cell_type": "markdown",
      "metadata": {
        "id": "Xf52OnSDarzL"
      },
      "source": [
        "**4** Crie a função `diamante` que retorne um array inteiro bidimensional em que os 1s formem uma forma de diamante. O restante dos números é 0. A função deve receber um parâmetro que informe o comprimento de um lado do diamante. Faça isso usando as funções `eye` e `concatenate` do NumPy e o fatiamento de array.\n",
        "\n",
        "Ex:\n",
        "\n",
        "`print(diamante(3))`\n",
        "\n",
        "`[[0 0 1 0 0]\n",
        " [0 1 0 1 0]\n",
        " [1 0 0 0 1]\n",
        " [0 1 0 1 0]\n",
        " [0 0 1 0 0]]`\n",
        "\n",
        "`print(diamante(1))`\n",
        "\n",
        "`[[1]]`"
      ]
    },
    {
      "cell_type": "code",
      "execution_count": null,
      "metadata": {
        "id": "VNoP0twcarzL"
      },
      "outputs": [],
      "source": [
        "#Exemplo do concatenate\n",
        "a = np.array([[1, 2], [3, 4]])\n",
        "b = np.array([[5, 6]])\n",
        "np.concatenate((a, b), axis=0)"
      ]
    },
    {
      "cell_type": "code",
      "execution_count": null,
      "metadata": {
        "id": "teDH_XiyarzN"
      },
      "outputs": [],
      "source": [
        "#Exemplo do concatenate\n",
        "np.concatenate((a, b.T), axis=1)"
      ]
    },
    {
      "cell_type": "code",
      "execution_count": null,
      "metadata": {
        "id": "hdV16qonarzO"
      },
      "outputs": [],
      "source": [
        "#Exemplo do concatenate\n",
        "np.concatenate((a, b), axis=None)"
      ]
    },
    {
      "cell_type": "code",
      "execution_count": null,
      "metadata": {
        "id": "7Pu_ZB26arzP"
      },
      "outputs": [],
      "source": [
        "#solução\n",
        "def diamante(n):\n",
        "    pass"
      ]
    },
    {
      "cell_type": "code",
      "execution_count": null,
      "metadata": {
        "id": "MER5lvF1arzR"
      },
      "outputs": [],
      "source": [
        "#teste\n",
        "print(diamante(3))"
      ]
    },
    {
      "cell_type": "code",
      "execution_count": null,
      "metadata": {
        "id": "siKcjXaearzS"
      },
      "outputs": [],
      "source": [
        "#teste\n",
        "print(diamante(1))"
      ]
    },
    {
      "cell_type": "markdown",
      "metadata": {
        "id": "MqJ0kz8jarzT"
      },
      "source": [
        "**5** Escreva a função lambda `so_pares` que receba um array unidimensional de inteiros e devolva este array sem números ímpares. Dica: use indexação booleana.\n",
        "\n",
        "Ex:\n",
        "\n",
        "Entrada: \n",
        "\n",
        "`arr = np.array([0,1,2,3,4,5,6,7,8,9])`\n",
        "\n",
        "Saída:\n",
        "\n",
        "`array([0, 2, 4, 6, 8])`"
      ]
    },
    {
      "cell_type": "code",
      "execution_count": null,
      "metadata": {
        "id": "xNfs02lharzU"
      },
      "outputs": [],
      "source": [
        "#solucao"
      ]
    },
    {
      "cell_type": "code",
      "execution_count": null,
      "metadata": {
        "id": "4aEdKKcvarzV"
      },
      "outputs": [],
      "source": [
        "#teste\n",
        "arr = np.arange(10)"
      ]
    },
    {
      "cell_type": "markdown",
      "metadata": {
        "id": "ZwTTdLZNarzX"
      },
      "source": [
        "**6** Escreva a função lambda `cade_os_iguais` que receba dois arrays unidimensionais de inteiros x e y e devolva um array com a(s) posição(ões) em que há números iguais nos dos arrays. Não use `for`. Dica: use np.where\n",
        "\n",
        "Ex:\n",
        "\n",
        "Entrada: \n",
        "\n",
        "`x = np.array([5,6,7,8,3,4])`\n",
        "\n",
        "`y = np.array([5,3,4,5,2,4])`\n",
        "\n",
        "Saída:\n",
        "\n",
        "`array([0, 5])`"
      ]
    },
    {
      "cell_type": "code",
      "execution_count": null,
      "metadata": {
        "id": "nq4FPEFaarzX"
      },
      "outputs": [],
      "source": [
        "#solucao"
      ]
    },
    {
      "cell_type": "code",
      "execution_count": null,
      "metadata": {
        "id": "Ntty0be2arzY"
      },
      "outputs": [],
      "source": [
        "#teste\n",
        "x = np.array([5,6,7,8,3,4])\n",
        "y = np.array([5,3,4,5,2,4])"
      ]
    },
    {
      "cell_type": "code",
      "execution_count": null,
      "metadata": {
        "id": "gaz5o6mAarza"
      },
      "outputs": [],
      "source": []
    },
    {
      "cell_type": "code",
      "execution_count": null,
      "metadata": {
        "id": "xe4TD6jYarzb"
      },
      "outputs": [],
      "source": []
    }
  ],
  "metadata": {
    "colab": {
      "collapsed_sections": [],
      "name": "aula03_atividade.ipynb",
      "provenance": []
    },
    "kernelspec": {
      "display_name": "Python 3",
      "language": "python",
      "name": "python3"
    },
    "language_info": {
      "codemirror_mode": {
        "name": "ipython",
        "version": 3
      },
      "file_extension": ".py",
      "mimetype": "text/x-python",
      "name": "python",
      "nbconvert_exporter": "python",
      "pygments_lexer": "ipython3",
      "version": "3.6.4"
    }
  },
  "nbformat": 4,
  "nbformat_minor": 0
}