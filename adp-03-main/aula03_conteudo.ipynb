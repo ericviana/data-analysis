{
  "cells": [
    {
      "cell_type": "markdown",
      "metadata": {
        "id": "E41Ea2bdeCVc"
      },
      "source": [
        "# Análise de Dados em Python \n",
        "**Professor Responsável:** Antonio Sergio Ferreira Bonato <antonio.bonato@saojudas.br>"
      ]
    },
    {
      "cell_type": "markdown",
      "metadata": {
        "id": "mJobS_nzeCVe"
      },
      "source": [
        "# Aula03 - NumPy Básico: Arrays e Processamento Vetorizado\n",
        "Adaptado do livro [Python para Análise de Dados](https://www.google.com.br/books/edition/Python_para_an%C3%A1lise_de_dados/Oj5FDwAAQBAJ?hl=pt-BR&gbpv=0), de Wes McKinney, editora Novatec. [Clique para acessar os notebooks do livro](https://github.com/wesm/pydata-book)\n",
        "\n",
        "**Conteúdo:**\n",
        "- O que é NumPy; NumPy arrays; operações com arrays\n",
        "- NumPy: matrizes e operações com matrizes\n",
        "- NumPy: carregando dados com NumPy\n",
        "- NumPy: álgebra linear básica"
      ]
    },
    {
      "cell_type": "markdown",
      "metadata": {
        "id": "3t8MKagzeCVg"
      },
      "source": [
        "## Introdução\n",
        "O NumPy, abreviatura de Numerical Python, é um dos pacotes básicos mais importantes para processamento numérico em Python. A maioria dos pacotes de processamento com funcionalidades científicas utiliza objetos array do NumPy como *língua franca* para troca de dados.\n",
        "\n",
        "Alguns recursos do NumPy:\n",
        "- ndarray: um multidimensional eficaz que oferece operações aritméticas rápidas,  orientadas a arrays, e recursos flexíveis de *broadcasting*;\n",
        "- funções matemáticas para operações rápidas em arrays de dados inteiros sem que seja necessário escrever laços;\n",
        "- ferramentas para ler/escrever dados de array em disco e trabalhar arquivos mapeados em memória;\n",
        "- recursos para álgebra linear, geração de números aleatórios e transformadas de Fourier;\n",
        "- uma API C para conectar o NumPy a bibliotecas escritas em C, C++ ou FORTRAN.\n",
        "\n",
        "Embora o NumPy por si só não ofereça funcionalidades científicas nem de modelagem, compreender os arrays NumPy e o processamento orientado a arrays ajudará você a utilizar ferramentas com semântica orientada a arrays, como o [pandas](https://pandas.pydata.org) (análise de dados), o [Scikit-Learn](https://scikit-learn.org/stable/) (machine learning) e o [Keras](https://keras.io) (deep learning).\n",
        "\n",
        "Um dos motivos para o NumPy ser tão importante é o fato de ele ter sido projetado para ser eficaz em arrays de dados grandes.<br>\n",
        "Veja abaixo um exemplo de desempenho no processamento de uma lista com um milhão de inteiros e um numpy array com um milhão de inteiros."
      ]
    },
    {
      "cell_type": "code",
      "execution_count": null,
      "metadata": {
        "id": "YsWKJQrJeCVi"
      },
      "outputs": [],
      "source": [
        "import numpy as np\n",
        "np.random.seed(12345)\n",
        "import matplotlib.pyplot as plt\n",
        "plt.rc('figure', figsize=(10, 6))\n",
        "#configura o notebook para arredondar os números para 4 casas decimais e não usar notação científica\n",
        "np.set_printoptions(precision=4, suppress=True)"
      ]
    },
    {
      "cell_type": "code",
      "execution_count": null,
      "metadata": {
        "id": "wM8zLtjqeCVn"
      },
      "outputs": [],
      "source": [
        "my_arr = np.arange(1000000)\n",
        "my_list = list(range(1000000))"
      ]
    },
    {
      "cell_type": "code",
      "execution_count": null,
      "metadata": {
        "id": "bIo8-y7yeCVq"
      },
      "outputs": [],
      "source": [
        "%time for _ in range(10): my_arr2 = my_arr * 2\n",
        "%time for _ in range(10): my_list2 = [x * 2 for x in my_list]"
      ]
    },
    {
      "cell_type": "markdown",
      "metadata": {
        "id": "0u63rxbReCVu"
      },
      "source": [
        "Os algoritmos baseados no NumPy geralmente são de 10 a 100 vezes mais rápidos do que suas contrapartidas em Python puro, além de utilizarem sigificativamente menos memória."
      ]
    },
    {
      "cell_type": "markdown",
      "metadata": {
        "id": "U7HDifpgeCVu"
      },
      "source": [
        "## O ndarray do NumPy: Um Objeto Array Multidimensional\n",
        "<br>\n",
        "Um dos principais recursos do NumPy é o seu objeto array n-dimensional, ou ndarray, que é um contêiner rápido e flexível para conjuntos de dados grandes em Python. Os arrays permitem realizar operações matemáticas em blocos inteiros de dados usando uma sintaxe semelhante às operações equivalentes entre elementos escalares. Veja o exemplo:"
      ]
    },
    {
      "cell_type": "code",
      "execution_count": null,
      "metadata": {
        "id": "ZQk07o3seCVv"
      },
      "outputs": [],
      "source": [
        "import numpy as np\n",
        "# Gera alguns dados aleatórios\n",
        "data = np.random.randn(2, 3)\n",
        "data"
      ]
    },
    {
      "cell_type": "code",
      "execution_count": null,
      "metadata": {
        "id": "PvGCL11MeCVy"
      },
      "outputs": [],
      "source": [
        "print(data * 10)\n",
        "print(data + data)"
      ]
    },
    {
      "cell_type": "markdown",
      "metadata": {
        "id": "d4FDEvITeCV1"
      },
      "source": [
        "No primeiro exemplo, todos os elementos foram multiplicados por 10. No segundo, os valores de cada posição do array foram somados uns aos outros."
      ]
    },
    {
      "cell_type": "markdown",
      "metadata": {
        "id": "VBTG4xOTeCV2"
      },
      "source": [
        "Um ndarray é um contêiner genérico, multidimensional para dados homogêneos; isso significa que todos os elementos devem ser do mesmo tipo. Todo array tem um *shape*, uma tupla que indica o tamanho de cada dimensão, e um *dtype*, que é um objeto que descreve o tipo de dado do array."
      ]
    },
    {
      "cell_type": "code",
      "execution_count": null,
      "metadata": {
        "id": "Wn-xt-xYeCV2"
      },
      "outputs": [],
      "source": [
        "print(data.shape)\n",
        "print(data.dtype)"
      ]
    },
    {
      "cell_type": "markdown",
      "metadata": {
        "id": "kxk7jWvseCV5"
      },
      "source": [
        "**A partir de agora este notebook irá usar np para se referir ao NumPy. Esta é uma convenção comum no mundo Python.**"
      ]
    },
    {
      "cell_type": "markdown",
      "metadata": {
        "id": "rkGxZWg8eCV5"
      },
      "source": [
        "### Criando ndarrays\n",
        "\n",
        "O modo mais fácil é usar a função `array`. Ela aceita qualquer objeto do tipo sequência (incluindo outros arrays) e gera um novo numpy array. O exemplo abaixo usa uma lista."
      ]
    },
    {
      "cell_type": "code",
      "execution_count": null,
      "metadata": {
        "id": "cxo88B_heCV6"
      },
      "outputs": [],
      "source": [
        "data1 = [6, 7.5, 8, 0, 1]\n",
        "arr1 = np.array(data1)\n",
        "arr1"
      ]
    },
    {
      "cell_type": "markdown",
      "metadata": {
        "id": "VXnX-90DeCV9"
      },
      "source": [
        "Sequências aninhadas geram um array multidimensional."
      ]
    },
    {
      "cell_type": "code",
      "execution_count": null,
      "metadata": {
        "id": "ak-HLeqceCV9"
      },
      "outputs": [],
      "source": [
        "data2 = [[1, 2, 3, 4], [5, 6, 7, 8]]\n",
        "arr2 = np.array(data2)\n",
        "arr2"
      ]
    },
    {
      "cell_type": "markdown",
      "metadata": {
        "id": "6lIs9rJqeCWA"
      },
      "source": [
        "Como *data2* era uma lista de listas, o array NumPy *arr2* tem duas dimensões com o formato inferido a partir dos dados. Podemos conferir isso inspecionando os atributos `ndim` e `shape`."
      ]
    },
    {
      "cell_type": "code",
      "execution_count": null,
      "metadata": {
        "id": "BqgSIzXAeCWB"
      },
      "outputs": [],
      "source": [
        "print(arr2.ndim)\n",
        "print(arr2.shape)"
      ]
    },
    {
      "cell_type": "markdown",
      "metadata": {
        "id": "Qi6kFs5keCWD"
      },
      "source": [
        "A menos que esteja explicitamente especificado, `np.array` tentará inferir um bom tipo de dados para o array que irá criar."
      ]
    },
    {
      "cell_type": "code",
      "execution_count": null,
      "metadata": {
        "id": "4H71F6HOeCWE"
      },
      "outputs": [],
      "source": [
        "arr1.dtype"
      ]
    },
    {
      "cell_type": "code",
      "execution_count": null,
      "metadata": {
        "id": "IqCdYAejeCWG"
      },
      "outputs": [],
      "source": [
        "arr2.dtype"
      ]
    },
    {
      "cell_type": "markdown",
      "metadata": {
        "id": "q8DfKw00eCWH"
      },
      "source": [
        "Há outras formas de se criar arrays. A função `zeros` cria array de 0s. A `ones` cria arrays de 1s. Ambas aceitam como argumento o tamanho do array. Para arrays multimensionais, passe uma tupla. A função `empty` cria um array sem inicializar os seus valores (vem zeros, mas às vezes, lixo). A função `arange` é uma versão da função `range`."
      ]
    },
    {
      "cell_type": "code",
      "execution_count": null,
      "metadata": {
        "id": "JoKZBdXzeCWI"
      },
      "outputs": [],
      "source": [
        "np.zeros(10)"
      ]
    },
    {
      "cell_type": "code",
      "execution_count": null,
      "metadata": {
        "id": "eJ2Cl3ZieCWK"
      },
      "outputs": [],
      "source": [
        "np.ones((3, 6))"
      ]
    },
    {
      "cell_type": "code",
      "execution_count": null,
      "metadata": {
        "id": "k9N_4sEEeCWL"
      },
      "outputs": [],
      "source": [
        "np.empty((2, 3, 2))"
      ]
    },
    {
      "cell_type": "markdown",
      "metadata": {
        "id": "Rtw3wOcbeCWN"
      },
      "source": [
        "`arange` é uma função embutida `range` de Python."
      ]
    },
    {
      "cell_type": "code",
      "execution_count": null,
      "metadata": {
        "id": "blnBIP0EeCWO"
      },
      "outputs": [],
      "source": [
        "np.arange(10)"
      ]
    },
    {
      "cell_type": "markdown",
      "metadata": {
        "id": "2vUg-1lAeCWP"
      },
      "source": [
        "|Função|Descrição|\n",
        "|:-|:-|\n",
        "|array|Converte os dados de entrada (lista, tupla, array ou outro tipo de sequência) em um ndarray, seja inferindo um dtype ou especificando-o explicitamente; copia os dados de entrada, por padrão|\n",
        "|asarray|Converte a entrada para um ndarray, mas não copia se a entrada for um ndarray|\n",
        "|arange|Como a função embutida `range`, porém devolve um ndarray em vez de uma lista|\n",
        "|ones, ones_like|Gera um array somente com 1s, com o formato e dtype especificados; ones_like aceita outro array e gera um array de uns com o mesmo formato e o mesto dtype|\n",
        "|zeros,zeros_like|Como ones e ones_like, porém gerando arrays com 0s|\n",
        "|empty, empty_like|Cria novos arrays alocando nova memória, mas não preenche nehum valor|\n",
        "|full, full_like|Gera um array com o formato e o dtype especificados, com todos os valores preenchidos com o valor de preenchimento indicado. full_like aceita outro array e gera um array preenchido com o mesmo formato e o mestmo dtype|\n",
        "|eye, identity|Cria uma matriz-identidade quadrada N x N (1s na diagonal e 0s nas demais posições)|"
      ]
    },
    {
      "cell_type": "markdown",
      "metadata": {
        "id": "tEsGbPsNeCWQ"
      },
      "source": [
        "## Quizz\n",
        "\n",
        "Crie os seguintes arrays:\n",
        "- um array nulo de tamanho 10\n",
        "- um array vazio de tamanho 10\n",
        "- um array de 0 a 10\n",
        "- uma matriz identidade de tamanho 3"
      ]
    },
    {
      "cell_type": "code",
      "execution_count": null,
      "metadata": {
        "id": "Vv6GT1oFeCWQ"
      },
      "outputs": [],
      "source": [
        "#resposta"
      ]
    },
    {
      "cell_type": "markdown",
      "metadata": {
        "id": "adhsdiNCeCWS"
      },
      "source": [
        "### Tipos de dados para  ndarrays\n",
        "O *tipo de dado* ou *dtype* é um objeto especial contendo informações que o array precisa para interpretar uma posição de memória como um tipo de dado em particular."
      ]
    },
    {
      "cell_type": "code",
      "execution_count": null,
      "metadata": {
        "id": "kU1fyro7eCWS"
      },
      "outputs": [],
      "source": [
        "arr1 = np.array([1, 2, 3], dtype=np.float64)\n",
        "arr2 = np.array([1, 2, 3], dtype=np.int32)"
      ]
    },
    {
      "cell_type": "code",
      "execution_count": null,
      "metadata": {
        "id": "r0yzs1QNeCWU"
      },
      "outputs": [],
      "source": [
        "arr1.dtype"
      ]
    },
    {
      "cell_type": "code",
      "execution_count": null,
      "metadata": {
        "id": "1UHLWoB3eCWW"
      },
      "outputs": [],
      "source": [
        "arr2.dtype"
      ]
    },
    {
      "cell_type": "code",
      "execution_count": null,
      "metadata": {
        "id": "hqk-S9YjeCWX"
      },
      "outputs": [],
      "source": [
        "arr = np.array([1, 2, 3, 4, 5])\n",
        "arr.dtype"
      ]
    },
    {
      "cell_type": "code",
      "execution_count": null,
      "metadata": {
        "id": "wsF84HJDqNCM"
      },
      "outputs": [],
      "source": [
        "np.arange(-5,6, dtype=np.int8)"
      ]
    },
    {
      "cell_type": "code",
      "execution_count": null,
      "metadata": {
        "id": "vaRruJgZqNCM"
      },
      "outputs": [],
      "source": [
        "np.arange(-5,6, dtype=np.uint8)"
      ]
    },
    {
      "cell_type": "markdown",
      "metadata": {
        "id": "T4dtgz_OeCWZ"
      },
      "source": [
        "|Tipo|Código do Tipo|Descrição|\n",
        "|:-|:-|:-|\n",
        "|int8, uint8|i1, u1|Tipos inteiros de 8 bits (1 byte) com e sem sinal|\n",
        "|int16, uint116|i2, u2|Tipos inteiros de 16 bits com e sem sinal|\n",
        "|int32, uint32|i4, u4|Tipos inteiros de 32 bits com e sem sinal|\n",
        "|int64, uint64|i8, u8|Tipos inteiros de 64 bits com e sem sinal|\n",
        "|float16|f2|Ponto flutuante com metade da precisão|\n",
        "|float32|f4 ou f|Ponto flutuante padrão de precisão única; compatível com o float de C|\n",
        "|float64|f8 ou d|Ponto flutuante padrão de precisão dupla; compatível com o double de C e o objeto float de Python|\n",
        "|float128|f16 ou g|Ponto flutuante com precisão estendida|\n",
        "|complex64, complex128, complex256|c8, c16, c32|Números complexos representados por dois floats de 32, 64 ou 128 bits respectivamente|\n",
        "|bool|?|Tipo booleano que armazena os valores True e False|\n",
        "|object|o|Tipo objeto de Python; um valor pode ser qualquer objeto de Python|\n",
        "|string_|S|Tipo string ASCII de tamanho fixo (1 byte por caractere); por exemplo, para criar um dtype string com tamanho 10 use 'S10'|\n",
        "|unicode_|U|Tipo Unicode de tamanho fixo (número de bytes é específico de cada plataforma); a mesma semântiva de especificação de string_ (por exemplo, 'U10')"
      ]
    },
    {
      "cell_type": "markdown",
      "metadata": {
        "id": "E3ru3vUveCWZ"
      },
      "source": [
        "Você pode conveter explicitamente ou fazer cast de um array de um dtype para outro usando o método `astype` de ndarray:"
      ]
    },
    {
      "cell_type": "code",
      "execution_count": null,
      "metadata": {
        "id": "j9y8JSm5eCWa"
      },
      "outputs": [],
      "source": [
        "float_arr = arr.astype(np.float64)\n",
        "float_arr.dtype"
      ]
    },
    {
      "cell_type": "code",
      "execution_count": null,
      "metadata": {
        "id": "nztUMzCkeCWb"
      },
      "outputs": [],
      "source": [
        "arr = np.array([3.7, -1.2, -2.6, 0.5, 12.9, 10.1])\n",
        "arr"
      ]
    },
    {
      "cell_type": "code",
      "execution_count": null,
      "metadata": {
        "id": "kMdh_9hZeCWd"
      },
      "outputs": [],
      "source": [
        "#cast de ponto flutuante para inteiro trunca a parte decimal\n",
        "arr.astype(np.int32)"
      ]
    },
    {
      "cell_type": "code",
      "execution_count": null,
      "metadata": {
        "id": "NTTmVUnEeCWe"
      },
      "outputs": [],
      "source": [
        "numeric_strings = np.array(['1.25', '-9.6', '42'], dtype=np.string_)\n",
        "numeric_strings"
      ]
    },
    {
      "cell_type": "markdown",
      "metadata": {
        "id": "UJb4PHNweCWf"
      },
      "source": [
        "Um array de strings que representem números pode ser convertido para um dtype numérico. Mas é preciso cuidado pois pode dar erro se não for possível converter."
      ]
    },
    {
      "cell_type": "code",
      "execution_count": null,
      "metadata": {
        "id": "Md9k4jl1eCWf"
      },
      "outputs": [],
      "source": [
        "numeric_strings.astype(float)"
      ]
    },
    {
      "cell_type": "code",
      "execution_count": null,
      "metadata": {
        "id": "kipGSKcxeCWh"
      },
      "outputs": [],
      "source": [
        "not_so_numeric_strings = np.array(['1.25', '-9.6', 'abc'], dtype=np.string_)\n",
        "not_so_numeric_strings"
      ]
    },
    {
      "cell_type": "code",
      "execution_count": null,
      "metadata": {
        "id": "bI1_aCCseCWi"
      },
      "outputs": [],
      "source": [
        "try:\n",
        "    not_so_numeric_strings.astype(float)\n",
        "except ValueError as ve:\n",
        "    print(ve)"
      ]
    },
    {
      "cell_type": "markdown",
      "metadata": {
        "id": "4A5KAaOSeCWj"
      },
      "source": [
        "Você pode usar o atributo dtype de outro array para fazer a conversão."
      ]
    },
    {
      "cell_type": "code",
      "execution_count": null,
      "metadata": {
        "id": "d9jCZyNveCWk"
      },
      "outputs": [],
      "source": [
        "int_array = np.arange(10)\n",
        "int_array"
      ]
    },
    {
      "cell_type": "code",
      "execution_count": null,
      "metadata": {
        "id": "r2lkQ-5geCWl"
      },
      "outputs": [],
      "source": [
        "calibers = np.array([.22, .270, .357, .380, .44, .50], dtype=np.float64)\n",
        "calibers"
      ]
    },
    {
      "cell_type": "code",
      "execution_count": null,
      "metadata": {
        "id": "11EyKbzueCWm"
      },
      "outputs": [],
      "source": [
        "int_array.astype(calibers.dtype)"
      ]
    },
    {
      "cell_type": "markdown",
      "metadata": {
        "id": "Ir0tIPhBeCWn"
      },
      "source": [
        "Também é possível usar os códigos de tipo (veja tabela acima) para fazer a conversão."
      ]
    },
    {
      "cell_type": "code",
      "execution_count": null,
      "metadata": {
        "id": "hI_PIUf8eCWo"
      },
      "outputs": [],
      "source": [
        "empty_uint32 = np.empty(8, dtype='u4')\n",
        "empty_uint32"
      ]
    },
    {
      "cell_type": "markdown",
      "metadata": {
        "id": "QjKM25emeCWp"
      },
      "source": [
        "## Quizz\n",
        "\n",
        "- crie uma matriz identidade de tamanho 5 e transforme em uma matriz de booleans"
      ]
    },
    {
      "cell_type": "code",
      "execution_count": null,
      "metadata": {
        "id": "Oe_klpvpeCWp"
      },
      "outputs": [],
      "source": [
        "#resposta"
      ]
    },
    {
      "cell_type": "markdown",
      "metadata": {
        "id": "i6sUJTUNeCWr"
      },
      "source": [
        "### Aritmética com NumPy Arrays\n",
        "Os arrays são importantes pois permitem operações em lote sobre arrays sem a necessidade de loops, o que é conhecido por *vetorização*.\n",
        "\n",
        "Qualquer operação aritmética entre arrays do mesmo tamanho faz com ela seja aplicada em todos os elementos do array."
      ]
    },
    {
      "cell_type": "code",
      "execution_count": null,
      "metadata": {
        "id": "WpmHNtACeCWr"
      },
      "outputs": [],
      "source": [
        "arr = np.array([[1., 2., 3.], [4., 5., 6.]])\n",
        "arr"
      ]
    },
    {
      "cell_type": "code",
      "execution_count": null,
      "metadata": {
        "id": "Wn-6VInbeCWs"
      },
      "outputs": [],
      "source": [
        "arr * arr"
      ]
    },
    {
      "cell_type": "code",
      "execution_count": null,
      "metadata": {
        "id": "raK70E29eCWu"
      },
      "outputs": [],
      "source": [
        "arr - arr"
      ]
    },
    {
      "cell_type": "markdown",
      "metadata": {
        "id": "ZcG3_ccleCWv"
      },
      "source": [
        "As operações aritméticas com escalares fazem o argumento escalar ser propagado para cada elemento do array."
      ]
    },
    {
      "cell_type": "code",
      "execution_count": null,
      "metadata": {
        "id": "aDijX-cJeCWw"
      },
      "outputs": [],
      "source": [
        "1 / arr"
      ]
    },
    {
      "cell_type": "code",
      "execution_count": null,
      "metadata": {
        "id": "s9NHmqiWeCWx"
      },
      "outputs": [],
      "source": [
        "arr ** 0.5"
      ]
    },
    {
      "cell_type": "markdown",
      "metadata": {
        "id": "fRYe9baweCWy"
      },
      "source": [
        "As comparações entre arrays de mesmo tamanho resultam em arrays booleanos."
      ]
    },
    {
      "cell_type": "code",
      "execution_count": null,
      "metadata": {
        "id": "s6o-Wp7meCWy"
      },
      "outputs": [],
      "source": [
        "arr2 = np.array([[0., 4., 1.], [7., 2., 12.]])\n",
        "arr2"
      ]
    },
    {
      "cell_type": "code",
      "execution_count": null,
      "metadata": {
        "id": "h8eOzeyPMAlG"
      },
      "outputs": [],
      "source": [
        "arr"
      ]
    },
    {
      "cell_type": "code",
      "execution_count": null,
      "metadata": {
        "id": "TNLffe06eCW0"
      },
      "outputs": [],
      "source": [
        "arr2 > arr"
      ]
    },
    {
      "cell_type": "markdown",
      "metadata": {
        "id": "HA5q8o0ueCW1"
      },
      "source": [
        "As operações entre arrays de tamanhos distintos são chamadas de *broadcasting*. A forma mais simples de *broadcasting* acontece em operações entre arrays e escalares. As demais formas tem regras complicadas que não cabem em uma aula introdutória."
      ]
    },
    {
      "cell_type": "markdown",
      "metadata": {
        "id": "3Xvk1mJZeCW1"
      },
      "source": [
        "## Quiz\n",
        "\n",
        "Considere a lista [[1,2,4],[4,5,6], [7,8,9]].\n",
        "- crie um array\n",
        "- eleve ao quadrado\n",
        "- multiplique o array por ele elevado ao quadrado\n",
        "- subtraia 10 do resultado"
      ]
    },
    {
      "cell_type": "code",
      "execution_count": null,
      "metadata": {
        "id": "7sGGGq1qeCW2"
      },
      "outputs": [],
      "source": [
        "#resposta"
      ]
    },
    {
      "cell_type": "markdown",
      "metadata": {
        "id": "9ofRPKsNeCW3"
      },
      "source": [
        "### Indexação básica e fatiamento\n",
        "\n",
        "Nos arrays unidimensionais a indexação/fatiamento se comportam como em uma lista."
      ]
    },
    {
      "cell_type": "code",
      "execution_count": null,
      "metadata": {
        "id": "nDTZOGE8eCW3"
      },
      "outputs": [],
      "source": [
        "arr = np.arange(10)\n",
        "arr"
      ]
    },
    {
      "cell_type": "code",
      "execution_count": null,
      "metadata": {
        "id": "BR1PwMS8eCW4"
      },
      "outputs": [],
      "source": [
        "arr[5]"
      ]
    },
    {
      "cell_type": "code",
      "execution_count": null,
      "metadata": {
        "id": "bbKmibjyeCW6"
      },
      "outputs": [],
      "source": [
        "arr[5:8]"
      ]
    },
    {
      "cell_type": "code",
      "execution_count": null,
      "metadata": {
        "id": "zHSOLqtAeCW7"
      },
      "outputs": [],
      "source": [
        "arr[5:8] = 12\n",
        "arr"
      ]
    },
    {
      "cell_type": "markdown",
      "metadata": {
        "id": "kN9VTjSweCW8"
      },
      "source": [
        "Se você atribuir um valor a uma fatia este será propagado (*broadcast*) a todos os elemento da fatia."
      ]
    },
    {
      "cell_type": "code",
      "execution_count": null,
      "metadata": {
        "id": "PByGSej4eCW8"
      },
      "outputs": [],
      "source": [
        "arr_slice = arr[5:8]\n",
        "arr_slice"
      ]
    },
    {
      "cell_type": "markdown",
      "metadata": {
        "id": "20FKSh4HeCW-"
      },
      "source": [
        "As fatias de arrays são visualizações (*views*). Uma alteração em uma fatia causa mudanças no array original."
      ]
    },
    {
      "cell_type": "code",
      "execution_count": null,
      "metadata": {
        "id": "ZlYluo-aeCW-"
      },
      "outputs": [],
      "source": [
        "arr_slice[1] = 12345\n",
        "arr"
      ]
    },
    {
      "cell_type": "markdown",
      "metadata": {
        "id": "kd6DayTEeCW_"
      },
      "source": [
        "A fatia \"nua\" fará a atribuição a todos os valores em um array."
      ]
    },
    {
      "cell_type": "code",
      "execution_count": null,
      "metadata": {
        "id": "_yLxAb9heCW_"
      },
      "outputs": [],
      "source": [
        "arr_slice[:] = 64\n",
        "arr_slice"
      ]
    },
    {
      "cell_type": "markdown",
      "metadata": {
        "id": "6Ad_1Og6eCXB"
      },
      "source": [
        "Se você quiser uma cópia de uma fatia de um array use `arr[5:8].copy`"
      ]
    },
    {
      "cell_type": "markdown",
      "metadata": {
        "id": "fxV1sjPteCXB"
      },
      "source": [
        "Com arrays de várias dimensões a indexação é diferente. Em um array bidimensional, por exemplo, os elementos em cada índice não são mais escalares, mas são arrays unidimensionais."
      ]
    },
    {
      "cell_type": "code",
      "execution_count": null,
      "metadata": {
        "id": "UI6XQS6LeCXB"
      },
      "outputs": [],
      "source": [
        "arr2d = np.array([[1, 2, 3], [4, 5, 6], [7, 8, 9]])\n",
        "arr2d[2]"
      ]
    },
    {
      "cell_type": "code",
      "execution_count": null,
      "metadata": {
        "id": "vrlPR7sOeCXC"
      },
      "outputs": [],
      "source": [
        "arr2d[2][0]"
      ]
    },
    {
      "cell_type": "markdown",
      "metadata": {
        "id": "AwmIlwDQeCXE"
      },
      "source": [
        "A notação abaixo é equivalente à de cima, mas bem mais simples."
      ]
    },
    {
      "cell_type": "code",
      "execution_count": null,
      "metadata": {
        "id": "UfwloHSYeCXE"
      },
      "outputs": [],
      "source": [
        "arr2d[2, 0]"
      ]
    },
    {
      "cell_type": "markdown",
      "metadata": {
        "id": "DFJAavZdeCXF"
      },
      "source": [
        "Veja a figura, que representa uma ilustração de um array bidimensional. Pensar no eixo 0 (*axis 0*) como as linhas do array e no eixo 1 como as colunas ajuda na compreensão.\n",
        "\n",
        "![array.png](https://www.oreilly.com/library/view/python-for-data/9781449323592/httpatomoreillycomsourceoreillyimages2172112.png)"
      ]
    },
    {
      "cell_type": "markdown",
      "metadata": {
        "id": "zysYEIKYeCXG"
      },
      "source": [
        "Em arrays multidimensionais, se você omitir os índices finais, o objeto retornado será um ndarray de dimensões menores, constituído de todos os dados das dimensões mais altas. Assim, no array arr3d 2 × 2 × 3"
      ]
    },
    {
      "cell_type": "code",
      "execution_count": null,
      "metadata": {
        "id": "v6boLer0qNCV"
      },
      "outputs": [],
      "source": [
        "[[[1, 2, 3], [4, 5, 6]], [[7, 8, 9], [10, 11, 12]]]"
      ]
    },
    {
      "cell_type": "code",
      "execution_count": null,
      "metadata": {
        "id": "I3qtDzJ_eCXG"
      },
      "outputs": [],
      "source": [
        "arr3d = np.array([[[1, 2, 3], [4, 5, 6]], [[7, 8, 9], [10, 11, 12]]])\n",
        "arr3d"
      ]
    },
    {
      "cell_type": "code",
      "execution_count": null,
      "metadata": {
        "id": "JBc_2EjdqNCW"
      },
      "outputs": [],
      "source": [
        "arr3d.shape"
      ]
    },
    {
      "cell_type": "markdown",
      "metadata": {
        "id": "hokjZVwleCXH"
      },
      "source": [
        "`arr3d[0]` é um array 2 x 3"
      ]
    },
    {
      "cell_type": "code",
      "execution_count": null,
      "metadata": {
        "id": "kPDCx965eCXI"
      },
      "outputs": [],
      "source": [
        "arr3d[0]"
      ]
    },
    {
      "cell_type": "markdown",
      "metadata": {
        "id": "OFgxFXoVeCXJ"
      },
      "source": [
        "Tanto valores escalares quanto arrays podem ser atribuídos a arr3d[0]:"
      ]
    },
    {
      "cell_type": "code",
      "execution_count": null,
      "metadata": {
        "id": "XTqpgXkeeCXJ"
      },
      "outputs": [],
      "source": [
        "old_values = arr3d[0].copy()\n",
        "arr3d[0] = 42\n",
        "arr3d"
      ]
    },
    {
      "cell_type": "code",
      "execution_count": null,
      "metadata": {
        "id": "Oclx-MjHeCXK"
      },
      "outputs": [],
      "source": [
        "old_values"
      ]
    },
    {
      "cell_type": "code",
      "execution_count": null,
      "metadata": {
        "id": "lDKFSIvAeCXM"
      },
      "outputs": [],
      "source": [
        "arr3d[0] = old_values\n",
        "arr3d"
      ]
    },
    {
      "cell_type": "markdown",
      "metadata": {
        "id": "UXzmg433eCXN"
      },
      "source": [
        "Da mesma forma, arr3d[1, 0] fornece todos os valores cujos índices começam com (1, 0), formando um array unidimensional:"
      ]
    },
    {
      "cell_type": "code",
      "execution_count": null,
      "metadata": {
        "id": "PwST5JvreCXN"
      },
      "outputs": [],
      "source": [
        "arr3d[1, 0]"
      ]
    },
    {
      "cell_type": "markdown",
      "metadata": {
        "id": "a4kCnVh-eCXO"
      },
      "source": [
        "Essa expressão é equivalente a uma indexação em dois passos:"
      ]
    },
    {
      "cell_type": "code",
      "execution_count": null,
      "metadata": {
        "id": "f6ZaXg2meCXQ"
      },
      "outputs": [],
      "source": [
        "x = arr3d[1]\n",
        "x"
      ]
    },
    {
      "cell_type": "code",
      "execution_count": null,
      "metadata": {
        "id": "wbgdJKq5eCXS"
      },
      "outputs": [],
      "source": [
        "x[0]"
      ]
    },
    {
      "cell_type": "markdown",
      "metadata": {
        "id": "qowkSJofeCXT"
      },
      "source": [
        "## Quizz\n",
        "\n",
        "- crie um vetor 3 x 3 com uma sequência de números\n",
        "- retorne a primeira linha\n",
        "- retorne os dois últimos elementos das duas últimas linhas\n",
        "- retorne a primeira coluna\n",
        "- preencha a segunda linha com 0s\n",
        "- preencha a segunda coluna com 1s"
      ]
    },
    {
      "cell_type": "code",
      "execution_count": null,
      "metadata": {
        "id": "3X9nCZd1eCXT"
      },
      "outputs": [],
      "source": [
        "#resposta"
      ]
    },
    {
      "cell_type": "markdown",
      "metadata": {
        "id": "zYde6IvzeCXV"
      },
      "source": [
        "#### Indexando com fatias\n",
        "Assim como objetos unidimensionais, como listas Python, os ndarrays podem ser fatiados usando a sintaxe conhecida:"
      ]
    },
    {
      "cell_type": "code",
      "execution_count": null,
      "metadata": {
        "id": "ZmopwfkueCXV"
      },
      "outputs": [],
      "source": [
        "arr"
      ]
    },
    {
      "cell_type": "code",
      "execution_count": null,
      "metadata": {
        "id": "E0Bph-cDeCXq"
      },
      "outputs": [],
      "source": [
        "arr[1:6]"
      ]
    },
    {
      "cell_type": "markdown",
      "metadata": {
        "id": "CbhI62PReCXs"
      },
      "source": [
        "Objetos multidimensionais oferecem mais opções, pois você pode fatiar um ou mais eixos e também misturar números inteiros. Considere o array 2D acima, arr2d. Fatiar esse array é um pouco diferente:"
      ]
    },
    {
      "cell_type": "code",
      "execution_count": null,
      "metadata": {
        "id": "6XPSFEiOeCXs"
      },
      "outputs": [],
      "source": [
        "arr2d"
      ]
    },
    {
      "cell_type": "code",
      "execution_count": null,
      "metadata": {
        "id": "KDlY1nQdeCXt"
      },
      "outputs": [],
      "source": [
        "arr2d[:2]"
      ]
    },
    {
      "cell_type": "markdown",
      "metadata": {
        "id": "qYQupe7AeCXu"
      },
      "source": [
        "Como você pode ver, ele cortou ao longo do eixo 0, o primeiro eixo. Uma fatia, portanto, seleciona um intervalo de elementos ao longo de um eixo. Você pode passar várias fatias, assim como você pode passar vários índices:"
      ]
    },
    {
      "cell_type": "code",
      "execution_count": null,
      "metadata": {
        "id": "28pl9HjweCXv"
      },
      "outputs": [],
      "source": [
        "arr2d[:2, 1:]"
      ]
    },
    {
      "cell_type": "markdown",
      "metadata": {
        "id": "Mwlfc9VmeCXw"
      },
      "source": [
        "Ao fatiar dessa maneira, você sempre obtém visualizações do array com o mesmo número de dimensões. Ao misturar índices inteiros e fatias, você obtém fatias de dimensões menores.\n",
        "\n",
        "Por exemplo, podemos selecionar a segunda linha, mas somente as duas primeiras colunas, assim:"
      ]
    },
    {
      "cell_type": "code",
      "execution_count": null,
      "metadata": {
        "id": "Lh_Yk1KPeCXw"
      },
      "outputs": [],
      "source": [
        "arr2d[1, :2]"
      ]
    },
    {
      "cell_type": "markdown",
      "metadata": {
        "id": "f0JejoJaeCXx"
      },
      "source": [
        "De modo semelhante, podemos selecionar a terceira coluna, mas somente as duas primeiras linhas, da seguinte maneira:"
      ]
    },
    {
      "cell_type": "code",
      "execution_count": null,
      "metadata": {
        "id": "ItnhXgGMeCXx"
      },
      "outputs": [],
      "source": [
        "arr2d[:2, 2]"
      ]
    },
    {
      "cell_type": "markdown",
      "metadata": {
        "id": "9-waK-f7eCXy"
      },
      "source": [
        "Os dois-pontos sozinhos significam que todo o eixo deve ser considerado, portanto podemos fatiar somente os eixos de dimensões mais altas fazendo o seguinte:"
      ]
    },
    {
      "cell_type": "code",
      "execution_count": null,
      "metadata": {
        "id": "c7OhRvnNeCXz"
      },
      "outputs": [],
      "source": [
        "arr2d[:, :1]"
      ]
    },
    {
      "cell_type": "markdown",
      "metadata": {
        "id": "aggpgRBceCX0"
      },
      "source": [
        "Lembrando que uma atribuição a uma fatia faz a atribuição para toda a seleção."
      ]
    },
    {
      "cell_type": "code",
      "execution_count": null,
      "metadata": {
        "id": "PyZx3FM-eCX0"
      },
      "outputs": [],
      "source": [
        "arr2d[:2, 1:] = 0\n",
        "arr2d"
      ]
    },
    {
      "cell_type": "markdown",
      "metadata": {
        "id": "zpIYmNnneCX1"
      },
      "source": [
        "Fatiamento de arrays bidimensionais\n",
        "\n",
        "![array2dslicing.png](https://i0.wp.com/www.datasciencelearner.com/wp-content/uploads/2019/01/indexing-and-slicing-of-arrays.png?w=762&ssl=1)"
      ]
    },
    {
      "cell_type": "code",
      "execution_count": null,
      "metadata": {
        "id": "si-EOclwa7ZO"
      },
      "outputs": [],
      "source": [
        "vet2d = np.array([[1,2,3],[4,5,6],[7,8,9]])\n",
        "print(vet2d)\n",
        "vet1 = vet2d[1,:2]\n",
        "print(vet1)\n",
        "print(vet1.shape, vet1.ndim)\n",
        "vet2 = vet2d[1:2,:2]\n",
        "print(vet2)\n",
        "print(vet2.shape, vet2.ndim)"
      ]
    },
    {
      "cell_type": "markdown",
      "metadata": {
        "id": "YfYyy8j4eCX2"
      },
      "source": [
        "### Indexação booleana\n",
        "Vamos considerar um exemplo em que temos alguns dados em uma matriz e uma matriz de nomes com duplicatas. Vamos usar aqui a função `randn` de `numpy.random` para gerar alguns dados aleatórios normalmente distribuídos:"
      ]
    },
    {
      "cell_type": "code",
      "execution_count": null,
      "metadata": {
        "id": "mrWhNnUMeCX2"
      },
      "outputs": [],
      "source": [
        "names = np.array(['Bob', 'Joe', 'Will', 'Bob', 'Will', 'Joe', 'Joe'])\n",
        "data = np.random.randn(7, 4)\n",
        "print(names)\n",
        "print(data)\n",
        "print(names.shape, data.shape)"
      ]
    },
    {
      "cell_type": "markdown",
      "metadata": {
        "id": "jbUNKiJzeCX3"
      },
      "source": [
        "Suponha que cada nome corresponda a uma linha no array de dados e que desejássemos selecionar todas as linhas com o nome correspondente 'Bob'. Como operações aritméticas, comparações (como ==) com array também são vetorizadas. Assim, comparar nomes com a string 'Bob' gera um array booleano:"
      ]
    },
    {
      "cell_type": "code",
      "execution_count": null,
      "metadata": {
        "id": "Hd2pfkcFeCX3"
      },
      "outputs": [],
      "source": [
        "names == 'Bob'"
      ]
    },
    {
      "cell_type": "markdown",
      "metadata": {
        "id": "tdQTM8eFeCX4"
      },
      "source": [
        "Esse array booleano pode ser passado quando o array é indexado:"
      ]
    },
    {
      "cell_type": "code",
      "execution_count": null,
      "metadata": {
        "id": "xM2Q8h-9eCX4"
      },
      "outputs": [],
      "source": [
        "data[names == 'Bob']"
      ]
    },
    {
      "cell_type": "markdown",
      "metadata": {
        "id": "hvwOZtVieCX5"
      },
      "source": [
        "O array booleano deve ter o mesmo comprimento que o eixo que está indexando. Você pode até misturar e combinar arrays booleanos com fatias ou números inteiros"
      ]
    },
    {
      "cell_type": "code",
      "execution_count": null,
      "metadata": {
        "id": "zWOVizomeCX6"
      },
      "outputs": [],
      "source": [
        "data[names == 'Bob', 2:]"
      ]
    },
    {
      "cell_type": "code",
      "execution_count": null,
      "metadata": {
        "id": "sTKNUQIzeCX7"
      },
      "outputs": [],
      "source": [
        "data[names == 'Bob', 3]"
      ]
    },
    {
      "cell_type": "markdown",
      "metadata": {
        "id": "AKM5OFJmeCX8"
      },
      "source": [
        "Abaixo, selecionando tudo exceto Bob."
      ]
    },
    {
      "cell_type": "code",
      "execution_count": null,
      "metadata": {
        "id": "cK811dcZeCX8"
      },
      "outputs": [],
      "source": [
        "names != 'Bob'"
      ]
    },
    {
      "cell_type": "markdown",
      "metadata": {
        "id": "lu34DlHKeCX9"
      },
      "source": [
        "O operador `~` é o operador lógico de negação em NumPy"
      ]
    },
    {
      "cell_type": "code",
      "execution_count": null,
      "metadata": {
        "id": "W0Bszgq4eCX-"
      },
      "outputs": [],
      "source": [
        "data[~(names == 'Bob')] "
      ]
    },
    {
      "cell_type": "code",
      "execution_count": null,
      "metadata": {
        "id": "V8HwWIvBeCX_"
      },
      "outputs": [],
      "source": [
        "cond = names == 'Bob'\n",
        "print(cond)\n",
        "data[~cond]"
      ]
    },
    {
      "cell_type": "markdown",
      "metadata": {
        "id": "u2IA5kY4eCYA"
      },
      "source": [
        "Você também pode usar os operadores lógicos `&` (e) e `|` (ou)."
      ]
    },
    {
      "cell_type": "code",
      "execution_count": null,
      "metadata": {
        "id": "YhQtt-9leCYB"
      },
      "outputs": [],
      "source": [
        "mask = (names == 'Bob') | (names == 'Will')\n",
        "mask"
      ]
    },
    {
      "cell_type": "code",
      "execution_count": null,
      "metadata": {
        "id": "l_B3ZM_reCYC"
      },
      "outputs": [],
      "source": [
        "data[mask]"
      ]
    },
    {
      "cell_type": "code",
      "execution_count": null,
      "metadata": {
        "id": "b7jl2QioglUV"
      },
      "outputs": [],
      "source": [
        "print(names)\n",
        "print(data)"
      ]
    },
    {
      "cell_type": "markdown",
      "metadata": {
        "id": "zYK01nFLeCYD"
      },
      "source": [
        "Selecionar dados de um array com indexação booleana **sempre** cria uma cópia dos dados."
      ]
    },
    {
      "cell_type": "code",
      "execution_count": null,
      "metadata": {
        "id": "o4FB3UOpeCYD"
      },
      "outputs": [],
      "source": [
        "data[data < 0] = 0\n",
        "data"
      ]
    },
    {
      "cell_type": "code",
      "execution_count": null,
      "metadata": {
        "id": "tBtFluVqeCYE"
      },
      "outputs": [],
      "source": [
        "data[names != 'Joe'] = 7\n",
        "data"
      ]
    },
    {
      "cell_type": "markdown",
      "metadata": {
        "id": "ApNLDGpleCYF"
      },
      "source": [
        "## Quizz\n",
        "\n",
        "- crie um array 3 x 3 com números aleatórios\n",
        "- encontre o número do meio (linha 1 e coluna 1)\n",
        "- retorne um array unidimensional com todos os números menores que o do meio"
      ]
    },
    {
      "cell_type": "code",
      "execution_count": null,
      "metadata": {
        "id": "3_g2lDCaeCYF"
      },
      "outputs": [],
      "source": [
        "#resposta"
      ]
    },
    {
      "cell_type": "markdown",
      "metadata": {
        "id": "DYgItiSReCYG"
      },
      "source": [
        "### Indexação sofisticada\n",
        "\n",
        "A inedexação sofisticada (*fancy*) sempre cria cópia dos dados."
      ]
    },
    {
      "cell_type": "code",
      "execution_count": null,
      "metadata": {
        "id": "eEnH0kIUeCYH"
      },
      "outputs": [],
      "source": [
        "arr = np.empty((8, 4))\n",
        "for i in range(8):\n",
        "    arr[i] = i\n",
        "arr"
      ]
    },
    {
      "cell_type": "code",
      "execution_count": null,
      "metadata": {
        "id": "9nsFzYyPeCYI"
      },
      "outputs": [],
      "source": [
        "# selecionando linhas em ordem determinada\n",
        "arr[[4, 3, 0, 6]]"
      ]
    },
    {
      "cell_type": "code",
      "execution_count": null,
      "metadata": {
        "id": "ZOVZb3TLeCYJ"
      },
      "outputs": [],
      "source": [
        "# parecido, mas de trás para frente\n",
        "arr[[-3, -5, -7]]"
      ]
    },
    {
      "cell_type": "code",
      "execution_count": null,
      "metadata": {
        "id": "uhcC5u1keCYK"
      },
      "outputs": [],
      "source": [
        "np.arange(32)"
      ]
    },
    {
      "cell_type": "markdown",
      "metadata": {
        "id": "Az3aJR4XeCYK"
      },
      "source": [
        "O método `reshape` muda as dimensões do array."
      ]
    },
    {
      "cell_type": "code",
      "execution_count": null,
      "metadata": {
        "id": "oB2rkSdLeCYL"
      },
      "outputs": [],
      "source": [
        "arr = np.arange(32).reshape((8, 4))\n",
        "arr"
      ]
    },
    {
      "cell_type": "code",
      "execution_count": null,
      "metadata": {
        "id": "VMXm8KyfeCYM"
      },
      "outputs": [],
      "source": [
        "arr[[1, 5, 7, 2], [0, 3, 1, 2]]"
      ]
    },
    {
      "cell_type": "markdown",
      "metadata": {
        "id": "gfJm5c2UeCYN"
      },
      "source": [
        "No caso acima, os elementos (1,0), (5,3), (7,1) e (2,2) foram selecionados. Independentemente de quantas dimensões o array tiver, o resultado da indexação sofisticada sempre será unidimensional."
      ]
    },
    {
      "cell_type": "markdown",
      "metadata": {
        "id": "9HgY0e6LeCYN"
      },
      "source": [
        "Agora, se o que você quer é uma região retangular formada pela seleção de um subconjunto de linhas e colunas da matriz, faça como abaixo:"
      ]
    },
    {
      "cell_type": "code",
      "execution_count": null,
      "metadata": {
        "id": "0JCbGQY3eCYN"
      },
      "outputs": [],
      "source": [
        "arr[[1, 5, 7, 2]][:, [0, 3, 1, 2]]"
      ]
    },
    {
      "cell_type": "markdown",
      "metadata": {
        "id": "liMY4FSMeCYO"
      },
      "source": [
        "### Transposição de  arrays e troca de eixos"
      ]
    },
    {
      "cell_type": "code",
      "execution_count": null,
      "metadata": {
        "id": "-zl1x_AteCYO"
      },
      "outputs": [],
      "source": [
        "arr = np.arange(15).reshape((3, 5))\n",
        "arr"
      ]
    },
    {
      "cell_type": "markdown",
      "metadata": {
        "id": "WHyNrhcheCYP"
      },
      "source": [
        "##### Transposta da matriz\n",
        "\n",
        "Veja [este gif](https://network.grupoabril.com.br/wp-content/uploads/sites/4/2016/12/transpor-matrizes.gif) para entender como transpor uma matriz."
      ]
    },
    {
      "cell_type": "code",
      "execution_count": null,
      "metadata": {
        "id": "dOWOeB42eCYP"
      },
      "outputs": [],
      "source": [
        "arr.T"
      ]
    },
    {
      "cell_type": "code",
      "execution_count": null,
      "metadata": {
        "id": "sN2MiMzGeCYQ"
      },
      "outputs": [],
      "source": [
        "arr = np.random.randn(6, 3)\n",
        "arr"
      ]
    },
    {
      "cell_type": "markdown",
      "metadata": {
        "id": "H1xDD7A2eCYR"
      },
      "source": [
        "##### Multiplicação de matrizes\n",
        "\n",
        "Dúvidas sobre a multiplicação de matrizes? Veja [este gif](https://lh6.googleusercontent.com/KUHK9OI3-lZIoJSSdyHdpM0ZijF469-PE0lYG3DYRJjwOeX-1KmowgU9MIMMgXzam9w-QK6DOY_gePTyOvDBS-Y6ImO2ReaI9k5_fST-gUhXPcGZExrLW-ucRkUhIhTFKgUULc7X).\n",
        "Mais sobre o assunto [nesta videoaula](https://pt.khanacademy.org/math/precalculus/x9e81a4f98389efdf:matrices/x9e81a4f98389efdf:multiplying-matrices-by-matrices/v/matrix-multiplication-intro) na Khan Academy."
      ]
    },
    {
      "cell_type": "code",
      "execution_count": null,
      "metadata": {
        "id": "hrvWwoKxeCYR"
      },
      "outputs": [],
      "source": [
        "np.dot(arr.T, arr)\n",
        "# multiplicação matricial de uma matriz 3x6 por matriz 6x3"
      ]
    },
    {
      "cell_type": "code",
      "execution_count": null,
      "metadata": {
        "id": "MLUmGp6KeCYS"
      },
      "outputs": [],
      "source": [
        "arr = np.arange(16).reshape((2, 2, 4))\n",
        "arr"
      ]
    },
    {
      "cell_type": "markdown",
      "metadata": {
        "id": "Ke4nWCfAeCYT"
      },
      "source": [
        "##### Transposição de arrays com mais dimensões aceitam uma tupla de números para permutá-los."
      ]
    },
    {
      "cell_type": "code",
      "execution_count": null,
      "metadata": {
        "id": "QiBKyipPeCYT"
      },
      "outputs": [],
      "source": [
        "arr.transpose((1, 0, 2))"
      ]
    },
    {
      "cell_type": "markdown",
      "metadata": {
        "id": "mpnz1C0BeCYU"
      },
      "source": [
        "Neste caso, os eixos foram reordenados com o segundo eixo em primeiro lugar, o primeiro eixo em segundo e o último eixo permaneceu inalterado.\n",
        "![transpose_1_0_2.png](data:image/png;base64,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)"
      ]
    },
    {
      "cell_type": "code",
      "execution_count": null,
      "metadata": {
        "id": "VLMqiQTlqNCj"
      },
      "outputs": [],
      "source": [
        "arr.T"
      ]
    },
    {
      "cell_type": "code",
      "execution_count": null,
      "metadata": {
        "id": "XIMLZT-0qNCj"
      },
      "outputs": [],
      "source": [
        "arr.transpose((2,1,0))"
      ]
    },
    {
      "cell_type": "markdown",
      "metadata": {
        "id": "PquQTVUQqNCk"
      },
      "source": [
        "Fazer o transpose(2,1,0) é o mesmo que fazer a transposta da matriz com .T\n",
        "![transpose_2_1_0.png](data:image/png;base64,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)"
      ]
    },
    {
      "cell_type": "code",
      "execution_count": null,
      "metadata": {
        "id": "TGKrhsLleCYU"
      },
      "outputs": [],
      "source": [
        "arr"
      ]
    },
    {
      "cell_type": "markdown",
      "metadata": {
        "id": "qvUSURMmeCYV"
      },
      "source": [
        "O método `swapaxes`, que aceita um par de números de eixos, troca os eixos indicados para reorganizar os dados."
      ]
    },
    {
      "cell_type": "code",
      "execution_count": null,
      "metadata": {
        "id": "f28uE-9SeCYW"
      },
      "outputs": [],
      "source": [
        "arr.swapaxes(1, 2)"
      ]
    },
    {
      "cell_type": "markdown",
      "metadata": {
        "id": "FiSMMm99eCYW"
      },
      "source": [
        "Tanto `swapaxes` quanto `transpose` e `.T` criam visualizações dos dados sem fazer uma cópia."
      ]
    },
    {
      "cell_type": "markdown",
      "metadata": {
        "id": "OJHpZQ8keCYX"
      },
      "source": [
        "## Quizz\n",
        "\n",
        "- crie um array unidimensional de 0 a 11\n",
        "- transforme em uma matriz 3 x 4"
      ]
    },
    {
      "cell_type": "code",
      "execution_count": null,
      "metadata": {
        "id": "wBJ7fpwDeCYX"
      },
      "outputs": [],
      "source": [
        "#resposta"
      ]
    },
    {
      "cell_type": "code",
      "execution_count": null,
      "metadata": {
        "id": "avv1fX1hqNCl"
      },
      "outputs": [],
      "source": []
    },
    {
      "cell_type": "markdown",
      "metadata": {
        "id": "caCe_Ne6eCYY"
      },
      "source": [
        "## Funções Universais: funções rápidas de arrays para todos os elementos"
      ]
    },
    {
      "cell_type": "markdown",
      "metadata": {
        "id": "zEpaoXzbeCYY"
      },
      "source": [
        "Uma função universal, ou ufunc, é uma função que executa operações elementares nos dados nos ndarrays. Você pode considerá-los como invólucros vetorizados rápidos para funções simples que recebem um ou mais valores escalares e produzem um ou mais resultados escalares.\n",
        "\n",
        "Muitas ufuncs são transformações simples em todos os elementos, como `sqrt` ou `exp`:"
      ]
    },
    {
      "cell_type": "code",
      "execution_count": null,
      "metadata": {
        "id": "8HZzS1kQqNCl"
      },
      "outputs": [],
      "source": [
        "def minha_funcao(x):\n",
        "    return 2*x"
      ]
    },
    {
      "cell_type": "code",
      "execution_count": null,
      "metadata": {
        "id": "8Dj21OxTeCYY"
      },
      "outputs": [],
      "source": [
        "arr = np.arange(10)\n",
        "arr\n",
        "np.sqrt(arr)"
      ]
    },
    {
      "cell_type": "code",
      "execution_count": null,
      "metadata": {
        "id": "A5v8aIlweCYZ"
      },
      "outputs": [],
      "source": [
        "np.exp(arr)"
      ]
    },
    {
      "cell_type": "code",
      "execution_count": null,
      "metadata": {
        "id": "Y_Bvu4ZleCYa"
      },
      "outputs": [],
      "source": [
        "x = np.random.randn(8)\n",
        "y = np.random.randn(8)\n",
        "x"
      ]
    },
    {
      "cell_type": "code",
      "execution_count": null,
      "metadata": {
        "id": "N8-8sT8EeCYb"
      },
      "outputs": [],
      "source": [
        "y"
      ]
    },
    {
      "cell_type": "code",
      "execution_count": null,
      "metadata": {
        "id": "6rcWjxOyeCYc"
      },
      "outputs": [],
      "source": [
        "np.maximum(x, y)"
      ]
    },
    {
      "cell_type": "code",
      "execution_count": null,
      "metadata": {
        "id": "BuWN6Hz-eCYd"
      },
      "outputs": [],
      "source": [
        "arr = np.random.randn(7) * 5\n",
        "arr"
      ]
    },
    {
      "cell_type": "code",
      "execution_count": null,
      "metadata": {
        "id": "KR9Rx2LteCYe"
      },
      "outputs": [],
      "source": [
        "remainder, whole_part = np.modf(arr)\n",
        "remainder"
      ]
    },
    {
      "cell_type": "code",
      "execution_count": null,
      "metadata": {
        "id": "SxHYefqBeCYf"
      },
      "outputs": [],
      "source": [
        "whole_part"
      ]
    },
    {
      "cell_type": "code",
      "execution_count": null,
      "metadata": {
        "id": "teKnm2DpeCYg"
      },
      "outputs": [],
      "source": [
        "(remainder + whole_part) - arr"
      ]
    },
    {
      "cell_type": "code",
      "execution_count": null,
      "metadata": {
        "id": "Zx9Ts_oqeCYh"
      },
      "outputs": [],
      "source": [
        "arr"
      ]
    },
    {
      "cell_type": "code",
      "execution_count": null,
      "metadata": {
        "id": "FZ6nNRLueCYi"
      },
      "outputs": [],
      "source": [
        "np.sqrt(arr)"
      ]
    },
    {
      "cell_type": "code",
      "execution_count": null,
      "metadata": {
        "id": "UsG7FWLteCYj"
      },
      "outputs": [],
      "source": [
        "arr"
      ]
    },
    {
      "cell_type": "code",
      "execution_count": null,
      "metadata": {
        "id": "xtlvYKl2eCYk"
      },
      "outputs": [],
      "source": [
        "# as ufuncs aceitam um segundo argumento opcional out que lhes permitem atuar in-place nos arrays\n",
        "np.sqrt(arr, arr)"
      ]
    },
    {
      "cell_type": "code",
      "execution_count": null,
      "metadata": {
        "id": "Hsoz1BE6qNCo"
      },
      "outputs": [],
      "source": [
        "arr = np.sqrt(arr)"
      ]
    },
    {
      "cell_type": "code",
      "execution_count": null,
      "metadata": {
        "id": "oiOvrppjeCYl"
      },
      "outputs": [],
      "source": [
        "arr"
      ]
    },
    {
      "cell_type": "markdown",
      "metadata": {
        "id": "11aHk-Z4eCYm"
      },
      "source": [
        "##### Funções Unárias (recebem um argumento)\n",
        "|Função|Descrição da função|\n",
        "|:-|:-|\n",
        "|abs, fabs |Calcula o valor absoluto em termos de elementos para valores inteiros, pontos flutuantes ou complexos. Use fabs como uma alternativa mais rápida para dados de valor não complexo|\n",
        "|sqrt |Calcula a raiz quadrada de cada elemento. Equivalente a arr ** 0,5|\n",
        "|square |Calcula o quadrado de cada elemento. Equivalente a arr ** 2|\n",
        "|exp |Calcula o expoente e\\*\\*x de cada elemento|\n",
        "|log, log10, log2, log1p |Logaritmo natural (base e), base de log 10, base de log 2 e log (1 + x), respectivamente|\n",
        "|sign |Calcula o sinal de cada elemento: 1 (positivo), 0 (zero) ou -1 (negativo)|\n",
        "|ceil |Calcula o teto de cada elemento, ou seja, o menor número inteiro maior que ou igual a cada elemento|\n",
        "|floor |Calcula o piso de cada elemento, ou seja, o maior número inteiro menor ou igual a cada elemento|\n",
        "|rint |Arredonda elementos para o número inteiro mais próximo, preservando o dtype|\n",
        "|modf |Retorna partes fracionárias e integrais da matriz como uma matriz separada|\n",
        "|isnan |Retorna matriz booleana indicando se cada valor é NaN (não é um número)|\n",
        "|isfinite, isinf |Retorna uma matriz booleana indicando se cada elemento é finito (não-inf, não-NaN) ou infinito, respectivamente|\n",
        "|cos, cosh, sin, sinh, tan, tanh |Funções trigonométricas regulares e hiperbólicas|\n",
        "|arccos, arccosh, arcsin, arcsinh, arctan, arctanh |Funções trigonométricas inversas|\n",
        "|logic_not |Calcula o valor de verdade de não x em termos de elementos. Equivalente a -arr.|"
      ]
    },
    {
      "cell_type": "code",
      "execution_count": null,
      "metadata": {
        "id": "YcwWwFJBqNCo"
      },
      "outputs": [],
      "source": [
        "arr"
      ]
    },
    {
      "cell_type": "code",
      "execution_count": null,
      "metadata": {
        "id": "KoY2ZrnXqNCp"
      },
      "outputs": [],
      "source": [
        "np.isnan(arr)"
      ]
    },
    {
      "cell_type": "code",
      "execution_count": null,
      "metadata": {
        "id": "6eFIJeCXqNCp"
      },
      "outputs": [],
      "source": [
        "np.isfinite(arr)"
      ]
    },
    {
      "cell_type": "markdown",
      "metadata": {
        "id": "yl4xWG2HeCYm"
      },
      "source": [
        "##### Funções Binárias (recebem dois argumentos)\n",
        "|Função|Descrição da função|\n",
        "|:-|:-|\n",
        "|add |Adiciona elementos correspondentes em matrizes|\n",
        "|subtract |Subtrai elementos na segunda matriz da primeira matriz|\n",
        "|multiply |Multiplica elementos da matriz|\n",
        "|divide, floor_divide |Divide ou divide pelo piso (truncando o resto)|\n",
        "|power |Eleva os elementos no primeiro array às potências indicadas no segundo array|\n",
        "|maximum, fmax |Máximo para todos os elementos. fmax ignora NaN|\n",
        "|minimum, fmin |Mínimo para todos os elementos. fmin ignora NaN|\n",
        "|mod |Módulo para todos os elementos (restante da divisão)|\n",
        "|copysign |Copia o sinal dos valores do segundo argumento para valores do primeiro argumento|\n",
        "|greater, greater_equal, less, less_equal, equal, not_equal |Executa uma comparação entre elementos, produzindo uma matriz booleana. Equivalente a operadores infixos >,>=, <, <=, ==,!=|\n",
        "|logical_and, logical_or, logical_xor |Calcule o valor de verdade em termos de elementos da operação lógica. Equivalente a operadores infixos &, \\|, ^|"
      ]
    },
    {
      "cell_type": "code",
      "execution_count": null,
      "metadata": {
        "id": "w4LI6YcxqNCp"
      },
      "outputs": [],
      "source": [
        "np.logical_xor(True,False)"
      ]
    },
    {
      "cell_type": "markdown",
      "metadata": {
        "id": "HtErkP5QqNCp"
      },
      "source": [
        "## Quizz\n",
        "\n",
        "- crie um array unidimensional de 1 a 12\n",
        "- transforme em uma matriz 3 x 4\n",
        "- calcule o log na base 10 da matriz\n",
        "- pegue somente a parte fracionária e multiplique por 1000\n",
        "- pegue agora somente a parte inteira\n",
        "- a partir desta matriz gere uma outra booleana com True onde o número for par e False onde for ímpar"
      ]
    },
    {
      "cell_type": "code",
      "execution_count": null,
      "metadata": {
        "id": "MhGE2F9QqNCq"
      },
      "outputs": [],
      "source": [
        "# resposta"
      ]
    },
    {
      "cell_type": "markdown",
      "metadata": {
        "id": "_i0AmEjkeCYm"
      },
      "source": [
        "## Programação orientada a arrays\n",
        "O uso de arrays NumPy permite que você expresse muitos tipos de tarefas de processamento de dados como expressões concisas de arrays que, de outra forma, poderiam exigir s escrita de loops. Essa prática de substituir loops explícitos por expressões de array é comumente referida como vetorização. Em geral, as operações vetorizadas de arrays com frequência são uma ou duas (ou mais) ordens de magnitude mais rápidas que seus equivalentes puros em Python, com o maior impacto em qualquer tipo de cálculo numérico. \n",
        "\n",
        "Como um exemplo simples, suponha que desejássemos avaliar a função $$\\sqrt{x^2 + y^2}$$ através de uma grade regular de valores. A função `np.meshgrid` pega duas matrizes 1D e produz duas matrizes 2D correspondentes a todos os pares de (x, y) nos dois arrays:"
      ]
    },
    {
      "cell_type": "code",
      "execution_count": null,
      "metadata": {
        "id": "Uvd8LDX0eCYm"
      },
      "outputs": [],
      "source": [
        "points = np.arange(-5, 5, 0.01) # 1000 equally spaced points\n",
        "points"
      ]
    },
    {
      "cell_type": "code",
      "execution_count": null,
      "metadata": {
        "id": "rTCL4MRCeCYn"
      },
      "outputs": [],
      "source": [
        "xs, ys = np.meshgrid(points, points)"
      ]
    },
    {
      "cell_type": "code",
      "execution_count": null,
      "metadata": {
        "id": "wSUrp7FKeCYo"
      },
      "outputs": [],
      "source": [
        "xs"
      ]
    },
    {
      "cell_type": "code",
      "execution_count": null,
      "metadata": {
        "id": "U6MxO-vWeCYp"
      },
      "outputs": [],
      "source": [
        "ys"
      ]
    },
    {
      "cell_type": "code",
      "execution_count": null,
      "metadata": {
        "id": "c3cSfF1LeCYq"
      },
      "outputs": [],
      "source": [
        "z = np.sqrt(xs ** 2 + ys ** 2)\n",
        "z"
      ]
    },
    {
      "cell_type": "code",
      "execution_count": null,
      "metadata": {
        "id": "BsPYqXqUeCYr"
      },
      "outputs": [],
      "source": [
        "import matplotlib.pyplot as plt\n",
        "plt.imshow(z, cmap=plt.cm.gray); plt.colorbar()\n",
        "plt.title(\"Image plot of $\\sqrt{x^2 + y^2}$ for a grid of values\")\n",
        "plt.show()"
      ]
    },
    {
      "cell_type": "code",
      "execution_count": null,
      "metadata": {
        "id": "CmCP1AlceCYs"
      },
      "outputs": [],
      "source": [
        "plt.close('all')"
      ]
    },
    {
      "cell_type": "markdown",
      "metadata": {
        "id": "ilfAsv3TeCYt"
      },
      "source": [
        "### Expressando uma lógica condicional como operações de array\n",
        "\n",
        "A função `numpy.where` é uma versão vetorizada da expressão ternária `x if condição else y`. Suponha que tivéssemos um aray booleano e dois arrays de valores:"
      ]
    },
    {
      "cell_type": "code",
      "execution_count": null,
      "metadata": {
        "id": "UC0fC92teCYu"
      },
      "outputs": [],
      "source": [
        "xarr = np.array([1.1, 1.2, 1.3, 1.4, 1.5])\n",
        "yarr = np.array([2.1, 2.2, 2.3, 2.4, 2.5])\n",
        "cond = np.array([True, False, True, True, False])"
      ]
    },
    {
      "cell_type": "markdown",
      "metadata": {
        "id": "2mXFVqyyeCYv"
      },
      "source": [
        "Suponha que desejássemos pegar um valor de xarr sempre que o valor correspondente em cond for True, caso contrário, pegar o valor de yarr. Uma compreensão de lista fazendo isso pode ser semelhante a:"
      ]
    },
    {
      "cell_type": "code",
      "execution_count": null,
      "metadata": {
        "id": "yVGvHJyYeCYv"
      },
      "outputs": [],
      "source": [
        "result = [(x if c else y)\n",
        "          for x, y, c in zip(xarr, yarr, cond)]\n",
        "result"
      ]
    },
    {
      "cell_type": "markdown",
      "metadata": {
        "id": "B6ck0xmseCYw"
      },
      "source": [
        "Isso tem vários problemas. Primeiro, não será muito rápido para arrays grandes (porque todo o trabalho está sendo feito em Python puro). Em segundo lugar, ele não funcionará com matrizes multidimensionais. Com o `np.where`, você pode escrever isso de forma muito concisa:"
      ]
    },
    {
      "cell_type": "code",
      "execution_count": null,
      "metadata": {
        "id": "VBeYNdB_eCYw"
      },
      "outputs": [],
      "source": [
        "result = np.where(cond, xarr, yarr)\n",
        "result"
      ]
    },
    {
      "cell_type": "markdown",
      "metadata": {
        "id": "Yj_eBClBeCYx"
      },
      "source": [
        "O segundo e o terceiro argumentos para `np.where` não precisam ser arrays; um ou ambos podem ser escalares. Um uso típico de `where` na análise de dados é produzir um novo array de valores com base em outro array. Suponha que você tenha um array de dados gerados aleatoriamente e deseje substituir todos os valores positivos por 2 e todos os valores negativos por -2. Isso é muito fácil de fazer com o `np.where`:"
      ]
    },
    {
      "cell_type": "code",
      "execution_count": null,
      "metadata": {
        "id": "1VKnOnqAeCYx"
      },
      "outputs": [],
      "source": [
        "arr = np.random.randn(4, 4)\n",
        "arr"
      ]
    },
    {
      "cell_type": "code",
      "execution_count": null,
      "metadata": {
        "id": "zVKnOCh0eCYz"
      },
      "outputs": [],
      "source": [
        "np.where(arr > 0, 2, -2)"
      ]
    },
    {
      "cell_type": "code",
      "execution_count": null,
      "metadata": {
        "id": "E-fdCBM8eCYz"
      },
      "outputs": [],
      "source": [
        "np.where(arr > 0, 2, arr) # substituir apenas os valores positivos por 2"
      ]
    },
    {
      "cell_type": "markdown",
      "metadata": {
        "id": "FTmVc2GPeCY0"
      },
      "source": [
        "Os arrays passados para `where` podem ser mais do que apenas arrays de tamanhos iguais ou escalares.\n",
        "\n",
        "Por exemplo, você pode usar `where` para expressar uma lógica mais complicada; considere este exemplo em que temos dois arrays booleanos, cond1 e cond2, e desejamos atribuir um valor diferente para cada um dos 4 pares possíveis de valores booleanos:"
      ]
    },
    {
      "cell_type": "code",
      "execution_count": null,
      "metadata": {
        "id": "gG9w00mheCY0"
      },
      "outputs": [],
      "source": [
        "cond1 = np.array([True, False, True,  True, False, True,  False, True,  True,  False])\n",
        "cond2 = np.array([True, False, False, True, True,  False, True,  True,  False, False])\n",
        "result = []\n",
        "for i in range(len(cond1)):\n",
        "    if cond1[i] and cond2[i]:\n",
        "        result.append(0)\n",
        "    elif cond1[i]:\n",
        "        result.append(1)\n",
        "    elif cond2[i]:\n",
        "        result.append(2)\n",
        "    else:\n",
        "        result.append(3)\n",
        "result"
      ]
    },
    {
      "cell_type": "markdown",
      "metadata": {
        "id": "GxMGw9tgeCY1"
      },
      "source": [
        "Este loop pode ser convertido em um `np.where` aninhado:"
      ]
    },
    {
      "cell_type": "code",
      "execution_count": null,
      "metadata": {
        "id": "510-eGMSeCY2"
      },
      "outputs": [],
      "source": [
        "np.where(cond1 & cond2, 0,\n",
        "         np.where(cond1, 1,\n",
        "                  np.where(cond2, 2, 3)))"
      ]
    },
    {
      "cell_type": "markdown",
      "metadata": {
        "id": "4O6XUAFLeCY3"
      },
      "source": [
        "Neste exemplo em particular, também podemos tirar proveito do fato de que os valores booleanos são tratados como 0 ou 1 nos cálculos, portanto, isso pode ser expresso (embora um pouco mais enigmaticamente) como uma operação aritmética:"
      ]
    },
    {
      "cell_type": "code",
      "execution_count": null,
      "metadata": {
        "id": "uJ2ZhAieeCY3"
      },
      "outputs": [],
      "source": [
        "result = 1 * (cond1 & ~cond2) + 2 * (cond2 & ~cond1) + 3 * ~(cond1 | cond2)\n",
        "result"
      ]
    },
    {
      "cell_type": "markdown",
      "metadata": {
        "id": "PSVesd7VqNCt"
      },
      "source": [
        "## Quizz\n",
        "\n",
        "- crie um array unidimensional de 1 a 12\n",
        "- transforme em uma matriz 3 x 4\n",
        "- a partir desta matriz gere uma outra booleana com True onde o número for par e False onde for ímpar"
      ]
    },
    {
      "cell_type": "code",
      "execution_count": null,
      "metadata": {
        "id": "CnftmKPCqNCt"
      },
      "outputs": [],
      "source": [
        "# resposta"
      ]
    },
    {
      "cell_type": "markdown",
      "metadata": {
        "id": "Z3EN_MkJeCY4"
      },
      "source": [
        "### Métodos matemáticos e estatísticos\n",
        "\n",
        "Um conjunto de funções matemáticas que calcula estatísticas sobre todo um array ou sobre os dados ao longo de um eixo são acessíveis como métodos de array. Agregações (geralmente chamadas de reduções) como sum, mean e desvio padrão std podem ser usadas chamando o método de instância do array ou usando a funções NumPy de nível superior.\n",
        "Faça um curso de [Probabilidade e Estatística](https://pt.khanacademy.org/math/statistics-probability) na Khan Academy!"
      ]
    },
    {
      "cell_type": "code",
      "execution_count": null,
      "metadata": {
        "id": "19brnTKpeCY4"
      },
      "outputs": [],
      "source": [
        "#arr = np.array([[1,1],[2,2]])\n",
        "arr = np.random.randn(5, 4)\n",
        "arr"
      ]
    },
    {
      "cell_type": "code",
      "execution_count": null,
      "metadata": {
        "id": "9LoGNnSkeCY5"
      },
      "outputs": [],
      "source": [
        "arr.mean()"
      ]
    },
    {
      "cell_type": "code",
      "execution_count": null,
      "metadata": {
        "id": "64ET2_8seCY6"
      },
      "outputs": [],
      "source": [
        "np.mean(arr)"
      ]
    },
    {
      "cell_type": "code",
      "execution_count": null,
      "metadata": {
        "id": "aSwUert0eCY7"
      },
      "outputs": [],
      "source": [
        "arr.sum()"
      ]
    },
    {
      "cell_type": "markdown",
      "metadata": {
        "id": "ZpzjxW4UeCY8"
      },
      "source": [
        "Funções como média e soma usam um argumento opcional de eixo que calcula a estatística sobre o eixo especificado, resultando em uma matriz com uma dimensão a menos:"
      ]
    },
    {
      "cell_type": "code",
      "execution_count": null,
      "metadata": {
        "id": "6BBAjSQLeCY8"
      },
      "outputs": [],
      "source": [
        "arr.mean(axis=1)"
      ]
    },
    {
      "cell_type": "code",
      "source": [
        "# equivalente a\n",
        "np.array([arr[0].mean(), arr[1].mean(), arr[2].mean(), arr[3].mean(), arr[4].mean()])"
      ],
      "metadata": {
        "id": "StBMsenBbJh0"
      },
      "execution_count": null,
      "outputs": []
    },
    {
      "cell_type": "code",
      "execution_count": null,
      "metadata": {
        "id": "msRHjSlJeCY9"
      },
      "outputs": [],
      "source": [
        "arr.sum(axis=0)"
      ]
    },
    {
      "cell_type": "code",
      "source": [
        "# equivalente a\n",
        "np.array([arr[:,0].sum(), arr[:,1].sum(), arr[:,2].sum(), arr[:,3].sum()])"
      ],
      "metadata": {
        "id": "cG1s7Xb4cEca"
      },
      "execution_count": null,
      "outputs": []
    },
    {
      "cell_type": "markdown",
      "metadata": {
        "id": "F_HWb63TeCY-"
      },
      "source": [
        "Neste caso, arr.mean(1) significa calcule a média pelas colunas, enquanto arr.sum(0) significa calcule a soma pelas linhas."
      ]
    },
    {
      "cell_type": "markdown",
      "metadata": {
        "id": "8ICrNGGAeCY-"
      },
      "source": [
        "Outros métodos, como cumsum e cumprod, não fazem agregações, produzindo um array dos resultados intermediários:"
      ]
    },
    {
      "cell_type": "code",
      "execution_count": null,
      "metadata": {
        "id": "a3olhbMueCY-"
      },
      "outputs": [],
      "source": [
        "arr = np.array([0, 1, 2, 3, 4, 5, 6, 7])\n",
        "arr.cumsum()"
      ]
    },
    {
      "cell_type": "markdown",
      "metadata": {
        "id": "4AWHWrNWeCY_"
      },
      "source": [
        "Em arrays multidimensionais, funções de acumulação como cumsum devolvem um array de mesmo tamanho, porém com as agregações parciais calculadas ao longo do eixo indicado, de acordo com cada fatia de dimensão menor:"
      ]
    },
    {
      "cell_type": "code",
      "execution_count": null,
      "metadata": {
        "id": "HhMa4K_9eCZA"
      },
      "outputs": [],
      "source": [
        "arr = np.array([[0, 1, 2], [3, 4, 5], [6, 7, 8]])\n",
        "arr"
      ]
    },
    {
      "cell_type": "code",
      "execution_count": null,
      "metadata": {
        "id": "KysCiFareCZB"
      },
      "outputs": [],
      "source": [
        "arr.cumsum(axis=0)"
      ]
    },
    {
      "cell_type": "code",
      "execution_count": null,
      "metadata": {
        "id": "22C_OwRQeCZB"
      },
      "outputs": [],
      "source": [
        "arr.cumprod(axis=1)"
      ]
    },
    {
      "cell_type": "markdown",
      "metadata": {
        "id": "gza8uLo3eCZC"
      },
      "source": [
        "|Método|Descrição|\n",
        "|:-|:-|\n",
        "|sum |Soma de todos os elementos no array ou ao longo de um eixo. Arrays de comprimento zero possuem soma 0.|\n",
        "|mean|Média aritmética. Arrays de comprimento zero têm média de NaN.|\n",
        "|std, var |Desvio padrão e variância, respectivamente, com ajuste opcional dos graus de liberdade (denominador padrão n).|\n",
        "|min, max |Mínimo e máximo.|\n",
        "|argmin, argmax |Índices de elementos mínimo e máximo, respectivamente.|\n",
        "|cumsum|Soma acumulada de elementos a partir de 0|\n",
        "|cumprod| Produto cumulativo de elementos a partir de 1|"
      ]
    },
    {
      "cell_type": "code",
      "execution_count": null,
      "metadata": {
        "id": "xtGk9PcGqNCw"
      },
      "outputs": [],
      "source": [
        "np.max(arr)"
      ]
    },
    {
      "cell_type": "code",
      "execution_count": null,
      "metadata": {
        "id": "PxUYq6eTqNCw"
      },
      "outputs": [],
      "source": [
        "np.argmax(arr)"
      ]
    },
    {
      "cell_type": "markdown",
      "metadata": {
        "id": "q4tFcGdaeCZD"
      },
      "source": [
        "## Quizz\n",
        "\n",
        "- crie uma matriz 10 x 10 de números aleatórios\n",
        "- calcule a média e o desvio padrão da matriz, das linhas e das colunas"
      ]
    },
    {
      "cell_type": "code",
      "execution_count": null,
      "metadata": {
        "id": "y3toI0j9eCZD"
      },
      "outputs": [],
      "source": [
        "#resposta"
      ]
    },
    {
      "cell_type": "markdown",
      "metadata": {
        "id": "ooy3skBbeCZE"
      },
      "source": [
        "### Métodos para arrays booleanos\n",
        "\n",
        "Os valores booleanos sofrem coerção para 1 (True) e 0 (False) nos métodos acima. Assim, a soma é frequentemente usada como um meio de contar valores True em um array booleano:"
      ]
    },
    {
      "cell_type": "code",
      "execution_count": null,
      "metadata": {
        "id": "hTUKHeRDeCZE"
      },
      "outputs": [],
      "source": [
        "arr = np.random.randn(100)\n",
        "(arr > 0).sum() # Número de valores positivos"
      ]
    },
    {
      "cell_type": "markdown",
      "metadata": {
        "id": "TUVKUhyueCZF"
      },
      "source": [
        "Há dois métodos, `any` e `all`, úteis para testar valores booleanos. `any` retorna `True` se um ou mais valores são `True`. `all` retorna `True` se todos os valores são `True`."
      ]
    },
    {
      "cell_type": "code",
      "execution_count": null,
      "metadata": {
        "id": "juNxk7QYeCZF"
      },
      "outputs": [],
      "source": [
        "bools = np.array([False, False, True, False])\n",
        "bools.any()"
      ]
    },
    {
      "cell_type": "code",
      "execution_count": null,
      "metadata": {
        "id": "9xBswXvVeCZG"
      },
      "outputs": [],
      "source": [
        "bools.all()"
      ]
    },
    {
      "cell_type": "markdown",
      "metadata": {
        "id": "S6992bVBeCZH"
      },
      "source": [
        "### Ordenação\n",
        "\n",
        "Assim como o tipo embutido lista, os arrays NumPy podem ser ordenados in-place com o método `sort`."
      ]
    },
    {
      "cell_type": "code",
      "execution_count": null,
      "metadata": {
        "id": "iL2-ELrIeCZH"
      },
      "outputs": [],
      "source": [
        "arr = np.random.randn(6)\n",
        "arr"
      ]
    },
    {
      "cell_type": "code",
      "execution_count": null,
      "metadata": {
        "id": "I5Z-Sq9heCZI"
      },
      "outputs": [],
      "source": [
        "arr.sort()\n",
        "arr"
      ]
    },
    {
      "cell_type": "markdown",
      "metadata": {
        "id": "GOEoU9nseCZJ"
      },
      "source": [
        "Podemos ordenar cada seção unidimensional de valores em um array multidimensional in-place ao longo de um eixo, passando o número desse eixo para `sort`:"
      ]
    },
    {
      "cell_type": "code",
      "execution_count": null,
      "metadata": {
        "id": "DMld5_pCeCZJ"
      },
      "outputs": [],
      "source": [
        "arr = np.random.randn(5, 3)\n",
        "arr"
      ]
    },
    {
      "cell_type": "code",
      "execution_count": null,
      "metadata": {
        "id": "BQ34MKwbeCZK"
      },
      "outputs": [],
      "source": [
        "arr.sort(1)\n",
        "arr"
      ]
    },
    {
      "cell_type": "code",
      "execution_count": null,
      "metadata": {
        "id": "J4v_qNN1qNCy"
      },
      "outputs": [],
      "source": [
        "arr.sort(0)\n",
        "arr"
      ]
    },
    {
      "cell_type": "markdown",
      "metadata": {
        "id": "BVGrmTAHeCZL"
      },
      "source": [
        "O método de nível superior `np.sort` devolve uma cópia ordenada de um array, em vez de modificá-lo in-place. Uma forma rápida e fácil de calcular os quantis de um array é ordená-lo e selecionar o valor em uma posição em particular."
      ]
    },
    {
      "cell_type": "code",
      "execution_count": null,
      "metadata": {
        "id": "9zqy_3gTeCZL",
        "scrolled": false
      },
      "outputs": [],
      "source": [
        "large_arr = np.random.randn(1000)"
      ]
    },
    {
      "cell_type": "code",
      "execution_count": null,
      "metadata": {
        "id": "3Oq-GiDGeCZM"
      },
      "outputs": [],
      "source": [
        "np.sort(large_arr)[int(0.05 * len(large_arr))] # 5% quantil"
      ]
    },
    {
      "cell_type": "markdown",
      "metadata": {
        "id": "x8pjr-7reCZN"
      },
      "source": [
        "### Unicidade e outras lógicas de conjuntos\n",
        "\n",
        "O NumPy tem algumas operações básicas de conjuntos para ndarrays unidimensionais. Uma operação comumente utilizada é `np.unique`, que devolve os valores únicos e ordenados de um array:"
      ]
    },
    {
      "cell_type": "code",
      "execution_count": null,
      "metadata": {
        "id": "ObgLpHKJeCZO"
      },
      "outputs": [],
      "source": [
        "names = np.array(['Bob', 'Joe', 'Will', 'Bob', 'Will', 'Joe', 'Joe'])\n",
        "np.unique(names)"
      ]
    },
    {
      "cell_type": "code",
      "execution_count": null,
      "metadata": {
        "id": "l84G1IEXeCZP"
      },
      "outputs": [],
      "source": [
        "ints = np.array([3, 3, 3, 2, 2, 1, 1, 4, 4])\n",
        "np.unique(ints)"
      ]
    },
    {
      "cell_type": "code",
      "execution_count": null,
      "metadata": {
        "id": "z7kQ5i8PeCZQ"
      },
      "outputs": [],
      "source": [
        "# alternativa em Python puro\n",
        "set(names)"
      ]
    },
    {
      "cell_type": "markdown",
      "metadata": {
        "id": "XU1_CAzfeCZQ"
      },
      "source": [
        "`np.in1d` testa a pertinência dos valores de um array em outro, devolvendo um array booleano."
      ]
    },
    {
      "cell_type": "code",
      "execution_count": null,
      "metadata": {
        "id": "udQdlGIleCZR"
      },
      "outputs": [],
      "source": [
        "values = np.array([6, 0, 0, 3, 2, 5, 6])\n",
        "np.in1d(values, [2, 3, 6])"
      ]
    },
    {
      "cell_type": "code",
      "execution_count": null,
      "metadata": {
        "id": "mcChStbnqNC0"
      },
      "outputs": [],
      "source": [
        "print(ints)\n",
        "print(values)"
      ]
    },
    {
      "cell_type": "code",
      "execution_count": null,
      "metadata": {
        "id": "GfUWN8McqNC0"
      },
      "outputs": [],
      "source": [
        "np.union1d(values, ints)"
      ]
    },
    {
      "cell_type": "code",
      "execution_count": null,
      "metadata": {
        "id": "XaS5xKWUqNC0"
      },
      "outputs": [],
      "source": [
        "np.intersect1d(values, ints)"
      ]
    },
    {
      "cell_type": "code",
      "execution_count": null,
      "metadata": {
        "id": "ZTw3QhdzqNC0"
      },
      "outputs": [],
      "source": [
        "np.setdiff1d(values, ints)"
      ]
    },
    {
      "cell_type": "code",
      "execution_count": null,
      "metadata": {
        "id": "wu1yqdNdqNC1"
      },
      "outputs": [],
      "source": [
        "np.setdiff1d(ints, values)"
      ]
    },
    {
      "cell_type": "code",
      "execution_count": null,
      "metadata": {
        "id": "ZZv8NppKqNC1"
      },
      "outputs": [],
      "source": [
        "np.setxor1d(ints, values)"
      ]
    },
    {
      "cell_type": "markdown",
      "metadata": {
        "id": "SVIDOx_3qNC1"
      },
      "source": [
        "|Método|Descrição|\n",
        "|:-|:-|\n",
        "|unique(x)|Calcula os elementos únicos ordenados de x|\n",
        "|intersect1d(x, y)|Calcula os elementos comuns ordenados em x e y|\n",
        "|union1d(x, y)|Calcula a união ordenada dos elementos|\n",
        "|in1d(x, y)|Calcula um array booleano indicando se cada elemento de x está contido em y|\n",
        "|setdiff1d(x, y)|Diferença entre conjuntos, isto é, elementos em que x que não estão em y|\n",
        "|setxor1d(x, y)|Diferença simétrica entre conjunto: elementos que estão em apenas um dos arrays, mas não em ambos|"
      ]
    },
    {
      "cell_type": "markdown",
      "metadata": {
        "id": "e8noKrBleCZS"
      },
      "source": [
        "## Entrada e saída de arquivos com arrays\n",
        "\n",
        "O NumPy é capaz de salvar e carregar dados de e para o disco, seja em formato texto ou em formato binário."
      ]
    },
    {
      "cell_type": "markdown",
      "metadata": {
        "id": "ypbbKeljeCZS"
      },
      "source": [
        "### Arquivos binários\n",
        "`save` e `load` salvam e carregam dados do array em um disco de foram eficiente."
      ]
    },
    {
      "cell_type": "code",
      "execution_count": null,
      "metadata": {
        "id": "QCdTGfFIeCZS"
      },
      "outputs": [],
      "source": [
        "arr = np.arange(10)\n",
        "np.save('some_array', arr)"
      ]
    },
    {
      "cell_type": "code",
      "execution_count": null,
      "metadata": {
        "id": "ZJam6JRdeCZT"
      },
      "outputs": [],
      "source": [
        "np.load('some_array.npy')"
      ]
    },
    {
      "cell_type": "code",
      "execution_count": null,
      "metadata": {
        "id": "VlHpj7TCeCZU"
      },
      "outputs": [],
      "source": [
        "!more some_array.npy"
      ]
    },
    {
      "cell_type": "markdown",
      "metadata": {
        "id": "TNqZWitReCZV"
      },
      "source": [
        "Você pode passar vários arrays em um arquivo não compactado usando `np.savez`, passando os arrays como argumentos nomeados. Ao carregar um arquivo .npz, você irá obter um objeto dicionário que carregará os arrays individuais em modo lazy (preguiçoso).\n",
        "\n",
        "**Obs:** Em computação, modo *lazy* significa carregar somente o necessário quando for necessário. O contrário é o modo *eager*, que faz tudo com antecedência."
      ]
    },
    {
      "cell_type": "code",
      "execution_count": null,
      "metadata": {
        "id": "0V5JiGgweCZV"
      },
      "outputs": [],
      "source": [
        "np.savez('array_archive.npz', a=arr, b=arr)"
      ]
    },
    {
      "cell_type": "code",
      "execution_count": null,
      "metadata": {
        "id": "RtdjoW57eCZX"
      },
      "outputs": [],
      "source": [
        "arch = np.load('array_archive.npz')\n",
        "dict(arch)"
      ]
    },
    {
      "cell_type": "markdown",
      "metadata": {
        "id": "knbMAOZNeCZY"
      },
      "source": [
        "`np.savez_compressed` salva em um arquivo compactado."
      ]
    },
    {
      "cell_type": "code",
      "execution_count": null,
      "metadata": {
        "id": "BRblSCJueCZY"
      },
      "outputs": [],
      "source": [
        "np.savez_compressed('arrays_compressed.npz', a=arr, b=arr)"
      ]
    },
    {
      "cell_type": "code",
      "execution_count": null,
      "metadata": {
        "id": "kMVAOcxPeCZZ"
      },
      "outputs": [],
      "source": [
        "#del some_array.npy\n",
        "!rm some_array.npy\n",
        "!rm array_archive.npz\n",
        "!rm arrays_compressed.npz"
      ]
    },
    {
      "cell_type": "markdown",
      "metadata": {
        "id": "9zLeBp3PeCZa"
      },
      "source": [
        "### Arquivos Texto\n",
        "\n",
        "O mais comun é usar as funções `read_csv` e `read_table` do pandas para carregar arquivos texto. Porém, às vezes será útil carregar dados em arrays NumPy *vanilla*  usando o `np.loadtxt` ou o `np.genfromtxt`, mais especializado.\n",
        "\n",
        "Essas funções têm muitas opções que permitem especificar delimitadores diferentes, funções de conversor para determinadas colunas, pular linhas e outras coisas. Veja um caso simples de um arquivo separado por vírgula (CSV) como este:"
      ]
    },
    {
      "cell_type": "code",
      "execution_count": null,
      "metadata": {
        "id": "vSbpnM_ceCZa"
      },
      "outputs": [],
      "source": [
        "%%writefile array_ex.txt\n",
        "0.580052,0.186730,1.040717,1.134411\n",
        "0.194163,-0.636917,-0.938659,0.124094\n",
        "-0.126410,0.268607,-0.695724,0.047428\n",
        "-1.484413,0.004176,-0.744203,0.005487\n",
        "2.302869,0.200131,1.670238,-1.881090\n",
        "-0.193230,1.047233,0.482803,0.960334"
      ]
    },
    {
      "cell_type": "markdown",
      "metadata": {
        "id": "Jan0z-ezeCZb"
      },
      "source": [
        "Este arquivo pode ser carregado assim:"
      ]
    },
    {
      "cell_type": "code",
      "execution_count": null,
      "metadata": {
        "id": "4fgTKrDveCZb"
      },
      "outputs": [],
      "source": [
        "arr = np.loadtxt('array_ex.txt', delimiter=',')\n",
        "arr"
      ]
    },
    {
      "cell_type": "markdown",
      "metadata": {
        "id": "0BL3oMQGeCZc"
      },
      "source": [
        "`np.savetxt` executa a operação inversa: gravando um array em um arquivo de texto delimitado. O `genfromtxt` é semelhante ao `loadtxt`, mas é voltado para arrays estruturados e tratamento de dados ausentes."
      ]
    },
    {
      "cell_type": "markdown",
      "metadata": {
        "id": "IQdf8jZ6eCZc"
      },
      "source": [
        "## Álgebra linear\n",
        "\n",
        "Álgebra linear, como multiplicação de matrizes, decomposições, determinantes e outras matemáticas de matriz quadrada, é uma parte importante de qualquer biblioteca de matrizes. Ao contrário de algumas linguagens como o MATLAB, a multiplicação de duas matrizes bidimensionais por * é um produto em termos de elementos em vez de um produto escalar matricial. Como tal, há uma função `dot`, um método de array e uma função no *namespace* numpy, para multiplicação de matrizes:"
      ]
    },
    {
      "cell_type": "code",
      "execution_count": null,
      "metadata": {
        "id": "2aQ6VLcOeCZd"
      },
      "outputs": [],
      "source": [
        "x = np.array([[1., 2., 3.], [4., 5., 6.]])\n",
        "y = np.array([[6., 23.], [-1, 7], [8, 9]])\n",
        "x"
      ]
    },
    {
      "cell_type": "code",
      "execution_count": null,
      "metadata": {
        "id": "nL_rR8pKeCZe"
      },
      "outputs": [],
      "source": [
        "y"
      ]
    },
    {
      "cell_type": "markdown",
      "metadata": {
        "id": "YQ0C5foWqNC4"
      },
      "source": [
        "(2,3)X(3,2)=(2,2)"
      ]
    },
    {
      "cell_type": "code",
      "execution_count": null,
      "metadata": {
        "id": "gmdz2V1keCZf"
      },
      "outputs": [],
      "source": [
        "x.dot(y)"
      ]
    },
    {
      "cell_type": "code",
      "execution_count": null,
      "metadata": {
        "id": "fdgQjmtfeCZf"
      },
      "outputs": [],
      "source": [
        "np.dot(x, y)"
      ]
    },
    {
      "cell_type": "code",
      "execution_count": null,
      "metadata": {
        "id": "7zfrOW5QqNC4"
      },
      "outputs": [],
      "source": [
        "x @ y"
      ]
    },
    {
      "cell_type": "markdown",
      "metadata": {
        "id": "4jNgm1tdeCZg"
      },
      "source": [
        "Um produto de matrizes entre um array bidimensional e um array unidimensional de tamanho apropriado resulta em um array unidimensional."
      ]
    },
    {
      "cell_type": "code",
      "execution_count": null,
      "metadata": {
        "id": "6hNF8wtJeCZh"
      },
      "outputs": [],
      "source": [
        "ones = np.ones(3)\n",
        "ones"
      ]
    },
    {
      "cell_type": "code",
      "execution_count": null,
      "metadata": {
        "id": "_vj-r-kzeCZh"
      },
      "outputs": [],
      "source": [
        "np.dot(x, ones)"
      ]
    },
    {
      "cell_type": "markdown",
      "metadata": {
        "id": "ucapfCmzeCZi"
      },
      "source": [
        "O símbolo `@` também funciona como um operador infixo que efetua uma multiplicação de matrizes."
      ]
    },
    {
      "cell_type": "code",
      "execution_count": null,
      "metadata": {
        "id": "BwZQNT8-eCZi"
      },
      "outputs": [],
      "source": [
        "x @ ones"
      ]
    },
    {
      "cell_type": "markdown",
      "metadata": {
        "id": "zKZ_DlpTeCZj"
      },
      "source": [
        "`numpy.linalg` tem um conjunto padrão de decomposições de matrizes, além de operações como inverso e determinante."
      ]
    },
    {
      "cell_type": "code",
      "execution_count": null,
      "metadata": {
        "id": "RP3EL3zFeCZk"
      },
      "outputs": [],
      "source": [
        "from numpy.linalg import inv, qr\n",
        "X = np.random.randn(5, 5)\n",
        "mat = X.T.dot(X)\n",
        "mat"
      ]
    },
    {
      "cell_type": "code",
      "execution_count": null,
      "metadata": {
        "id": "IhhlDk5KeCZl"
      },
      "outputs": [],
      "source": [
        "inv(mat)"
      ]
    },
    {
      "cell_type": "code",
      "execution_count": null,
      "metadata": {
        "id": "ckTKufMjeCZl"
      },
      "outputs": [],
      "source": [
        "mat.dot(inv(mat))"
      ]
    },
    {
      "cell_type": "markdown",
      "source": [
        "Em álgebra linear, uma *decomposição QR* (também chamada de fatoração QR) de uma matriz é uma decomposição de uma matriz $A$ em um produto $A=QR$ de uma *matriz ortogonal* $Q$ e uma *matriz triangular superior* $R$. A decomposição QR é usado frequentemente para resolver o problema de mínimos quadrados linear e é a base para um determinado algoritmo de autovalores, o algoritmo QR. Fonte: [Wikipedia](https://pt.wikipedia.org/wiki/Decomposição_QR)."
      ],
      "metadata": {
        "id": "vofy7BlMJRP3"
      }
    },
    {
      "cell_type": "code",
      "execution_count": null,
      "metadata": {
        "id": "B12J4JPEeCZm"
      },
      "outputs": [],
      "source": [
        "#fatoração QR\n",
        "q, r = qr(mat)\n",
        "r"
      ]
    },
    {
      "cell_type": "code",
      "execution_count": null,
      "metadata": {
        "id": "YQioH0MBqNC6"
      },
      "outputs": [],
      "source": [
        "q"
      ]
    },
    {
      "cell_type": "code",
      "source": [
        "mat - q@r"
      ],
      "metadata": {
        "id": "7NPifaP7fwzi"
      },
      "execution_count": null,
      "outputs": []
    },
    {
      "cell_type": "markdown",
      "metadata": {
        "id": "ObWkI-u4eCZn"
      },
      "source": [
        "A expresão `X.T.dot(X)` calcula o produto escalar de X com sua transposta X.T."
      ]
    },
    {
      "cell_type": "markdown",
      "metadata": {
        "id": "tPzSHvdReCZo"
      },
      "source": [
        "|Função|Descrição|\n",
        "|:-|:-|\n",
        "|diag |Retorne os elementos diagonais (ou fora da diagonal) de uma matriz quadrada como uma matriz 1D ou converta uma matriz 1D em uma matriz quadrada com zeros na diagonal fora da diagonal|\n",
        "|dot|Multiplicação matricial|\n",
        "|trace |Calcular a soma dos elementos diagonais|\n",
        "|det |Calcula o determinante da matriz|\n",
        "|eig |Calcule os autovalores e autovetores de uma matriz quadrada|\n",
        "|inv |Calcula o inverso de uma matriz quadrada|\n",
        "|pinv |Calcule o inverso pseudo-inverso de Moore-Penrose de uma matriz|\n",
        "|qr |Calcular a decomposição QR|\n",
        "|svd |Calcula a decomposição do valor singular (SVD)|\n",
        "|solve |Resolva o sistema linear Ax = b para x, onde A é uma matriz quadrada|\n",
        "|lstsq |Calcule a solução dos mínimos quadrados para Ax = b|"
      ]
    },
    {
      "cell_type": "markdown",
      "metadata": {
        "id": "yUI5hhK3eCZo"
      },
      "source": [
        "## Geração de números pseudoaleatórios\n",
        "\n",
        "O módulo numpy.random complementa o `random` interno do Python com funções para gerar eficientemente matrizes inteiras de valores de amostra de muitos tipos de distribuições de probabilidade. Por exemplo, você pode obter um array 4 por 4 de amostras da distribuição normal padrão usando `normal`: "
      ]
    },
    {
      "cell_type": "code",
      "execution_count": null,
      "metadata": {
        "id": "tu2WW64LeCZo"
      },
      "outputs": [],
      "source": [
        "samples = np.random.normal(size=(4, 4))\n",
        "samples"
      ]
    },
    {
      "cell_type": "markdown",
      "metadata": {
        "id": "DdE1GWabeCZp"
      },
      "source": [
        "O módulo `random` interno do Python, por outro lado, apenas mostra um valor de cada vez. Como você pode ver neste benchmark, o `numpy.random` é uma ordem de grandeza mais rápido para gerar amostras muito grandes:"
      ]
    },
    {
      "cell_type": "code",
      "execution_count": null,
      "metadata": {
        "id": "yzutJmOeeCZp"
      },
      "outputs": [],
      "source": [
        "from random import normalvariate\n",
        "N = 1000000\n",
        "%timeit samples = [normalvariate(0, 1) for _ in range(N)]\n",
        "%timeit np.random.normal(size=N)"
      ]
    },
    {
      "cell_type": "markdown",
      "metadata": {
        "id": "h5v5oxMLeCZq"
      },
      "source": [
        "Chamamos estes números de pseudoaleatórios porque são gerados por um algoritmo com um comportamento determinístico, baseado na semente (seed) do gerador de números aleatórios. Podemos alterar a semente conforme abaixo."
      ]
    },
    {
      "cell_type": "code",
      "execution_count": null,
      "metadata": {
        "id": "qGAez6NLeCZr"
      },
      "outputs": [],
      "source": [
        "np.random.seed(42)"
      ]
    },
    {
      "cell_type": "markdown",
      "metadata": {
        "id": "fjsZ47fLeCZr"
      },
      "source": [
        "Podemos também usar RandomState para configurar para alterar uma semente local sem mudar a semente global."
      ]
    },
    {
      "cell_type": "code",
      "execution_count": null,
      "metadata": {
        "id": "4LuvOOfseCZs"
      },
      "outputs": [],
      "source": [
        "rng = np.random.RandomState(42)\n",
        "rng.randn(10)"
      ]
    },
    {
      "cell_type": "markdown",
      "metadata": {
        "id": "WQfXOqs9eCZt"
      },
      "source": [
        "|Função|Descrição|\n",
        "|:-|:-|\n",
        "|seed |Fornece uma semente ao gerador de números aleatórios|\n",
        "|permutation |Retorna uma permutação aleatória de uma sequência ou um intervalo permutado|\n",
        "|shuffle |Permuta aleatoriamente uma sequência in-place|\n",
        "|rand|Sorteia amostras de uma distribuição uniforme|\n",
        "|randint |Sorteia números inteiros aleatórios de um dado intervalo|\n",
        "|randn |Sorteia amostras de uma distribuição normal com média 0 e desvio padrão 1 (interface semelhante ao MATLAB)|\n",
        "|binomial |Sorteia amostras de uma distribuição binomial|\n",
        "|normal|Sorteira amostras normais de uma distribuição normal (gaussiana)|\n",
        "|beta|Sorteia amostras de uma distribuição beta|\n",
        "|chisquare |Sorteia amostras de uma distribuição qui-quadrada|\n",
        "|gamma|Sorteia amostras de uma distribuição gama|\n",
        "|uniform|Sorteia amostras de uma distribuição uniforme [0, 1)|"
      ]
    },
    {
      "cell_type": "code",
      "execution_count": null,
      "metadata": {
        "id": "rStT8jGWqNC8"
      },
      "outputs": [],
      "source": []
    },
    {
      "cell_type": "code",
      "execution_count": null,
      "metadata": {
        "id": "3j75WeKGqNC8"
      },
      "outputs": [],
      "source": []
    }
  ],
  "metadata": {
    "colab": {
      "collapsed_sections": [],
      "name": "aula03_conteudo.ipynb",
      "provenance": []
    },
    "kernelspec": {
      "display_name": "Python 3",
      "language": "python",
      "name": "python3"
    },
    "language_info": {
      "codemirror_mode": {
        "name": "ipython",
        "version": 3
      },
      "file_extension": ".py",
      "mimetype": "text/x-python",
      "name": "python",
      "nbconvert_exporter": "python",
      "pygments_lexer": "ipython3",
      "version": "3.6.4"
    }
  },
  "nbformat": 4,
  "nbformat_minor": 0
}