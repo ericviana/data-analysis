{
  "cells": [
    {
      "cell_type": "markdown",
      "metadata": {
        "id": "KPs1s1roqbJ5"
      },
      "source": [
        "# Análise de Dados em Python \n",
        "**Professor Responsável:** Antonio Sergio Ferreira Bonato <antonio.bonato@saojudas.br>"
      ]
    },
    {
      "cell_type": "markdown",
      "metadata": {
        "id": "zzzILQvLqbKB"
      },
      "source": [
        "# <font color='red'>Solução</font> da Atividade03 - NumPy Básico: Arrays e Processamento Vetorizado\n",
        "\n",
        "**Conteúdo:**\n",
        "- O que é NumPy; NumPy arrays; operações com arrays\n",
        "- NumPy: matrizes e operações com matrizes\n",
        "- NumPy: carregando dados com NumPy\n",
        "- NumPy: álgebra linear básica"
      ]
    },
    {
      "cell_type": "markdown",
      "metadata": {
        "id": "gsivdHfqqbKB"
      },
      "source": [
        "## Exercícios"
      ]
    },
    {
      "cell_type": "markdown",
      "metadata": {
        "id": "c2KCzWHsqbKB"
      },
      "source": [
        "**1** Utilize o código dado para importar o arquivo `dados.csv`, que contém dados de saúde sobre homens e mulheres de diversas idades. Veja na tabela a descrição dos campos."
      ]
    },
    {
      "cell_type": "markdown",
      "metadata": {
        "id": "lfbJcreyqbKC"
      },
      "source": [
        "|Ordem|Campo|Descrição|\n",
        "|:-|:-|:-|\n",
        "|0|sexo|Homem=0 Mulher=1|\n",
        "|1|idade|anos completos|\n",
        "|2|rendom|renda domiciliar|\n",
        "|3|anoest|anos de estudo|\n",
        "|4|altura||\n",
        "|5|peso||\n",
        "|6|probagud|0 não teve problemas nos últimos 30 dias, 1 = teve problema nos últimos 30 dias|\n",
        "|7|probcron|0 não tem problemas crônicos, 1 = tem problemas crônicos|\n",
        "|8|gastorem|gasto com medicamentos nos últimos 30 dias|"
      ]
    },
    {
      "cell_type": "markdown",
      "metadata": {
        "id": "wKDpHPvjqbKC"
      },
      "source": [
        "Utilize o código pronto para importar os dados. Veja que o parâmetro `converters` da função `loadtxt` contém um dicionário que converte os dados faltantes para `nan` (not a number)."
      ]
    },
    {
      "cell_type": "code",
      "source": [
        "from google.colab import drive\n",
        "drive.mount('/content/drive')"
      ],
      "metadata": {
        "colab": {
          "base_uri": "https://localhost:8080/"
        },
        "id": "dNwaQXQ0soGC",
        "outputId": "0c079b79-c389-4901-b8e6-039d850e4b45"
      },
      "execution_count": null,
      "outputs": [
        {
          "output_type": "stream",
          "name": "stdout",
          "text": [
            "Drive already mounted at /content/drive; to attempt to forcibly remount, call drive.mount(\"/content/drive\", force_remount=True).\n"
          ]
        }
      ]
    },
    {
      "cell_type": "code",
      "execution_count": null,
      "metadata": {
        "id": "U_h9NjTLqbKC"
      },
      "outputs": [],
      "source": [
        "import numpy as np\n",
        "\n",
        "headers = np.array(['sexo', 'idade', 'rendom', 'anoest', 'altura', 'peso', 'probagud', 'probracron', 'gastorem'])\n",
        "zera = lambda x: np.nan if len(x)==0 else x\n",
        "conversores = {i:zera for i in range(9)}\n",
        "path = '/content/drive/MyDrive/2022_2_extensao_adp/'\n",
        "arr = np.loadtxt(path+'aula03_dados.csv', delimiter=';',dtype=np.float64, converters=conversores)"
      ]
    },
    {
      "cell_type": "markdown",
      "metadata": {
        "id": "rB_Bu9qKqbKD"
      },
      "source": [
        "**a)** Imprima o formato do array arr."
      ]
    },
    {
      "cell_type": "code",
      "execution_count": null,
      "metadata": {
        "scrolled": true,
        "colab": {
          "base_uri": "https://localhost:8080/"
        },
        "id": "6BahMwlaqbKE",
        "outputId": "4b6ce803-ddaa-4d13-9e99-b018802fce15"
      },
      "outputs": [
        {
          "output_type": "execute_result",
          "data": {
            "text/plain": [
              "(3897, 9)"
            ]
          },
          "metadata": {},
          "execution_count": 20
        }
      ],
      "source": [
        "#solução\n",
        "arr.shape"
      ]
    },
    {
      "cell_type": "markdown",
      "metadata": {
        "id": "MMQ_ZkFIqbKE"
      },
      "source": [
        "**b)** Imprima as 10 primeiras linhas do vetor e examine-as."
      ]
    },
    {
      "cell_type": "code",
      "execution_count": null,
      "metadata": {
        "colab": {
          "base_uri": "https://localhost:8080/"
        },
        "id": "g8q7W76FqbKF",
        "outputId": "99fb4387-3419-43aa-b966-8619972ab70d"
      },
      "outputs": [
        {
          "output_type": "execute_result",
          "data": {
            "text/plain": [
              "array([[0.000e+00, 4.000e+00, 1.320e+02, 1.000e+00, 9.600e-01, 1.500e+01,\n",
              "        1.000e+00, 1.000e+00, 4.600e+00],\n",
              "       [0.000e+00, 5.000e+01, 1.089e+03, 1.000e+00, 1.690e+00, 5.400e+01,\n",
              "        1.000e+00, 0.000e+00, 4.250e+00],\n",
              "       [0.000e+00, 1.100e+01, 1.570e+02, 2.000e+00, 1.320e+00, 2.700e+01,\n",
              "        1.000e+00, 0.000e+00, 5.000e+00],\n",
              "       [0.000e+00, 2.000e+00, 1.570e+02, 1.000e+00,       nan, 1.300e+01,\n",
              "        1.000e+00, 0.000e+00, 5.000e+00],\n",
              "       [0.000e+00, 1.000e+01, 3.000e+02, 3.000e+00, 1.360e+00, 4.300e+01,\n",
              "        1.000e+00, 0.000e+00, 2.000e+00],\n",
              "       [0.000e+00, 1.000e+00, 9.410e+02, 1.000e+00, 8.500e-01, 1.400e+01,\n",
              "        1.000e+00, 0.000e+00, 4.000e-01],\n",
              "       [0.000e+00, 5.500e+01, 7.520e+02, 1.000e+00, 1.570e+00, 5.400e+01,\n",
              "        1.000e+00, 1.000e+00, 7.000e-01],\n",
              "       [0.000e+00, 1.700e+01, 7.520e+02, 1.000e+00, 1.560e+00, 4.600e+01,\n",
              "        1.000e+00, 0.000e+00, 2.500e-01],\n",
              "       [0.000e+00, 4.800e+01, 2.080e+02, 1.000e+00, 1.610e+00, 5.800e+01,\n",
              "        1.000e+00, 0.000e+00, 1.000e+00],\n",
              "       [0.000e+00, 6.000e+00, 6.430e+02, 1.000e+00, 1.060e+00, 1.600e+01,\n",
              "        1.000e+00, 0.000e+00, 1.000e+00]])"
            ]
          },
          "metadata": {},
          "execution_count": 21
        }
      ],
      "source": [
        "#solução\n",
        "arr[:10]"
      ]
    },
    {
      "cell_type": "markdown",
      "metadata": {
        "id": "FcpcUw1cqbKF"
      },
      "source": [
        "**c)** Verifique se há colunas com dados nan. Quais são as colunas? Dicas: use o array headers definido no código dado, a ufunction `isnan()` e a função `any()`, um loop `for` e indexação booleana."
      ]
    },
    {
      "cell_type": "code",
      "execution_count": null,
      "metadata": {
        "colab": {
          "base_uri": "https://localhost:8080/"
        },
        "id": "SPvHlm-qqbKF",
        "outputId": "f6f5f112-e69e-4a97-d9c9-9a3f1738cd6c"
      },
      "outputs": [
        {
          "output_type": "stream",
          "name": "stdout",
          "text": [
            "sexo False\n",
            "idade False\n",
            "rendom False\n",
            "anoest False\n",
            "altura True\n",
            "peso True\n",
            "probagud False\n",
            "probracron False\n",
            "gastorem False\n"
          ]
        }
      ],
      "source": [
        "#solução\n",
        "for header in headers:\n",
        "    print(header, np.any(np.isnan(arr[:,headers==header])))"
      ]
    },
    {
      "cell_type": "markdown",
      "metadata": {
        "id": "tGqDjpNpqbKG"
      },
      "source": [
        "**d)** Crie uma visão do array arr sem as linhas que contém anotações faltantes (dados nan)."
      ]
    },
    {
      "cell_type": "code",
      "execution_count": null,
      "metadata": {
        "colab": {
          "base_uri": "https://localhost:8080/"
        },
        "id": "simaUC6SqbKG",
        "outputId": "0657b627-9205-48b1-d295-422ac9cb9154"
      },
      "outputs": [
        {
          "output_type": "stream",
          "name": "stdout",
          "text": [
            "(3580, 9)\n",
            "(3606, 9)\n",
            "(3570, 9)\n"
          ]
        }
      ],
      "source": [
        "print(arr[~np.isnan(arr[:,4])].shape)\n",
        "print(arr[~np.isnan(arr[:,5])].shape)\n",
        "not_nan = arr[~(np.isnan(arr[:,4]) | np.isnan(arr[:,5]))]\n",
        "print(not_nan.shape)"
      ]
    },
    {
      "cell_type": "markdown",
      "metadata": {
        "id": "Snv90GOAqbKG"
      },
      "source": [
        "**e)** Calcule a média de cada coluna da visão not_nan e atribua aos nan da coluna altura a média da altura e aos nan da coluna peso a média da coluna peso. Antes da trocar os nan, calcule a média das colunas de arr para ver o que acontece.\n",
        "\n",
        "Lembre-se de como funcionam os eixos! Abaixo um exemplo com a função `sum()`\n",
        "![eixos.svg](attachment:eixos.svg)"
      ]
    },
    {
      "cell_type": "code",
      "execution_count": null,
      "metadata": {
        "colab": {
          "base_uri": "https://localhost:8080/"
        },
        "id": "UNx76mASqbKG",
        "outputId": "6bb0e9d7-f9f7-4db2-d834-d8ed5b51c4af"
      },
      "outputs": [
        {
          "output_type": "stream",
          "name": "stdout",
          "text": [
            "média das colunas de arr [5.81472928e-01 3.57282525e+01 1.67612779e+03 5.60020529e+00\n",
            "            nan            nan 5.59917886e-01 3.84141647e-01\n",
            " 3.19301976e+01]\n",
            "média de altura 1.494226890756314\n",
            "média do peso 54.8703081232493\n"
          ]
        }
      ],
      "source": [
        "print('média das colunas de arr', np.mean(arr, axis=0))\n",
        "m_altura, m_peso = np.mean(not_nan, axis=0)[4:6]\n",
        "print('média de altura', m_altura)\n",
        "print('média do peso', m_peso)\n",
        "\n",
        "#consertando a altura\n",
        "arr[np.isnan(arr[:,4]), 4] = m_altura\n",
        "#consertando o peso\n",
        "arr[np.isnan(arr[:,5]), 5] = m_peso"
      ]
    },
    {
      "cell_type": "code",
      "execution_count": null,
      "metadata": {
        "colab": {
          "base_uri": "https://localhost:8080/"
        },
        "id": "WbPbN7b8qbKH",
        "outputId": "ae15c460-54d5-4f0a-c31e-281932753fde"
      },
      "outputs": [
        {
          "output_type": "execute_result",
          "data": {
            "text/plain": [
              "array([], shape=(0, 9), dtype=float64)"
            ]
          },
          "metadata": {},
          "execution_count": 25
        }
      ],
      "source": [
        "arr[np.isnan(arr[:,4])]\n",
        "arr[np.isnan(arr[:,5])]"
      ]
    },
    {
      "cell_type": "markdown",
      "metadata": {
        "id": "h1sFisKcqbKH"
      },
      "source": [
        "**f)** calcule agora a média, o desvio padrão, o máximo e o mínimo de todas as colunas do array sem filtro"
      ]
    },
    {
      "cell_type": "code",
      "execution_count": null,
      "metadata": {
        "colab": {
          "base_uri": "https://localhost:8080/"
        },
        "id": "y4KduVDEqbKH",
        "outputId": "7970e00e-371a-4465-b972-6c6de5011734"
      },
      "outputs": [
        {
          "output_type": "stream",
          "name": "stdout",
          "text": [
            "médias [5.81472928e-01 3.57282525e+01 1.67612779e+03 5.60020529e+00\n",
            " 1.49434948e+00 5.47157454e+01 5.59917886e-01 3.84141647e-01\n",
            " 3.19301976e+01]\n",
            "desvios padrão [4.93317506e-01 2.34012167e+01 2.67240290e+03 4.57686386e+00\n",
            " 2.63920735e-01 2.18949249e+01 4.96396864e-01 4.86391655e-01\n",
            " 1.31164111e+02]\n",
            "máximo [1.0000e+00 9.6000e+01 4.1484e+04 1.7000e+01 1.9900e+00 1.4500e+02\n",
            " 1.0000e+00 1.0000e+00 7.0000e+03]\n",
            "mínimo [0.   0.   0.   0.   0.43 3.   0.   0.   0.  ]\n"
          ]
        }
      ],
      "source": [
        "print('médias', arr.mean(0))\n",
        "print('desvios padrão', arr.std(0))\n",
        "print('máximo', arr.max(0))\n",
        "print('mínimo', arr.min(0))"
      ]
    },
    {
      "cell_type": "markdown",
      "metadata": {
        "id": "BVlWdTAxqbKI"
      },
      "source": [
        "**2** Escreva duas funções, `get_rows` e `get_columns`, que recebem um array bidimensional como parâmetro. Elas devem retornar uma lista de linhas e colunas do array, respectivamente. As linhas e colunas devem ser matrizes unidimensionais. Você pode usar a operação de transposição, que inverte linhas para colunas, em sua solução. A transposição é feita pelo método `T`."
      ]
    },
    {
      "cell_type": "code",
      "execution_count": null,
      "metadata": {
        "colab": {
          "base_uri": "https://localhost:8080/"
        },
        "id": "ITaepeYNqbKI",
        "outputId": "278f33ad-5314-47b3-e1bb-7429f60f9f9c"
      },
      "outputs": [
        {
          "output_type": "stream",
          "name": "stdout",
          "text": [
            "[[3 6 1 9]\n",
            " [7 9 3 5]\n",
            " [6 9 4 0]\n",
            " [1 5 8 3]]\n",
            "[[3 7 6 1]\n",
            " [6 9 9 5]\n",
            " [1 3 4 8]\n",
            " [9 5 0 3]]\n"
          ]
        }
      ],
      "source": [
        "#exemplo\n",
        "a=np.random.randint(0, 10, (4,4))\n",
        "print(a)\n",
        "print(a.T)"
      ]
    },
    {
      "cell_type": "code",
      "execution_count": null,
      "metadata": {
        "id": "Sj8Y473nqbKI"
      },
      "outputs": [],
      "source": [
        "#solução\n",
        "def get_rows(m):\n",
        "    return [row for row in m]"
      ]
    },
    {
      "cell_type": "code",
      "execution_count": null,
      "metadata": {
        "id": "RAebDmx4qbKI"
      },
      "outputs": [],
      "source": [
        "#solução\n",
        "def get_columns(m):\n",
        "    m = m.T\n",
        "    return get_rows(m)"
      ]
    },
    {
      "cell_type": "code",
      "execution_count": null,
      "metadata": {
        "id": "DSJoD1PjqbKJ"
      },
      "outputs": [],
      "source": [
        "#teste - dados\n",
        "a = np.array([[5, 0, 3, 3],\n",
        "              [7, 9, 3, 5],\n",
        "              [2, 4, 7, 6],\n",
        "              [8, 8, 1, 6]])"
      ]
    },
    {
      "cell_type": "code",
      "execution_count": null,
      "metadata": {
        "colab": {
          "base_uri": "https://localhost:8080/"
        },
        "id": "hksWeV9LqbKJ",
        "outputId": "764edd33-f550-4858-a2d5-142b4a19be78"
      },
      "outputs": [
        {
          "output_type": "stream",
          "name": "stdout",
          "text": [
            "[array([5, 0, 3, 3]), array([7, 9, 3, 5]), array([2, 4, 7, 6]), array([8, 8, 1, 6])]\n"
          ]
        }
      ],
      "source": [
        "#teste row\n",
        "print(get_rows(a))\n",
        "#[array([5, 0, 3, 3]), array([7, 9, 3, 5]), array([2, 4, 7, 6]), array([8, 8, 1, 6])]"
      ]
    },
    {
      "cell_type": "code",
      "execution_count": null,
      "metadata": {
        "colab": {
          "base_uri": "https://localhost:8080/"
        },
        "id": "-c85iiCcqbKJ",
        "outputId": "86b7d49a-4795-4f20-fe66-98635744d35c"
      },
      "outputs": [
        {
          "output_type": "stream",
          "name": "stdout",
          "text": [
            "[array([5, 7, 2, 8]), array([0, 9, 4, 8]), array([3, 3, 7, 1]), array([3, 5, 6, 6])]\n"
          ]
        }
      ],
      "source": [
        "#teste column\n",
        "print(get_columns(a))\n",
        "#[array([5, 7, 2, 8]), array([0, 9, 4, 8]), array([3, 3, 7, 1]), array([3, 5, 6, 6])]"
      ]
    },
    {
      "cell_type": "markdown",
      "metadata": {
        "id": "kUw9pG4fqbKJ"
      },
      "source": [
        "**3** Crie a função `get_row_vectors` que retorna uma lista de linhas do array de entrada da forma `(n, m)`, mas desta vez as linhas devem ter a forma `(1, m)`. Da mesma forma, crie a função get_columns_vectors que retorne uma lista de colunas (cada uma com forma `(n, 1)`) da matriz de entrada.\n",
        "\n",
        "Para a entrada:\n",
        "\n",
        "`[[5 0 3]\n",
        " [3 7 9]]`\n",
        " \n",
        "Deve ser gerada a saída:\n",
        "\n",
        "Vetor de Linhas:\n",
        "\n",
        "`[array([[5, 0, 3]]), array([[3, 7, 9]])]`\n",
        "\n",
        "Vetor de Colunas:\n",
        "\n",
        "`[array([[5],\n",
        "        [3]]),\n",
        " array([[0],\n",
        "        [7]]),\n",
        " array([[3],\n",
        "        [9]])]`"
      ]
    },
    {
      "cell_type": "code",
      "execution_count": null,
      "metadata": {
        "id": "OzfD-bUjqbKK"
      },
      "outputs": [],
      "source": [
        "#solucao row\n",
        "def get_row_vectors(m):\n",
        "    return [row.reshape(1,m.shape[1]) for row in m]"
      ]
    },
    {
      "cell_type": "code",
      "execution_count": null,
      "metadata": {
        "id": "2EmgkXR_qbKK"
      },
      "outputs": [],
      "source": [
        "#solucao column\n",
        "def get_column_vectors(m):\n",
        "    m = m.T\n",
        "    return [row.reshape(m.shape[1],1) for row in m]"
      ]
    },
    {
      "cell_type": "code",
      "execution_count": null,
      "metadata": {
        "colab": {
          "base_uri": "https://localhost:8080/"
        },
        "id": "4r7dgv02qbKK",
        "outputId": "ca5bf7d6-0556-4921-aa6d-f028614ef6d9"
      },
      "outputs": [
        {
          "output_type": "execute_result",
          "data": {
            "text/plain": [
              "(2, 3)"
            ]
          },
          "metadata": {},
          "execution_count": 35
        }
      ],
      "source": [
        "#teste - dados\n",
        "a = np.array([[5, 0, 3],[3, 7, 9]])\n",
        "a.shape"
      ]
    },
    {
      "cell_type": "code",
      "execution_count": null,
      "metadata": {
        "colab": {
          "base_uri": "https://localhost:8080/"
        },
        "id": "9an4FvhzqbKL",
        "outputId": "1e5ea002-4188-438e-c4bd-5281b470d357"
      },
      "outputs": [
        {
          "output_type": "stream",
          "name": "stdout",
          "text": [
            "[array([[5, 0, 3]]), array([[3, 7, 9]])]\n"
          ]
        }
      ],
      "source": [
        "#teste row\n",
        "print(get_row_vectors(a))"
      ]
    },
    {
      "cell_type": "code",
      "execution_count": null,
      "metadata": {
        "scrolled": true,
        "colab": {
          "base_uri": "https://localhost:8080/"
        },
        "id": "1wQg0kp0qbKL",
        "outputId": "bc03c84b-9916-44e8-a45d-475a01aa49a6"
      },
      "outputs": [
        {
          "output_type": "stream",
          "name": "stdout",
          "text": [
            "[array([[5],\n",
            "       [3]]), array([[0],\n",
            "       [7]]), array([[3],\n",
            "       [9]])]\n"
          ]
        }
      ],
      "source": [
        "#test column\n",
        "print(get_column_vectors(a))"
      ]
    },
    {
      "cell_type": "markdown",
      "metadata": {
        "id": "1j1NIWKRqbKL"
      },
      "source": [
        "**4** Crie a função `diamante` que retorne um array inteiro bidimensional em que os 1s formem uma forma de diamante. O restante dos números é 0. A função deve receber um parâmetro que informe o comprimento de um lado do diamante. Faça isso usando as funções `eye` e `concatenate` do NumPy e o fatiamento de array.\n",
        "\n",
        "Ex:\n",
        "\n",
        "`print(diamante(3))`\n",
        "\n",
        "`[[0 0 1 0 0]\n",
        " [0 1 0 1 0]\n",
        " [1 0 0 0 1]\n",
        " [0 1 0 1 0]\n",
        " [0 0 1 0 0]]`\n",
        "\n",
        "`print(diamante(1))`\n",
        "\n",
        "`[[1]]`"
      ]
    },
    {
      "cell_type": "code",
      "execution_count": null,
      "metadata": {
        "colab": {
          "base_uri": "https://localhost:8080/"
        },
        "id": "dYCTrHQ1qbKL",
        "outputId": "3cf2c578-3b58-4048-cf8b-425d82416660"
      },
      "outputs": [
        {
          "output_type": "execute_result",
          "data": {
            "text/plain": [
              "array([[1, 2],\n",
              "       [3, 4],\n",
              "       [5, 6]])"
            ]
          },
          "metadata": {},
          "execution_count": 38
        }
      ],
      "source": [
        "#Exemplo do concatenate\n",
        "a = np.array([[1, 2], [3, 4]])\n",
        "b = np.array([[5, 6]])\n",
        "np.concatenate((a, b), axis=0)"
      ]
    },
    {
      "cell_type": "code",
      "execution_count": null,
      "metadata": {
        "colab": {
          "base_uri": "https://localhost:8080/"
        },
        "id": "VDxeWcM5qbKM",
        "outputId": "c66efcf2-6c89-443e-82ca-621fba60536b"
      },
      "outputs": [
        {
          "output_type": "execute_result",
          "data": {
            "text/plain": [
              "array([[1, 2, 5],\n",
              "       [3, 4, 6]])"
            ]
          },
          "metadata": {},
          "execution_count": 39
        }
      ],
      "source": [
        "#Exemplo do concatenate\n",
        "np.concatenate((a, b.T), axis=1)"
      ]
    },
    {
      "cell_type": "code",
      "execution_count": null,
      "metadata": {
        "colab": {
          "base_uri": "https://localhost:8080/"
        },
        "id": "v0wP0UX5qbKM",
        "outputId": "bb6e9f68-08df-4362-c5f3-d3ec8c0aa48c"
      },
      "outputs": [
        {
          "output_type": "execute_result",
          "data": {
            "text/plain": [
              "array([1, 2, 3, 4, 5, 6])"
            ]
          },
          "metadata": {},
          "execution_count": 40
        }
      ],
      "source": [
        "#Exemplo do concatenate\n",
        "np.concatenate((a, b), axis=None)"
      ]
    },
    {
      "cell_type": "code",
      "execution_count": null,
      "metadata": {
        "id": "bv_YWE3yqbKM"
      },
      "outputs": [],
      "source": [
        "#solução\n",
        "def diamante(n):\n",
        "    arr = np.eye(n,dtype=np.int)\n",
        "    arr1 = np.concatenate((arr,arr[:,1:][::-1]), axis=1)\n",
        "    arr2 = np.concatenate((arr1[1:,:][::-1],arr1), axis=0)\n",
        "    return arr2"
      ]
    },
    {
      "cell_type": "code",
      "execution_count": null,
      "metadata": {
        "colab": {
          "base_uri": "https://localhost:8080/"
        },
        "id": "A-XM7M8yqbKM",
        "outputId": "f063bc87-5a7c-4019-e7b1-fb8196c9d2e3"
      },
      "outputs": [
        {
          "output_type": "stream",
          "name": "stdout",
          "text": [
            "[[0 0 1 0 0]\n",
            " [0 1 0 1 0]\n",
            " [1 0 0 0 1]\n",
            " [0 1 0 1 0]\n",
            " [0 0 1 0 0]]\n"
          ]
        },
        {
          "output_type": "stream",
          "name": "stderr",
          "text": [
            "/usr/local/lib/python3.7/dist-packages/ipykernel_launcher.py:3: DeprecationWarning: `np.int` is a deprecated alias for the builtin `int`. To silence this warning, use `int` by itself. Doing this will not modify any behavior and is safe. When replacing `np.int`, you may wish to use e.g. `np.int64` or `np.int32` to specify the precision. If you wish to review your current use, check the release note link for additional information.\n",
            "Deprecated in NumPy 1.20; for more details and guidance: https://numpy.org/devdocs/release/1.20.0-notes.html#deprecations\n",
            "  This is separate from the ipykernel package so we can avoid doing imports until\n"
          ]
        }
      ],
      "source": [
        "#teste\n",
        "print(diamante(3))"
      ]
    },
    {
      "cell_type": "code",
      "execution_count": null,
      "metadata": {
        "colab": {
          "base_uri": "https://localhost:8080/"
        },
        "id": "5oUsWmzQqbKM",
        "outputId": "78b721fd-d9d1-4d28-a0b1-3c1786b03a78"
      },
      "outputs": [
        {
          "output_type": "stream",
          "name": "stdout",
          "text": [
            "[[1]]\n"
          ]
        },
        {
          "output_type": "stream",
          "name": "stderr",
          "text": [
            "/usr/local/lib/python3.7/dist-packages/ipykernel_launcher.py:3: DeprecationWarning: `np.int` is a deprecated alias for the builtin `int`. To silence this warning, use `int` by itself. Doing this will not modify any behavior and is safe. When replacing `np.int`, you may wish to use e.g. `np.int64` or `np.int32` to specify the precision. If you wish to review your current use, check the release note link for additional information.\n",
            "Deprecated in NumPy 1.20; for more details and guidance: https://numpy.org/devdocs/release/1.20.0-notes.html#deprecations\n",
            "  This is separate from the ipykernel package so we can avoid doing imports until\n"
          ]
        }
      ],
      "source": [
        "#teste\n",
        "print(diamante(1))"
      ]
    },
    {
      "cell_type": "markdown",
      "metadata": {
        "id": "4-Yr140MqbKN"
      },
      "source": [
        "**5** Escreva a função lambda `so_pares` que receba um array unidimensional de inteiros e devolva este array sem números ímpares. Dica: use indexação booleana.\n",
        "\n",
        "Ex:\n",
        "\n",
        "Entrada: \n",
        "\n",
        "`arr = np.array([0,1,2,3,4,5,6,7,8,9])`\n",
        "\n",
        "Saída:\n",
        "\n",
        "`array([0, 2, 4, 6, 8])`"
      ]
    },
    {
      "cell_type": "code",
      "execution_count": null,
      "metadata": {
        "id": "blyNwycGqbKN"
      },
      "outputs": [],
      "source": [
        "#solucao\n",
        "so_pares = lambda arr: arr[arr%2==0]"
      ]
    },
    {
      "cell_type": "code",
      "execution_count": null,
      "metadata": {
        "colab": {
          "base_uri": "https://localhost:8080/"
        },
        "id": "uIyDwxfDqbKN",
        "outputId": "c924842a-899f-4f04-d5ff-398049744e81"
      },
      "outputs": [
        {
          "output_type": "execute_result",
          "data": {
            "text/plain": [
              "array([0, 2, 4, 6, 8])"
            ]
          },
          "metadata": {},
          "execution_count": 45
        }
      ],
      "source": [
        "#teste\n",
        "arr = np.arange(10)\n",
        "so_pares(arr)"
      ]
    },
    {
      "cell_type": "markdown",
      "metadata": {
        "id": "WuRlC4R8qbKN"
      },
      "source": [
        "**6** Escreva a função lambda `cade_os_iguais` que receba dois arrays unidimensionais de inteiros x e y e devolva um array com a(s) posição(ões) em que há números iguais nos dos arrays. Não use `for`. Dica: use np.where\n",
        "\n",
        "Ex:\n",
        "\n",
        "Entrada: \n",
        "\n",
        "`x = np.array([5,6,7,8,3,4])`\n",
        "\n",
        "`y = np.array([5,3,4,5,2,4])`\n",
        "\n",
        "Saída:\n",
        "\n",
        "`array([0, 5])`"
      ]
    },
    {
      "cell_type": "code",
      "execution_count": null,
      "metadata": {
        "id": "7j4dicOuqbKN"
      },
      "outputs": [],
      "source": [
        "#solucao\n",
        "cade_os_iguais = lambda x,y: np.where(x == y)"
      ]
    },
    {
      "cell_type": "code",
      "execution_count": null,
      "metadata": {
        "colab": {
          "base_uri": "https://localhost:8080/"
        },
        "id": "oipcHcOlqbKO",
        "outputId": "23286707-bb60-4cf9-85c4-62b1dba0724b"
      },
      "outputs": [
        {
          "output_type": "execute_result",
          "data": {
            "text/plain": [
              "(array([0, 5]),)"
            ]
          },
          "metadata": {},
          "execution_count": 47
        }
      ],
      "source": [
        "#teste\n",
        "x = np.array([5,6,7,8,3,4])\n",
        "y = np.array([5,3,4,5,2,4])\n",
        "cade_os_iguais(x,y)"
      ]
    },
    {
      "cell_type": "code",
      "execution_count": null,
      "metadata": {
        "id": "3SzoijQBqbKO"
      },
      "outputs": [],
      "source": []
    },
    {
      "cell_type": "code",
      "execution_count": null,
      "metadata": {
        "id": "9DIkaTyLqbKO"
      },
      "outputs": [],
      "source": []
    },
    {
      "cell_type": "code",
      "execution_count": null,
      "metadata": {
        "id": "4d9ritvmqbKO"
      },
      "outputs": [],
      "source": []
    }
  ],
  "metadata": {
    "colab": {
      "name": "aula03_atividade_solucao.ipynb",
      "provenance": []
    },
    "kernelspec": {
      "display_name": "Python 3",
      "language": "python",
      "name": "python3"
    },
    "language_info": {
      "codemirror_mode": {
        "name": "ipython",
        "version": 3
      },
      "file_extension": ".py",
      "mimetype": "text/x-python",
      "name": "python",
      "nbconvert_exporter": "python",
      "pygments_lexer": "ipython3",
      "version": "3.6.4"
    }
  },
  "nbformat": 4,
  "nbformat_minor": 0
}